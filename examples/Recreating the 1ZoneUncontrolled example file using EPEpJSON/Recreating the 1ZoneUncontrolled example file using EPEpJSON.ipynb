{
 "cells": [
  {
   "cell_type": "markdown",
   "metadata": {},
   "source": [
    "# Recreating the 1ZoneUncontrolled example file using EPEpJSON\n",
    "\n",
    "This example uses the `EPEpJSON` class from the `eprun` package to recreate the '1ZoneUncontrolled.epJSON' example file.\n"
   ]
  },
  {
   "cell_type": "markdown",
   "metadata": {},
   "source": [
    "## Setup"
   ]
  },
  {
   "cell_type": "markdown",
   "metadata": {},
   "source": [
    "### Import packages"
   ]
  },
  {
   "cell_type": "code",
   "execution_count": 1,
   "metadata": {},
   "outputs": [],
   "source": [
    "from eprun import EPSchema, EPEpJSON"
   ]
  },
  {
   "cell_type": "markdown",
   "metadata": {},
   "source": [
    "### Loads the epJSON schema"
   ]
  },
  {
   "cell_type": "code",
   "execution_count": 2,
   "metadata": {},
   "outputs": [
    {
     "data": {
      "text/plain": [
       "EPSchema(version=\"9.4.0\")"
      ]
     },
     "execution_count": 2,
     "metadata": {},
     "output_type": "execute_result"
    }
   ],
   "source": [
    "s=EPSchema(r'input_files/Energy+.schema.epJSON')\n",
    "s"
   ]
  },
  {
   "cell_type": "markdown",
   "metadata": {},
   "source": [
    "### Creates a new blank EPEpJSON instance"
   ]
  },
  {
   "cell_type": "code",
   "execution_count": 3,
   "metadata": {},
   "outputs": [
    {
     "data": {
      "text/plain": [
       "EPEpJSON(fp=\"None\")"
      ]
     },
     "execution_count": 3,
     "metadata": {},
     "output_type": "execute_result"
    }
   ],
   "source": [
    "j=EPEpJSON(schema=s)\n",
    "j"
   ]
  },
  {
   "cell_type": "markdown",
   "metadata": {},
   "source": [
    "## Adding the EnergyPlus input objects to the EPEpJSON instance"
   ]
  },
  {
   "cell_type": "markdown",
   "metadata": {},
   "source": [
    "### Simulation parameters"
   ]
  },
  {
   "cell_type": "markdown",
   "metadata": {},
   "source": [
    "#### Version"
   ]
  },
  {
   "cell_type": "code",
   "execution_count": 4,
   "metadata": {},
   "outputs": [
    {
     "data": {
      "text/plain": [
       "EPEpJSONObject(name=\"Version 1\")"
      ]
     },
     "execution_count": 4,
     "metadata": {},
     "output_type": "execute_result"
    }
   ],
   "source": [
    "j['Version'].add_object('Version 1',\n",
    "                        version_identifier = '9.4',\n",
    "                        )"
   ]
  },
  {
   "cell_type": "markdown",
   "metadata": {},
   "source": [
    "#### Timestep"
   ]
  },
  {
   "cell_type": "code",
   "execution_count": 5,
   "metadata": {},
   "outputs": [
    {
     "data": {
      "text/plain": [
       "EPEpJSONObject(name=\"Timestep 1\")"
      ]
     },
     "execution_count": 5,
     "metadata": {},
     "output_type": "execute_result"
    }
   ],
   "source": [
    "j['Timestep'].add_object('Timestep 1',\n",
    "                         number_of_timesteps_per_hour = 4,\n",
    "                         )"
   ]
  },
  {
   "cell_type": "markdown",
   "metadata": {},
   "source": [
    "#### Building"
   ]
  },
  {
   "cell_type": "code",
   "execution_count": 6,
   "metadata": {},
   "outputs": [
    {
     "data": {
      "text/plain": [
       "EPEpJSONObject(name=\"Simple One Zone (Wireframe DXF)\")"
      ]
     },
     "execution_count": 6,
     "metadata": {},
     "output_type": "execute_result"
    }
   ],
   "source": [
    "j['Building'].add_object('Simple One Zone (Wireframe DXF)',\n",
    "                          loads_convergence_tolerance_value = 0.04,\n",
    "                          maximum_number_of_warmup_days = 30,\n",
    "                          minimum_number_of_warmup_days = 6,\n",
    "                          north_axis = 0,\n",
    "                          solar_distribution = 'MinimalShadowing',\n",
    "                          temperature_convergence_tolerance_value = 0.004,\n",
    "                          terrain = 'Suburbs',\n",
    "                          )"
   ]
  },
  {
   "cell_type": "markdown",
   "metadata": {},
   "source": [
    "#### SurfaceConvectionAlgorithm:Inside"
   ]
  },
  {
   "cell_type": "code",
   "execution_count": 7,
   "metadata": {},
   "outputs": [
    {
     "data": {
      "text/plain": [
       "EPEpJSONObject(name=\"SurfaceConvectionAlgorithm:Inside 1\")"
      ]
     },
     "execution_count": 7,
     "metadata": {},
     "output_type": "execute_result"
    }
   ],
   "source": [
    "j['SurfaceConvectionAlgorithm:Inside'].add_object('SurfaceConvectionAlgorithm:Inside 1',\n",
    "                                                   algorithm = 'TARP',\n",
    "                                                   )"
   ]
  },
  {
   "cell_type": "markdown",
   "metadata": {},
   "source": [
    "#### SurfaceConvectionAlgorithm:Outside"
   ]
  },
  {
   "cell_type": "code",
   "execution_count": 8,
   "metadata": {},
   "outputs": [
    {
     "data": {
      "text/plain": [
       "EPEpJSONObject(name=\"SurfaceConvectionAlgorithm:Outside 1\")"
      ]
     },
     "execution_count": 8,
     "metadata": {},
     "output_type": "execute_result"
    }
   ],
   "source": [
    "j['SurfaceConvectionAlgorithm:Outside'].add_object('SurfaceConvectionAlgorithm:Outside 1',\n",
    "                                                    algorithm = 'DOE-2',\n",
    "                                                    )"
   ]
  },
  {
   "cell_type": "markdown",
   "metadata": {},
   "source": [
    "#### HeatBalanceAlgorithm"
   ]
  },
  {
   "cell_type": "code",
   "execution_count": 9,
   "metadata": {},
   "outputs": [
    {
     "data": {
      "text/plain": [
       "EPEpJSONObject(name=\"HeatBalanceAlgorithm 1\")"
      ]
     },
     "execution_count": 9,
     "metadata": {},
     "output_type": "execute_result"
    }
   ],
   "source": [
    "j['HeatBalanceAlgorithm'].add_object('HeatBalanceAlgorithm 1',\n",
    "                                      algorithm = 'ConductionTransferFunction',\n",
    "                                      )"
   ]
  },
  {
   "cell_type": "markdown",
   "metadata": {},
   "source": [
    "#### SimulationControl"
   ]
  },
  {
   "cell_type": "code",
   "execution_count": 10,
   "metadata": {},
   "outputs": [
    {
     "data": {
      "text/plain": [
       "EPEpJSONObject(name=\"SimulationControl 1\")"
      ]
     },
     "execution_count": 10,
     "metadata": {},
     "output_type": "execute_result"
    }
   ],
   "source": [
    "j['SimulationControl'].add_object('SimulationControl 1',\n",
    "                                   do_hvac_sizing_simulation_for_sizing_periods = 'No',\n",
    "                                   do_plant_sizing_calculation = 'No',\n",
    "                                   do_system_sizing_calculation = 'No',\n",
    "                                   do_zone_sizing_calculation = 'No',\n",
    "                                   maximum_number_of_hvac_sizing_simulation_passes = 1,\n",
    "                                   run_simulation_for_sizing_periods = 'Yes',\n",
    "                                   run_simulation_for_weather_file_run_periods = 'Yes',\n",
    "                                   )"
   ]
  },
  {
   "cell_type": "markdown",
   "metadata": {},
   "source": [
    "### Location – Climate – Weather File Access"
   ]
  },
  {
   "cell_type": "markdown",
   "metadata": {},
   "source": [
    "#### Site:Location"
   ]
  },
  {
   "cell_type": "code",
   "execution_count": 11,
   "metadata": {},
   "outputs": [
    {
     "data": {
      "text/plain": [
       "EPEpJSONObject(name=\"Denver Centennial  Golden   N_CO_USA Design_Conditions\")"
      ]
     },
     "execution_count": 11,
     "metadata": {},
     "output_type": "execute_result"
    }
   ],
   "source": [
    "j['Site:Location'].add_object('Denver Centennial  Golden   N_CO_USA Design_Conditions',\n",
    "                               elevation = 1829.0,\n",
    "                               latitude = 39.74,\n",
    "                               longitude = -105.18,\n",
    "                               time_zone = -7.0,\n",
    "                               )"
   ]
  },
  {
   "cell_type": "markdown",
   "metadata": {},
   "source": [
    "#### SizingPeriod:DesignDay"
   ]
  },
  {
   "cell_type": "code",
   "execution_count": 12,
   "metadata": {},
   "outputs": [
    {
     "data": {
      "text/plain": [
       "EPEpJSONObject(name=\"Denver Centennial  Golden   N Ann Htg 99% Condns DB\")"
      ]
     },
     "execution_count": 12,
     "metadata": {},
     "output_type": "execute_result"
    }
   ],
   "source": [
    "j['SizingPeriod:DesignDay'].add_object('Denver Centennial  Golden   N Ann Clg 1% Condns DB=>MWB',\n",
    "                                        barometric_pressure = 81198.0,\n",
    "                                        daily_dry_bulb_temperature_range = 15.2,\n",
    "                                        day_of_month = 21,\n",
    "                                        day_type = 'SummerDesignDay',\n",
    "                                        daylight_saving_time_indicator = 'No',\n",
    "                                        humidity_condition_type = 'WetBulb',\n",
    "                                        maximum_dry_bulb_temperature = 32,\n",
    "                                        month = 7,\n",
    "                                        rain_indicator = 'No',\n",
    "                                        sky_clearness = 1.0,\n",
    "                                        snow_indicator = 'No',\n",
    "                                        solar_model_indicator = 'ASHRAEClearSky',\n",
    "                                        wetbulb_or_dewpoint_at_maximum_dry_bulb = 15.5,\n",
    "                                        wind_direction = 0,\n",
    "                                        wind_speed = 4.9,\n",
    "                                        )\n",
    "j['SizingPeriod:DesignDay'].add_object('Denver Centennial  Golden   N Ann Htg 99% Condns DB',\n",
    "                                        barometric_pressure = 81198.0,\n",
    "                                        daily_dry_bulb_temperature_range = 0.0,\n",
    "                                        day_of_month = 21,\n",
    "                                        day_type = 'WinterDesignDay',\n",
    "                                        daylight_saving_time_indicator = 'No',\n",
    "                                        humidity_condition_type = 'WetBulb',\n",
    "                                        maximum_dry_bulb_temperature = -15.5,\n",
    "                                        month = 12,\n",
    "                                        rain_indicator = 'No',\n",
    "                                        sky_clearness = 0.0,\n",
    "                                        snow_indicator = 'No',\n",
    "                                        solar_model_indicator = 'ASHRAEClearSky',\n",
    "                                        wetbulb_or_dewpoint_at_maximum_dry_bulb = -15.5,\n",
    "                                        wind_direction = 340,\n",
    "                                        wind_speed = 3,\n",
    "                                        )"
   ]
  },
  {
   "cell_type": "markdown",
   "metadata": {},
   "source": [
    "#### RunPeriod"
   ]
  },
  {
   "cell_type": "code",
   "execution_count": 13,
   "metadata": {},
   "outputs": [
    {
     "data": {
      "text/plain": [
       "EPEpJSONObject(name=\"Run Period 1\")"
      ]
     },
     "execution_count": 13,
     "metadata": {},
     "output_type": "execute_result"
    }
   ],
   "source": [
    "j['RunPeriod'].add_object('Run Period 1',\n",
    "                           apply_weekend_holiday_rule = 'No',\n",
    "                           begin_day_of_month = 1,\n",
    "                           begin_month = 1,\n",
    "                           day_of_week_for_start_day = 'Tuesday',\n",
    "                           end_day_of_month = 31,\n",
    "                           end_month = 12,\n",
    "                           use_weather_file_daylight_saving_period = 'Yes',\n",
    "                           use_weather_file_holidays_and_special_days = 'Yes',\n",
    "                           use_weather_file_rain_indicators = 'Yes',\n",
    "                           use_weather_file_snow_indicators = 'Yes',\n",
    "                           )"
   ]
  },
  {
   "cell_type": "markdown",
   "metadata": {},
   "source": [
    "### Schedules"
   ]
  },
  {
   "cell_type": "markdown",
   "metadata": {},
   "source": [
    "#### ScheduleTypeLimits"
   ]
  },
  {
   "cell_type": "code",
   "execution_count": 14,
   "metadata": {},
   "outputs": [
    {
     "data": {
      "text/plain": [
       "EPEpJSONObject(name=\"On/Off\")"
      ]
     },
     "execution_count": 14,
     "metadata": {},
     "output_type": "execute_result"
    }
   ],
   "source": [
    "j['ScheduleTypeLimits'].add_object('Fraction',\n",
    "                                    lower_limit_value = 0.0,\n",
    "                                    numeric_type = 'Continuous',\n",
    "                                    upper_limit_value = 1.0,\n",
    "                                    )\n",
    "j['ScheduleTypeLimits'].add_object('On/Off',\n",
    "                                    lower_limit_value = 0,\n",
    "                                    numeric_type = 'Discrete',\n",
    "                                    upper_limit_value = 1,\n",
    "                                    )\n"
   ]
  },
  {
   "cell_type": "markdown",
   "metadata": {},
   "source": [
    "#### Schedule:Constant"
   ]
  },
  {
   "cell_type": "code",
   "execution_count": 15,
   "metadata": {},
   "outputs": [
    {
     "data": {
      "text/plain": [
       "EPEpJSONObject(name=\"AlwaysOn\")"
      ]
     },
     "execution_count": 15,
     "metadata": {},
     "output_type": "execute_result"
    }
   ],
   "source": [
    "j['Schedule:Constant'].add_object('AlwaysOn',\n",
    "                                   hourly_value = 1.0,\n",
    "                                   schedule_type_limits_name = 'On/Off',\n",
    "                                   )"
   ]
  },
  {
   "cell_type": "markdown",
   "metadata": {},
   "source": [
    "### Surface Construction Elements"
   ]
  },
  {
   "cell_type": "markdown",
   "metadata": {},
   "source": [
    "#### Material"
   ]
  },
  {
   "cell_type": "code",
   "execution_count": 16,
   "metadata": {},
   "outputs": [
    {
     "data": {
      "text/plain": [
       "EPEpJSONObject(name=\"C5 - 4 IN HW CONCRETE\")"
      ]
     },
     "execution_count": 16,
     "metadata": {},
     "output_type": "execute_result"
    }
   ],
   "source": [
    "j['Material'].add_object('C5 - 4 IN HW CONCRETE',\n",
    "                          conductivity = 1.729577,\n",
    "                          density = 2242.585,\n",
    "                          roughness = 'MediumRough',\n",
    "                          solar_absorptance = 0.65,\n",
    "                          specific_heat = 836.8,\n",
    "                          thermal_absorptance = 0.9,\n",
    "                          thickness = 0.1014984,\n",
    "                          visible_absorptance = 0.65,\n",
    "                          )\n"
   ]
  },
  {
   "cell_type": "markdown",
   "metadata": {},
   "source": [
    "#### Material:NoMass"
   ]
  },
  {
   "cell_type": "code",
   "execution_count": 17,
   "metadata": {},
   "outputs": [
    {
     "data": {
      "text/plain": [
       "EPEpJSONObject(name=\"R31LAYER\")"
      ]
     },
     "execution_count": 17,
     "metadata": {},
     "output_type": "execute_result"
    }
   ],
   "source": [
    "j['Material:NoMass'].add_object('R13LAYER',\n",
    "                                 roughness = 'Rough',\n",
    "                                 solar_absorptance = 0.75,\n",
    "                                 thermal_absorptance = 0.9,\n",
    "                                 thermal_resistance = 2.290965,\n",
    "                                 visible_absorptance = 0.75,\n",
    "                                 )\n",
    "j['Material:NoMass'].add_object('R31LAYER',\n",
    "                                 roughness = 'Rough',\n",
    "                                 solar_absorptance = 0.75,\n",
    "                                 thermal_absorptance = 0.9,\n",
    "                                 thermal_resistance = 5.456,\n",
    "                                 visible_absorptance = 0.75,\n",
    "                                 )"
   ]
  },
  {
   "cell_type": "markdown",
   "metadata": {},
   "source": [
    "#### Construction"
   ]
  },
  {
   "cell_type": "code",
   "execution_count": 18,
   "metadata": {},
   "outputs": [
    {
     "data": {
      "text/plain": [
       "EPEpJSONObject(name=\"ROOF31\")"
      ]
     },
     "execution_count": 18,
     "metadata": {},
     "output_type": "execute_result"
    }
   ],
   "source": [
    "j['Construction'].add_object('FLOOR',\n",
    "                              outside_layer = 'C5 - 4 IN HW CONCRETE',\n",
    "                              )\n",
    "j['Construction'].add_object('R13WALL',\n",
    "                              outside_layer = 'R13LAYER',\n",
    "                              )\n",
    "j['Construction'].add_object('ROOF31',\n",
    "                              outside_layer = 'R31LAYER',\n",
    "                              )"
   ]
  },
  {
   "cell_type": "markdown",
   "metadata": {},
   "source": [
    "### Thermal Zone Description/Geometry"
   ]
  },
  {
   "cell_type": "markdown",
   "metadata": {},
   "source": [
    "#### Zone"
   ]
  },
  {
   "cell_type": "code",
   "execution_count": 19,
   "metadata": {},
   "outputs": [
    {
     "data": {
      "text/plain": [
       "EPEpJSONObject(name=\"ZONE ONE\")"
      ]
     },
     "execution_count": 19,
     "metadata": {},
     "output_type": "execute_result"
    }
   ],
   "source": [
    "j['Zone'].add_object('ZONE ONE',\n",
    "                      ceiling_height = 'Autocalculate',\n",
    "                      direction_of_relative_north = 0,\n",
    "                      multiplier = 1,\n",
    "                      type = 1,\n",
    "                      volume = 'Autocalculate',\n",
    "                      x_origin = 0,\n",
    "                      y_origin = 0,\n",
    "                      z_origin = 0,\n",
    "                      )"
   ]
  },
  {
   "cell_type": "markdown",
   "metadata": {},
   "source": [
    "#### GlobalGeometryRules"
   ]
  },
  {
   "cell_type": "code",
   "execution_count": 20,
   "metadata": {},
   "outputs": [
    {
     "data": {
      "text/plain": [
       "EPEpJSONObject(name=\"GlobalGeometryRules 1\")"
      ]
     },
     "execution_count": 20,
     "metadata": {},
     "output_type": "execute_result"
    }
   ],
   "source": [
    "j['GlobalGeometryRules'].add_object('GlobalGeometryRules 1',\n",
    "                                     coordinate_system = 'World',\n",
    "                                     starting_vertex_position = 'UpperLeftCorner',\n",
    "                                     vertex_entry_direction = 'Counterclockwise',\n",
    "                                     )"
   ]
  },
  {
   "cell_type": "markdown",
   "metadata": {},
   "source": [
    "#### BuildingSurface:Detailed"
   ]
  },
  {
   "cell_type": "code",
   "execution_count": 21,
   "metadata": {},
   "outputs": [
    {
     "data": {
      "text/plain": [
       "EPEpJSONObject(name=\"Zn001:Wall004\")"
      ]
     },
     "execution_count": 21,
     "metadata": {},
     "output_type": "execute_result"
    }
   ],
   "source": [
    "j['BuildingSurface:Detailed'].add_object('Zn001:Flr001',\n",
    "                                          construction_name = 'FLOOR',\n",
    "                                          number_of_vertices = 4,\n",
    "                                          outside_boundary_condition = 'Adiabatic',\n",
    "                                          sun_exposure = 'NoSun',\n",
    "                                          surface_type = 'Floor',\n",
    "                                          vertices = [{'vertex_x_coordinate': 15.24, \n",
    "                                                       'vertex_y_coordinate': 0.0, \n",
    "                                                       'vertex_z_coordinate': 0.0}, \n",
    "                                                      {'vertex_x_coordinate': 0.0, \n",
    "                                                       'vertex_y_coordinate': 0.0, \n",
    "                                                       'vertex_z_coordinate': 0.0}, \n",
    "                                                      {'vertex_x_coordinate': 0.0, \n",
    "                                                       'vertex_y_coordinate': 15.24, \n",
    "                                                       'vertex_z_coordinate': 0.0}, \n",
    "                                                      {'vertex_x_coordinate': 15.24, \n",
    "                                                       'vertex_y_coordinate': 15.24, \n",
    "                                                       'vertex_z_coordinate': 0.0}],\n",
    "                                          view_factor_to_ground = 1.0,\n",
    "                                          wind_exposure = 'NoWind',\n",
    "                                          zone_name = 'ZONE ONE',\n",
    "                                          )\n",
    "j['BuildingSurface:Detailed'].add_object('Zn001:Roof001',\n",
    "                                          construction_name = 'ROOF31',\n",
    "                                          number_of_vertices = 4,\n",
    "                                          outside_boundary_condition = 'Outdoors',\n",
    "                                          sun_exposure = 'SunExposed',\n",
    "                                          surface_type = 'Roof',\n",
    "                                          vertices = [{'vertex_x_coordinate': 0.0, \n",
    "                                                       'vertex_y_coordinate': 15.24, \n",
    "                                                       'vertex_z_coordinate': 4.572}, \n",
    "                                                      {'vertex_x_coordinate': 0.0, \n",
    "                                                       'vertex_y_coordinate': 0.0, \n",
    "                                                       'vertex_z_coordinate': 4.572}, \n",
    "                                                      {'vertex_x_coordinate': 15.24, \n",
    "                                                       'vertex_y_coordinate': 0.0, \n",
    "                                                       'vertex_z_coordinate': 4.572}, \n",
    "                                                      {'vertex_x_coordinate': 15.24, \n",
    "                                                       'vertex_y_coordinate': 15.24, \n",
    "                                                       'vertex_z_coordinate': 4.572}],\n",
    "                                          view_factor_to_ground = 0,\n",
    "                                          wind_exposure = 'WindExposed',\n",
    "                                          zone_name = 'ZONE ONE',\n",
    "                                          )\n",
    "j['BuildingSurface:Detailed'].add_object('Zn001:Wall001',\n",
    "                                          construction_name = 'R13WALL',\n",
    "                                          number_of_vertices = 4,\n",
    "                                          outside_boundary_condition = 'Outdoors',\n",
    "                                          sun_exposure = 'SunExposed',\n",
    "                                          surface_type = 'Wall',\n",
    "                                          vertices = [{'vertex_x_coordinate': 0, \n",
    "                                                       'vertex_y_coordinate': 0, \n",
    "                                                       'vertex_z_coordinate': 4.572}, \n",
    "                                                      {'vertex_x_coordinate': 0, \n",
    "                                                       'vertex_y_coordinate': 0, \n",
    "                                                       'vertex_z_coordinate': 0}, \n",
    "                                                      {'vertex_x_coordinate': 15.24, \n",
    "                                                       'vertex_y_coordinate': 0, \n",
    "                                                       'vertex_z_coordinate': 0}, \n",
    "                                                      {'vertex_x_coordinate': 15.24, \n",
    "                                                       'vertex_y_coordinate': 0, \n",
    "                                                       'vertex_z_coordinate': 4.572}],\n",
    "                                          view_factor_to_ground = 0.5,\n",
    "                                          wind_exposure = 'WindExposed',\n",
    "                                          zone_name = 'ZONE ONE',\n",
    "                                          )\n",
    "j['BuildingSurface:Detailed'].add_object('Zn001:Wall002',\n",
    "                                          construction_name = 'R13WALL',\n",
    "                                          number_of_vertices = 4,\n",
    "                                          outside_boundary_condition = 'Outdoors',\n",
    "                                          sun_exposure = 'SunExposed',\n",
    "                                          surface_type = 'Wall',\n",
    "                                          vertices = [{'vertex_x_coordinate': 15.24, \n",
    "                                                       'vertex_y_coordinate': 0, \n",
    "                                                       'vertex_z_coordinate': 4.572}, \n",
    "                                                      {'vertex_x_coordinate': 15.24, \n",
    "                                                       'vertex_y_coordinate': 0, \n",
    "                                                       'vertex_z_coordinate': 0}, \n",
    "                                                      {'vertex_x_coordinate': 15.24, \n",
    "                                                       'vertex_y_coordinate': 15.24, \n",
    "                                                       'vertex_z_coordinate': 0}, \n",
    "                                                      {'vertex_x_coordinate': 15.24, \n",
    "                                                       'vertex_y_coordinate': 15.24, \n",
    "                                                       'vertex_z_coordinate': 4.572}],\n",
    "                                          view_factor_to_ground = 0.5,\n",
    "                                          wind_exposure = 'WindExposed',\n",
    "                                          zone_name = 'ZONE ONE',\n",
    "                                          )\n",
    "j['BuildingSurface:Detailed'].add_object('Zn001:Wall003',\n",
    "                                          construction_name = 'R13WALL',\n",
    "                                          number_of_vertices = 4,\n",
    "                                          outside_boundary_condition = 'Outdoors',\n",
    "                                          sun_exposure = 'SunExposed',\n",
    "                                          surface_type = 'Wall',\n",
    "                                          vertices = [{'vertex_x_coordinate': 15.24, \n",
    "                                                       'vertex_y_coordinate': 15.24, \n",
    "                                                       'vertex_z_coordinate': 4.572}, \n",
    "                                                      {'vertex_x_coordinate': 15.24, \n",
    "                                                       'vertex_y_coordinate': 15.24, \n",
    "                                                       'vertex_z_coordinate': 0}, \n",
    "                                                      {'vertex_x_coordinate': 0, \n",
    "                                                       'vertex_y_coordinate': 15.24, \n",
    "                                                       'vertex_z_coordinate': 0}, \n",
    "                                                      {'vertex_x_coordinate': 0, \n",
    "                                                       'vertex_y_coordinate': 15.24, \n",
    "                                                       'vertex_z_coordinate': 4.572}],\n",
    "                                          view_factor_to_ground = 0.5,\n",
    "                                          wind_exposure = 'WindExposed',\n",
    "                                          zone_name = 'ZONE ONE',\n",
    "                                          )\n",
    "j['BuildingSurface:Detailed'].add_object('Zn001:Wall004',\n",
    "                                          construction_name = 'R13WALL',\n",
    "                                          number_of_vertices = 4,\n",
    "                                          outside_boundary_condition = 'Outdoors',\n",
    "                                          sun_exposure = 'SunExposed',\n",
    "                                          surface_type = 'Wall',\n",
    "                                          vertices = [{'vertex_x_coordinate': 0, \n",
    "                                                       'vertex_y_coordinate': 15.24, \n",
    "                                                       'vertex_z_coordinate': 4.572}, \n",
    "                                                      {'vertex_x_coordinate': 0, \n",
    "                                                       'vertex_y_coordinate': 15.24, \n",
    "                                                       'vertex_z_coordinate': 0}, \n",
    "                                                      {'vertex_x_coordinate': 0, \n",
    "                                                       'vertex_y_coordinate': 0, \n",
    "                                                       'vertex_z_coordinate': 0}, \n",
    "                                                      {'vertex_x_coordinate': 0, \n",
    "                                                       'vertex_y_coordinate': 0, \n",
    "                                                       'vertex_z_coordinate': 4.572}],\n",
    "                                          view_factor_to_ground = 0.5,\n",
    "                                          wind_exposure = 'WindExposed',\n",
    "                                          zone_name = 'ZONE ONE',\n",
    "                                          )"
   ]
  },
  {
   "cell_type": "markdown",
   "metadata": {},
   "source": [
    "### Internal Gains"
   ]
  },
  {
   "cell_type": "markdown",
   "metadata": {},
   "source": [
    "#### OtherEquipment"
   ]
  },
  {
   "cell_type": "code",
   "execution_count": 22,
   "metadata": {},
   "outputs": [
    {
     "data": {
      "text/plain": [
       "EPEpJSONObject(name=\"Test 352a\")"
      ]
     },
     "execution_count": 22,
     "metadata": {},
     "output_type": "execute_result"
    }
   ],
   "source": [
    "j['OtherEquipment'].add_object('Test 352 minus',\n",
    "                                design_level = -352,\n",
    "                                design_level_calculation_method = 'EquipmentLevel',\n",
    "                                fraction_latent = 0,\n",
    "                                fraction_lost = 0,\n",
    "                                fraction_radiant = 0,\n",
    "                                fuel_type = 'None',\n",
    "                                schedule_name = 'AlwaysOn',\n",
    "                                zone_or_zonelist_name = 'ZONE ONE',\n",
    "                                )\n",
    "j['OtherEquipment'].add_object('Test 352a',\n",
    "                                design_level = 352,\n",
    "                                design_level_calculation_method = 'EquipmentLevel',\n",
    "                                fraction_latent = 0,\n",
    "                                fraction_lost = 0,\n",
    "                                fraction_radiant = 0,\n",
    "                                fuel_type = 'None',\n",
    "                                schedule_name = 'AlwaysOn',\n",
    "                                zone_or_zonelist_name = 'ZONE ONE',\n",
    "                                )"
   ]
  },
  {
   "cell_type": "markdown",
   "metadata": {},
   "source": [
    "### Exterior Energy Use Equipment"
   ]
  },
  {
   "cell_type": "markdown",
   "metadata": {},
   "source": [
    "#### Exterior:Lights"
   ]
  },
  {
   "cell_type": "code",
   "execution_count": 23,
   "metadata": {},
   "outputs": [
    {
     "data": {
      "text/plain": [
       "EPEpJSONObject(name=\"ExtLights\")"
      ]
     },
     "execution_count": 23,
     "metadata": {},
     "output_type": "execute_result"
    }
   ],
   "source": [
    "j['Exterior:Lights'].add_object('ExtLights',\n",
    "                                 control_option = 'AstronomicalClock',\n",
    "                                 design_level = 5250,\n",
    "                                 end_use_subcategory = 'Grounds Lights',\n",
    "                                 schedule_name = 'AlwaysOn',\n",
    "                                 )"
   ]
  },
  {
   "cell_type": "markdown",
   "metadata": {},
   "source": [
    "### Input for Output - Reports"
   ]
  },
  {
   "cell_type": "markdown",
   "metadata": {},
   "source": [
    "#### Output:VariableDictionary"
   ]
  },
  {
   "cell_type": "code",
   "execution_count": 24,
   "metadata": {},
   "outputs": [
    {
     "data": {
      "text/plain": [
       "EPEpJSONObject(name=\"Output:VariableDictionary 1\")"
      ]
     },
     "execution_count": 24,
     "metadata": {},
     "output_type": "execute_result"
    }
   ],
   "source": [
    "j['Output:VariableDictionary'].add_object('Output:VariableDictionary 1',\n",
    "                                           key_field = 'IDF',\n",
    "                                           )"
   ]
  },
  {
   "cell_type": "markdown",
   "metadata": {},
   "source": [
    "#### Output:Constructions"
   ]
  },
  {
   "cell_type": "code",
   "execution_count": 25,
   "metadata": {},
   "outputs": [
    {
     "data": {
      "text/plain": [
       "EPEpJSONObject(name=\"Output:Constructions 1\")"
      ]
     },
     "execution_count": 25,
     "metadata": {},
     "output_type": "execute_result"
    }
   ],
   "source": [
    "j['Output:Constructions'].add_object('Output:Constructions 1',\n",
    "                                      details_type_1 = 'Constructions',\n",
    "                                      )"
   ]
  },
  {
   "cell_type": "markdown",
   "metadata": {},
   "source": [
    "#### Output:Surfaces:Drawing"
   ]
  },
  {
   "cell_type": "code",
   "execution_count": 26,
   "metadata": {},
   "outputs": [
    {
     "data": {
      "text/plain": [
       "EPEpJSONObject(name=\"Output:Surfaces:Drawing 1\")"
      ]
     },
     "execution_count": 26,
     "metadata": {},
     "output_type": "execute_result"
    }
   ],
   "source": [
    "j['Output:Surfaces:Drawing'].add_object('Output:Surfaces:Drawing 1',\n",
    "                                         report_type = 'DXF:WireFrame',\n",
    "                                         )"
   ]
  },
  {
   "cell_type": "markdown",
   "metadata": {},
   "source": [
    "#### Output:Variable"
   ]
  },
  {
   "cell_type": "code",
   "execution_count": 27,
   "metadata": {},
   "outputs": [
    {
     "data": {
      "text/plain": [
       "EPEpJSONObject(name=\"Output:Variable 14\")"
      ]
     },
     "execution_count": 27,
     "metadata": {},
     "output_type": "execute_result"
    }
   ],
   "source": [
    "j['Output:Variable'].add_object('Output:Variable 1',\n",
    "                                 key_value = '*',\n",
    "                                 reporting_frequency = 'Hourly',\n",
    "                                 variable_name = 'Site Outdoor Air Drybulb Temperature',\n",
    "                                 )\n",
    "j['Output:Variable'].add_object('Output:Variable 2',\n",
    "                                 key_value = '*',\n",
    "                                 reporting_frequency = 'Daily',\n",
    "                                 variable_name = 'Site Daylight Saving Time Status',\n",
    "                                 )\n",
    "j['Output:Variable'].add_object('Output:Variable 3',\n",
    "                                 key_value = '*',\n",
    "                                 reporting_frequency = 'Daily',\n",
    "                                 variable_name = 'Site Day Type Index',\n",
    "                                 )\n",
    "j['Output:Variable'].add_object('Output:Variable 4',\n",
    "                                 key_value = '*',\n",
    "                                 reporting_frequency = 'Hourly',\n",
    "                                 variable_name = 'Zone Mean Air Temperature',\n",
    "                                 )\n",
    "j['Output:Variable'].add_object('Output:Variable 5',\n",
    "                                 key_value = '*',\n",
    "                                 reporting_frequency = 'Hourly',\n",
    "                                 variable_name = 'Zone Total Internal Latent Gain Energy',\n",
    "                                 )\n",
    "j['Output:Variable'].add_object('Output:Variable 6',\n",
    "                                 key_value = '*',\n",
    "                                 reporting_frequency = 'Hourly',\n",
    "                                 variable_name = 'Zone Mean Radiant Temperature',\n",
    "                                 )\n",
    "j['Output:Variable'].add_object('Output:Variable 7',\n",
    "                                 key_value = '*',\n",
    "                                 reporting_frequency = 'Hourly',\n",
    "                                 variable_name = 'Zone Air Heat Balance Surface Convection Rate',\n",
    "                                 )\n",
    "j['Output:Variable'].add_object('Output:Variable 8',\n",
    "                                 key_value = '*',\n",
    "                                 reporting_frequency = 'Hourly',\n",
    "                                 variable_name = 'Zone Air Heat Balance Air Energy Storage Rate',\n",
    "                                 )\n",
    "j['Output:Variable'].add_object('Output:Variable 9',\n",
    "                                 key_value = '*',\n",
    "                                 reporting_frequency = 'Daily',\n",
    "                                 variable_name = 'Surface Inside Face Temperature',\n",
    "                                 )\n",
    "j['Output:Variable'].add_object('Output:Variable 10',\n",
    "                                 key_value = '*',\n",
    "                                 reporting_frequency = 'Daily',\n",
    "                                 variable_name = 'Surface Outside Face Temperature',\n",
    "                                 )\n",
    "j['Output:Variable'].add_object('Output:Variable 11',\n",
    "                                 key_value = '*',\n",
    "                                 reporting_frequency = 'Daily',\n",
    "                                 variable_name = 'Surface Inside Face Convection Heat Transfer Coefficient',\n",
    "                                 )\n",
    "j['Output:Variable'].add_object('Output:Variable 12',\n",
    "                                 key_value = '*',\n",
    "                                 reporting_frequency = 'Daily',\n",
    "                                 variable_name = 'Surface Outside Face Convection Heat Transfer Coefficient',\n",
    "                                 )\n",
    "j['Output:Variable'].add_object('Output:Variable 13',\n",
    "                                 key_value = '*',\n",
    "                                 reporting_frequency = 'Monthly',\n",
    "                                 variable_name = 'Other Equipment Total Heating Energy',\n",
    "                                 )\n",
    "j['Output:Variable'].add_object('Output:Variable 14',\n",
    "                                 key_value = '*',\n",
    "                                 reporting_frequency = 'Monthly',\n",
    "                                 variable_name = 'Zone Other Equipment Total Heating Energy',\n",
    "                                 )"
   ]
  },
  {
   "cell_type": "markdown",
   "metadata": {},
   "source": [
    "#### Output:Meter:MeterFileOnly"
   ]
  },
  {
   "cell_type": "code",
   "execution_count": 28,
   "metadata": {},
   "outputs": [
    {
     "data": {
      "text/plain": [
       "EPEpJSONObject(name=\"Output:Meter:MeterFileOnly 3\")"
      ]
     },
     "execution_count": 28,
     "metadata": {},
     "output_type": "execute_result"
    }
   ],
   "source": [
    "j['Output:Meter:MeterFileOnly'].add_object('Output:Meter:MeterFileOnly 1',\n",
    "                                            key_name = 'ExteriorLights:Electricity',\n",
    "                                            reporting_frequency = 'Hourly',\n",
    "                                            )\n",
    "j['Output:Meter:MeterFileOnly'].add_object('Output:Meter:MeterFileOnly 2',\n",
    "                                            key_name = 'EnergyTransfer:Building',\n",
    "                                            reporting_frequency = 'Hourly',\n",
    "                                            )\n",
    "j['Output:Meter:MeterFileOnly'].add_object('Output:Meter:MeterFileOnly 3',\n",
    "                                            key_name = 'EnergyTransfer:Facility',\n",
    "                                            reporting_frequency = 'Hourly',\n",
    "                                            )"
   ]
  },
  {
   "cell_type": "markdown",
   "metadata": {},
   "source": [
    "#### OutputControl:Table:Style"
   ]
  },
  {
   "cell_type": "code",
   "execution_count": 29,
   "metadata": {},
   "outputs": [
    {
     "data": {
      "text/plain": [
       "EPEpJSONObject(name=\"OutputControl:Table:Style 1\")"
      ]
     },
     "execution_count": 29,
     "metadata": {},
     "output_type": "execute_result"
    }
   ],
   "source": [
    "j['OutputControl:Table:Style'].add_object('OutputControl:Table:Style 1',\n",
    "                                           column_separator = 'All',\n",
    "                                           )"
   ]
  },
  {
   "cell_type": "markdown",
   "metadata": {},
   "source": [
    "### Standard Output Reports"
   ]
  },
  {
   "cell_type": "markdown",
   "metadata": {},
   "source": [
    "#### Output:Table:SummaryReports"
   ]
  },
  {
   "cell_type": "code",
   "execution_count": 30,
   "metadata": {},
   "outputs": [
    {
     "data": {
      "text/plain": [
       "EPEpJSONObject(name=\"Output:Table:SummaryReports 1\")"
      ]
     },
     "execution_count": 30,
     "metadata": {},
     "output_type": "execute_result"
    }
   ],
   "source": [
    "j['Output:Table:SummaryReports'].add_object('Output:Table:SummaryReports 1',\n",
    "                                             reports = [{'report_name': 'AllSummary'}],\n",
    "                                             )"
   ]
  },
  {
   "cell_type": "markdown",
   "metadata": {},
   "source": [
    "## Save the final EpEpJSON instance as a .epJSON file"
   ]
  },
  {
   "cell_type": "code",
   "execution_count": 31,
   "metadata": {},
   "outputs": [],
   "source": [
    "j.write(r'1ZoneUncontrolled_recreated.epJSON')"
   ]
  },
  {
   "cell_type": "markdown",
   "metadata": {},
   "source": [
    "## Running a simulation and viewing the results"
   ]
  },
  {
   "cell_type": "markdown",
   "metadata": {},
   "source": [
    "### Run EnergyPlus simulation"
   ]
  },
  {
   "cell_type": "code",
   "execution_count": 32,
   "metadata": {},
   "outputs": [
    {
     "name": "stdout",
     "output_type": "stream",
     "text": [
      "<class 'eprun.epresult.EPResult'>\n"
     ]
    }
   ],
   "source": [
    "from eprun import eprun\n",
    "epresult=eprun(ep_dir='C:\\EnergyPlusV9-4-0',\n",
    "               input_filepath=r'1ZoneUncontrolled_recreated.epJSON',\n",
    "               epw_filepath=r'input_files\\USA_CO_Golden-NREL.724666_TMY3.epw',\n",
    "               sim_dir='simulation_files')\n",
    "print(type(epresult))"
   ]
  },
  {
   "cell_type": "code",
   "execution_count": 33,
   "metadata": {},
   "outputs": [
    {
     "data": {
      "text/plain": [
       "0"
      ]
     },
     "execution_count": 33,
     "metadata": {},
     "output_type": "execute_result"
    }
   ],
   "source": [
    "epresult.returncode"
   ]
  },
  {
   "cell_type": "code",
   "execution_count": 34,
   "metadata": {},
   "outputs": [
    {
     "data": {
      "text/plain": [
       "'EnergyPlus Completed Successfully-- 0 Warning; 0 Severe Errors; Elapsed Time=00hr 00min  4.26sec\\n'"
      ]
     },
     "execution_count": 34,
     "metadata": {},
     "output_type": "execute_result"
    }
   ],
   "source": [
    "epresult.get_end().line"
   ]
  },
  {
   "cell_type": "markdown",
   "metadata": {},
   "source": [
    "### View .eso results"
   ]
  },
  {
   "cell_type": "code",
   "execution_count": 35,
   "metadata": {},
   "outputs": [
    {
     "data": {
      "text/plain": [
       "[EPEsoSimuationEnvironment(environment_title=\"DENVER CENTENNIAL  GOLDEN   N ANN CLG 1% CONDNS DB=>MWB\"),\n",
       " EPEsoSimuationEnvironment(environment_title=\"DENVER CENTENNIAL  GOLDEN   N ANN HTG 99% CONDNS DB\"),\n",
       " EPEsoSimuationEnvironment(environment_title=\"RUN PERIOD 1\")]"
      ]
     },
     "execution_count": 35,
     "metadata": {},
     "output_type": "execute_result"
    }
   ],
   "source": [
    "eso=epresult.get_eso()\n",
    "envs=eso.get_environments()\n",
    "envs"
   ]
  },
  {
   "cell_type": "code",
   "execution_count": 36,
   "metadata": {},
   "outputs": [
    {
     "data": {
      "text/html": [
       "<div>\n",
       "<style scoped>\n",
       "    .dataframe tbody tr th:only-of-type {\n",
       "        vertical-align: middle;\n",
       "    }\n",
       "\n",
       "    .dataframe tbody tr th {\n",
       "        vertical-align: top;\n",
       "    }\n",
       "\n",
       "    .dataframe thead tr th {\n",
       "        text-align: left;\n",
       "    }\n",
       "\n",
       "    .dataframe thead tr:last-of-type th {\n",
       "        text-align: right;\n",
       "    }\n",
       "</style>\n",
       "<table border=\"1\" class=\"dataframe\">\n",
       "  <thead>\n",
       "    <tr>\n",
       "      <th>object_name</th>\n",
       "      <th>Environment</th>\n",
       "      <th colspan=\"5\" halign=\"left\">ZONE ONE</th>\n",
       "    </tr>\n",
       "    <tr>\n",
       "      <th>quantity</th>\n",
       "      <th>Site Outdoor Air Drybulb Temperature</th>\n",
       "      <th>Zone Total Internal Latent Gain Energy</th>\n",
       "      <th>Zone Mean Radiant Temperature</th>\n",
       "      <th>Zone Mean Air Temperature</th>\n",
       "      <th>Zone Air Heat Balance Surface Convection Rate</th>\n",
       "      <th>Zone Air Heat Balance Air Energy Storage Rate</th>\n",
       "    </tr>\n",
       "    <tr>\n",
       "      <th>unit</th>\n",
       "      <th>C</th>\n",
       "      <th>J</th>\n",
       "      <th>C</th>\n",
       "      <th>C</th>\n",
       "      <th>W</th>\n",
       "      <th>W</th>\n",
       "    </tr>\n",
       "    <tr>\n",
       "      <th>value_type</th>\n",
       "      <th>value</th>\n",
       "      <th>value</th>\n",
       "      <th>value</th>\n",
       "      <th>value</th>\n",
       "      <th>value</th>\n",
       "      <th>value</th>\n",
       "    </tr>\n",
       "    <tr>\n",
       "      <th>time_periods</th>\n",
       "      <th></th>\n",
       "      <th></th>\n",
       "      <th></th>\n",
       "      <th></th>\n",
       "      <th></th>\n",
       "      <th></th>\n",
       "    </tr>\n",
       "  </thead>\n",
       "  <tbody>\n",
       "    <tr>\n",
       "      <th>2001-07-21 00:00:00</th>\n",
       "      <td>18.966</td>\n",
       "      <td>0.0</td>\n",
       "      <td>28.937338</td>\n",
       "      <td>29.078608</td>\n",
       "      <td>-80.270372</td>\n",
       "      <td>-80.214690</td>\n",
       "    </tr>\n",
       "    <tr>\n",
       "      <th>2001-07-21 01:00:00</th>\n",
       "      <td>18.244</td>\n",
       "      <td>0.0</td>\n",
       "      <td>28.651441</td>\n",
       "      <td>28.792642</td>\n",
       "      <td>-78.199217</td>\n",
       "      <td>-78.636711</td>\n",
       "    </tr>\n",
       "    <tr>\n",
       "      <th>2001-07-21 02:00:00</th>\n",
       "      <td>17.731</td>\n",
       "      <td>0.0</td>\n",
       "      <td>28.373799</td>\n",
       "      <td>28.514800</td>\n",
       "      <td>-76.534127</td>\n",
       "      <td>-76.740553</td>\n",
       "    </tr>\n",
       "    <tr>\n",
       "      <th>2001-07-21 03:00:00</th>\n",
       "      <td>17.275</td>\n",
       "      <td>0.0</td>\n",
       "      <td>28.097413</td>\n",
       "      <td>28.239724</td>\n",
       "      <td>-76.959208</td>\n",
       "      <td>-76.859981</td>\n",
       "    </tr>\n",
       "    <tr>\n",
       "      <th>2001-07-21 04:00:00</th>\n",
       "      <td>16.914</td>\n",
       "      <td>0.0</td>\n",
       "      <td>27.824289</td>\n",
       "      <td>27.965695</td>\n",
       "      <td>-75.455838</td>\n",
       "      <td>-75.775649</td>\n",
       "    </tr>\n",
       "    <tr>\n",
       "      <th>2001-07-21 05:00:00</th>\n",
       "      <td>16.990</td>\n",
       "      <td>0.0</td>\n",
       "      <td>27.884423</td>\n",
       "      <td>27.869084</td>\n",
       "      <td>51.672674</td>\n",
       "      <td>27.556638</td>\n",
       "    </tr>\n",
       "    <tr>\n",
       "      <th>2001-07-21 06:00:00</th>\n",
       "      <td>17.769</td>\n",
       "      <td>0.0</td>\n",
       "      <td>28.293311</td>\n",
       "      <td>28.196468</td>\n",
       "      <td>97.954192</td>\n",
       "      <td>101.616594</td>\n",
       "    </tr>\n",
       "    <tr>\n",
       "      <th>2001-07-21 07:00:00</th>\n",
       "      <td>19.783</td>\n",
       "      <td>0.0</td>\n",
       "      <td>28.660174</td>\n",
       "      <td>28.553245</td>\n",
       "      <td>109.114371</td>\n",
       "      <td>104.621099</td>\n",
       "    </tr>\n",
       "    <tr>\n",
       "      <th>2001-07-21 08:00:00</th>\n",
       "      <td>22.557</td>\n",
       "      <td>0.0</td>\n",
       "      <td>29.137345</td>\n",
       "      <td>29.008742</td>\n",
       "      <td>141.198483</td>\n",
       "      <td>138.350079</td>\n",
       "    </tr>\n",
       "    <tr>\n",
       "      <th>2001-07-21 09:00:00</th>\n",
       "      <td>25.255</td>\n",
       "      <td>0.0</td>\n",
       "      <td>29.639579</td>\n",
       "      <td>29.511978</td>\n",
       "      <td>133.747271</td>\n",
       "      <td>135.955653</td>\n",
       "    </tr>\n",
       "    <tr>\n",
       "      <th>2001-07-21 10:00:00</th>\n",
       "      <td>27.649</td>\n",
       "      <td>0.0</td>\n",
       "      <td>30.073677</td>\n",
       "      <td>29.961188</td>\n",
       "      <td>114.470362</td>\n",
       "      <td>117.110006</td>\n",
       "    </tr>\n",
       "    <tr>\n",
       "      <th>2001-07-21 11:00:00</th>\n",
       "      <td>29.454</td>\n",
       "      <td>0.0</td>\n",
       "      <td>30.406882</td>\n",
       "      <td>30.322886</td>\n",
       "      <td>84.509771</td>\n",
       "      <td>88.615272</td>\n",
       "    </tr>\n",
       "    <tr>\n",
       "      <th>2001-07-21 12:00:00</th>\n",
       "      <td>30.784</td>\n",
       "      <td>0.0</td>\n",
       "      <td>30.759938</td>\n",
       "      <td>30.645376</td>\n",
       "      <td>107.591241</td>\n",
       "      <td>100.623218</td>\n",
       "    </tr>\n",
       "    <tr>\n",
       "      <th>2001-07-21 13:00:00</th>\n",
       "      <td>31.715</td>\n",
       "      <td>0.0</td>\n",
       "      <td>31.167305</td>\n",
       "      <td>31.069134</td>\n",
       "      <td>115.302069</td>\n",
       "      <td>117.796076</td>\n",
       "    </tr>\n",
       "    <tr>\n",
       "      <th>2001-07-21 14:00:00</th>\n",
       "      <td>32.000</td>\n",
       "      <td>0.0</td>\n",
       "      <td>31.469155</td>\n",
       "      <td>31.432703</td>\n",
       "      <td>81.762830</td>\n",
       "      <td>86.913357</td>\n",
       "    </tr>\n",
       "    <tr>\n",
       "      <th>2001-07-21 15:00:00</th>\n",
       "      <td>31.430</td>\n",
       "      <td>0.0</td>\n",
       "      <td>31.597091</td>\n",
       "      <td>31.645720</td>\n",
       "      <td>33.806320</td>\n",
       "      <td>40.340502</td>\n",
       "    </tr>\n",
       "    <tr>\n",
       "      <th>2001-07-21 16:00:00</th>\n",
       "      <td>30.328</td>\n",
       "      <td>0.0</td>\n",
       "      <td>31.566222</td>\n",
       "      <td>31.698019</td>\n",
       "      <td>0.322972</td>\n",
       "      <td>2.922066</td>\n",
       "    </tr>\n",
       "    <tr>\n",
       "      <th>2001-07-21 17:00:00</th>\n",
       "      <td>28.922</td>\n",
       "      <td>0.0</td>\n",
       "      <td>31.427151</td>\n",
       "      <td>31.625258</td>\n",
       "      <td>-52.468894</td>\n",
       "      <td>-41.925806</td>\n",
       "    </tr>\n",
       "    <tr>\n",
       "      <th>2001-07-21 18:00:00</th>\n",
       "      <td>26.927</td>\n",
       "      <td>0.0</td>\n",
       "      <td>30.919250</td>\n",
       "      <td>31.213699</td>\n",
       "      <td>-187.204548</td>\n",
       "      <td>-166.830294</td>\n",
       "    </tr>\n",
       "    <tr>\n",
       "      <th>2001-07-21 19:00:00</th>\n",
       "      <td>25.027</td>\n",
       "      <td>0.0</td>\n",
       "      <td>30.355968</td>\n",
       "      <td>30.522148</td>\n",
       "      <td>-138.182131</td>\n",
       "      <td>-161.205685</td>\n",
       "    </tr>\n",
       "    <tr>\n",
       "      <th>2001-07-21 20:00:00</th>\n",
       "      <td>23.545</td>\n",
       "      <td>0.0</td>\n",
       "      <td>30.062035</td>\n",
       "      <td>30.185398</td>\n",
       "      <td>-75.096593</td>\n",
       "      <td>-75.033086</td>\n",
       "    </tr>\n",
       "    <tr>\n",
       "      <th>2001-07-21 21:00:00</th>\n",
       "      <td>22.177</td>\n",
       "      <td>0.0</td>\n",
       "      <td>29.790208</td>\n",
       "      <td>29.918432</td>\n",
       "      <td>-75.400645</td>\n",
       "      <td>-74.891961</td>\n",
       "    </tr>\n",
       "    <tr>\n",
       "      <th>2001-07-21 22:00:00</th>\n",
       "      <td>20.999</td>\n",
       "      <td>0.0</td>\n",
       "      <td>29.513159</td>\n",
       "      <td>29.644779</td>\n",
       "      <td>-75.749160</td>\n",
       "      <td>-75.906831</td>\n",
       "    </tr>\n",
       "    <tr>\n",
       "      <th>2001-07-21 23:00:00</th>\n",
       "      <td>19.935</td>\n",
       "      <td>0.0</td>\n",
       "      <td>29.229786</td>\n",
       "      <td>29.367261</td>\n",
       "      <td>-78.759293</td>\n",
       "      <td>-78.269391</td>\n",
       "    </tr>\n",
       "  </tbody>\n",
       "</table>\n",
       "</div>"
      ],
      "text/plain": [
       "object_name                                  Environment  \\\n",
       "quantity            Site Outdoor Air Drybulb Temperature   \n",
       "unit                                                   C   \n",
       "value_type                                         value   \n",
       "time_periods                                               \n",
       "2001-07-21 00:00:00                               18.966   \n",
       "2001-07-21 01:00:00                               18.244   \n",
       "2001-07-21 02:00:00                               17.731   \n",
       "2001-07-21 03:00:00                               17.275   \n",
       "2001-07-21 04:00:00                               16.914   \n",
       "2001-07-21 05:00:00                               16.990   \n",
       "2001-07-21 06:00:00                               17.769   \n",
       "2001-07-21 07:00:00                               19.783   \n",
       "2001-07-21 08:00:00                               22.557   \n",
       "2001-07-21 09:00:00                               25.255   \n",
       "2001-07-21 10:00:00                               27.649   \n",
       "2001-07-21 11:00:00                               29.454   \n",
       "2001-07-21 12:00:00                               30.784   \n",
       "2001-07-21 13:00:00                               31.715   \n",
       "2001-07-21 14:00:00                               32.000   \n",
       "2001-07-21 15:00:00                               31.430   \n",
       "2001-07-21 16:00:00                               30.328   \n",
       "2001-07-21 17:00:00                               28.922   \n",
       "2001-07-21 18:00:00                               26.927   \n",
       "2001-07-21 19:00:00                               25.027   \n",
       "2001-07-21 20:00:00                               23.545   \n",
       "2001-07-21 21:00:00                               22.177   \n",
       "2001-07-21 22:00:00                               20.999   \n",
       "2001-07-21 23:00:00                               19.935   \n",
       "\n",
       "object_name                                       ZONE ONE  \\\n",
       "quantity            Zone Total Internal Latent Gain Energy   \n",
       "unit                                                     J   \n",
       "value_type                                           value   \n",
       "time_periods                                                 \n",
       "2001-07-21 00:00:00                                    0.0   \n",
       "2001-07-21 01:00:00                                    0.0   \n",
       "2001-07-21 02:00:00                                    0.0   \n",
       "2001-07-21 03:00:00                                    0.0   \n",
       "2001-07-21 04:00:00                                    0.0   \n",
       "2001-07-21 05:00:00                                    0.0   \n",
       "2001-07-21 06:00:00                                    0.0   \n",
       "2001-07-21 07:00:00                                    0.0   \n",
       "2001-07-21 08:00:00                                    0.0   \n",
       "2001-07-21 09:00:00                                    0.0   \n",
       "2001-07-21 10:00:00                                    0.0   \n",
       "2001-07-21 11:00:00                                    0.0   \n",
       "2001-07-21 12:00:00                                    0.0   \n",
       "2001-07-21 13:00:00                                    0.0   \n",
       "2001-07-21 14:00:00                                    0.0   \n",
       "2001-07-21 15:00:00                                    0.0   \n",
       "2001-07-21 16:00:00                                    0.0   \n",
       "2001-07-21 17:00:00                                    0.0   \n",
       "2001-07-21 18:00:00                                    0.0   \n",
       "2001-07-21 19:00:00                                    0.0   \n",
       "2001-07-21 20:00:00                                    0.0   \n",
       "2001-07-21 21:00:00                                    0.0   \n",
       "2001-07-21 22:00:00                                    0.0   \n",
       "2001-07-21 23:00:00                                    0.0   \n",
       "\n",
       "object_name                                                                  \\\n",
       "quantity            Zone Mean Radiant Temperature Zone Mean Air Temperature   \n",
       "unit                                            C                         C   \n",
       "value_type                                  value                     value   \n",
       "time_periods                                                                  \n",
       "2001-07-21 00:00:00                     28.937338                 29.078608   \n",
       "2001-07-21 01:00:00                     28.651441                 28.792642   \n",
       "2001-07-21 02:00:00                     28.373799                 28.514800   \n",
       "2001-07-21 03:00:00                     28.097413                 28.239724   \n",
       "2001-07-21 04:00:00                     27.824289                 27.965695   \n",
       "2001-07-21 05:00:00                     27.884423                 27.869084   \n",
       "2001-07-21 06:00:00                     28.293311                 28.196468   \n",
       "2001-07-21 07:00:00                     28.660174                 28.553245   \n",
       "2001-07-21 08:00:00                     29.137345                 29.008742   \n",
       "2001-07-21 09:00:00                     29.639579                 29.511978   \n",
       "2001-07-21 10:00:00                     30.073677                 29.961188   \n",
       "2001-07-21 11:00:00                     30.406882                 30.322886   \n",
       "2001-07-21 12:00:00                     30.759938                 30.645376   \n",
       "2001-07-21 13:00:00                     31.167305                 31.069134   \n",
       "2001-07-21 14:00:00                     31.469155                 31.432703   \n",
       "2001-07-21 15:00:00                     31.597091                 31.645720   \n",
       "2001-07-21 16:00:00                     31.566222                 31.698019   \n",
       "2001-07-21 17:00:00                     31.427151                 31.625258   \n",
       "2001-07-21 18:00:00                     30.919250                 31.213699   \n",
       "2001-07-21 19:00:00                     30.355968                 30.522148   \n",
       "2001-07-21 20:00:00                     30.062035                 30.185398   \n",
       "2001-07-21 21:00:00                     29.790208                 29.918432   \n",
       "2001-07-21 22:00:00                     29.513159                 29.644779   \n",
       "2001-07-21 23:00:00                     29.229786                 29.367261   \n",
       "\n",
       "object_name                                                        \\\n",
       "quantity            Zone Air Heat Balance Surface Convection Rate   \n",
       "unit                                                            W   \n",
       "value_type                                                  value   \n",
       "time_periods                                                        \n",
       "2001-07-21 00:00:00                                    -80.270372   \n",
       "2001-07-21 01:00:00                                    -78.199217   \n",
       "2001-07-21 02:00:00                                    -76.534127   \n",
       "2001-07-21 03:00:00                                    -76.959208   \n",
       "2001-07-21 04:00:00                                    -75.455838   \n",
       "2001-07-21 05:00:00                                     51.672674   \n",
       "2001-07-21 06:00:00                                     97.954192   \n",
       "2001-07-21 07:00:00                                    109.114371   \n",
       "2001-07-21 08:00:00                                    141.198483   \n",
       "2001-07-21 09:00:00                                    133.747271   \n",
       "2001-07-21 10:00:00                                    114.470362   \n",
       "2001-07-21 11:00:00                                     84.509771   \n",
       "2001-07-21 12:00:00                                    107.591241   \n",
       "2001-07-21 13:00:00                                    115.302069   \n",
       "2001-07-21 14:00:00                                     81.762830   \n",
       "2001-07-21 15:00:00                                     33.806320   \n",
       "2001-07-21 16:00:00                                      0.322972   \n",
       "2001-07-21 17:00:00                                    -52.468894   \n",
       "2001-07-21 18:00:00                                   -187.204548   \n",
       "2001-07-21 19:00:00                                   -138.182131   \n",
       "2001-07-21 20:00:00                                    -75.096593   \n",
       "2001-07-21 21:00:00                                    -75.400645   \n",
       "2001-07-21 22:00:00                                    -75.749160   \n",
       "2001-07-21 23:00:00                                    -78.759293   \n",
       "\n",
       "object_name                                                        \n",
       "quantity            Zone Air Heat Balance Air Energy Storage Rate  \n",
       "unit                                                            W  \n",
       "value_type                                                  value  \n",
       "time_periods                                                       \n",
       "2001-07-21 00:00:00                                    -80.214690  \n",
       "2001-07-21 01:00:00                                    -78.636711  \n",
       "2001-07-21 02:00:00                                    -76.740553  \n",
       "2001-07-21 03:00:00                                    -76.859981  \n",
       "2001-07-21 04:00:00                                    -75.775649  \n",
       "2001-07-21 05:00:00                                     27.556638  \n",
       "2001-07-21 06:00:00                                    101.616594  \n",
       "2001-07-21 07:00:00                                    104.621099  \n",
       "2001-07-21 08:00:00                                    138.350079  \n",
       "2001-07-21 09:00:00                                    135.955653  \n",
       "2001-07-21 10:00:00                                    117.110006  \n",
       "2001-07-21 11:00:00                                     88.615272  \n",
       "2001-07-21 12:00:00                                    100.623218  \n",
       "2001-07-21 13:00:00                                    117.796076  \n",
       "2001-07-21 14:00:00                                     86.913357  \n",
       "2001-07-21 15:00:00                                     40.340502  \n",
       "2001-07-21 16:00:00                                      2.922066  \n",
       "2001-07-21 17:00:00                                    -41.925806  \n",
       "2001-07-21 18:00:00                                   -166.830294  \n",
       "2001-07-21 19:00:00                                   -161.205685  \n",
       "2001-07-21 20:00:00                                    -75.033086  \n",
       "2001-07-21 21:00:00                                    -74.891961  \n",
       "2001-07-21 22:00:00                                    -75.906831  \n",
       "2001-07-21 23:00:00                                    -78.269391  "
      ]
     },
     "execution_count": 36,
     "metadata": {},
     "output_type": "execute_result"
    }
   ],
   "source": [
    "envs[0].get_interval_dataframe()"
   ]
  },
  {
   "cell_type": "markdown",
   "metadata": {},
   "source": [
    "## APPENDIX\n",
    "\n",
    "To create this notebook, the original '1ZoneUncontrolled.epJSON' file was read using the script below.This prints the code which can be used by the EPEpJSON class to recreate the file. From the printout below, the code was then copied into the cells in this notebook."
   ]
  },
  {
   "cell_type": "code",
   "execution_count": 37,
   "metadata": {},
   "outputs": [
    {
     "name": "stdout",
     "output_type": "stream",
     "text": [
      "j['Building'].add_object('Simple One Zone (Wireframe DXF)',\n",
      "                          loads_convergence_tolerance_value = 0.04,\n",
      "                          maximum_number_of_warmup_days = 30,\n",
      "                          minimum_number_of_warmup_days = 6,\n",
      "                          north_axis = 0,\n",
      "                          solar_distribution = 'MinimalShadowing',\n",
      "                          temperature_convergence_tolerance_value = 0.004,\n",
      "                          terrain = 'Suburbs',\n",
      "                          )\n",
      "j['BuildingSurface:Detailed'].add_object('Zn001:Flr001',\n",
      "                                          construction_name = 'FLOOR',\n",
      "                                          number_of_vertices = 4,\n",
      "                                          outside_boundary_condition = 'Adiabatic',\n",
      "                                          sun_exposure = 'NoSun',\n",
      "                                          surface_type = 'Floor',\n",
      "                                          vertices = [{'vertex_x_coordinate': 15.24, 'vertex_y_coordinate': 0.0, 'vertex_z_coordinate': 0.0}, {'vertex_x_coordinate': 0.0, 'vertex_y_coordinate': 0.0, 'vertex_z_coordinate': 0.0}, {'vertex_x_coordinate': 0.0, 'vertex_y_coordinate': 15.24, 'vertex_z_coordinate': 0.0}, {'vertex_x_coordinate': 15.24, 'vertex_y_coordinate': 15.24, 'vertex_z_coordinate': 0.0}],\n",
      "                                          view_factor_to_ground = 1.0,\n",
      "                                          wind_exposure = 'NoWind',\n",
      "                                          zone_name = 'ZONE ONE',\n",
      "                                          )\n",
      "j['BuildingSurface:Detailed'].add_object('Zn001:Roof001',\n",
      "                                          construction_name = 'ROOF31',\n",
      "                                          number_of_vertices = 4,\n",
      "                                          outside_boundary_condition = 'Outdoors',\n",
      "                                          sun_exposure = 'SunExposed',\n",
      "                                          surface_type = 'Roof',\n",
      "                                          vertices = [{'vertex_x_coordinate': 0.0, 'vertex_y_coordinate': 15.24, 'vertex_z_coordinate': 4.572}, {'vertex_x_coordinate': 0.0, 'vertex_y_coordinate': 0.0, 'vertex_z_coordinate': 4.572}, {'vertex_x_coordinate': 15.24, 'vertex_y_coordinate': 0.0, 'vertex_z_coordinate': 4.572}, {'vertex_x_coordinate': 15.24, 'vertex_y_coordinate': 15.24, 'vertex_z_coordinate': 4.572}],\n",
      "                                          view_factor_to_ground = 0,\n",
      "                                          wind_exposure = 'WindExposed',\n",
      "                                          zone_name = 'ZONE ONE',\n",
      "                                          )\n",
      "j['BuildingSurface:Detailed'].add_object('Zn001:Wall001',\n",
      "                                          construction_name = 'R13WALL',\n",
      "                                          number_of_vertices = 4,\n",
      "                                          outside_boundary_condition = 'Outdoors',\n",
      "                                          sun_exposure = 'SunExposed',\n",
      "                                          surface_type = 'Wall',\n",
      "                                          vertices = [{'vertex_x_coordinate': 0, 'vertex_y_coordinate': 0, 'vertex_z_coordinate': 4.572}, {'vertex_x_coordinate': 0, 'vertex_y_coordinate': 0, 'vertex_z_coordinate': 0}, {'vertex_x_coordinate': 15.24, 'vertex_y_coordinate': 0, 'vertex_z_coordinate': 0}, {'vertex_x_coordinate': 15.24, 'vertex_y_coordinate': 0, 'vertex_z_coordinate': 4.572}],\n",
      "                                          view_factor_to_ground = 0.5,\n",
      "                                          wind_exposure = 'WindExposed',\n",
      "                                          zone_name = 'ZONE ONE',\n",
      "                                          )\n",
      "j['BuildingSurface:Detailed'].add_object('Zn001:Wall002',\n",
      "                                          construction_name = 'R13WALL',\n",
      "                                          number_of_vertices = 4,\n",
      "                                          outside_boundary_condition = 'Outdoors',\n",
      "                                          sun_exposure = 'SunExposed',\n",
      "                                          surface_type = 'Wall',\n",
      "                                          vertices = [{'vertex_x_coordinate': 15.24, 'vertex_y_coordinate': 0, 'vertex_z_coordinate': 4.572}, {'vertex_x_coordinate': 15.24, 'vertex_y_coordinate': 0, 'vertex_z_coordinate': 0}, {'vertex_x_coordinate': 15.24, 'vertex_y_coordinate': 15.24, 'vertex_z_coordinate': 0}, {'vertex_x_coordinate': 15.24, 'vertex_y_coordinate': 15.24, 'vertex_z_coordinate': 4.572}],\n",
      "                                          view_factor_to_ground = 0.5,\n",
      "                                          wind_exposure = 'WindExposed',\n",
      "                                          zone_name = 'ZONE ONE',\n",
      "                                          )\n",
      "j['BuildingSurface:Detailed'].add_object('Zn001:Wall003',\n",
      "                                          construction_name = 'R13WALL',\n",
      "                                          number_of_vertices = 4,\n",
      "                                          outside_boundary_condition = 'Outdoors',\n",
      "                                          sun_exposure = 'SunExposed',\n",
      "                                          surface_type = 'Wall',\n",
      "                                          vertices = [{'vertex_x_coordinate': 15.24, 'vertex_y_coordinate': 15.24, 'vertex_z_coordinate': 4.572}, {'vertex_x_coordinate': 15.24, 'vertex_y_coordinate': 15.24, 'vertex_z_coordinate': 0}, {'vertex_x_coordinate': 0, 'vertex_y_coordinate': 15.24, 'vertex_z_coordinate': 0}, {'vertex_x_coordinate': 0, 'vertex_y_coordinate': 15.24, 'vertex_z_coordinate': 4.572}],\n",
      "                                          view_factor_to_ground = 0.5,\n",
      "                                          wind_exposure = 'WindExposed',\n",
      "                                          zone_name = 'ZONE ONE',\n",
      "                                          )\n",
      "j['BuildingSurface:Detailed'].add_object('Zn001:Wall004',\n",
      "                                          construction_name = 'R13WALL',\n",
      "                                          number_of_vertices = 4,\n",
      "                                          outside_boundary_condition = 'Outdoors',\n",
      "                                          sun_exposure = 'SunExposed',\n",
      "                                          surface_type = 'Wall',\n",
      "                                          vertices = [{'vertex_x_coordinate': 0, 'vertex_y_coordinate': 15.24, 'vertex_z_coordinate': 4.572}, {'vertex_x_coordinate': 0, 'vertex_y_coordinate': 15.24, 'vertex_z_coordinate': 0}, {'vertex_x_coordinate': 0, 'vertex_y_coordinate': 0, 'vertex_z_coordinate': 0}, {'vertex_x_coordinate': 0, 'vertex_y_coordinate': 0, 'vertex_z_coordinate': 4.572}],\n",
      "                                          view_factor_to_ground = 0.5,\n",
      "                                          wind_exposure = 'WindExposed',\n",
      "                                          zone_name = 'ZONE ONE',\n",
      "                                          )\n",
      "j['Construction'].add_object('FLOOR',\n",
      "                              outside_layer = 'C5 - 4 IN HW CONCRETE',\n",
      "                              )\n",
      "j['Construction'].add_object('R13WALL',\n",
      "                              outside_layer = 'R13LAYER',\n",
      "                              )\n",
      "j['Construction'].add_object('ROOF31',\n",
      "                              outside_layer = 'R31LAYER',\n",
      "                              )\n",
      "j['Exterior:Lights'].add_object('ExtLights',\n",
      "                                 control_option = 'AstronomicalClock',\n",
      "                                 design_level = 5250,\n",
      "                                 end_use_subcategory = 'Grounds Lights',\n",
      "                                 schedule_name = 'AlwaysOn',\n",
      "                                 )\n",
      "j['GlobalGeometryRules'].add_object('GlobalGeometryRules 1',\n",
      "                                     coordinate_system = 'World',\n",
      "                                     starting_vertex_position = 'UpperLeftCorner',\n",
      "                                     vertex_entry_direction = 'Counterclockwise',\n",
      "                                     )\n",
      "j['HeatBalanceAlgorithm'].add_object('HeatBalanceAlgorithm 1',\n",
      "                                      algorithm = 'ConductionTransferFunction',\n",
      "                                      )\n",
      "j['Material'].add_object('C5 - 4 IN HW CONCRETE',\n",
      "                          conductivity = 1.729577,\n",
      "                          density = 2242.585,\n",
      "                          roughness = 'MediumRough',\n",
      "                          solar_absorptance = 0.65,\n",
      "                          specific_heat = 836.8,\n",
      "                          thermal_absorptance = 0.9,\n",
      "                          thickness = 0.1014984,\n",
      "                          visible_absorptance = 0.65,\n",
      "                          )\n",
      "j['Material:NoMass'].add_object('R13LAYER',\n",
      "                                 roughness = 'Rough',\n",
      "                                 solar_absorptance = 0.75,\n",
      "                                 thermal_absorptance = 0.9,\n",
      "                                 thermal_resistance = 2.290965,\n",
      "                                 visible_absorptance = 0.75,\n",
      "                                 )\n",
      "j['Material:NoMass'].add_object('R31LAYER',\n",
      "                                 roughness = 'Rough',\n",
      "                                 solar_absorptance = 0.75,\n",
      "                                 thermal_absorptance = 0.9,\n",
      "                                 thermal_resistance = 5.456,\n",
      "                                 visible_absorptance = 0.75,\n",
      "                                 )\n",
      "j['OtherEquipment'].add_object('Test 352 minus',\n",
      "                                design_level = -352,\n",
      "                                design_level_calculation_method = 'EquipmentLevel',\n",
      "                                fraction_latent = 0,\n",
      "                                fraction_lost = 0,\n",
      "                                fraction_radiant = 0,\n",
      "                                fuel_type = 'None',\n",
      "                                schedule_name = 'AlwaysOn',\n",
      "                                zone_or_zonelist_name = 'ZONE ONE',\n",
      "                                )\n",
      "j['OtherEquipment'].add_object('Test 352a',\n",
      "                                design_level = 352,\n",
      "                                design_level_calculation_method = 'EquipmentLevel',\n",
      "                                fraction_latent = 0,\n",
      "                                fraction_lost = 0,\n",
      "                                fraction_radiant = 0,\n",
      "                                fuel_type = 'None',\n",
      "                                schedule_name = 'AlwaysOn',\n",
      "                                zone_or_zonelist_name = 'ZONE ONE',\n",
      "                                )\n",
      "j['Output:Constructions'].add_object('Output:Constructions 1',\n",
      "                                      details_type_1 = 'Constructions',\n",
      "                                      )\n",
      "j['Output:Meter:MeterFileOnly'].add_object('Output:Meter:MeterFileOnly 1',\n",
      "                                            key_name = 'ExteriorLights:Electricity',\n",
      "                                            reporting_frequency = 'Hourly',\n",
      "                                            )\n",
      "j['Output:Meter:MeterFileOnly'].add_object('Output:Meter:MeterFileOnly 2',\n",
      "                                            key_name = 'EnergyTransfer:Building',\n",
      "                                            reporting_frequency = 'Hourly',\n",
      "                                            )\n",
      "j['Output:Meter:MeterFileOnly'].add_object('Output:Meter:MeterFileOnly 3',\n",
      "                                            key_name = 'EnergyTransfer:Facility',\n",
      "                                            reporting_frequency = 'Hourly',\n",
      "                                            )\n",
      "j['Output:Surfaces:Drawing'].add_object('Output:Surfaces:Drawing 1',\n",
      "                                         report_type = 'DXF:WireFrame',\n",
      "                                         )\n",
      "j['Output:Table:SummaryReports'].add_object('Output:Table:SummaryReports 1',\n",
      "                                             reports = [{'report_name': 'AllSummary'}],\n",
      "                                             )\n",
      "j['Output:Variable'].add_object('Output:Variable 1',\n",
      "                                 key_value = '*',\n",
      "                                 reporting_frequency = 'Hourly',\n",
      "                                 variable_name = 'Site Outdoor Air Drybulb Temperature',\n",
      "                                 )\n",
      "j['Output:Variable'].add_object('Output:Variable 2',\n",
      "                                 key_value = '*',\n",
      "                                 reporting_frequency = 'Daily',\n",
      "                                 variable_name = 'Site Daylight Saving Time Status',\n",
      "                                 )\n",
      "j['Output:Variable'].add_object('Output:Variable 3',\n",
      "                                 key_value = '*',\n",
      "                                 reporting_frequency = 'Daily',\n",
      "                                 variable_name = 'Site Day Type Index',\n",
      "                                 )\n",
      "j['Output:Variable'].add_object('Output:Variable 4',\n",
      "                                 key_value = '*',\n",
      "                                 reporting_frequency = 'Hourly',\n",
      "                                 variable_name = 'Zone Mean Air Temperature',\n",
      "                                 )\n",
      "j['Output:Variable'].add_object('Output:Variable 5',\n",
      "                                 key_value = '*',\n",
      "                                 reporting_frequency = 'Hourly',\n",
      "                                 variable_name = 'Zone Total Internal Latent Gain Energy',\n",
      "                                 )\n",
      "j['Output:Variable'].add_object('Output:Variable 6',\n",
      "                                 key_value = '*',\n",
      "                                 reporting_frequency = 'Hourly',\n",
      "                                 variable_name = 'Zone Mean Radiant Temperature',\n",
      "                                 )\n",
      "j['Output:Variable'].add_object('Output:Variable 7',\n",
      "                                 key_value = '*',\n",
      "                                 reporting_frequency = 'Hourly',\n",
      "                                 variable_name = 'Zone Air Heat Balance Surface Convection Rate',\n",
      "                                 )\n",
      "j['Output:Variable'].add_object('Output:Variable 8',\n",
      "                                 key_value = '*',\n",
      "                                 reporting_frequency = 'Hourly',\n",
      "                                 variable_name = 'Zone Air Heat Balance Air Energy Storage Rate',\n",
      "                                 )\n",
      "j['Output:Variable'].add_object('Output:Variable 9',\n",
      "                                 key_value = '*',\n",
      "                                 reporting_frequency = 'Daily',\n",
      "                                 variable_name = 'Surface Inside Face Temperature',\n",
      "                                 )\n",
      "j['Output:Variable'].add_object('Output:Variable 10',\n",
      "                                 key_value = '*',\n",
      "                                 reporting_frequency = 'Daily',\n",
      "                                 variable_name = 'Surface Outside Face Temperature',\n",
      "                                 )\n",
      "j['Output:Variable'].add_object('Output:Variable 11',\n",
      "                                 key_value = '*',\n",
      "                                 reporting_frequency = 'Daily',\n",
      "                                 variable_name = 'Surface Inside Face Convection Heat Transfer Coefficient',\n",
      "                                 )\n",
      "j['Output:Variable'].add_object('Output:Variable 12',\n",
      "                                 key_value = '*',\n",
      "                                 reporting_frequency = 'Daily',\n",
      "                                 variable_name = 'Surface Outside Face Convection Heat Transfer Coefficient',\n",
      "                                 )\n",
      "j['Output:Variable'].add_object('Output:Variable 13',\n",
      "                                 key_value = '*',\n",
      "                                 reporting_frequency = 'Monthly',\n",
      "                                 variable_name = 'Other Equipment Total Heating Energy',\n",
      "                                 )\n",
      "j['Output:Variable'].add_object('Output:Variable 14',\n",
      "                                 key_value = '*',\n",
      "                                 reporting_frequency = 'Monthly',\n",
      "                                 variable_name = 'Zone Other Equipment Total Heating Energy',\n",
      "                                 )\n",
      "j['Output:VariableDictionary'].add_object('Output:VariableDictionary 1',\n",
      "                                           key_field = 'IDF',\n",
      "                                           )\n",
      "j['OutputControl:Table:Style'].add_object('OutputControl:Table:Style 1',\n",
      "                                           column_separator = 'All',\n",
      "                                           )\n",
      "j['RunPeriod'].add_object('Run Period 1',\n",
      "                           apply_weekend_holiday_rule = 'No',\n",
      "                           begin_day_of_month = 1,\n",
      "                           begin_month = 1,\n",
      "                           day_of_week_for_start_day = 'Tuesday',\n",
      "                           end_day_of_month = 31,\n",
      "                           end_month = 12,\n",
      "                           use_weather_file_daylight_saving_period = 'Yes',\n",
      "                           use_weather_file_holidays_and_special_days = 'Yes',\n",
      "                           use_weather_file_rain_indicators = 'Yes',\n",
      "                           use_weather_file_snow_indicators = 'Yes',\n",
      "                           )\n",
      "j['Schedule:Constant'].add_object('AlwaysOn',\n",
      "                                   hourly_value = 1.0,\n",
      "                                   schedule_type_limits_name = 'On/Off',\n",
      "                                   )\n",
      "j['ScheduleTypeLimits'].add_object('Fraction',\n",
      "                                    lower_limit_value = 0.0,\n",
      "                                    numeric_type = 'Continuous',\n",
      "                                    upper_limit_value = 1.0,\n",
      "                                    )\n",
      "j['ScheduleTypeLimits'].add_object('On/Off',\n",
      "                                    lower_limit_value = 0,\n",
      "                                    numeric_type = 'Discrete',\n",
      "                                    upper_limit_value = 1,\n",
      "                                    )\n",
      "j['SimulationControl'].add_object('SimulationControl 1',\n",
      "                                   do_hvac_sizing_simulation_for_sizing_periods = 'No',\n",
      "                                   do_plant_sizing_calculation = 'No',\n",
      "                                   do_system_sizing_calculation = 'No',\n",
      "                                   do_zone_sizing_calculation = 'No',\n",
      "                                   maximum_number_of_hvac_sizing_simulation_passes = 1,\n",
      "                                   run_simulation_for_sizing_periods = 'Yes',\n",
      "                                   run_simulation_for_weather_file_run_periods = 'Yes',\n",
      "                                   )\n",
      "j['Site:Location'].add_object('Denver Centennial  Golden   N_CO_USA Design_Conditions',\n",
      "                               elevation = 1829.0,\n",
      "                               latitude = 39.74,\n",
      "                               longitude = -105.18,\n",
      "                               time_zone = -7.0,\n",
      "                               )\n",
      "j['SizingPeriod:DesignDay'].add_object('Denver Centennial  Golden   N Ann Clg 1% Condns DB=>MWB',\n",
      "                                        barometric_pressure = 81198.0,\n",
      "                                        daily_dry_bulb_temperature_range = 15.2,\n",
      "                                        day_of_month = 21,\n",
      "                                        day_type = 'SummerDesignDay',\n",
      "                                        daylight_saving_time_indicator = 'No',\n",
      "                                        humidity_condition_type = 'WetBulb',\n",
      "                                        maximum_dry_bulb_temperature = 32,\n",
      "                                        month = 7,\n",
      "                                        rain_indicator = 'No',\n",
      "                                        sky_clearness = 1.0,\n",
      "                                        snow_indicator = 'No',\n",
      "                                        solar_model_indicator = 'ASHRAEClearSky',\n",
      "                                        wetbulb_or_dewpoint_at_maximum_dry_bulb = 15.5,\n",
      "                                        wind_direction = 0,\n",
      "                                        wind_speed = 4.9,\n",
      "                                        )\n",
      "j['SizingPeriod:DesignDay'].add_object('Denver Centennial  Golden   N Ann Htg 99% Condns DB',\n",
      "                                        barometric_pressure = 81198.0,\n",
      "                                        daily_dry_bulb_temperature_range = 0.0,\n",
      "                                        day_of_month = 21,\n",
      "                                        day_type = 'WinterDesignDay',\n",
      "                                        daylight_saving_time_indicator = 'No',\n",
      "                                        humidity_condition_type = 'WetBulb',\n",
      "                                        maximum_dry_bulb_temperature = -15.5,\n",
      "                                        month = 12,\n",
      "                                        rain_indicator = 'No',\n",
      "                                        sky_clearness = 0.0,\n",
      "                                        snow_indicator = 'No',\n",
      "                                        solar_model_indicator = 'ASHRAEClearSky',\n",
      "                                        wetbulb_or_dewpoint_at_maximum_dry_bulb = -15.5,\n",
      "                                        wind_direction = 340,\n",
      "                                        wind_speed = 3,\n",
      "                                        )\n",
      "j['SurfaceConvectionAlgorithm:Inside'].add_object('SurfaceConvectionAlgorithm:Inside 1',\n",
      "                                                   algorithm = 'TARP',\n",
      "                                                   )\n",
      "j['SurfaceConvectionAlgorithm:Outside'].add_object('SurfaceConvectionAlgorithm:Outside 1',\n",
      "                                                    algorithm = 'DOE-2',\n",
      "                                                    )\n",
      "j['Timestep'].add_object('Timestep 1',\n",
      "                          number_of_timesteps_per_hour = 4,\n",
      "                          )\n",
      "j['Version'].add_object('Version 1',\n",
      "                         version_identifier = '9.4',\n",
      "                         )\n",
      "j['Zone'].add_object('ZONE ONE',\n",
      "                      ceiling_height = 'Autocalculate',\n",
      "                      direction_of_relative_north = 0,\n",
      "                      multiplier = 1,\n",
      "                      type = 1,\n",
      "                      volume = 'Autocalculate',\n",
      "                      x_origin = 0,\n",
      "                      y_origin = 0,\n",
      "                      z_origin = 0,\n",
      "                      )\n"
     ]
    }
   ],
   "source": [
    "# loads a .epJSON file and print the equivalent code\n",
    "j=EPEpJSON(r'input_files\\1ZoneUncontrolled.epJSON')\n",
    "for k,v in j._dict.items():\n",
    "    for k1,v1 in v.items():\n",
    "        print(\"j['%s'].add_object('%s',\" % (k,k1))\n",
    "        for k2,v2 in v1.items():\n",
    "            print(\"%s%s = %s%s%s,\" % (\" \" * (len(\"j['%s'].add_object(\" % k) + 1),\n",
    "                                      k2,\n",
    "                                      \"'\" if isinstance(v2,str) else \"\",\n",
    "                                                              v2,\n",
    "                                                              \"'\" if isinstance(v2,str) else \"\"))\n",
    "        print(\"%s)\" % (\" \" * (len(\"j['%s'].add_object(\" % k) + 1)))"
   ]
  },
  {
   "cell_type": "code",
   "execution_count": null,
   "metadata": {},
   "outputs": [],
   "source": []
  }
 ],
 "metadata": {
  "kernelspec": {
   "display_name": "Python 3",
   "language": "python",
   "name": "python3"
  },
  "language_info": {
   "codemirror_mode": {
    "name": "ipython",
    "version": 3
   },
   "file_extension": ".py",
   "mimetype": "text/x-python",
   "name": "python",
   "nbconvert_exporter": "python",
   "pygments_lexer": "ipython3",
   "version": "3.7.7"
  }
 },
 "nbformat": 4,
 "nbformat_minor": 4
}
