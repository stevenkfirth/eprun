{
 "cells": [
  {
   "cell_type": "markdown",
   "metadata": {},
   "source": [
    "# Running an EnergyPlus simulation on the 1ZoneUncontrolled file"
   ]
  },
  {
   "cell_type": "markdown",
   "metadata": {},
   "source": [
    "## 1. Introduction\n",
    "\n",
    "This notebook shows how to use the [`runsim`] function within the [eprun package] to run an EnergyPlus simulation. It uses the **'1ZoneUncontrolled.idf'** file in the EnergyPlus example files.\n",
    "\n",
    "[`runsim`]: https://eprun.readthedocs.io/en/latest/runsim_function.html\n",
    "[eprun package]: https://eprun.readthedocs.io/en/latest/index.html"
   ]
  },
  {
   "cell_type": "markdown",
   "metadata": {},
   "source": [
    "## 2. Setup\n",
    "\n",
    "### 2.1 Module imports\n",
    "\n",
    "This imports the `runsim` function from the eprun package, as well as the [os package](https://docs.python.org/3/library/os.html) for working with files.\n"
   ]
  },
  {
   "cell_type": "code",
   "execution_count": 1,
   "metadata": {},
   "outputs": [],
   "source": [
    "from eprun import runsim\n",
    "import os"
   ]
  },
  {
   "cell_type": "markdown",
   "metadata": {},
   "source": [
    "### 2.2 Simulation input files\n",
    "\n",
    "A directory named **'input_files'** has been created in the same directory as this notebook. An .idf and .epw file have been placed in the **input_files** directory. These are the input files for the EnergyPlus simulation.\n",
    "\n",
    "* The **'1ZoneUncontrolled.idf'** file is provided in the 'ExampleFiles' directory in the EnergyPlus install directory and represents the model inputs for a single zone, heated building.\n",
    "\n",
    "* The **'USA_CO_Golden-NREL.724666_TMY3.epw'** file is an EnergyPlus weather file and is provided in the 'WeatherData' folder in the EnergyPlus install directory."
   ]
  },
  {
   "cell_type": "code",
   "execution_count": 2,
   "metadata": {},
   "outputs": [
    {
     "name": "stdout",
     "output_type": "stream",
     "text": [
      "1ZoneUncontrolled.idf\n",
      "USA_CO_Golden-NREL.724666_TMY3.epw\n"
     ]
    }
   ],
   "source": [
    "for file_name in os.listdir('input_files'):\n",
    "    print(file_name)"
   ]
  },
  {
   "cell_type": "markdown",
   "metadata": {},
   "source": [
    "### 2.3 Simulation directory for output files\n",
    "\n",
    "A directory named **'simulation_files'** has been created in the same directory as this notebook. This will hold the simulation results."
   ]
  },
  {
   "cell_type": "code",
   "execution_count": 3,
   "metadata": {},
   "outputs": [
    {
     "data": {
      "text/plain": [
       "True"
      ]
     },
     "execution_count": 3,
     "metadata": {},
     "output_type": "execute_result"
    }
   ],
   "source": [
    "'simulation_files' in os.listdir()"
   ]
  },
  {
   "cell_type": "markdown",
   "metadata": {},
   "source": [
    "## 3. Simulation run\n",
    "\n",
    "The `runsim` function is used to run the EnergyPlus simulation. The code below runs a simulation and returns an [`EPResult`] object.\n",
    "\n",
    "[`EPResult`]: https://eprun.readthedocs.io/en/latest/EPResult_class.html"
   ]
  },
  {
   "cell_type": "code",
   "execution_count": 5,
   "metadata": {},
   "outputs": [
    {
     "name": "stdout",
     "output_type": "stream",
     "text": [
      "<class 'eprun.eprun.EPResult'>\n"
     ]
    }
   ],
   "source": [
    "epresult=runsim(\n",
    "    ep_dir='C:\\EnergyPlusV9-6-0',\n",
    "    input_filepath=r'input_files\\1ZoneUncontrolled.idf',\n",
    "    epw_filepath=r'input_files\\USA_CO_Golden-NREL.724666_TMY3.epw',\n",
    "    sim_dir='simulation_files'\n",
    ")\n",
    "print(type(epresult))"
   ]
  },
  {
   "cell_type": "markdown",
   "metadata": {},
   "source": [
    "## 4. Checking for run success\n",
    "\n",
    "The simulation run was a success as the `returncode` property of the [`EPResult`] object is '0'. An unsuccessful run would have a `returncode` of '1'.\n",
    "\n",
    "[`EPResult`]: https://eprun.readthedocs.io/en/latest/EPResult_class.html"
   ]
  },
  {
   "cell_type": "code",
   "execution_count": 6,
   "metadata": {},
   "outputs": [
    {
     "data": {
      "text/plain": [
       "0"
      ]
     },
     "execution_count": 6,
     "metadata": {},
     "output_type": "execute_result"
    }
   ],
   "source": [
    "epresult.returncode"
   ]
  },
  {
   "cell_type": "markdown",
   "metadata": {},
   "source": [
    "## 5. Viewing the simulation CommandPrompt text\n",
    "\n",
    "When an EnergyPlus simulation is run in the CommandPrompt it produces a stream of text as it runs through the stages of the simulation. This text can be viewed by using the `stdout` property of the [`EPResult`] object.\n",
    "\n",
    "[`EPResult`]: https://eprun.readthedocs.io/en/latest/EPResult_class.html"
   ]
  },
  {
   "cell_type": "code",
   "execution_count": 7,
   "metadata": {
    "scrolled": false
   },
   "outputs": [
    {
     "name": "stdout",
     "output_type": "stream",
     "text": [
      "EnergyPlus Starting\r\n",
      "EnergyPlus, Version 9.6.0-f420c06a69, YMD=2022.03.09 05:55\r\n",
      "Adjusting Air System Sizing\n",
      "Adjusting Standard 62.1 Ventilation Sizing\n",
      "Initializing Simulation\n",
      "Reporting Surfaces\n",
      "Beginning Primary Simulation\n",
      "Initializing New Environment Parameters\n",
      "Warming up {1}\n",
      "Warming up {2}\n",
      "Warming up {3}\n",
      "Warming up {4}\n",
      "Warming up {5}\n",
      "Warming up {6}\n",
      "Warming up {7}\n",
      "Warming up {8}\n",
      "Warming up {9}\n",
      "Warming up {10}\n",
      "Warming up {11}\n",
      "Warming up {12}\n",
      "Warming up {13}\n",
      "Warming up {14}\n",
      "Warming up {15}\n",
      "Warming up {16}\n",
      "Warming up {17}\n",
      "Warming up {18}\n",
      "Warming up {19}\n",
      "Warming up {20}\n",
      "Warming up {21}\n",
      "Warming up {22}\n",
      "Starting Simulation at 12/21 for DENVER CENTENNIAL  GOLDEN   N ANN HTG 99% CONDNS DB\n",
      "Initializing New Environment Parameters\n",
      "Warming up {1}\n",
      "Warming up {2}\n",
      "Warming up {3}\n",
      "Warming up {4}\n",
      "Warming up {5}\n",
      "Warming up {6}\n",
      "Warming up {7}\n",
      "Warming up {8}\n",
      "Warming up {9}\n",
      "Warming up {10}\n",
      "Warming up {11}\n",
      "Warming up {12}\n",
      "Warming up {13}\n",
      "Warming up {14}\n",
      "Warming up {15}\n",
      "Warming up {16}\n",
      "Starting Simulation at 07/21 for DENVER CENTENNIAL  GOLDEN   N ANN CLG 1% CONDNS DB=>MWB\n",
      "Initializing New Environment Parameters\n",
      "Warming up {1}\n",
      "Warming up {2}\n",
      "Warming up {3}\n",
      "Warming up {4}\n",
      "Warming up {5}\n",
      "Warming up {6}\n",
      "Warming up {7}\n",
      "Warming up {8}\n",
      "Warming up {9}\n",
      "Warming up {10}\n",
      "Warming up {11}\n",
      "Warming up {12}\n",
      "Warming up {13}\n",
      "Warming up {14}\n",
      "Warming up {15}\n",
      "Warming up {16}\n",
      "Warming up {17}\n",
      "Warming up {18}\n",
      "Warming up {19}\n",
      "Warming up {20}\n",
      "Starting Simulation at 01/01/2013 for RUN PERIOD 1\n",
      "Updating Shadowing Calculations, Start Date=01/21/2013\n",
      "Continuing Simulation at 01/21/2013 for RUN PERIOD 1\n",
      "Updating Shadowing Calculations, Start Date=02/10/2013\n",
      "Continuing Simulation at 02/10/2013 for RUN PERIOD 1\n",
      "Updating Shadowing Calculations, Start Date=03/02/2013\n",
      "Continuing Simulation at 03/02/2013 for RUN PERIOD 1\n",
      "Updating Shadowing Calculations, Start Date=03/22/2013\n",
      "Continuing Simulation at 03/22/2013 for RUN PERIOD 1\n",
      "Updating Shadowing Calculations, Start Date=04/11/2013\n",
      "Continuing Simulation at 04/11/2013 for RUN PERIOD 1\n",
      "Updating Shadowing Calculations, Start Date=05/01/2013\n",
      "Continuing Simulation at 05/01/2013 for RUN PERIOD 1\n",
      "Updating Shadowing Calculations, Start Date=05/21/2013\n",
      "Continuing Simulation at 05/21/2013 for RUN PERIOD 1\n",
      "Updating Shadowing Calculations, Start Date=06/10/2013\n",
      "Continuing Simulation at 06/10/2013 for RUN PERIOD 1\n",
      "Updating Shadowing Calculations, Start Date=06/30/2013\n",
      "Continuing Simulation at 06/30/2013 for RUN PERIOD 1\n",
      "Updating Shadowing Calculations, Start Date=07/20/2013\n",
      "Continuing Simulation at 07/20/2013 for RUN PERIOD 1\n",
      "Updating Shadowing Calculations, Start Date=08/09/2013\n",
      "Continuing Simulation at 08/09/2013 for RUN PERIOD 1\n",
      "Updating Shadowing Calculations, Start Date=08/29/2013\n",
      "Continuing Simulation at 08/29/2013 for RUN PERIOD 1\n",
      "Updating Shadowing Calculations, Start Date=09/18/2013\n",
      "Continuing Simulation at 09/18/2013 for RUN PERIOD 1\n",
      "Updating Shadowing Calculations, Start Date=10/08/2013\n",
      "Continuing Simulation at 10/08/2013 for RUN PERIOD 1\n",
      "Updating Shadowing Calculations, Start Date=10/28/2013\n",
      "Continuing Simulation at 10/28/2013 for RUN PERIOD 1\n",
      "Updating Shadowing Calculations, Start Date=11/17/2013\n",
      "Continuing Simulation at 11/17/2013 for RUN PERIOD 1\n",
      "Updating Shadowing Calculations, Start Date=12/07/2013\n",
      "Continuing Simulation at 12/07/2013 for RUN PERIOD 1\n",
      "Updating Shadowing Calculations, Start Date=12/27/2013\n",
      "Continuing Simulation at 12/27/2013 for RUN PERIOD 1\n",
      "Writing tabular output file results using comma format.\n",
      "Writing tabular output file results using tab format.\n",
      "Writing tabular output file results using text format.\n",
      "Writing tabular output file results using HTML format.\n",
      "Writing tabular output file results using XML format.\n",
      "EnergyPlus Run Time=00hr 00min  0.64sec\n",
      "\n"
     ]
    }
   ],
   "source": [
    "print(epresult.stdout)"
   ]
  },
  {
   "cell_type": "markdown",
   "metadata": {},
   "source": [
    "## 6. Checking the output files\n",
    "\n",
    "The output files of the simulation run are placed in the **simulation_files** directory."
   ]
  },
  {
   "cell_type": "code",
   "execution_count": 8,
   "metadata": {},
   "outputs": [
    {
     "name": "stdout",
     "output_type": "stream",
     "text": [
      "eplusout.audit\n",
      "eplusout.bnd\n",
      "eplusout.dxf\n",
      "eplusout.eio\n",
      "eplusout.end\n",
      "eplusout.err\n",
      "eplusout.eso\n",
      "eplusout.mdd\n",
      "eplusout.mtd\n",
      "eplusout.mtr\n",
      "eplusout.rdd\n",
      "eplusout.shd\n",
      "eplustbl.csv\n",
      "eplustbl.htm\n",
      "eplustbl.tab\n",
      "eplustbl.txt\n",
      "eplustbl.xml\n"
     ]
    }
   ],
   "source": [
    "for file_name in os.listdir('simulation_files'):\n",
    "    print(file_name)"
   ]
  },
  {
   "cell_type": "markdown",
   "metadata": {},
   "source": [
    "## 7. Viewing the results\n",
    "\n",
    "The [`EPResult`] object contains methods to view, plot and export the results of the simulation.\n",
    "\n",
    "For example, the code below plots a graph of the **hourly zone mean air temperature** in the zone **'ZONE ONE'** over the 12 month simulation period:\n",
    "\n",
    "[`EPResult`]: https://eprun.readthedocs.io/en/latest/EPResult_class.html"
   ]
  },
  {
   "cell_type": "code",
   "execution_count": 12,
   "metadata": {},
   "outputs": [
    {
     "data": {
      "image/png": "[encoded data removed]",
      "text/plain": [
       "<Figure size 1152x288 with 1 Axes>"
      ]
     },
     "metadata": {
      "needs_background": "light"
     },
     "output_type": "display_data"
    }
   ],
   "source": [
    "%matplotlib inline\n",
    "import matplotlib.pyplot as plt\n",
    "ax=epresult.get_eso().get_environment('RUN PERIOD 1').get_interval_variable(77).plot()"
   ]
  },
  {
   "cell_type": "markdown",
   "metadata": {},
   "source": [
    "## 8. More details"
   ]
  },
  {
   "cell_type": "markdown",
   "metadata": {},
   "source": [
    "For more details on viewing the results of simulations, see the [Viewing the results of the 1ZoneUncontrolled simulation run] Jupyter Notebook.\n",
    "\n",
    "[Viewing the results of the 1ZoneUncontrolled simulation run]: https://nbviewer.jupyter.org/github/stevenkfirth/eprun/blob/main/examples/Viewing%20the%20results%20of%20the%201ZoneUncontrolled%20simulation%20run/Viewing%20the%20results%20of%20the%201ZoneUncontrolled%20simulation%20run.ipynb"
   ]
  }
 ],
 "metadata": {
  "kernelspec": {
   "display_name": "Python 3 (ipykernel)",
   "language": "python",
   "name": "python3"
  },
  "language_info": {
   "codemirror_mode": {
    "name": "ipython",
    "version": 3
   },
   "file_extension": ".py",
   "mimetype": "text/x-python",
   "name": "python",
   "nbconvert_exporter": "python",
   "pygments_lexer": "ipython3",
   "version": "3.9.7"
  }
 },
 "nbformat": 4,
 "nbformat_minor": 4
}
