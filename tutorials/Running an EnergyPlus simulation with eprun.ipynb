{
 "cells": [
  {
   "cell_type": "markdown",
   "metadata": {},
   "source": [
    "# Running an EnergyPlus simulation with eprun"
   ]
  },
  {
   "cell_type": "markdown",
   "metadata": {},
   "source": [
    "## Introduction\n",
    "\n",
    "This notebook shows how to use the `eprun` function within the `eprun` package to run an EnergyPlus simulation."
   ]
  },
  {
   "cell_type": "markdown",
   "metadata": {},
   "source": [
    "## Setup\n",
    "\n",
    "### Package imports\n",
    "\n",
    "This imports the `eprun` function from the `eprun` package, as well as the `os` package for working with files."
   ]
  },
  {
   "cell_type": "code",
   "execution_count": 2,
   "metadata": {},
   "outputs": [],
   "source": [
    "from eprun import eprun\n",
    "import os"
   ]
  },
  {
   "cell_type": "markdown",
   "metadata": {},
   "source": [
    "### Input files\n",
    "\n",
    "A directory named 'my_input_files' has been created in the same directory as this notebook. An .idf and .epw file have been placed in the 'my_input_files' directory. These are the input files for the EnergyPlus simulation."
   ]
  },
  {
   "cell_type": "code",
   "execution_count": 5,
   "metadata": {},
   "outputs": [
    {
     "name": "stdout",
     "output_type": "stream",
     "text": [
      "1ZoneUncontrolled.idf\n",
      "USA_CA_San.Francisco.Intl.AP.724940_TMY3.epw\n"
     ]
    }
   ],
   "source": [
    "for file_name in os.listdir('my_input_files'):\n",
    "    print(file_name)"
   ]
  },
  {
   "cell_type": "markdown",
   "metadata": {},
   "source": [
    "### Simulation directory\n",
    "\n",
    "A directory named 'my_results' has been created in the same directory as this notebook. This will hold the simulation results."
   ]
  },
  {
   "cell_type": "code",
   "execution_count": 6,
   "metadata": {},
   "outputs": [
    {
     "name": "stdout",
     "output_type": "stream",
     "text": [
      ".\\my_results\n"
     ]
    }
   ],
   "source": [
    "for x in os.walk('.'):\n",
    "    if 'my_results' in x[0]:\n",
    "        print(x[0])"
   ]
  },
  {
   "cell_type": "markdown",
   "metadata": {},
   "source": [
    "## Simulation run\n",
    "\n",
    "The eprun function is used to run the EnergyPlus simulation. The code below runs a simulation and returns an EPResult object."
   ]
  },
  {
   "cell_type": "code",
   "execution_count": 7,
   "metadata": {},
   "outputs": [
    {
     "name": "stdout",
     "output_type": "stream",
     "text": [
      "<class 'eprun.epresult.EPResult'>\n"
     ]
    }
   ],
   "source": [
    "epresult=eprun(ep_dir='C:\\EnergyPlusV9-4-0',\n",
    "               idf_filepath=r'my_input_files\\1ZoneUncontrolled.idf',\n",
    "               epw_filepath=r'my_input_files\\USA_CA_San.Francisco.Intl.AP.724940_TMY3.epw',\n",
    "               sim_dir='my_results')\n",
    "print(type(epresult))"
   ]
  },
  {
   "cell_type": "markdown",
   "metadata": {},
   "source": [
    "## Checking for run success\n",
    "\n",
    "The simulation run was a success as the `returncode` property of the `EPResult` object is '0'. A '1' would indicate an unsuccessful run."
   ]
  },
  {
   "cell_type": "code",
   "execution_count": 8,
   "metadata": {},
   "outputs": [
    {
     "data": {
      "text/plain": [
       "0"
      ]
     },
     "execution_count": 8,
     "metadata": {},
     "output_type": "execute_result"
    }
   ],
   "source": [
    "epresult.returncode"
   ]
  },
  {
   "cell_type": "markdown",
   "metadata": {},
   "source": [
    "## Viewing the simulation text\n",
    "\n",
    "When an EnergyPlus simulation is run in the CommandPrompt it produces a stream of text as it runs through the stages of the simulation. This text can be viewed by using the `stdout` property of the `EPResult` object."
   ]
  },
  {
   "cell_type": "code",
   "execution_count": 9,
   "metadata": {
    "scrolled": false
   },
   "outputs": [
    {
     "name": "stdout",
     "output_type": "stream",
     "text": [
      "EnergyPlus Starting\r\n",
      "EnergyPlus, Version 9.4.0-998c4b761e, YMD=2020.12.18 08:14\r\n",
      "Adjusting Air System Sizing\n",
      "Adjusting Standard 62.1 Ventilation Sizing\n",
      "Initializing Simulation\n",
      "Reporting Surfaces\n",
      "Beginning Primary Simulation\n",
      "Initializing New Environment Parameters\n",
      "Warming up {1}\n",
      "Warming up {2}\n",
      "Warming up {3}\n",
      "Warming up {4}\n",
      "Warming up {5}\n",
      "Warming up {6}\n",
      "Warming up {7}\n",
      "Warming up {8}\n",
      "Warming up {9}\n",
      "Warming up {10}\n",
      "Warming up {11}\n",
      "Warming up {12}\n",
      "Warming up {13}\n",
      "Warming up {14}\n",
      "Warming up {15}\n",
      "Warming up {16}\n",
      "Warming up {17}\n",
      "Warming up {18}\n",
      "Warming up {19}\n",
      "Warming up {20}\n",
      "Warming up {21}\n",
      "Warming up {22}\n",
      "Starting Simulation at 12/21 for DENVER CENTENNIAL  GOLDEN   N ANN HTG 99% CONDNS DB\n",
      "Initializing New Environment Parameters\n",
      "Warming up {1}\n",
      "Warming up {2}\n",
      "Warming up {3}\n",
      "Warming up {4}\n",
      "Warming up {5}\n",
      "Warming up {6}\n",
      "Warming up {7}\n",
      "Warming up {8}\n",
      "Warming up {9}\n",
      "Warming up {10}\n",
      "Warming up {11}\n",
      "Warming up {12}\n",
      "Warming up {13}\n",
      "Warming up {14}\n",
      "Warming up {15}\n",
      "Warming up {16}\n",
      "Starting Simulation at 07/21 for DENVER CENTENNIAL  GOLDEN   N ANN CLG 1% CONDNS DB=>MWB\n",
      "Initializing New Environment Parameters\n",
      "Warming up {1}\n",
      "Warming up {2}\n",
      "Warming up {3}\n",
      "Warming up {4}\n",
      "Warming up {5}\n",
      "Warming up {6}\n",
      "Warming up {7}\n",
      "Warming up {8}\n",
      "Warming up {9}\n",
      "Warming up {10}\n",
      "Warming up {11}\n",
      "Warming up {12}\n",
      "Warming up {13}\n",
      "Warming up {14}\n",
      "Warming up {15}\n",
      "Warming up {16}\n",
      "Warming up {17}\n",
      "Warming up {18}\n",
      "Starting Simulation at 01/01/2013 for RUN PERIOD 1\n",
      "Updating Shadowing Calculations, Start Date=01/21/2013\n",
      "Continuing Simulation at 01/21/2013 for RUN PERIOD 1\n",
      "Updating Shadowing Calculations, Start Date=02/10/2013\n",
      "Continuing Simulation at 02/10/2013 for RUN PERIOD 1\n",
      "Updating Shadowing Calculations, Start Date=03/02/2013\n",
      "Continuing Simulation at 03/02/2013 for RUN PERIOD 1\n",
      "Updating Shadowing Calculations, Start Date=03/22/2013\n",
      "Continuing Simulation at 03/22/2013 for RUN PERIOD 1\n",
      "Updating Shadowing Calculations, Start Date=04/11/2013\n",
      "Continuing Simulation at 04/11/2013 for RUN PERIOD 1\n",
      "Updating Shadowing Calculations, Start Date=05/01/2013\n",
      "Continuing Simulation at 05/01/2013 for RUN PERIOD 1\n",
      "Updating Shadowing Calculations, Start Date=05/21/2013\n",
      "Continuing Simulation at 05/21/2013 for RUN PERIOD 1\n",
      "Updating Shadowing Calculations, Start Date=06/10/2013\n",
      "Continuing Simulation at 06/10/2013 for RUN PERIOD 1\n",
      "Updating Shadowing Calculations, Start Date=06/30/2013\n",
      "Continuing Simulation at 06/30/2013 for RUN PERIOD 1\n",
      "Updating Shadowing Calculations, Start Date=07/20/2013\n",
      "Continuing Simulation at 07/20/2013 for RUN PERIOD 1\n",
      "Updating Shadowing Calculations, Start Date=08/09/2013\n",
      "Continuing Simulation at 08/09/2013 for RUN PERIOD 1\n",
      "Updating Shadowing Calculations, Start Date=08/29/2013\n",
      "Continuing Simulation at 08/29/2013 for RUN PERIOD 1\n",
      "Updating Shadowing Calculations, Start Date=09/18/2013\n",
      "Continuing Simulation at 09/18/2013 for RUN PERIOD 1\n",
      "Updating Shadowing Calculations, Start Date=10/08/2013\n",
      "Continuing Simulation at 10/08/2013 for RUN PERIOD 1\n",
      "Updating Shadowing Calculations, Start Date=10/28/2013\n",
      "Continuing Simulation at 10/28/2013 for RUN PERIOD 1\n",
      "Updating Shadowing Calculations, Start Date=11/17/2013\n",
      "Continuing Simulation at 11/17/2013 for RUN PERIOD 1\n",
      "Updating Shadowing Calculations, Start Date=12/07/2013\n",
      "Continuing Simulation at 12/07/2013 for RUN PERIOD 1\n",
      "Updating Shadowing Calculations, Start Date=12/27/2013\n",
      "Continuing Simulation at 12/27/2013 for RUN PERIOD 1\n",
      "Writing tabular output file results using comma format.\n",
      "Writing tabular output file results using tab format.\n",
      "Writing tabular output file results using text format.\n",
      "Writing tabular output file results using HTML format.\n",
      "Writing tabular output file results using XML format.\n",
      "EnergyPlus Run Time=00hr 00min  3.30sec\n",
      "\n"
     ]
    }
   ],
   "source": [
    "print(epresult.stdout)"
   ]
  },
  {
   "cell_type": "markdown",
   "metadata": {},
   "source": [
    "## The output files\n",
    "\n",
    "The output files of the simulation run are placed in the 'my_results' directory."
   ]
  },
  {
   "cell_type": "code",
   "execution_count": 10,
   "metadata": {},
   "outputs": [
    {
     "name": "stdout",
     "output_type": "stream",
     "text": [
      "eplusout.audit\n",
      "eplusout.bnd\n",
      "eplusout.dxf\n",
      "eplusout.eio\n",
      "eplusout.end\n",
      "eplusout.err\n",
      "eplusout.eso\n",
      "eplusout.mdd\n",
      "eplusout.mtd\n",
      "eplusout.mtr\n",
      "eplusout.rdd\n",
      "eplusout.shd\n",
      "eplustbl.csv\n",
      "eplustbl.htm\n",
      "eplustbl.tab\n",
      "eplustbl.txt\n",
      "eplustbl.xml\n"
     ]
    }
   ],
   "source": [
    "for file_name in os.listdir(r'.\\my_results'):\n",
    "    print(file_name)"
   ]
  },
  {
   "cell_type": "markdown",
   "metadata": {},
   "source": [
    "## The EPResult object\n",
    "\n",
    "The EPResult object returned by the `eprun` function contains properties and methods for accessing and viewing the output files. These are listed below and also explained fully in a separate notebook."
   ]
  },
  {
   "cell_type": "code",
   "execution_count": 11,
   "metadata": {},
   "outputs": [
    {
     "name": "stdout",
     "output_type": "stream",
     "text": [
      "files \t A dictionary of the results files from a successful EnergyPlus simulation.\n",
      "get_end \t Gets the .end output file.\n",
      "get_err \t Gets the .err output file.\n",
      "get_eso \t Gets the .eso output file.\n"
     ]
    }
   ],
   "source": [
    "for k,v in epresult.__class__.__dict__.items():\n",
    "    if not k.startswith('_') and not k in ['returncode','stdout']:\n",
    "        print(k, '\\t', v.__doc__.split('\\n')[0])"
   ]
  }
 ],
 "metadata": {
  "kernelspec": {
   "display_name": "Python 3",
   "language": "python",
   "name": "python3"
  },
  "language_info": {
   "codemirror_mode": {
    "name": "ipython",
    "version": 3
   },
   "file_extension": ".py",
   "mimetype": "text/x-python",
   "name": "python",
   "nbconvert_exporter": "python",
   "pygments_lexer": "ipython3",
   "version": "3.7.7"
  }
 },
 "nbformat": 4,
 "nbformat_minor": 4
}
