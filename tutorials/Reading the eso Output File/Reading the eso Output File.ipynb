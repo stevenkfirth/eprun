{
 "cells": [
  {
   "cell_type": "markdown",
   "metadata": {},
   "source": [
    "# Reading the eso Output File"
   ]
  },
  {
   "cell_type": "markdown",
   "metadata": {},
   "source": [
    "## 1. Introduction\n",
    "\n",
    "The .eso output file of an EnergyPlus simulation contains the main results of the simulation such as the hourly air temperatures or monthly energy consumption. \n",
    "The .eso file is a text file in a non-standard format.\n",
    "\n",
    "Some, but not all, of the contents of a .eso file can be viewed as a .csv file by including the `--readvars` argument when running an EnergyPlus simulation.\n",
    "This runs an additional programme after the main simulation which converts some contents in the .eso file to a .csv file. \n",
    "\n",
    "`eprun` provides the :py:class:`~eprun.epeso.EPEso` class to directly read the .eso file and avoid the need for the `--readvars` step.\n"
   ]
  },
  {
   "cell_type": "markdown",
   "metadata": {},
   "source": [
    "## 2. Accessing an EPEso object instance\n",
    "\n",
    "In `eprun` the contents of the .eso file are viewed using the :py:class:`~eprun.epeso.EPEso` class. \n",
    "A :py:class:`~eprun.epeso.EPEso` object instance is created from the results of an EnergyPlus simulation run using the :py:meth:`~eprun.eprun.eprun` function.\n",
    "\n",
    "This tutorial is based on the '1ZoneUncontrolled.idf' EnergyPlus input file which is provided in the 'ExampleFiles' directory of the EnergyPlus install directory.\n",
    "The simulation is run using the 'USA_CA_San.Francisco.Intl.AP.724940_TMY3.epw' EnergyPlus weather file.\n"
   ]
  },
  {
   "cell_type": "code",
   "execution_count": 1,
   "metadata": {},
   "outputs": [
    {
     "name": "stdout",
     "output_type": "stream",
     "text": [
      "<class 'eprun.epeso.EPEso'>\n"
     ]
    }
   ],
   "source": [
    "from eprun import eprun\n",
    "result=eprun(ep_dir='C:\\EnergyPlusV9-4-0',\n",
    "             idf_filepath='1ZoneUncontrolled.idf',\n",
    "             epw_filepath='USA_CA_San.Francisco.Intl.AP.724940_TMY3.epw',\n",
    "             sim_dir='my_results')\n",
    "eso=result.get_eso()\n",
    "print(type(eso))"
   ]
  },
  {
   "cell_type": "markdown",
   "metadata": {},
   "source": [
    "## 3. Understanding EPEso simulation environments\n",
    "\n",
    "An EnergyPlus input file can request that a simulation provide results for different 'simulation environments', \n",
    "such as a winter design day, a summer design day and a annual run period of hourly data.\n",
    "The results of these simulation environments are stored in the same .eso file.\n",
    "\n",
    "In our example, the '1ZoneUncontrolled.idf' contains the instructions for three simulation environments.\n",
    "These are accessed using the :py:meth:`~eprun.epeso.EPEso.get_environments` method which returns a list of \n",
    ":py:class:`~eprun.epeso_simulation_environment.EPEsoSimulationEnviroment` object instances."
   ]
  },
  {
   "cell_type": "code",
   "execution_count": 2,
   "metadata": {},
   "outputs": [
    {
     "name": "stdout",
     "output_type": "stream",
     "text": [
      "[EPEsoSimuationEnvironment(\"DENVER CENTENNIAL  GOLDEN   N ANN HTG 99% CONDNS DB\"), EPEsoSimuationEnvironment(\"DENVER CENTENNIAL  GOLDEN   N ANN CLG 1% CONDNS DB=>MWB\"), EPEsoSimuationEnvironment(\"RUN PERIOD 1\")]\n"
     ]
    }
   ],
   "source": [
    "envs=eso.get_environments()\n",
    "print(envs)"
   ]
  },
  {
   "cell_type": "code",
   "execution_count": 3,
   "metadata": {},
   "outputs": [
    {
     "name": "stdout",
     "output_type": "stream",
     "text": [
      "EPEsoSimuationEnvironment(\"RUN PERIOD 1\")\n"
     ]
    }
   ],
   "source": [
    "rp1=envs[2]\n",
    "print(rp1)"
   ]
  },
  {
   "cell_type": "code",
   "execution_count": 9,
   "metadata": {},
   "outputs": [
    {
     "name": "stdout",
     "output_type": "stream",
     "text": [
      "(EPEsoIntervalVariable(sim_env=\"RUN PERIOD 1\", report_code=7),\n",
      " EPEsoIntervalVariable(sim_env=\"RUN PERIOD 1\", report_code=47),\n",
      " EPEsoIntervalVariable(sim_env=\"RUN PERIOD 1\", report_code=74),\n",
      " EPEsoIntervalVariable(sim_env=\"RUN PERIOD 1\", report_code=75),\n",
      " EPEsoIntervalVariable(sim_env=\"RUN PERIOD 1\", report_code=76),\n",
      " EPEsoIntervalVariable(sim_env=\"RUN PERIOD 1\", report_code=77))\n"
     ]
    }
   ],
   "source": [
    "from pprint import pprint\n",
    "interval_variables=rp1.get_interval_variables()\n",
    "pprint(interval_variables)"
   ]
  },
  {
   "cell_type": "code",
   "execution_count": 15,
   "metadata": {},
   "outputs": [
    {
     "name": "stdout",
     "output_type": "stream",
     "text": [
      "Environment\n",
      "Site Outdoor Air Drybulb Temperature\n",
      "C\n",
      "(7.0125, 7.2, 6.8875, 6.324999999999999, 5.0375, 4.4, 5.4624999999999995, 5.4125, 6.750000000000001, 8.487499999999999, 9.2125, 9.775, 10.375, 10.9125, 12.85, 13.9, 12.15, 11.1, 10.7875, 10.6)\n"
     ]
    }
   ],
   "source": [
    "interval_variable_7=interval_variables[0]\n",
    "print(interval_variable_7.object_name)\n",
    "print(interval_variable_7.quantity)\n",
    "print(interval_variable_7.unit)\n",
    "print(interval_variable_7.values[0:20])"
   ]
  },
  {
   "cell_type": "code",
   "execution_count": null,
   "metadata": {},
   "outputs": [],
   "source": []
  },
  {
   "cell_type": "code",
   "execution_count": null,
   "metadata": {},
   "outputs": [],
   "source": []
  },
  {
   "cell_type": "code",
   "execution_count": null,
   "metadata": {},
   "outputs": [],
   "source": []
  }
 ],
 "metadata": {
  "kernelspec": {
   "display_name": "Python 3",
   "language": "python",
   "name": "python3"
  },
  "language_info": {
   "codemirror_mode": {
    "name": "ipython",
    "version": 3
   },
   "file_extension": ".py",
   "mimetype": "text/x-python",
   "name": "python",
   "nbconvert_exporter": "python",
   "pygments_lexer": "ipython3",
   "version": "3.7.7"
  }
 },
 "nbformat": 4,
 "nbformat_minor": 4
}
