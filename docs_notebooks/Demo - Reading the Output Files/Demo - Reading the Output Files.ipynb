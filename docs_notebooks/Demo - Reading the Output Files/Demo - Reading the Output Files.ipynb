{
 "cells": [
  {
   "cell_type": "markdown",
   "metadata": {},
   "source": [
    "# Demo - Reading the Output Files\n",
    "\n"
   ]
  },
  {
   "cell_type": "code",
   "execution_count": 7,
   "metadata": {},
   "outputs": [
    {
     "name": "stdout",
     "output_type": "stream",
     "text": [
      "<class 'eprun.eprun.EPResult'>\n"
     ]
    }
   ],
   "source": [
    "from eprun import runsim\n",
    "epresult=runsim(\n",
    "    ep_dir=r'C:\\EnergyPlusV9-6-0',\n",
    "    input_filepath=r'1ZoneUncontrolled.idf',\n",
    "    epw_filepath=r'USA_CO_Golden-NREL.724666_TMY3.epw',\n",
    "    sim_dir='simulation_files'\n",
    ")\n",
    "print(type(epresult))"
   ]
  },
  {
   "cell_type": "code",
   "execution_count": 8,
   "metadata": {},
   "outputs": [
    {
     "name": "stdout",
     "output_type": "stream",
     "text": [
      "['audit', 'bnd', 'dxf', 'eio', 'end', 'err', 'eso', 'mdd', 'mtd', 'mtr', 'rdd', 'shd', 'csv', 'htm', 'tab', 'txt', 'xml']\n"
     ]
    }
   ],
   "source": [
    "print(list(epresult.files.keys())) "
   ]
  },
  {
   "cell_type": "code",
   "execution_count": 9,
   "metadata": {},
   "outputs": [
    {
     "name": "stdout",
     "output_type": "stream",
     "text": [
      "<class 'eprun.eprun.EPEnd'>\n"
     ]
    }
   ],
   "source": [
    "end=epresult.get_end()\n",
    "print(type(end))"
   ]
  },
  {
   "cell_type": "code",
   "execution_count": 10,
   "metadata": {},
   "outputs": [
    {
     "name": "stdout",
     "output_type": "stream",
     "text": [
      "EnergyPlus Completed Successfully-- 0 Warning; 0 Severe Errors; Elapsed Time=00hr 00min  0.64sec\n"
     ]
    }
   ],
   "source": [
    "print(end.line)"
   ]
  },
  {
   "cell_type": "code",
   "execution_count": 11,
   "metadata": {},
   "outputs": [
    {
     "name": "stdout",
     "output_type": "stream",
     "text": [
      "<class 'eprun.eprun.EPErr'>\n"
     ]
    }
   ],
   "source": [
    "err=epresult.get_err()\n",
    "print(type(err))"
   ]
  },
  {
   "cell_type": "code",
   "execution_count": 12,
   "metadata": {},
   "outputs": [
    {
     "name": "stdout",
     "output_type": "stream",
     "text": [
      "Program Version,EnergyPlus, Version 9.6.0-f420c06a69, YMD=2022.03.09 06:13,\n",
      "   ************* Testing Individual Branch Integrity\n",
      "   ************* All Branches passed integrity testing\n",
      "   ************* Testing Individual Supply Air Path Integrity\n",
      "   ************* All Supply Air Paths passed integrity testing\n",
      "   ************* Testing Individual Return Air Path Integrity\n",
      "   ************* All Return Air Paths passed integrity testing\n",
      "   ************* No node connection errors were found.\n",
      "   ************* Beginning Simulation\n",
      "   ************* Simulation Error Summary *************\n",
      "   ************* EnergyPlus Warmup Error Summary. During Warmup: 0 Warning; 0 Severe Errors.\n",
      "   ************* EnergyPlus Sizing Error Summary. During Sizing: 0 Warning; 0 Severe Errors.\n",
      "   ************* EnergyPlus Completed Successfully-- 0 Warning; 0 Severe Errors; Elapsed Time=00hr 00min  0.64sec\n",
      "\n"
     ]
    }
   ],
   "source": [
    "print(err.lines)"
   ]
  },
  {
   "cell_type": "code",
   "execution_count": null,
   "metadata": {},
   "outputs": [],
   "source": []
  }
 ],
 "metadata": {
  "kernelspec": {
   "display_name": "Python 3 (ipykernel)",
   "language": "python",
   "name": "python3"
  },
  "language_info": {
   "codemirror_mode": {
    "name": "ipython",
    "version": 3
   },
   "file_extension": ".py",
   "mimetype": "text/x-python",
   "name": "python",
   "nbconvert_exporter": "python",
   "pygments_lexer": "ipython3",
   "version": "3.9.7"
  }
 },
 "nbformat": 4,
 "nbformat_minor": 4
}
