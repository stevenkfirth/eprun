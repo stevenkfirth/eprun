{
 "cells": [
  {
   "cell_type": "markdown",
   "metadata": {},
   "source": [
    "# Demo - Reading the Output Files\n",
    "\n"
   ]
  },
  {
   "cell_type": "code",
   "execution_count": 3,
   "metadata": {},
   "outputs": [
    {
     "name": "stdout",
     "output_type": "stream",
     "text": [
      "<class 'eprun.epresult.EPResult'>\n"
     ]
    }
   ],
   "source": [
    "from eprun import eprun\n",
    "epresult=eprun(ep_dir='C:\\EnergyPlusV9-4-0',\n",
    "               input_filepath='1ZoneUncontrolled.idf',\n",
    "               epw_filepath='USA_CO_Golden-NREL.724666_TMY3.epw',\n",
    "               sim_dir='simulation_files')\n",
    "print(type(epresult))"
   ]
  },
  {
   "cell_type": "code",
   "execution_count": 5,
   "metadata": {},
   "outputs": [
    {
     "name": "stdout",
     "output_type": "stream",
     "text": [
      "['audit', 'bnd', 'dxf', 'eio', 'end', 'err', 'eso', 'mdd', 'mtd', 'mtr', 'rdd', 'shd', 'csv', 'htm', 'tab', 'txt', 'xml']\n"
     ]
    }
   ],
   "source": [
    "print(list(epresult.files.keys())) "
   ]
  },
  {
   "cell_type": "code",
   "execution_count": 6,
   "metadata": {},
   "outputs": [
    {
     "name": "stdout",
     "output_type": "stream",
     "text": [
      "<class 'eprun.epend.EPEnd'>\n"
     ]
    }
   ],
   "source": [
    "end=epresult.get_end()\n",
    "print(type(end))"
   ]
  },
  {
   "cell_type": "code",
   "execution_count": 7,
   "metadata": {},
   "outputs": [
    {
     "name": "stdout",
     "output_type": "stream",
     "text": [
      "EnergyPlus Completed Successfully-- 0 Warning; 0 Severe Errors; Elapsed Time=00hr 00min  2.21sec\n",
      "\n"
     ]
    }
   ],
   "source": [
    "print(end.line)"
   ]
  },
  {
   "cell_type": "code",
   "execution_count": 8,
   "metadata": {},
   "outputs": [
    {
     "name": "stdout",
     "output_type": "stream",
     "text": [
      "<class 'eprun.eperr.EPErr'>\n"
     ]
    }
   ],
   "source": [
    "err=epresult.get_err()\n",
    "print(type(err))"
   ]
  },
  {
   "cell_type": "code",
   "execution_count": 14,
   "metadata": {},
   "outputs": [
    {
     "name": "stdout",
     "output_type": "stream",
     "text": [
      "Program Version,EnergyPlus, Version 9.4.0-998c4b761e, YMD=2020.12.31 08:53,\n",
      "   ************* Testing Individual Branch Integrity\n",
      "   ************* All Branches passed integrity testing\n",
      "   ************* Testing Individual Supply Air Path Integrity\n",
      "   ************* All Supply Air Paths passed integrity testing\n",
      "   ************* Testing Individual Return Air Path Integrity\n",
      "   ************* All Return Air Paths passed integrity testing\n",
      "   ************* No node connection errors were found.\n",
      "   ************* Beginning Simulation\n",
      "   ************* Simulation Error Summary *************\n",
      "   ************* EnergyPlus Warmup Error Summary. During Warmup: 0 Warning; 0 Severe Errors.\n",
      "   ************* EnergyPlus Sizing Error Summary. During Sizing: 0 Warning; 0 Severe Errors.\n",
      "   ************* EnergyPlus Completed Successfully-- 0 Warning; 0 Severe Errors; Elapsed Time=00hr 00min  2.21sec\n"
     ]
    }
   ],
   "source": [
    "for line in err.lines: print(line, end='')"
   ]
  },
  {
   "cell_type": "code",
   "execution_count": 15,
   "metadata": {},
   "outputs": [
    {
     "name": "stdout",
     "output_type": "stream",
     "text": [
      "   Program Version,EnergyPlus, Version 9.4.0-998c4b761e, YMD=2020.12.31 08:53,\n",
      "      ************* Testing Individual Branch Integrity\n",
      "      ************* All Branches passed integrity testing\n",
      "      ************* Testing Individual Supply Air Path Integrity\n",
      "      ************* All Supply Air Paths passed integrity testing\n",
      "      ************* Testing Individual Return Air Path Integrity\n",
      "      ************* All Return Air Paths passed integrity testing\n",
      "      ************* No node connection errors were found.\n",
      "      ************* Beginning Simulation\n",
      "      ************* Simulation Error Summary *************\n",
      "      ************* EnergyPlus Warmup Error Summary. During Warmup: 0 Warning; 0 Severe Errors.\n",
      "      ************* EnergyPlus Sizing Error Summary. During Sizing: 0 Warning; 0 Severe Errors.\n",
      "      ************* EnergyPlus Completed Successfully-- 0 Warning; 0 Severe Errors; Elapsed Time=00hr 00min  2.21sec\n"
     ]
    }
   ],
   "source": [
    "for line in err.lines: print('   %s' % line, end='')"
   ]
  }
 ],
 "metadata": {
  "kernelspec": {
   "display_name": "Python 3",
   "language": "python",
   "name": "python3"
  },
  "language_info": {
   "codemirror_mode": {
    "name": "ipython",
    "version": 3
   },
   "file_extension": ".py",
   "mimetype": "text/x-python",
   "name": "python",
   "nbconvert_exporter": "python",
   "pygments_lexer": "ipython3",
   "version": "3.7.7"
  }
 },
 "nbformat": 4,
 "nbformat_minor": 4
}
