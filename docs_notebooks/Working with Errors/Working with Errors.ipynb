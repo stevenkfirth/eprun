{
 "cells": [
  {
   "cell_type": "markdown",
   "metadata": {},
   "source": [
    "# Working with Errors"
   ]
  },
  {
   "cell_type": "markdown",
   "metadata": {},
   "source": [
    "## No errors"
   ]
  },
  {
   "cell_type": "code",
   "execution_count": 11,
   "metadata": {},
   "outputs": [
    {
     "name": "stdout",
     "output_type": "stream",
     "text": [
      "returncode: 0\n",
      "end.line: EnergyPlus Completed Successfully-- 0 Warning; 0 Severe Errors; Elapsed Time=00hr 00min  3.61sec\n"
     ]
    }
   ],
   "source": [
    "from eprun import eprun\n",
    "epresult=eprun(ep_dir=r'C:\\EnergyPlusV9-4-0',\n",
    "               input_filepath='1ZoneUncontrolled.idf',\n",
    "               epw_filepath='USA_CO_Golden-NREL.724666_TMY3.epw',\n",
    "               sim_dir='simulation_files')\n",
    "print('returncode:', epresult.returncode)\n",
    "print('end.line:', epresult.get_end().line)"
   ]
  },
  {
   "cell_type": "markdown",
   "metadata": {},
   "source": [
    "## ep_dir error"
   ]
  },
  {
   "cell_type": "code",
   "execution_count": 2,
   "metadata": {
    "scrolled": true
   },
   "outputs": [
    {
     "name": "stdout",
     "output_type": "stream",
     "text": [
      "FileNotFoundError error raised\n"
     ]
    }
   ],
   "source": [
    "try:\n",
    "    epresult=eprun(ep_dir=r'C:\\EnergyPlusV9-4-0_ERROR',\n",
    "                   input_filepath='1ZoneUncontrolled.idf',\n",
    "                   epw_filepath='USA_CO_Golden-NREL.724666_TMY3.epw',\n",
    "                   sim_dir='simulation_files')\n",
    "except FileNotFoundError:\n",
    "    print('FileNotFoundError error raised')"
   ]
  },
  {
   "cell_type": "markdown",
   "metadata": {},
   "source": [
    "## Input file error"
   ]
  },
  {
   "cell_type": "code",
   "execution_count": 3,
   "metadata": {},
   "outputs": [
    {
     "name": "stdout",
     "output_type": "stream",
     "text": [
      "returncode: 1\n",
      "stdout: ERROR: Could not find input data file: \n",
      "KeyError raised\n"
     ]
    }
   ],
   "source": [
    "epresult=eprun(ep_dir=r'C:\\EnergyPlusV9-4-0',\n",
    "               input_filepath='1ZoneUncontrolled_ERROR.idf',\n",
    "               epw_filepath='USA_CO_Golden-NREL.724666_TMY3.epw',\n",
    "               sim_dir='simulation_files')\n",
    "print('returncode:', epresult.returncode)\n",
    "print('stdout:',epresult.stdout[:39])      #  full string truncated to avoid printing local file path on the author's PC\n",
    "try:\n",
    "    print('end.line:', epresult.get_end().line)\n",
    "except KeyError:\n",
    "    print('KeyError raised')      # occurs if the '.end' file was not created by the simulation"
   ]
  },
  {
   "cell_type": "markdown",
   "metadata": {},
   "source": [
    "## Weather file error"
   ]
  },
  {
   "cell_type": "code",
   "execution_count": 4,
   "metadata": {},
   "outputs": [
    {
     "name": "stdout",
     "output_type": "stream",
     "text": [
      "returncode: 1\n",
      "stdout: ERROR: Could not find weather file: \n",
      "KeyError raised\n"
     ]
    }
   ],
   "source": [
    "epresult=eprun(ep_dir=r'C:\\EnergyPlusV9-4-0',\n",
    "               input_filepath='1ZoneUncontrolled.idf',\n",
    "               epw_filepath='USA_CO_Golden-NREL.724666_TMY3_ERROR.epw',\n",
    "               sim_dir='simulation_files')\n",
    "print('returncode:', epresult.returncode)\n",
    "print('stdout:',epresult.stdout[:36])      #  full string truncated to avoid printing local file path on the author's PC\n",
    "try:\n",
    "    print('end.line:', epresult.get_end().line)\n",
    "except KeyError:\n",
    "    print('KeyError raised')      # occurs if the '.end' file was not created by the simulation"
   ]
  },
  {
   "cell_type": "markdown",
   "metadata": {},
   "source": [
    "## Simulation folder error"
   ]
  },
  {
   "cell_type": "code",
   "execution_count": 13,
   "metadata": {},
   "outputs": [
    {
     "name": "stdout",
     "output_type": "stream",
     "text": [
      "returncode: 0\n",
      "end.line: EnergyPlus Completed Successfully-- 0 Warning; 0 Severe Errors; Elapsed Time=00hr 00min  3.29sec\n"
     ]
    }
   ],
   "source": [
    "epresult=eprun(ep_dir=r'C:\\EnergyPlusV9-4-0',\n",
    "               input_filepath='1ZoneUncontrolled.idf',\n",
    "               epw_filepath='USA_CO_Golden-NREL.724666_TMY3.epw',\n",
    "               sim_dir='simulation_files_ERROR')\n",
    "print('returncode:', epresult.returncode)\n",
    "print('end.line:', epresult.get_end().line)"
   ]
  },
  {
   "cell_type": "markdown",
   "metadata": {},
   "source": [
    "## Empty idf file"
   ]
  },
  {
   "cell_type": "code",
   "execution_count": 12,
   "metadata": {},
   "outputs": [
    {
     "name": "stdout",
     "output_type": "stream",
     "text": [
      "returncode: 1\n",
      "end.line: EnergyPlus Terminated--Fatal Error Detected. 0 Warning; 1 Severe Errors; Elapsed Time=00hr 00min  0.39sec\n",
      "err.severes: [\"<root> - Object required to validate 'required' properties.\"]\n"
     ]
    }
   ],
   "source": [
    "epresult=eprun(ep_dir=r'C:\\EnergyPlusV9-4-0',\n",
    "               input_filepath='1ZoneUncontrolled - EMPTY.idf',\n",
    "               epw_filepath='USA_CO_Golden-NREL.724666_TMY3.epw',\n",
    "               sim_dir='simulation_files')\n",
    "print('returncode:', epresult.returncode)\n",
    "print('end.line:', epresult.get_end().line)\n",
    "print('err.severes:', epresult.get_err().severes)"
   ]
  },
  {
   "cell_type": "markdown",
   "metadata": {},
   "source": [
    "## Minimum required objects idf file"
   ]
  },
  {
   "cell_type": "code",
   "execution_count": 14,
   "metadata": {},
   "outputs": [
    {
     "name": "stdout",
     "output_type": "stream",
     "text": [
      "returncode: 1\n",
      "end.line: EnergyPlus Terminated--Fatal Error Detected. 1 Warning; 1 Severe Errors; Elapsed Time=00hr 00min  0.52sec\n",
      "err.severes: ['GetNextEnvironment: No Design Days or Run Period(s) specified, program will terminate.']\n"
     ]
    }
   ],
   "source": [
    "epresult=eprun(ep_dir=r'C:\\EnergyPlusV9-4-0',\n",
    "               input_filepath='1ZoneUncontrolled - MINIMUM REQUIRED OBJECTS.idf',\n",
    "               epw_filepath='USA_CO_Golden-NREL.724666_TMY3.epw',\n",
    "               sim_dir='simulation_files')\n",
    "print('returncode:', epresult.returncode)\n",
    "print('end.line:', epresult.get_end().line)\n",
    "print('err.severes:', epresult.get_err().severes)"
   ]
  },
  {
   "cell_type": "markdown",
   "metadata": {},
   "source": [
    "## Weather file different from location specified in idf"
   ]
  },
  {
   "cell_type": "code",
   "execution_count": 21,
   "metadata": {},
   "outputs": [
    {
     "name": "stdout",
     "output_type": "stream",
     "text": [
      "returncode: 0\n",
      "end.line: EnergyPlus Completed Successfully-- 3 Warning; 0 Severe Errors; Elapsed Time=00hr 00min  3.62sec\n",
      "err.warning: Weather file location will be used rather than entered (IDF) Location object. ..Location object=DENVER CENTENNIAL  GOLDEN   N_CO_USA DESIGN_CONDITIONS ..Weather File Location=San Francisco Intl Ap CA USA TMY3 WMO#=724940 ..due to location differences, Latitude difference=[2.12] degrees, Longitude difference=[17.22] degrees. ..Time Zone difference=[1.0] hour(s), Elevation difference=[99.89] percent, [1827.00] meters.\n",
      "err.warning: SetUpDesignDay: Entered DesignDay Barometric Pressure=81198 differs by more than 10% from Standard Barometric Pressure=101301. ...occurs in DesignDay=DENVER CENTENNIAL  GOLDEN   N ANN HTG 99% CONDNS DB, Standard Pressure (based on elevation) will be used.\n",
      "err.warning: SetUpDesignDay: Entered DesignDay Barometric Pressure=81198 differs by more than 10% from Standard Barometric Pressure=101301. ...occurs in DesignDay=DENVER CENTENNIAL  GOLDEN   N ANN CLG 1% CONDNS DB=>MWB, Standard Pressure (based on elevation) will be used.\n"
     ]
    }
   ],
   "source": [
    "epresult=eprun(ep_dir=r'C:\\EnergyPlusV9-4-0',\n",
    "               input_filepath='1ZoneUncontrolled.idf',\n",
    "               epw_filepath='USA_CA_San.Francisco.Intl.AP.724940_TMY3.epw',\n",
    "               sim_dir='simulation_files')\n",
    "print('returncode:', epresult.returncode)\n",
    "print('end.line:', epresult.get_end().line)\n",
    "for w in epresult.get_err().warnings: print('err.warning:', w)"
   ]
  },
  {
   "cell_type": "code",
   "execution_count": null,
   "metadata": {},
   "outputs": [],
   "source": []
  },
  {
   "cell_type": "code",
   "execution_count": null,
   "metadata": {},
   "outputs": [],
   "source": []
  }
 ],
 "metadata": {
  "kernelspec": {
   "display_name": "Python 3",
   "language": "python",
   "name": "python3"
  },
  "language_info": {
   "codemirror_mode": {
    "name": "ipython",
    "version": 3
   },
   "file_extension": ".py",
   "mimetype": "text/x-python",
   "name": "python",
   "nbconvert_exporter": "python",
   "pygments_lexer": "ipython3",
   "version": "3.7.7"
  }
 },
 "nbformat": 4,
 "nbformat_minor": 4
}
