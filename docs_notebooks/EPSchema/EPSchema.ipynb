{
 "cells": [
  {
   "cell_type": "markdown",
   "metadata": {},
   "source": [
    "# EPSchema"
   ]
  },
  {
   "cell_type": "code",
   "execution_count": 1,
   "metadata": {},
   "outputs": [
    {
     "name": "stdout",
     "output_type": "stream",
     "text": [
      "<class 'eprun.epschema.EPSchema'>\n"
     ]
    }
   ],
   "source": [
    "from eprun import EPSchema\n",
    "s=EPSchema(fp='Energy+.schema.epJSON')\n",
    "print(type(s))"
   ]
  },
  {
   "cell_type": "code",
   "execution_count": 2,
   "metadata": {},
   "outputs": [
    {
     "name": "stdout",
     "output_type": "stream",
     "text": [
      "EPSchema(version=\"9.4.0\")\n"
     ]
    }
   ],
   "source": [
    "print(s)"
   ]
  },
  {
   "cell_type": "code",
   "execution_count": 3,
   "metadata": {},
   "outputs": [
    {
     "name": "stdout",
     "output_type": "stream",
     "text": [
      "815\n"
     ]
    }
   ],
   "source": [
    "print(len(s.get_object_types()))"
   ]
  },
  {
   "cell_type": "code",
   "execution_count": 4,
   "metadata": {},
   "outputs": [
    {
     "name": "stdout",
     "output_type": "stream",
     "text": [
      "EPSchemaObjectType(name=\"Version\")\n"
     ]
    }
   ],
   "source": [
    "print(s.get_object_types()[0])"
   ]
  },
  {
   "cell_type": "markdown",
   "metadata": {},
   "source": [
    "## EPSchemaObjectType"
   ]
  },
  {
   "cell_type": "code",
   "execution_count": 5,
   "metadata": {},
   "outputs": [
    {
     "name": "stdout",
     "output_type": "stream",
     "text": [
      "<class 'eprun.epschema_object_type.EPSchemaObjectType'>\n"
     ]
    }
   ],
   "source": [
    "from eprun import EPSchema\n",
    "s=EPSchema(fp='Energy+.schema.epJSON')\n",
    "ot=s.get_object_type('Building')\n",
    "print(type(ot))"
   ]
  },
  {
   "cell_type": "code",
   "execution_count": 6,
   "metadata": {},
   "outputs": [
    {
     "name": "stdout",
     "output_type": "stream",
     "text": [
      "EPSchemaObjectType(name=\"Building\")\n"
     ]
    }
   ],
   "source": [
    "print(ot)"
   ]
  },
  {
   "cell_type": "code",
   "execution_count": 7,
   "metadata": {},
   "outputs": [
    {
     "name": "stdout",
     "output_type": "stream",
     "text": [
      "Building\n"
     ]
    }
   ],
   "source": [
    "print(ot.name)"
   ]
  },
  {
   "cell_type": "code",
   "execution_count": 8,
   "metadata": {},
   "outputs": [
    {
     "name": "stdout",
     "output_type": "stream",
     "text": [
      "[EPSchemaProperty(name=\"north_axis\"), EPSchemaProperty(name=\"terrain\"), EPSchemaProperty(name=\"loads_convergence_tolerance_value\"), EPSchemaProperty(name=\"temperature_convergence_tolerance_value\"), EPSchemaProperty(name=\"solar_distribution\"), EPSchemaProperty(name=\"maximum_number_of_warmup_days\"), EPSchemaProperty(name=\"minimum_number_of_warmup_days\")]\n"
     ]
    }
   ],
   "source": [
    "print(ot.get_properties())"
   ]
  },
  {
   "cell_type": "code",
   "execution_count": 9,
   "metadata": {},
   "outputs": [
    {
     "name": "stdout",
     "output_type": "stream",
     "text": [
      "['patternProperties', 'name', 'legacy_idd', 'type', 'minProperties', 'maxProperties', 'memo', 'min_fields']\n"
     ]
    }
   ],
   "source": [
    "print(list(ot.keys()))"
   ]
  },
  {
   "cell_type": "code",
   "execution_count": 14,
   "metadata": {},
   "outputs": [
    {
     "name": "stdout",
     "output_type": "stream",
     "text": [
      "Describes parameters that are used during the simulation of the building. There are necessary correlations between the entries for this object and some entries in the Site:WeatherStation and Site:HeightVariation objects, specifically the Terrain field.\n"
     ]
    }
   ],
   "source": [
    "print(ot['memo'])"
   ]
  },
  {
   "cell_type": "markdown",
   "metadata": {},
   "source": [
    "## EPSchemaProperty"
   ]
  },
  {
   "cell_type": "code",
   "execution_count": 10,
   "metadata": {},
   "outputs": [
    {
     "name": "stdout",
     "output_type": "stream",
     "text": [
      "<class 'eprun.epschema_property.EPSchemaProperty'>\n"
     ]
    }
   ],
   "source": [
    "from eprun import EPSchema\n",
    "s=EPSchema(fp='Energy+.schema.epJSON')\n",
    "ot=s.get_object_type('Building')\n",
    "p=ot.get_property('north_axis')\n",
    "print(type(p))"
   ]
  },
  {
   "cell_type": "code",
   "execution_count": 11,
   "metadata": {},
   "outputs": [
    {
     "name": "stdout",
     "output_type": "stream",
     "text": [
      "north_axis\n"
     ]
    }
   ],
   "source": [
    "print(p.name)"
   ]
  },
  {
   "cell_type": "code",
   "execution_count": 12,
   "metadata": {},
   "outputs": [
    {
     "name": "stdout",
     "output_type": "stream",
     "text": [
      "['type', 'note', 'units', 'default']\n"
     ]
    }
   ],
   "source": [
    "print(list(p.keys()))"
   ]
  },
  {
   "cell_type": "code",
   "execution_count": 13,
   "metadata": {},
   "outputs": [
    {
     "name": "stdout",
     "output_type": "stream",
     "text": [
      "deg\n"
     ]
    }
   ],
   "source": [
    "print(p['units'])"
   ]
  }
 ],
 "metadata": {
  "kernelspec": {
   "display_name": "Python 3",
   "language": "python",
   "name": "python3"
  },
  "language_info": {
   "codemirror_mode": {
    "name": "ipython",
    "version": 3
   },
   "file_extension": ".py",
   "mimetype": "text/x-python",
   "name": "python",
   "nbconvert_exporter": "python",
   "pygments_lexer": "ipython3",
   "version": "3.7.7"
  }
 },
 "nbformat": 4,
 "nbformat_minor": 4
}
