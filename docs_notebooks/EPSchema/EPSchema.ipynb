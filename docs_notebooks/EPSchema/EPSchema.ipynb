{
 "cells": [
  {
   "cell_type": "markdown",
   "metadata": {},
   "source": [
    "# EPSchema"
   ]
  },
  {
   "cell_type": "markdown",
   "metadata": {},
   "source": [
    "# 1. Introduction\n",
    "\n",
    "This notebook explores the EnergyPlus schema using the EPSchema class in the eprun package."
   ]
  },
  {
   "cell_type": "markdown",
   "metadata": {},
   "source": [
    "## 2. Setup"
   ]
  },
  {
   "cell_type": "markdown",
   "metadata": {},
   "source": [
    "### 2.1. Module Imports"
   ]
  },
  {
   "cell_type": "code",
   "execution_count": 1,
   "metadata": {},
   "outputs": [],
   "source": [
    "from eprun import EPSchema"
   ]
  },
  {
   "cell_type": "markdown",
   "metadata": {},
   "source": [
    "### 2.2. Filepaths"
   ]
  },
  {
   "cell_type": "code",
   "execution_count": 2,
   "metadata": {},
   "outputs": [],
   "source": [
    "fp='Energy+.schema.epJSON'"
   ]
  },
  {
   "cell_type": "markdown",
   "metadata": {},
   "source": [
    "## 3. Reading the schema file"
   ]
  },
  {
   "cell_type": "markdown",
   "metadata": {},
   "source": [
    "### 3.1. Import"
   ]
  },
  {
   "cell_type": "code",
   "execution_count": 5,
   "metadata": {},
   "outputs": [
    {
     "data": {
      "text/plain": [
       "EPSchema(version=\"9.4.0\")"
      ]
     },
     "execution_count": 5,
     "metadata": {},
     "output_type": "execute_result"
    }
   ],
   "source": [
    "schema=EPSchema(fp)\n",
    "schema"
   ]
  },
  {
   "cell_type": "markdown",
   "metadata": {},
   "source": [
    "### 3.2. Viewing basic properties"
   ]
  },
  {
   "cell_type": "code",
   "execution_count": 6,
   "metadata": {},
   "outputs": [
    {
     "data": {
      "text/plain": [
       "eprun.epschema.EPSchema"
      ]
     },
     "execution_count": 6,
     "metadata": {},
     "output_type": "execute_result"
    }
   ],
   "source": [
    "type(schema)"
   ]
  },
  {
   "cell_type": "code",
   "execution_count": 8,
   "metadata": {},
   "outputs": [
    {
     "data": {
      "text/plain": [
       "'998c4b761e'"
      ]
     },
     "execution_count": 8,
     "metadata": {},
     "output_type": "execute_result"
    }
   ],
   "source": [
    "schema.build"
   ]
  },
  {
   "cell_type": "code",
   "execution_count": 9,
   "metadata": {},
   "outputs": [
    {
     "data": {
      "text/plain": [
       "['Building', 'GlobalGeometryRules']"
      ]
     },
     "execution_count": 9,
     "metadata": {},
     "output_type": "execute_result"
    }
   ],
   "source": [
    "schema.required"
   ]
  },
  {
   "cell_type": "code",
   "execution_count": 10,
   "metadata": {},
   "outputs": [
    {
     "data": {
      "text/plain": [
       "'9.4.0'"
      ]
     },
     "execution_count": 10,
     "metadata": {},
     "output_type": "execute_result"
    }
   ],
   "source": [
    "schema.version"
   ]
  },
  {
   "cell_type": "code",
   "execution_count": 12,
   "metadata": {},
   "outputs": [
    {
     "name": "stdout",
     "output_type": "stream",
     "text": [
      "['Version', 'SimulationControl', 'PerformancePrecisionTradeoffs', 'Building', 'ShadowCalculation', 'SurfaceConvectionAlgorithm:Inside', 'SurfaceConvectionAlgorithm:Outside', 'HeatBalanceAlgorithm', 'HeatBalanceSettings:ConductionFiniteDifference', 'ZoneAirHeatBalanceAlgorithm', 'ZoneAirContaminantBalance', 'ZoneAirMassFlowConservation', 'ZoneCapacitanceMultiplier:ResearchSpecial', 'Timestep', 'ConvergenceLimits', 'HVACSystemRootFindingAlgorithm', 'Compliance:Building', 'Site:Location', 'Site:VariableLocation', 'SizingPeriod:DesignDay', 'SizingPeriod:WeatherFileDays', 'SizingPeriod:WeatherFileConditionType', 'RunPeriod', 'RunPeriodControl:SpecialDays', 'RunPeriodControl:DaylightSavingTime', 'WeatherProperty:SkyTemperature', 'Site:WeatherStation', 'Site:HeightVariation', 'Site:GroundTemperature:BuildingSurface', 'Site:GroundTemperature:FCfactorMethod', 'Site:GroundTemperature:Shallow', 'Site:GroundTemperature:Deep', 'Site:GroundTemperature:Undisturbed:FiniteDifference', 'Site:GroundTemperature:Undisturbed:KusudaAchenbach', 'Site:GroundTemperature:Undisturbed:Xing', 'Site:GroundDomain:Slab', 'Site:GroundDomain:Basement', 'Site:GroundReflectance', 'Site:GroundReflectance:SnowModifier', 'Site:WaterMainsTemperature', 'Site:Precipitation', 'RoofIrrigation', 'Site:SolarAndVisibleSpectrum', 'Site:SpectrumData', 'ScheduleTypeLimits', 'Schedule:Day:Hourly', 'Schedule:Day:Interval', 'Schedule:Day:List', 'Schedule:Week:Daily', 'Schedule:Week:Compact', 'Schedule:Year', 'Schedule:Compact', 'Schedule:Constant', 'Schedule:File:Shading', 'Schedule:File', 'Material', 'Material:NoMass', 'Material:InfraredTransparent', 'Material:AirGap', 'Material:RoofVegetation', 'WindowMaterial:SimpleGlazingSystem', 'WindowMaterial:Glazing', 'WindowMaterial:GlazingGroup:Thermochromic', 'WindowMaterial:Glazing:RefractionExtinctionMethod', 'WindowMaterial:Gas', 'WindowGap:SupportPillar', 'WindowGap:DeflectionState', 'WindowMaterial:GasMixture', 'WindowMaterial:Gap', 'WindowMaterial:Shade', 'WindowMaterial:ComplexShade', 'WindowMaterial:Blind', 'WindowMaterial:Screen', 'WindowMaterial:Shade:EquivalentLayer', 'WindowMaterial:Drape:EquivalentLayer', 'WindowMaterial:Blind:EquivalentLayer', 'WindowMaterial:Screen:EquivalentLayer', 'WindowMaterial:Glazing:EquivalentLayer', 'WindowMaterial:Gap:EquivalentLayer', 'MaterialProperty:MoisturePenetrationDepth:Settings', 'MaterialProperty:PhaseChange', 'MaterialProperty:PhaseChangeHysteresis', 'MaterialProperty:VariableThermalConductivity', 'MaterialProperty:HeatAndMoistureTransfer:Settings', 'MaterialProperty:HeatAndMoistureTransfer:SorptionIsotherm', 'MaterialProperty:HeatAndMoistureTransfer:Suction', 'MaterialProperty:HeatAndMoistureTransfer:Redistribution', 'MaterialProperty:HeatAndMoistureTransfer:Diffusion', 'MaterialProperty:HeatAndMoistureTransfer:ThermalConductivity', 'MaterialProperty:GlazingSpectralData', 'Construction', 'Construction:CfactorUndergroundWall', 'Construction:FfactorGroundFloor', 'Construction:InternalSource', 'Construction:AirBoundary', 'WindowThermalModel:Params', 'WindowsCalculationEngine', 'Construction:ComplexFenestrationState', 'Construction:WindowEquivalentLayer', 'Construction:WindowDataFile', 'GlobalGeometryRules', 'GeometryTransform', 'Zone', 'ZoneList', 'ZoneGroup', 'BuildingSurface:Detailed', 'Wall:Detailed', 'RoofCeiling:Detailed', 'Floor:Detailed', 'Wall:Exterior', 'Wall:Adiabatic', 'Wall:Underground', 'Wall:Interzone', 'Roof', 'Ceiling:Adiabatic', 'Ceiling:Interzone', 'Floor:GroundContact', 'Floor:Adiabatic', 'Floor:Interzone', 'FenestrationSurface:Detailed', 'Window', 'Door', 'GlazedDoor', 'Window:Interzone', 'Door:Interzone', 'GlazedDoor:Interzone', 'WindowShadingControl', 'WindowProperty:FrameAndDivider', 'WindowProperty:AirflowControl', 'WindowProperty:StormWindow', 'InternalMass', 'Shading:Site', 'Shading:Building', 'Shading:Site:Detailed', 'Shading:Building:Detailed', 'Shading:Overhang', 'Shading:Overhang:Projection', 'Shading:Fin', 'Shading:Fin:Projection', 'Shading:Zone:Detailed', 'ShadingProperty:Reflectance', 'SurfaceProperty:HeatTransferAlgorithm', 'SurfaceProperty:HeatTransferAlgorithm:MultipleSurface', 'SurfaceProperty:HeatTransferAlgorithm:SurfaceList', 'SurfaceProperty:HeatTransferAlgorithm:Construction', 'SurfaceProperty:HeatBalanceSourceTerm', 'SurfaceControl:MovableInsulation', 'SurfaceProperty:OtherSideCoefficients', 'SurfaceProperty:OtherSideConditionsModel', 'SurfaceProperty:Underwater', 'Foundation:Kiva', 'Foundation:Kiva:Settings', 'SurfaceProperty:ExposedFoundationPerimeter', 'SurfaceConvectionAlgorithm:Inside:AdaptiveModelSelections', 'SurfaceConvectionAlgorithm:Outside:AdaptiveModelSelections', 'SurfaceConvectionAlgorithm:Inside:UserCurve', 'SurfaceConvectionAlgorithm:Outside:UserCurve', 'SurfaceProperty:ConvectionCoefficients', 'SurfaceProperty:ConvectionCoefficients:MultipleSurface', 'SurfaceProperties:VaporCoefficients', 'SurfaceProperty:ExteriorNaturalVentedCavity', 'SurfaceProperty:SolarIncidentInside', 'SurfaceProperty:LocalEnvironment', 'ZoneProperty:LocalEnvironment', 'SurfaceProperty:SurroundingSurfaces', 'ComplexFenestrationProperty:SolarAbsorbedLayers', 'ZoneProperty:UserViewFactors:BySurfaceName', 'GroundHeatTransfer:Control', 'GroundHeatTransfer:Slab:Materials', 'GroundHeatTransfer:Slab:MatlProps', 'GroundHeatTransfer:Slab:BoundConds', 'GroundHeatTransfer:Slab:BldgProps', 'GroundHeatTransfer:Slab:Insulation', 'GroundHeatTransfer:Slab:EquivalentSlab', 'GroundHeatTransfer:Slab:AutoGrid', 'GroundHeatTransfer:Slab:ManualGrid', 'GroundHeatTransfer:Slab:XFACE', 'GroundHeatTransfer:Slab:YFACE', 'GroundHeatTransfer:Slab:ZFACE', 'GroundHeatTransfer:Basement:SimParameters', 'GroundHeatTransfer:Basement:MatlProps', 'GroundHeatTransfer:Basement:Insulation', 'GroundHeatTransfer:Basement:SurfaceProps', 'GroundHeatTransfer:Basement:BldgData', 'GroundHeatTransfer:Basement:Interior', 'GroundHeatTransfer:Basement:ComBldg', 'GroundHeatTransfer:Basement:EquivSlab', 'GroundHeatTransfer:Basement:EquivAutoGrid', 'GroundHeatTransfer:Basement:AutoGrid', 'GroundHeatTransfer:Basement:ManualGrid', 'GroundHeatTransfer:Basement:XFACE', 'GroundHeatTransfer:Basement:YFACE', 'GroundHeatTransfer:Basement:ZFACE', 'RoomAirModelType', 'RoomAir:TemperaturePattern:UserDefined', 'RoomAir:TemperaturePattern:ConstantGradient', 'RoomAir:TemperaturePattern:TwoGradient', 'RoomAir:TemperaturePattern:NondimensionalHeight', 'RoomAir:TemperaturePattern:SurfaceMapping', 'RoomAir:Node', 'RoomAirSettings:OneNodeDisplacementVentilation', 'RoomAirSettings:ThreeNodeDisplacementVentilation', 'RoomAirSettings:CrossVentilation', 'RoomAirSettings:UnderFloorAirDistributionInterior', 'RoomAirSettings:UnderFloorAirDistributionExterior', 'RoomAir:Node:AirflowNetwork', 'RoomAir:Node:AirflowNetwork:AdjacentSurfaceList', 'RoomAir:Node:AirflowNetwork:InternalGains', 'RoomAir:Node:AirflowNetwork:HVACEquipment', 'RoomAirSettings:AirflowNetwork', 'People', 'ComfortViewFactorAngles', 'Lights', 'ElectricEquipment', 'GasEquipment', 'HotWaterEquipment', 'SteamEquipment', 'OtherEquipment', 'ElectricEquipment:ITE:AirCooled', 'ZoneBaseboard:OutdoorTemperatureControlled', 'SwimmingPool:Indoor', 'ZoneContaminantSourceAndSink:CarbonDioxide', 'ZoneContaminantSourceAndSink:Generic:Constant', 'SurfaceContaminantSourceAndSink:Generic:PressureDriven', 'ZoneContaminantSourceAndSink:Generic:CutoffModel', 'ZoneContaminantSourceAndSink:Generic:DecaySource', 'SurfaceContaminantSourceAndSink:Generic:BoundaryLayerDiffusion', 'SurfaceContaminantSourceAndSink:Generic:DepositionVelocitySink', 'ZoneContaminantSourceAndSink:Generic:DepositionRateSink', 'Daylighting:Controls', 'Daylighting:ReferencePoint', 'Daylighting:DELight:ComplexFenestration', 'DaylightingDevice:Tubular', 'DaylightingDevice:Shelf', 'DaylightingDevice:LightWell', 'Output:DaylightFactors', 'Output:IlluminanceMap', 'OutputControl:IlluminanceMap:Style', 'ZoneInfiltration:DesignFlowRate', 'ZoneInfiltration:EffectiveLeakageArea', 'ZoneInfiltration:FlowCoefficient', 'ZoneVentilation:DesignFlowRate', 'ZoneVentilation:WindandStackOpenArea', 'ZoneAirBalance:OutdoorAir', 'ZoneMixing', 'ZoneCrossMixing', 'ZoneRefrigerationDoorMixing', 'ZoneEarthtube', 'ZoneCoolTower:Shower', 'ZoneThermalChimney', 'AirflowNetwork:SimulationControl', 'AirflowNetwork:MultiZone:Zone', 'AirflowNetwork:MultiZone:Surface', 'AirflowNetwork:MultiZone:ReferenceCrackConditions', 'AirflowNetwork:MultiZone:Surface:Crack', 'AirflowNetwork:MultiZone:Surface:EffectiveLeakageArea', 'AirflowNetwork:MultiZone:Component:DetailedOpening', 'AirflowNetwork:MultiZone:Component:SimpleOpening', 'AirflowNetwork:MultiZone:Component:HorizontalOpening', 'AirflowNetwork:MultiZone:Component:ZoneExhaustFan', 'AirflowNetwork:MultiZone:ExternalNode', 'AirflowNetwork:MultiZone:WindPressureCoefficientArray', 'AirflowNetwork:MultiZone:WindPressureCoefficientValues', 'AirflowNetwork:ZoneControl:PressureController', 'AirflowNetwork:Distribution:Node', 'AirflowNetwork:Distribution:Component:Leak', 'AirflowNetwork:Distribution:Component:LeakageRatio', 'AirflowNetwork:Distribution:Component:Duct', 'AirflowNetwork:Distribution:Component:Fan', 'AirflowNetwork:Distribution:Component:Coil', 'AirflowNetwork:Distribution:Component:HeatExchanger', 'AirflowNetwork:Distribution:Component:TerminalUnit', 'AirflowNetwork:Distribution:Component:ConstantPressureDrop', 'AirflowNetwork:Distribution:Component:OutdoorAirFlow', 'AirflowNetwork:Distribution:Component:ReliefAirFlow', 'AirflowNetwork:Distribution:Linkage', 'AirflowNetwork:Distribution:DuctViewFactors', 'AirflowNetwork:OccupantVentilationControl', 'AirflowNetwork:IntraZone:Node', 'AirflowNetwork:IntraZone:Linkage', 'Exterior:Lights', 'Exterior:FuelEquipment', 'Exterior:WaterEquipment', 'HVACTemplate:Thermostat', 'HVACTemplate:Zone:IdealLoadsAirSystem', 'HVACTemplate:Zone:BaseboardHeat', 'HVACTemplate:Zone:FanCoil', 'HVACTemplate:Zone:PTAC', 'HVACTemplate:Zone:PTHP', 'HVACTemplate:Zone:WaterToAirHeatPump', 'HVACTemplate:Zone:VRF', 'HVACTemplate:Zone:Unitary', 'HVACTemplate:Zone:VAV', 'HVACTemplate:Zone:VAV:FanPowered', 'HVACTemplate:Zone:VAV:HeatAndCool', 'HVACTemplate:Zone:ConstantVolume', 'HVACTemplate:Zone:DualDuct', 'HVACTemplate:System:VRF', 'HVACTemplate:System:Unitary', 'HVACTemplate:System:UnitaryHeatPump:AirToAir', 'HVACTemplate:System:UnitarySystem', 'HVACTemplate:System:VAV', 'HVACTemplate:System:PackagedVAV', 'HVACTemplate:System:ConstantVolume', 'HVACTemplate:System:DualDuct', 'HVACTemplate:System:DedicatedOutdoorAir', 'HVACTemplate:Plant:ChilledWaterLoop', 'HVACTemplate:Plant:Chiller', 'HVACTemplate:Plant:Chiller:ObjectReference', 'HVACTemplate:Plant:Tower', 'HVACTemplate:Plant:Tower:ObjectReference', 'HVACTemplate:Plant:HotWaterLoop', 'HVACTemplate:Plant:Boiler', 'HVACTemplate:Plant:Boiler:ObjectReference', 'HVACTemplate:Plant:MixedWaterLoop', 'DesignSpecification:OutdoorAir', 'DesignSpecification:ZoneAirDistribution', 'Sizing:Parameters', 'Sizing:Zone', 'DesignSpecification:ZoneHVAC:Sizing', 'DesignSpecification:AirTerminal:Sizing', 'Sizing:System', 'Sizing:Plant', 'OutputControl:Sizing:Style', 'ZoneControl:Humidistat', 'ZoneControl:Thermostat', 'ZoneControl:Thermostat:OperativeTemperature', 'ZoneControl:Thermostat:ThermalComfort', 'ZoneControl:Thermostat:TemperatureAndHumidity', 'ThermostatSetpoint:SingleHeating', 'ThermostatSetpoint:SingleCooling', 'ThermostatSetpoint:SingleHeatingOrCooling', 'ThermostatSetpoint:DualSetpoint', 'ThermostatSetpoint:ThermalComfort:Fanger:SingleHeating', 'ThermostatSetpoint:ThermalComfort:Fanger:SingleCooling', 'ThermostatSetpoint:ThermalComfort:Fanger:SingleHeatingOrCooling', 'ThermostatSetpoint:ThermalComfort:Fanger:DualSetpoint', 'ZoneControl:Thermostat:StagedDualSetpoint', 'ZoneControl:ContaminantController', 'ZoneHVAC:IdealLoadsAirSystem', 'ZoneHVAC:FourPipeFanCoil', 'ZoneHVAC:WindowAirConditioner', 'ZoneHVAC:PackagedTerminalAirConditioner', 'ZoneHVAC:PackagedTerminalHeatPump', 'ZoneHVAC:WaterToAirHeatPump', 'ZoneHVAC:Dehumidifier:DX', 'ZoneHVAC:EnergyRecoveryVentilator', 'ZoneHVAC:EnergyRecoveryVentilator:Controller', 'ZoneHVAC:UnitVentilator', 'ZoneHVAC:UnitHeater', 'ZoneHVAC:EvaporativeCoolerUnit', 'ZoneHVAC:HybridUnitaryHVAC', 'ZoneHVAC:OutdoorAirUnit', 'ZoneHVAC:OutdoorAirUnit:EquipmentList', 'ZoneHVAC:TerminalUnit:VariableRefrigerantFlow', 'ZoneHVAC:Baseboard:RadiantConvective:Water', 'ZoneHVAC:Baseboard:RadiantConvective:Steam', 'ZoneHVAC:Baseboard:RadiantConvective:Electric', 'ZoneHVAC:CoolingPanel:RadiantConvective:Water', 'ZoneHVAC:Baseboard:Convective:Water', 'ZoneHVAC:Baseboard:Convective:Electric', 'ZoneHVAC:LowTemperatureRadiant:VariableFlow', 'ZoneHVAC:LowTemperatureRadiant:ConstantFlow', 'ZoneHVAC:LowTemperatureRadiant:Electric', 'ZoneHVAC:LowTemperatureRadiant:SurfaceGroup', 'ZoneHVAC:HighTemperatureRadiant', 'ZoneHVAC:VentilatedSlab', 'ZoneHVAC:VentilatedSlab:SlabGroup', 'AirTerminal:SingleDuct:ConstantVolume:Reheat', 'AirTerminal:SingleDuct:ConstantVolume:NoReheat', 'AirTerminal:SingleDuct:VAV:NoReheat', 'AirTerminal:SingleDuct:VAV:Reheat', 'AirTerminal:SingleDuct:VAV:Reheat:VariableSpeedFan', 'AirTerminal:SingleDuct:VAV:HeatAndCool:NoReheat', 'AirTerminal:SingleDuct:VAV:HeatAndCool:Reheat', 'AirTerminal:SingleDuct:SeriesPIU:Reheat', 'AirTerminal:SingleDuct:ParallelPIU:Reheat', 'AirTerminal:SingleDuct:ConstantVolume:FourPipeInduction', 'AirTerminal:SingleDuct:ConstantVolume:FourPipeBeam', 'AirTerminal:SingleDuct:ConstantVolume:CooledBeam', 'AirTerminal:SingleDuct:Mixer', 'AirTerminal:DualDuct:ConstantVolume', 'AirTerminal:DualDuct:VAV', 'AirTerminal:DualDuct:VAV:OutdoorAir', 'ZoneHVAC:AirDistributionUnit', 'ZoneHVAC:EquipmentList', 'ZoneHVAC:EquipmentConnections', 'Fan:SystemModel', 'Fan:ConstantVolume', 'Fan:VariableVolume', 'Fan:OnOff', 'Fan:ZoneExhaust', 'FanPerformance:NightVentilation', 'Fan:ComponentModel', 'Coil:Cooling:Water', 'Coil:Cooling:Water:DetailedGeometry', 'Coil:Cooling:DX', 'Coil:Cooling:DX:CurveFit:Performance', 'Coil:Cooling:DX:CurveFit:OperatingMode', 'Coil:Cooling:DX:CurveFit:Speed', 'Coil:Cooling:DX:SingleSpeed', 'Coil:Cooling:DX:TwoSpeed', 'Coil:Cooling:DX:MultiSpeed', 'Coil:Cooling:DX:VariableSpeed', 'Coil:Cooling:DX:TwoStageWithHumidityControlMode', 'CoilPerformance:DX:Cooling', 'Coil:Cooling:DX:VariableRefrigerantFlow', 'Coil:Heating:DX:VariableRefrigerantFlow', 'Coil:Cooling:DX:VariableRefrigerantFlow:FluidTemperatureControl', 'Coil:Heating:DX:VariableRefrigerantFlow:FluidTemperatureControl', 'Coil:Heating:Water', 'Coil:Heating:Steam', 'Coil:Heating:Electric', 'Coil:Heating:Electric:MultiStage', 'Coil:Heating:Fuel', 'Coil:Heating:Gas:MultiStage', 'Coil:Heating:Desuperheater', 'Coil:Heating:DX:SingleSpeed', 'Coil:Heating:DX:MultiSpeed', 'Coil:Heating:DX:VariableSpeed', 'Coil:Cooling:WaterToAirHeatPump:ParameterEstimation', 'Coil:Heating:WaterToAirHeatPump:ParameterEstimation', 'Coil:Cooling:WaterToAirHeatPump:EquationFit', 'Coil:Cooling:WaterToAirHeatPump:VariableSpeedEquationFit', 'Coil:Heating:WaterToAirHeatPump:EquationFit', 'Coil:Heating:WaterToAirHeatPump:VariableSpeedEquationFit', 'Coil:WaterHeating:AirToWaterHeatPump:Pumped', 'Coil:WaterHeating:AirToWaterHeatPump:Wrapped', 'Coil:WaterHeating:AirToWaterHeatPump:VariableSpeed', 'Coil:WaterHeating:Desuperheater', 'CoilSystem:Cooling:DX', 'CoilSystem:Heating:DX', 'CoilSystem:Cooling:Water:HeatExchangerAssisted', 'CoilSystem:Cooling:DX:HeatExchangerAssisted', 'CoilSystem:IntegratedHeatPump:AirSource', 'Coil:Cooling:DX:SingleSpeed:ThermalStorage', 'EvaporativeCooler:Direct:CelDekPad', 'EvaporativeCooler:Indirect:CelDekPad', 'EvaporativeCooler:Indirect:WetCoil', 'EvaporativeCooler:Indirect:ResearchSpecial', 'EvaporativeCooler:Direct:ResearchSpecial', 'Humidifier:Steam:Electric', 'Humidifier:Steam:Gas', 'Dehumidifier:Desiccant:NoFans', 'Dehumidifier:Desiccant:System', 'HeatExchanger:AirToAir:FlatPlate', 'HeatExchanger:AirToAir:SensibleAndLatent', 'HeatExchanger:Desiccant:BalancedFlow', 'HeatExchanger:Desiccant:BalancedFlow:PerformanceDataType1', 'AirLoopHVAC:UnitarySystem', 'UnitarySystemPerformance:Multispeed', 'AirLoopHVAC:Unitary:Furnace:HeatOnly', 'AirLoopHVAC:Unitary:Furnace:HeatCool', 'AirLoopHVAC:UnitaryHeatOnly', 'AirLoopHVAC:UnitaryHeatCool', 'AirLoopHVAC:UnitaryHeatPump:AirToAir', 'AirLoopHVAC:UnitaryHeatPump:WaterToAir', 'AirLoopHVAC:UnitaryHeatCool:VAVChangeoverBypass', 'AirLoopHVAC:UnitaryHeatPump:AirToAir:MultiSpeed', 'AirConditioner:VariableRefrigerantFlow', 'AirConditioner:VariableRefrigerantFlow:FluidTemperatureControl', 'AirConditioner:VariableRefrigerantFlow:FluidTemperatureControl:HR', 'ZoneTerminalUnitList', 'Controller:WaterCoil', 'Controller:OutdoorAir', 'Controller:MechanicalVentilation', 'AirLoopHVAC:ControllerList', 'AirLoopHVAC', 'AirLoopHVAC:OutdoorAirSystem:EquipmentList', 'AirLoopHVAC:OutdoorAirSystem', 'OutdoorAir:Mixer', 'AirLoopHVAC:ZoneSplitter', 'AirLoopHVAC:SupplyPlenum', 'AirLoopHVAC:SupplyPath', 'AirLoopHVAC:ZoneMixer', 'AirLoopHVAC:ReturnPlenum', 'AirLoopHVAC:ReturnPath', 'AirLoopHVAC:DedicatedOutdoorAirSystem', 'AirLoopHVAC:Mixer', 'AirLoopHVAC:Splitter', 'Branch', 'BranchList', 'Connector:Splitter', 'Connector:Mixer', 'ConnectorList', 'NodeList', 'OutdoorAir:Node', 'OutdoorAir:NodeList', 'Pipe:Adiabatic', 'Pipe:Adiabatic:Steam', 'Pipe:Indoor', 'Pipe:Outdoor', 'Pipe:Underground', 'PipingSystem:Underground:Domain', 'PipingSystem:Underground:PipeCircuit', 'PipingSystem:Underground:PipeSegment', 'Duct', 'Pump:VariableSpeed', 'Pump:ConstantSpeed', 'Pump:VariableSpeed:Condensate', 'HeaderedPumps:ConstantSpeed', 'HeaderedPumps:VariableSpeed', 'TemperingValve', 'LoadProfile:Plant', 'SolarCollectorPerformance:FlatPlate', 'SolarCollector:FlatPlate:Water', 'SolarCollector:FlatPlate:PhotovoltaicThermal', 'SolarCollectorPerformance:PhotovoltaicThermal:Simple', 'SolarCollector:IntegralCollectorStorage', 'SolarCollectorPerformance:IntegralCollectorStorage', 'SolarCollector:UnglazedTranspired', 'SolarCollector:UnglazedTranspired:Multisystem', 'Boiler:HotWater', 'Boiler:Steam', 'Chiller:Electric:EIR', 'Chiller:Electric:ReformulatedEIR', 'Chiller:Electric', 'Chiller:Absorption:Indirect', 'Chiller:Absorption', 'Chiller:ConstantCOP', 'Chiller:EngineDriven', 'Chiller:CombustionTurbine', 'ChillerHeater:Absorption:DirectFired', 'ChillerHeater:Absorption:DoubleEffect', 'HeatPump:PlantLoop:EIR:Cooling', 'HeatPump:PlantLoop:EIR:Heating', 'HeatPump:WaterToWater:EquationFit:Heating', 'HeatPump:WaterToWater:EquationFit:Cooling', 'HeatPump:WaterToWater:ParameterEstimation:Cooling', 'HeatPump:WaterToWater:ParameterEstimation:Heating', 'DistrictCooling', 'DistrictHeating', 'PlantComponent:TemperatureSource', 'CentralHeatPumpSystem', 'ChillerHeaterPerformance:Electric:EIR', 'CoolingTower:SingleSpeed', 'CoolingTower:TwoSpeed', 'CoolingTower:VariableSpeed:Merkel', 'CoolingTower:VariableSpeed', 'CoolingTowerPerformance:CoolTools', 'CoolingTowerPerformance:YorkCalc', 'EvaporativeFluidCooler:SingleSpeed', 'EvaporativeFluidCooler:TwoSpeed', 'FluidCooler:SingleSpeed', 'FluidCooler:TwoSpeed', 'GroundHeatExchanger:System', 'GroundHeatExchanger:Vertical:Properties', 'GroundHeatExchanger:Vertical:Array', 'GroundHeatExchanger:Vertical:Single', 'GroundHeatExchanger:ResponseFactors', 'GroundHeatExchanger:Pond', 'GroundHeatExchanger:Surface', 'GroundHeatExchanger:HorizontalTrench', 'GroundHeatExchanger:Slinky', 'HeatExchanger:FluidToFluid', 'WaterHeater:Mixed', 'WaterHeater:Stratified', 'WaterHeater:Sizing', 'WaterHeater:HeatPump:PumpedCondenser', 'WaterHeater:HeatPump:WrappedCondenser', 'ThermalStorage:Ice:Simple', 'ThermalStorage:Ice:Detailed', 'ThermalStorage:ChilledWater:Mixed', 'ThermalStorage:ChilledWater:Stratified', 'PlantLoop', 'CondenserLoop', 'PlantEquipmentList', 'CondenserEquipmentList', 'PlantEquipmentOperation:Uncontrolled', 'PlantEquipmentOperation:CoolingLoad', 'PlantEquipmentOperation:HeatingLoad', 'PlantEquipmentOperation:OutdoorDryBulb', 'PlantEquipmentOperation:OutdoorWetBulb', 'PlantEquipmentOperation:OutdoorRelativeHumidity', 'PlantEquipmentOperation:OutdoorDewpoint', 'PlantEquipmentOperation:ComponentSetpoint', 'PlantEquipmentOperation:ThermalEnergyStorage', 'PlantEquipmentOperation:OutdoorDryBulbDifference', 'PlantEquipmentOperation:OutdoorWetBulbDifference', 'PlantEquipmentOperation:OutdoorDewpointDifference', 'PlantEquipmentOperationSchemes', 'CondenserEquipmentOperationSchemes', 'EnergyManagementSystem:Sensor', 'EnergyManagementSystem:Actuator', 'EnergyManagementSystem:ProgramCallingManager', 'EnergyManagementSystem:Program', 'EnergyManagementSystem:Subroutine', 'EnergyManagementSystem:GlobalVariable', 'EnergyManagementSystem:OutputVariable', 'EnergyManagementSystem:MeteredOutputVariable', 'EnergyManagementSystem:TrendVariable', 'EnergyManagementSystem:InternalVariable', 'EnergyManagementSystem:CurveOrTableIndexVariable', 'EnergyManagementSystem:ConstructionIndexVariable', 'ExternalInterface', 'ExternalInterface:Schedule', 'ExternalInterface:Variable', 'ExternalInterface:Actuator', 'ExternalInterface:FunctionalMockupUnitImport', 'ExternalInterface:FunctionalMockupUnitImport:From:Variable', 'ExternalInterface:FunctionalMockupUnitImport:To:Schedule', 'ExternalInterface:FunctionalMockupUnitImport:To:Actuator', 'ExternalInterface:FunctionalMockupUnitImport:To:Variable', 'ExternalInterface:FunctionalMockupUnitExport:From:Variable', 'ExternalInterface:FunctionalMockupUnitExport:To:Schedule', 'ExternalInterface:FunctionalMockupUnitExport:To:Actuator', 'ExternalInterface:FunctionalMockupUnitExport:To:Variable', 'ZoneHVAC:ForcedAir:UserDefined', 'AirTerminal:SingleDuct:UserDefined', 'Coil:UserDefined', 'PlantComponent:UserDefined', 'PlantEquipmentOperation:UserDefined', 'AvailabilityManager:Scheduled', 'AvailabilityManager:ScheduledOn', 'AvailabilityManager:ScheduledOff', 'AvailabilityManager:OptimumStart', 'AvailabilityManager:NightCycle', 'AvailabilityManager:DifferentialThermostat', 'AvailabilityManager:HighTemperatureTurnOff', 'AvailabilityManager:HighTemperatureTurnOn', 'AvailabilityManager:LowTemperatureTurnOff', 'AvailabilityManager:LowTemperatureTurnOn', 'AvailabilityManager:NightVentilation', 'AvailabilityManager:HybridVentilation', 'AvailabilityManagerAssignmentList', 'SetpointManager:Scheduled', 'SetpointManager:Scheduled:DualSetpoint', 'SetpointManager:OutdoorAirReset', 'SetpointManager:SingleZone:Reheat', 'SetpointManager:SingleZone:Heating', 'SetpointManager:SingleZone:Cooling', 'SetpointManager:SingleZone:Humidity:Minimum', 'SetpointManager:SingleZone:Humidity:Maximum', 'SetpointManager:MixedAir', 'SetpointManager:OutdoorAirPretreat', 'SetpointManager:Warmest', 'SetpointManager:Coldest', 'SetpointManager:ReturnAirBypassFlow', 'SetpointManager:WarmestTemperatureFlow', 'SetpointManager:MultiZone:Heating:Average', 'SetpointManager:MultiZone:Cooling:Average', 'SetpointManager:MultiZone:MinimumHumidity:Average', 'SetpointManager:MultiZone:MaximumHumidity:Average', 'SetpointManager:MultiZone:Humidity:Minimum', 'SetpointManager:MultiZone:Humidity:Maximum', 'SetpointManager:FollowOutdoorAirTemperature', 'SetpointManager:FollowSystemNodeTemperature', 'SetpointManager:FollowGroundTemperature', 'SetpointManager:CondenserEnteringReset', 'SetpointManager:CondenserEnteringReset:Ideal', 'SetpointManager:SingleZone:OneStageCooling', 'SetpointManager:SingleZone:OneStageHeating', 'SetpointManager:ReturnTemperature:ChilledWater', 'SetpointManager:ReturnTemperature:HotWater', 'Refrigeration:Case', 'Refrigeration:CompressorRack', 'Refrigeration:CaseAndWalkInList', 'Refrigeration:Condenser:AirCooled', 'Refrigeration:Condenser:EvaporativeCooled', 'Refrigeration:Condenser:WaterCooled', 'Refrigeration:Condenser:Cascade', 'Refrigeration:GasCooler:AirCooled', 'Refrigeration:TransferLoadList', 'Refrigeration:Subcooler', 'Refrigeration:Compressor', 'Refrigeration:CompressorList', 'Refrigeration:System', 'Refrigeration:TranscriticalSystem', 'Refrigeration:SecondarySystem', 'Refrigeration:WalkIn', 'Refrigeration:AirChiller', 'ZoneHVAC:RefrigerationChillerSet', 'DemandManagerAssignmentList', 'DemandManager:ExteriorLights', 'DemandManager:Lights', 'DemandManager:ElectricEquipment', 'DemandManager:Thermostats', 'DemandManager:Ventilation', 'Generator:InternalCombustionEngine', 'Generator:CombustionTurbine', 'Generator:MicroTurbine', 'Generator:Photovoltaic', 'PhotovoltaicPerformance:Simple', 'PhotovoltaicPerformance:EquivalentOne-Diode', 'PhotovoltaicPerformance:Sandia', 'Generator:PVWatts', 'ElectricLoadCenter:Inverter:PVWatts', 'Generator:FuelCell', 'Generator:FuelCell:PowerModule', 'Generator:FuelCell:AirSupply', 'Generator:FuelCell:WaterSupply', 'Generator:FuelCell:AuxiliaryHeater', 'Generator:FuelCell:ExhaustGasToWaterHeatExchanger', 'Generator:FuelCell:ElectricalStorage', 'Generator:FuelCell:Inverter', 'Generator:FuelCell:StackCooler', 'Generator:MicroCHP', 'Generator:MicroCHP:NonNormalizedParameters', 'Generator:FuelSupply', 'Generator:WindTurbine', 'ElectricLoadCenter:Generators', 'ElectricLoadCenter:Inverter:Simple', 'ElectricLoadCenter:Inverter:FunctionOfPower', 'ElectricLoadCenter:Inverter:LookUpTable', 'ElectricLoadCenter:Storage:Simple', 'ElectricLoadCenter:Storage:Battery', 'ElectricLoadCenter:Transformer', 'ElectricLoadCenter:Distribution', 'ElectricLoadCenter:Storage:Converter', 'WaterUse:Equipment', 'WaterUse:Connections', 'WaterUse:Storage', 'WaterUse:Well', 'WaterUse:RainCollector', 'FaultModel:TemperatureSensorOffset:OutdoorAir', 'FaultModel:HumiditySensorOffset:OutdoorAir', 'FaultModel:EnthalpySensorOffset:OutdoorAir', 'FaultModel:TemperatureSensorOffset:ReturnAir', 'FaultModel:EnthalpySensorOffset:ReturnAir', 'FaultModel:TemperatureSensorOffset:ChillerSupplyWater', 'FaultModel:TemperatureSensorOffset:CoilSupplyAir', 'FaultModel:TemperatureSensorOffset:CondenserSupplyWater', 'FaultModel:ThermostatOffset', 'FaultModel:HumidistatOffset', 'FaultModel:Fouling:AirFilter', 'FaultModel:Fouling:Boiler', 'FaultModel:Fouling:EvaporativeCooler', 'FaultModel:Fouling:Chiller', 'FaultModel:Fouling:CoolingTower', 'FaultModel:Fouling:Coil', 'Matrix:TwoDimension', 'HybridModel:Zone', 'Curve:Linear', 'Curve:QuadLinear', 'Curve:Quadratic', 'Curve:Cubic', 'Curve:Quartic', 'Curve:Exponent', 'Curve:Bicubic', 'Curve:Biquadratic', 'Curve:QuadraticLinear', 'Curve:CubicLinear', 'Curve:Triquadratic', 'Curve:Functional:PressureDrop', 'Curve:FanPressureRise', 'Curve:ExponentialSkewNormal', 'Curve:Sigmoid', 'Curve:RectangularHyperbola1', 'Curve:RectangularHyperbola2', 'Curve:ExponentialDecay', 'Curve:DoubleExponentialDecay', 'Curve:ChillerPartLoadWithLift', 'Table:IndependentVariable', 'Table:IndependentVariableList', 'Table:Lookup', 'FluidProperties:Name', 'FluidProperties:GlycolConcentration', 'FluidProperties:Temperatures', 'FluidProperties:Saturated', 'FluidProperties:Superheated', 'FluidProperties:Concentration', 'CurrencyType', 'ComponentCost:Adjustments', 'ComponentCost:Reference', 'ComponentCost:LineItem', 'UtilityCost:Tariff', 'UtilityCost:Qualify', 'UtilityCost:Charge:Simple', 'UtilityCost:Charge:Block', 'UtilityCost:Ratchet', 'UtilityCost:Variable', 'UtilityCost:Computation', 'LifeCycleCost:Parameters', 'LifeCycleCost:RecurringCosts', 'LifeCycleCost:NonrecurringCost', 'LifeCycleCost:UsePriceEscalation', 'LifeCycleCost:UseAdjustment', 'Parametric:SetValueForRun', 'Parametric:Logic', 'Parametric:RunControl', 'Parametric:FileNameSuffix', 'Output:VariableDictionary', 'Output:Surfaces:List', 'Output:Surfaces:Drawing', 'Output:Schedules', 'Output:Constructions', 'Output:EnergyManagementSystem', 'OutputControl:SurfaceColorScheme', 'Output:Table:SummaryReports', 'Output:Table:TimeBins', 'Output:Table:Monthly', 'Output:Table:Annual', 'OutputControl:Table:Style', 'OutputControl:ReportingTolerances', 'Output:Variable', 'Output:Meter', 'Output:Meter:MeterFileOnly', 'Output:Meter:Cumulative', 'Output:Meter:Cumulative:MeterFileOnly', 'Meter:Custom', 'Meter:CustomDecrement', 'OutputControl:Files', 'Output:JSON', 'Output:SQLite', 'Output:EnvironmentalImpactFactors', 'EnvironmentalImpactFactors', 'FuelFactors', 'Output:Diagnostics', 'Output:DebuggingData', 'Output:PreprocessorMessage', 'PythonPlugin:SearchPaths', 'PythonPlugin:Instance', 'PythonPlugin:Variables', 'PythonPlugin:TrendVariable', 'PythonPlugin:OutputVariable']\n"
     ]
    }
   ],
   "source": [
    "print(schema.object_type_names)"
   ]
  },
  {
   "cell_type": "markdown",
   "metadata": {},
   "source": [
    "### 3.3. Accessing all object types"
   ]
  },
  {
   "cell_type": "code",
   "execution_count": 13,
   "metadata": {
    "scrolled": true
   },
   "outputs": [
    {
     "data": {
      "text/plain": [
       "[EPSchemaObjectType(name=\"Version\"),\n",
       " EPSchemaObjectType(name=\"SimulationControl\"),\n",
       " EPSchemaObjectType(name=\"PerformancePrecisionTradeoffs\"),\n",
       " EPSchemaObjectType(name=\"Building\"),\n",
       " EPSchemaObjectType(name=\"ShadowCalculation\"),\n",
       " EPSchemaObjectType(name=\"SurfaceConvectionAlgorithm:Inside\"),\n",
       " EPSchemaObjectType(name=\"SurfaceConvectionAlgorithm:Outside\"),\n",
       " EPSchemaObjectType(name=\"HeatBalanceAlgorithm\"),\n",
       " EPSchemaObjectType(name=\"HeatBalanceSettings:ConductionFiniteDifference\"),\n",
       " EPSchemaObjectType(name=\"ZoneAirHeatBalanceAlgorithm\"),\n",
       " EPSchemaObjectType(name=\"ZoneAirContaminantBalance\"),\n",
       " EPSchemaObjectType(name=\"ZoneAirMassFlowConservation\"),\n",
       " EPSchemaObjectType(name=\"ZoneCapacitanceMultiplier:ResearchSpecial\"),\n",
       " EPSchemaObjectType(name=\"Timestep\"),\n",
       " EPSchemaObjectType(name=\"ConvergenceLimits\"),\n",
       " EPSchemaObjectType(name=\"HVACSystemRootFindingAlgorithm\"),\n",
       " EPSchemaObjectType(name=\"Compliance:Building\"),\n",
       " EPSchemaObjectType(name=\"Site:Location\"),\n",
       " EPSchemaObjectType(name=\"Site:VariableLocation\"),\n",
       " EPSchemaObjectType(name=\"SizingPeriod:DesignDay\"),\n",
       " EPSchemaObjectType(name=\"SizingPeriod:WeatherFileDays\"),\n",
       " EPSchemaObjectType(name=\"SizingPeriod:WeatherFileConditionType\"),\n",
       " EPSchemaObjectType(name=\"RunPeriod\"),\n",
       " EPSchemaObjectType(name=\"RunPeriodControl:SpecialDays\"),\n",
       " EPSchemaObjectType(name=\"RunPeriodControl:DaylightSavingTime\"),\n",
       " EPSchemaObjectType(name=\"WeatherProperty:SkyTemperature\"),\n",
       " EPSchemaObjectType(name=\"Site:WeatherStation\"),\n",
       " EPSchemaObjectType(name=\"Site:HeightVariation\"),\n",
       " EPSchemaObjectType(name=\"Site:GroundTemperature:BuildingSurface\"),\n",
       " EPSchemaObjectType(name=\"Site:GroundTemperature:FCfactorMethod\"),\n",
       " EPSchemaObjectType(name=\"Site:GroundTemperature:Shallow\"),\n",
       " EPSchemaObjectType(name=\"Site:GroundTemperature:Deep\"),\n",
       " EPSchemaObjectType(name=\"Site:GroundTemperature:Undisturbed:FiniteDifference\"),\n",
       " EPSchemaObjectType(name=\"Site:GroundTemperature:Undisturbed:KusudaAchenbach\"),\n",
       " EPSchemaObjectType(name=\"Site:GroundTemperature:Undisturbed:Xing\"),\n",
       " EPSchemaObjectType(name=\"Site:GroundDomain:Slab\"),\n",
       " EPSchemaObjectType(name=\"Site:GroundDomain:Basement\"),\n",
       " EPSchemaObjectType(name=\"Site:GroundReflectance\"),\n",
       " EPSchemaObjectType(name=\"Site:GroundReflectance:SnowModifier\"),\n",
       " EPSchemaObjectType(name=\"Site:WaterMainsTemperature\"),\n",
       " EPSchemaObjectType(name=\"Site:Precipitation\"),\n",
       " EPSchemaObjectType(name=\"RoofIrrigation\"),\n",
       " EPSchemaObjectType(name=\"Site:SolarAndVisibleSpectrum\"),\n",
       " EPSchemaObjectType(name=\"Site:SpectrumData\"),\n",
       " EPSchemaObjectType(name=\"ScheduleTypeLimits\"),\n",
       " EPSchemaObjectType(name=\"Schedule:Day:Hourly\"),\n",
       " EPSchemaObjectType(name=\"Schedule:Day:Interval\"),\n",
       " EPSchemaObjectType(name=\"Schedule:Day:List\"),\n",
       " EPSchemaObjectType(name=\"Schedule:Week:Daily\"),\n",
       " EPSchemaObjectType(name=\"Schedule:Week:Compact\"),\n",
       " EPSchemaObjectType(name=\"Schedule:Year\"),\n",
       " EPSchemaObjectType(name=\"Schedule:Compact\"),\n",
       " EPSchemaObjectType(name=\"Schedule:Constant\"),\n",
       " EPSchemaObjectType(name=\"Schedule:File:Shading\"),\n",
       " EPSchemaObjectType(name=\"Schedule:File\"),\n",
       " EPSchemaObjectType(name=\"Material\"),\n",
       " EPSchemaObjectType(name=\"Material:NoMass\"),\n",
       " EPSchemaObjectType(name=\"Material:InfraredTransparent\"),\n",
       " EPSchemaObjectType(name=\"Material:AirGap\"),\n",
       " EPSchemaObjectType(name=\"Material:RoofVegetation\"),\n",
       " EPSchemaObjectType(name=\"WindowMaterial:SimpleGlazingSystem\"),\n",
       " EPSchemaObjectType(name=\"WindowMaterial:Glazing\"),\n",
       " EPSchemaObjectType(name=\"WindowMaterial:GlazingGroup:Thermochromic\"),\n",
       " EPSchemaObjectType(name=\"WindowMaterial:Glazing:RefractionExtinctionMethod\"),\n",
       " EPSchemaObjectType(name=\"WindowMaterial:Gas\"),\n",
       " EPSchemaObjectType(name=\"WindowGap:SupportPillar\"),\n",
       " EPSchemaObjectType(name=\"WindowGap:DeflectionState\"),\n",
       " EPSchemaObjectType(name=\"WindowMaterial:GasMixture\"),\n",
       " EPSchemaObjectType(name=\"WindowMaterial:Gap\"),\n",
       " EPSchemaObjectType(name=\"WindowMaterial:Shade\"),\n",
       " EPSchemaObjectType(name=\"WindowMaterial:ComplexShade\"),\n",
       " EPSchemaObjectType(name=\"WindowMaterial:Blind\"),\n",
       " EPSchemaObjectType(name=\"WindowMaterial:Screen\"),\n",
       " EPSchemaObjectType(name=\"WindowMaterial:Shade:EquivalentLayer\"),\n",
       " EPSchemaObjectType(name=\"WindowMaterial:Drape:EquivalentLayer\"),\n",
       " EPSchemaObjectType(name=\"WindowMaterial:Blind:EquivalentLayer\"),\n",
       " EPSchemaObjectType(name=\"WindowMaterial:Screen:EquivalentLayer\"),\n",
       " EPSchemaObjectType(name=\"WindowMaterial:Glazing:EquivalentLayer\"),\n",
       " EPSchemaObjectType(name=\"WindowMaterial:Gap:EquivalentLayer\"),\n",
       " EPSchemaObjectType(name=\"MaterialProperty:MoisturePenetrationDepth:Settings\"),\n",
       " EPSchemaObjectType(name=\"MaterialProperty:PhaseChange\"),\n",
       " EPSchemaObjectType(name=\"MaterialProperty:PhaseChangeHysteresis\"),\n",
       " EPSchemaObjectType(name=\"MaterialProperty:VariableThermalConductivity\"),\n",
       " EPSchemaObjectType(name=\"MaterialProperty:HeatAndMoistureTransfer:Settings\"),\n",
       " EPSchemaObjectType(name=\"MaterialProperty:HeatAndMoistureTransfer:SorptionIsotherm\"),\n",
       " EPSchemaObjectType(name=\"MaterialProperty:HeatAndMoistureTransfer:Suction\"),\n",
       " EPSchemaObjectType(name=\"MaterialProperty:HeatAndMoistureTransfer:Redistribution\"),\n",
       " EPSchemaObjectType(name=\"MaterialProperty:HeatAndMoistureTransfer:Diffusion\"),\n",
       " EPSchemaObjectType(name=\"MaterialProperty:HeatAndMoistureTransfer:ThermalConductivity\"),\n",
       " EPSchemaObjectType(name=\"MaterialProperty:GlazingSpectralData\"),\n",
       " EPSchemaObjectType(name=\"Construction\"),\n",
       " EPSchemaObjectType(name=\"Construction:CfactorUndergroundWall\"),\n",
       " EPSchemaObjectType(name=\"Construction:FfactorGroundFloor\"),\n",
       " EPSchemaObjectType(name=\"Construction:InternalSource\"),\n",
       " EPSchemaObjectType(name=\"Construction:AirBoundary\"),\n",
       " EPSchemaObjectType(name=\"WindowThermalModel:Params\"),\n",
       " EPSchemaObjectType(name=\"WindowsCalculationEngine\"),\n",
       " EPSchemaObjectType(name=\"Construction:ComplexFenestrationState\"),\n",
       " EPSchemaObjectType(name=\"Construction:WindowEquivalentLayer\"),\n",
       " EPSchemaObjectType(name=\"Construction:WindowDataFile\"),\n",
       " EPSchemaObjectType(name=\"GlobalGeometryRules\"),\n",
       " EPSchemaObjectType(name=\"GeometryTransform\"),\n",
       " EPSchemaObjectType(name=\"Zone\"),\n",
       " EPSchemaObjectType(name=\"ZoneList\"),\n",
       " EPSchemaObjectType(name=\"ZoneGroup\"),\n",
       " EPSchemaObjectType(name=\"BuildingSurface:Detailed\"),\n",
       " EPSchemaObjectType(name=\"Wall:Detailed\"),\n",
       " EPSchemaObjectType(name=\"RoofCeiling:Detailed\"),\n",
       " EPSchemaObjectType(name=\"Floor:Detailed\"),\n",
       " EPSchemaObjectType(name=\"Wall:Exterior\"),\n",
       " EPSchemaObjectType(name=\"Wall:Adiabatic\"),\n",
       " EPSchemaObjectType(name=\"Wall:Underground\"),\n",
       " EPSchemaObjectType(name=\"Wall:Interzone\"),\n",
       " EPSchemaObjectType(name=\"Roof\"),\n",
       " EPSchemaObjectType(name=\"Ceiling:Adiabatic\"),\n",
       " EPSchemaObjectType(name=\"Ceiling:Interzone\"),\n",
       " EPSchemaObjectType(name=\"Floor:GroundContact\"),\n",
       " EPSchemaObjectType(name=\"Floor:Adiabatic\"),\n",
       " EPSchemaObjectType(name=\"Floor:Interzone\"),\n",
       " EPSchemaObjectType(name=\"FenestrationSurface:Detailed\"),\n",
       " EPSchemaObjectType(name=\"Window\"),\n",
       " EPSchemaObjectType(name=\"Door\"),\n",
       " EPSchemaObjectType(name=\"GlazedDoor\"),\n",
       " EPSchemaObjectType(name=\"Window:Interzone\"),\n",
       " EPSchemaObjectType(name=\"Door:Interzone\"),\n",
       " EPSchemaObjectType(name=\"GlazedDoor:Interzone\"),\n",
       " EPSchemaObjectType(name=\"WindowShadingControl\"),\n",
       " EPSchemaObjectType(name=\"WindowProperty:FrameAndDivider\"),\n",
       " EPSchemaObjectType(name=\"WindowProperty:AirflowControl\"),\n",
       " EPSchemaObjectType(name=\"WindowProperty:StormWindow\"),\n",
       " EPSchemaObjectType(name=\"InternalMass\"),\n",
       " EPSchemaObjectType(name=\"Shading:Site\"),\n",
       " EPSchemaObjectType(name=\"Shading:Building\"),\n",
       " EPSchemaObjectType(name=\"Shading:Site:Detailed\"),\n",
       " EPSchemaObjectType(name=\"Shading:Building:Detailed\"),\n",
       " EPSchemaObjectType(name=\"Shading:Overhang\"),\n",
       " EPSchemaObjectType(name=\"Shading:Overhang:Projection\"),\n",
       " EPSchemaObjectType(name=\"Shading:Fin\"),\n",
       " EPSchemaObjectType(name=\"Shading:Fin:Projection\"),\n",
       " EPSchemaObjectType(name=\"Shading:Zone:Detailed\"),\n",
       " EPSchemaObjectType(name=\"ShadingProperty:Reflectance\"),\n",
       " EPSchemaObjectType(name=\"SurfaceProperty:HeatTransferAlgorithm\"),\n",
       " EPSchemaObjectType(name=\"SurfaceProperty:HeatTransferAlgorithm:MultipleSurface\"),\n",
       " EPSchemaObjectType(name=\"SurfaceProperty:HeatTransferAlgorithm:SurfaceList\"),\n",
       " EPSchemaObjectType(name=\"SurfaceProperty:HeatTransferAlgorithm:Construction\"),\n",
       " EPSchemaObjectType(name=\"SurfaceProperty:HeatBalanceSourceTerm\"),\n",
       " EPSchemaObjectType(name=\"SurfaceControl:MovableInsulation\"),\n",
       " EPSchemaObjectType(name=\"SurfaceProperty:OtherSideCoefficients\"),\n",
       " EPSchemaObjectType(name=\"SurfaceProperty:OtherSideConditionsModel\"),\n",
       " EPSchemaObjectType(name=\"SurfaceProperty:Underwater\"),\n",
       " EPSchemaObjectType(name=\"Foundation:Kiva\"),\n",
       " EPSchemaObjectType(name=\"Foundation:Kiva:Settings\"),\n",
       " EPSchemaObjectType(name=\"SurfaceProperty:ExposedFoundationPerimeter\"),\n",
       " EPSchemaObjectType(name=\"SurfaceConvectionAlgorithm:Inside:AdaptiveModelSelections\"),\n",
       " EPSchemaObjectType(name=\"SurfaceConvectionAlgorithm:Outside:AdaptiveModelSelections\"),\n",
       " EPSchemaObjectType(name=\"SurfaceConvectionAlgorithm:Inside:UserCurve\"),\n",
       " EPSchemaObjectType(name=\"SurfaceConvectionAlgorithm:Outside:UserCurve\"),\n",
       " EPSchemaObjectType(name=\"SurfaceProperty:ConvectionCoefficients\"),\n",
       " EPSchemaObjectType(name=\"SurfaceProperty:ConvectionCoefficients:MultipleSurface\"),\n",
       " EPSchemaObjectType(name=\"SurfaceProperties:VaporCoefficients\"),\n",
       " EPSchemaObjectType(name=\"SurfaceProperty:ExteriorNaturalVentedCavity\"),\n",
       " EPSchemaObjectType(name=\"SurfaceProperty:SolarIncidentInside\"),\n",
       " EPSchemaObjectType(name=\"SurfaceProperty:LocalEnvironment\"),\n",
       " EPSchemaObjectType(name=\"ZoneProperty:LocalEnvironment\"),\n",
       " EPSchemaObjectType(name=\"SurfaceProperty:SurroundingSurfaces\"),\n",
       " EPSchemaObjectType(name=\"ComplexFenestrationProperty:SolarAbsorbedLayers\"),\n",
       " EPSchemaObjectType(name=\"ZoneProperty:UserViewFactors:BySurfaceName\"),\n",
       " EPSchemaObjectType(name=\"GroundHeatTransfer:Control\"),\n",
       " EPSchemaObjectType(name=\"GroundHeatTransfer:Slab:Materials\"),\n",
       " EPSchemaObjectType(name=\"GroundHeatTransfer:Slab:MatlProps\"),\n",
       " EPSchemaObjectType(name=\"GroundHeatTransfer:Slab:BoundConds\"),\n",
       " EPSchemaObjectType(name=\"GroundHeatTransfer:Slab:BldgProps\"),\n",
       " EPSchemaObjectType(name=\"GroundHeatTransfer:Slab:Insulation\"),\n",
       " EPSchemaObjectType(name=\"GroundHeatTransfer:Slab:EquivalentSlab\"),\n",
       " EPSchemaObjectType(name=\"GroundHeatTransfer:Slab:AutoGrid\"),\n",
       " EPSchemaObjectType(name=\"GroundHeatTransfer:Slab:ManualGrid\"),\n",
       " EPSchemaObjectType(name=\"GroundHeatTransfer:Slab:XFACE\"),\n",
       " EPSchemaObjectType(name=\"GroundHeatTransfer:Slab:YFACE\"),\n",
       " EPSchemaObjectType(name=\"GroundHeatTransfer:Slab:ZFACE\"),\n",
       " EPSchemaObjectType(name=\"GroundHeatTransfer:Basement:SimParameters\"),\n",
       " EPSchemaObjectType(name=\"GroundHeatTransfer:Basement:MatlProps\"),\n",
       " EPSchemaObjectType(name=\"GroundHeatTransfer:Basement:Insulation\"),\n",
       " EPSchemaObjectType(name=\"GroundHeatTransfer:Basement:SurfaceProps\"),\n",
       " EPSchemaObjectType(name=\"GroundHeatTransfer:Basement:BldgData\"),\n",
       " EPSchemaObjectType(name=\"GroundHeatTransfer:Basement:Interior\"),\n",
       " EPSchemaObjectType(name=\"GroundHeatTransfer:Basement:ComBldg\"),\n",
       " EPSchemaObjectType(name=\"GroundHeatTransfer:Basement:EquivSlab\"),\n",
       " EPSchemaObjectType(name=\"GroundHeatTransfer:Basement:EquivAutoGrid\"),\n",
       " EPSchemaObjectType(name=\"GroundHeatTransfer:Basement:AutoGrid\"),\n",
       " EPSchemaObjectType(name=\"GroundHeatTransfer:Basement:ManualGrid\"),\n",
       " EPSchemaObjectType(name=\"GroundHeatTransfer:Basement:XFACE\"),\n",
       " EPSchemaObjectType(name=\"GroundHeatTransfer:Basement:YFACE\"),\n",
       " EPSchemaObjectType(name=\"GroundHeatTransfer:Basement:ZFACE\"),\n",
       " EPSchemaObjectType(name=\"RoomAirModelType\"),\n",
       " EPSchemaObjectType(name=\"RoomAir:TemperaturePattern:UserDefined\"),\n",
       " EPSchemaObjectType(name=\"RoomAir:TemperaturePattern:ConstantGradient\"),\n",
       " EPSchemaObjectType(name=\"RoomAir:TemperaturePattern:TwoGradient\"),\n",
       " EPSchemaObjectType(name=\"RoomAir:TemperaturePattern:NondimensionalHeight\"),\n",
       " EPSchemaObjectType(name=\"RoomAir:TemperaturePattern:SurfaceMapping\"),\n",
       " EPSchemaObjectType(name=\"RoomAir:Node\"),\n",
       " EPSchemaObjectType(name=\"RoomAirSettings:OneNodeDisplacementVentilation\"),\n",
       " EPSchemaObjectType(name=\"RoomAirSettings:ThreeNodeDisplacementVentilation\"),\n",
       " EPSchemaObjectType(name=\"RoomAirSettings:CrossVentilation\"),\n",
       " EPSchemaObjectType(name=\"RoomAirSettings:UnderFloorAirDistributionInterior\"),\n",
       " EPSchemaObjectType(name=\"RoomAirSettings:UnderFloorAirDistributionExterior\"),\n",
       " EPSchemaObjectType(name=\"RoomAir:Node:AirflowNetwork\"),\n",
       " EPSchemaObjectType(name=\"RoomAir:Node:AirflowNetwork:AdjacentSurfaceList\"),\n",
       " EPSchemaObjectType(name=\"RoomAir:Node:AirflowNetwork:InternalGains\"),\n",
       " EPSchemaObjectType(name=\"RoomAir:Node:AirflowNetwork:HVACEquipment\"),\n",
       " EPSchemaObjectType(name=\"RoomAirSettings:AirflowNetwork\"),\n",
       " EPSchemaObjectType(name=\"People\"),\n",
       " EPSchemaObjectType(name=\"ComfortViewFactorAngles\"),\n",
       " EPSchemaObjectType(name=\"Lights\"),\n",
       " EPSchemaObjectType(name=\"ElectricEquipment\"),\n",
       " EPSchemaObjectType(name=\"GasEquipment\"),\n",
       " EPSchemaObjectType(name=\"HotWaterEquipment\"),\n",
       " EPSchemaObjectType(name=\"SteamEquipment\"),\n",
       " EPSchemaObjectType(name=\"OtherEquipment\"),\n",
       " EPSchemaObjectType(name=\"ElectricEquipment:ITE:AirCooled\"),\n",
       " EPSchemaObjectType(name=\"ZoneBaseboard:OutdoorTemperatureControlled\"),\n",
       " EPSchemaObjectType(name=\"SwimmingPool:Indoor\"),\n",
       " EPSchemaObjectType(name=\"ZoneContaminantSourceAndSink:CarbonDioxide\"),\n",
       " EPSchemaObjectType(name=\"ZoneContaminantSourceAndSink:Generic:Constant\"),\n",
       " EPSchemaObjectType(name=\"SurfaceContaminantSourceAndSink:Generic:PressureDriven\"),\n",
       " EPSchemaObjectType(name=\"ZoneContaminantSourceAndSink:Generic:CutoffModel\"),\n",
       " EPSchemaObjectType(name=\"ZoneContaminantSourceAndSink:Generic:DecaySource\"),\n",
       " EPSchemaObjectType(name=\"SurfaceContaminantSourceAndSink:Generic:BoundaryLayerDiffusion\"),\n",
       " EPSchemaObjectType(name=\"SurfaceContaminantSourceAndSink:Generic:DepositionVelocitySink\"),\n",
       " EPSchemaObjectType(name=\"ZoneContaminantSourceAndSink:Generic:DepositionRateSink\"),\n",
       " EPSchemaObjectType(name=\"Daylighting:Controls\"),\n",
       " EPSchemaObjectType(name=\"Daylighting:ReferencePoint\"),\n",
       " EPSchemaObjectType(name=\"Daylighting:DELight:ComplexFenestration\"),\n",
       " EPSchemaObjectType(name=\"DaylightingDevice:Tubular\"),\n",
       " EPSchemaObjectType(name=\"DaylightingDevice:Shelf\"),\n",
       " EPSchemaObjectType(name=\"DaylightingDevice:LightWell\"),\n",
       " EPSchemaObjectType(name=\"Output:DaylightFactors\"),\n",
       " EPSchemaObjectType(name=\"Output:IlluminanceMap\"),\n",
       " EPSchemaObjectType(name=\"OutputControl:IlluminanceMap:Style\"),\n",
       " EPSchemaObjectType(name=\"ZoneInfiltration:DesignFlowRate\"),\n",
       " EPSchemaObjectType(name=\"ZoneInfiltration:EffectiveLeakageArea\"),\n",
       " EPSchemaObjectType(name=\"ZoneInfiltration:FlowCoefficient\"),\n",
       " EPSchemaObjectType(name=\"ZoneVentilation:DesignFlowRate\"),\n",
       " EPSchemaObjectType(name=\"ZoneVentilation:WindandStackOpenArea\"),\n",
       " EPSchemaObjectType(name=\"ZoneAirBalance:OutdoorAir\"),\n",
       " EPSchemaObjectType(name=\"ZoneMixing\"),\n",
       " EPSchemaObjectType(name=\"ZoneCrossMixing\"),\n",
       " EPSchemaObjectType(name=\"ZoneRefrigerationDoorMixing\"),\n",
       " EPSchemaObjectType(name=\"ZoneEarthtube\"),\n",
       " EPSchemaObjectType(name=\"ZoneCoolTower:Shower\"),\n",
       " EPSchemaObjectType(name=\"ZoneThermalChimney\"),\n",
       " EPSchemaObjectType(name=\"AirflowNetwork:SimulationControl\"),\n",
       " EPSchemaObjectType(name=\"AirflowNetwork:MultiZone:Zone\"),\n",
       " EPSchemaObjectType(name=\"AirflowNetwork:MultiZone:Surface\"),\n",
       " EPSchemaObjectType(name=\"AirflowNetwork:MultiZone:ReferenceCrackConditions\"),\n",
       " EPSchemaObjectType(name=\"AirflowNetwork:MultiZone:Surface:Crack\"),\n",
       " EPSchemaObjectType(name=\"AirflowNetwork:MultiZone:Surface:EffectiveLeakageArea\"),\n",
       " EPSchemaObjectType(name=\"AirflowNetwork:MultiZone:Component:DetailedOpening\"),\n",
       " EPSchemaObjectType(name=\"AirflowNetwork:MultiZone:Component:SimpleOpening\"),\n",
       " EPSchemaObjectType(name=\"AirflowNetwork:MultiZone:Component:HorizontalOpening\"),\n",
       " EPSchemaObjectType(name=\"AirflowNetwork:MultiZone:Component:ZoneExhaustFan\"),\n",
       " EPSchemaObjectType(name=\"AirflowNetwork:MultiZone:ExternalNode\"),\n",
       " EPSchemaObjectType(name=\"AirflowNetwork:MultiZone:WindPressureCoefficientArray\"),\n",
       " EPSchemaObjectType(name=\"AirflowNetwork:MultiZone:WindPressureCoefficientValues\"),\n",
       " EPSchemaObjectType(name=\"AirflowNetwork:ZoneControl:PressureController\"),\n",
       " EPSchemaObjectType(name=\"AirflowNetwork:Distribution:Node\"),\n",
       " EPSchemaObjectType(name=\"AirflowNetwork:Distribution:Component:Leak\"),\n",
       " EPSchemaObjectType(name=\"AirflowNetwork:Distribution:Component:LeakageRatio\"),\n",
       " EPSchemaObjectType(name=\"AirflowNetwork:Distribution:Component:Duct\"),\n",
       " EPSchemaObjectType(name=\"AirflowNetwork:Distribution:Component:Fan\"),\n",
       " EPSchemaObjectType(name=\"AirflowNetwork:Distribution:Component:Coil\"),\n",
       " EPSchemaObjectType(name=\"AirflowNetwork:Distribution:Component:HeatExchanger\"),\n",
       " EPSchemaObjectType(name=\"AirflowNetwork:Distribution:Component:TerminalUnit\"),\n",
       " EPSchemaObjectType(name=\"AirflowNetwork:Distribution:Component:ConstantPressureDrop\"),\n",
       " EPSchemaObjectType(name=\"AirflowNetwork:Distribution:Component:OutdoorAirFlow\"),\n",
       " EPSchemaObjectType(name=\"AirflowNetwork:Distribution:Component:ReliefAirFlow\"),\n",
       " EPSchemaObjectType(name=\"AirflowNetwork:Distribution:Linkage\"),\n",
       " EPSchemaObjectType(name=\"AirflowNetwork:Distribution:DuctViewFactors\"),\n",
       " EPSchemaObjectType(name=\"AirflowNetwork:OccupantVentilationControl\"),\n",
       " EPSchemaObjectType(name=\"AirflowNetwork:IntraZone:Node\"),\n",
       " EPSchemaObjectType(name=\"AirflowNetwork:IntraZone:Linkage\"),\n",
       " EPSchemaObjectType(name=\"Exterior:Lights\"),\n",
       " EPSchemaObjectType(name=\"Exterior:FuelEquipment\"),\n",
       " EPSchemaObjectType(name=\"Exterior:WaterEquipment\"),\n",
       " EPSchemaObjectType(name=\"HVACTemplate:Thermostat\"),\n",
       " EPSchemaObjectType(name=\"HVACTemplate:Zone:IdealLoadsAirSystem\"),\n",
       " EPSchemaObjectType(name=\"HVACTemplate:Zone:BaseboardHeat\"),\n",
       " EPSchemaObjectType(name=\"HVACTemplate:Zone:FanCoil\"),\n",
       " EPSchemaObjectType(name=\"HVACTemplate:Zone:PTAC\"),\n",
       " EPSchemaObjectType(name=\"HVACTemplate:Zone:PTHP\"),\n",
       " EPSchemaObjectType(name=\"HVACTemplate:Zone:WaterToAirHeatPump\"),\n",
       " EPSchemaObjectType(name=\"HVACTemplate:Zone:VRF\"),\n",
       " EPSchemaObjectType(name=\"HVACTemplate:Zone:Unitary\"),\n",
       " EPSchemaObjectType(name=\"HVACTemplate:Zone:VAV\"),\n",
       " EPSchemaObjectType(name=\"HVACTemplate:Zone:VAV:FanPowered\"),\n",
       " EPSchemaObjectType(name=\"HVACTemplate:Zone:VAV:HeatAndCool\"),\n",
       " EPSchemaObjectType(name=\"HVACTemplate:Zone:ConstantVolume\"),\n",
       " EPSchemaObjectType(name=\"HVACTemplate:Zone:DualDuct\"),\n",
       " EPSchemaObjectType(name=\"HVACTemplate:System:VRF\"),\n",
       " EPSchemaObjectType(name=\"HVACTemplate:System:Unitary\"),\n",
       " EPSchemaObjectType(name=\"HVACTemplate:System:UnitaryHeatPump:AirToAir\"),\n",
       " EPSchemaObjectType(name=\"HVACTemplate:System:UnitarySystem\"),\n",
       " EPSchemaObjectType(name=\"HVACTemplate:System:VAV\"),\n",
       " EPSchemaObjectType(name=\"HVACTemplate:System:PackagedVAV\"),\n",
       " EPSchemaObjectType(name=\"HVACTemplate:System:ConstantVolume\"),\n",
       " EPSchemaObjectType(name=\"HVACTemplate:System:DualDuct\"),\n",
       " EPSchemaObjectType(name=\"HVACTemplate:System:DedicatedOutdoorAir\"),\n",
       " EPSchemaObjectType(name=\"HVACTemplate:Plant:ChilledWaterLoop\"),\n",
       " EPSchemaObjectType(name=\"HVACTemplate:Plant:Chiller\"),\n",
       " EPSchemaObjectType(name=\"HVACTemplate:Plant:Chiller:ObjectReference\"),\n",
       " EPSchemaObjectType(name=\"HVACTemplate:Plant:Tower\"),\n",
       " EPSchemaObjectType(name=\"HVACTemplate:Plant:Tower:ObjectReference\"),\n",
       " EPSchemaObjectType(name=\"HVACTemplate:Plant:HotWaterLoop\"),\n",
       " EPSchemaObjectType(name=\"HVACTemplate:Plant:Boiler\"),\n",
       " EPSchemaObjectType(name=\"HVACTemplate:Plant:Boiler:ObjectReference\"),\n",
       " EPSchemaObjectType(name=\"HVACTemplate:Plant:MixedWaterLoop\"),\n",
       " EPSchemaObjectType(name=\"DesignSpecification:OutdoorAir\"),\n",
       " EPSchemaObjectType(name=\"DesignSpecification:ZoneAirDistribution\"),\n",
       " EPSchemaObjectType(name=\"Sizing:Parameters\"),\n",
       " EPSchemaObjectType(name=\"Sizing:Zone\"),\n",
       " EPSchemaObjectType(name=\"DesignSpecification:ZoneHVAC:Sizing\"),\n",
       " EPSchemaObjectType(name=\"DesignSpecification:AirTerminal:Sizing\"),\n",
       " EPSchemaObjectType(name=\"Sizing:System\"),\n",
       " EPSchemaObjectType(name=\"Sizing:Plant\"),\n",
       " EPSchemaObjectType(name=\"OutputControl:Sizing:Style\"),\n",
       " EPSchemaObjectType(name=\"ZoneControl:Humidistat\"),\n",
       " EPSchemaObjectType(name=\"ZoneControl:Thermostat\"),\n",
       " EPSchemaObjectType(name=\"ZoneControl:Thermostat:OperativeTemperature\"),\n",
       " EPSchemaObjectType(name=\"ZoneControl:Thermostat:ThermalComfort\"),\n",
       " EPSchemaObjectType(name=\"ZoneControl:Thermostat:TemperatureAndHumidity\"),\n",
       " EPSchemaObjectType(name=\"ThermostatSetpoint:SingleHeating\"),\n",
       " EPSchemaObjectType(name=\"ThermostatSetpoint:SingleCooling\"),\n",
       " EPSchemaObjectType(name=\"ThermostatSetpoint:SingleHeatingOrCooling\"),\n",
       " EPSchemaObjectType(name=\"ThermostatSetpoint:DualSetpoint\"),\n",
       " EPSchemaObjectType(name=\"ThermostatSetpoint:ThermalComfort:Fanger:SingleHeating\"),\n",
       " EPSchemaObjectType(name=\"ThermostatSetpoint:ThermalComfort:Fanger:SingleCooling\"),\n",
       " EPSchemaObjectType(name=\"ThermostatSetpoint:ThermalComfort:Fanger:SingleHeatingOrCooling\"),\n",
       " EPSchemaObjectType(name=\"ThermostatSetpoint:ThermalComfort:Fanger:DualSetpoint\"),\n",
       " EPSchemaObjectType(name=\"ZoneControl:Thermostat:StagedDualSetpoint\"),\n",
       " EPSchemaObjectType(name=\"ZoneControl:ContaminantController\"),\n",
       " EPSchemaObjectType(name=\"ZoneHVAC:IdealLoadsAirSystem\"),\n",
       " EPSchemaObjectType(name=\"ZoneHVAC:FourPipeFanCoil\"),\n",
       " EPSchemaObjectType(name=\"ZoneHVAC:WindowAirConditioner\"),\n",
       " EPSchemaObjectType(name=\"ZoneHVAC:PackagedTerminalAirConditioner\"),\n",
       " EPSchemaObjectType(name=\"ZoneHVAC:PackagedTerminalHeatPump\"),\n",
       " EPSchemaObjectType(name=\"ZoneHVAC:WaterToAirHeatPump\"),\n",
       " EPSchemaObjectType(name=\"ZoneHVAC:Dehumidifier:DX\"),\n",
       " EPSchemaObjectType(name=\"ZoneHVAC:EnergyRecoveryVentilator\"),\n",
       " EPSchemaObjectType(name=\"ZoneHVAC:EnergyRecoveryVentilator:Controller\"),\n",
       " EPSchemaObjectType(name=\"ZoneHVAC:UnitVentilator\"),\n",
       " EPSchemaObjectType(name=\"ZoneHVAC:UnitHeater\"),\n",
       " EPSchemaObjectType(name=\"ZoneHVAC:EvaporativeCoolerUnit\"),\n",
       " EPSchemaObjectType(name=\"ZoneHVAC:HybridUnitaryHVAC\"),\n",
       " EPSchemaObjectType(name=\"ZoneHVAC:OutdoorAirUnit\"),\n",
       " EPSchemaObjectType(name=\"ZoneHVAC:OutdoorAirUnit:EquipmentList\"),\n",
       " EPSchemaObjectType(name=\"ZoneHVAC:TerminalUnit:VariableRefrigerantFlow\"),\n",
       " EPSchemaObjectType(name=\"ZoneHVAC:Baseboard:RadiantConvective:Water\"),\n",
       " EPSchemaObjectType(name=\"ZoneHVAC:Baseboard:RadiantConvective:Steam\"),\n",
       " EPSchemaObjectType(name=\"ZoneHVAC:Baseboard:RadiantConvective:Electric\"),\n",
       " EPSchemaObjectType(name=\"ZoneHVAC:CoolingPanel:RadiantConvective:Water\"),\n",
       " EPSchemaObjectType(name=\"ZoneHVAC:Baseboard:Convective:Water\"),\n",
       " EPSchemaObjectType(name=\"ZoneHVAC:Baseboard:Convective:Electric\"),\n",
       " EPSchemaObjectType(name=\"ZoneHVAC:LowTemperatureRadiant:VariableFlow\"),\n",
       " EPSchemaObjectType(name=\"ZoneHVAC:LowTemperatureRadiant:ConstantFlow\"),\n",
       " EPSchemaObjectType(name=\"ZoneHVAC:LowTemperatureRadiant:Electric\"),\n",
       " EPSchemaObjectType(name=\"ZoneHVAC:LowTemperatureRadiant:SurfaceGroup\"),\n",
       " EPSchemaObjectType(name=\"ZoneHVAC:HighTemperatureRadiant\"),\n",
       " EPSchemaObjectType(name=\"ZoneHVAC:VentilatedSlab\"),\n",
       " EPSchemaObjectType(name=\"ZoneHVAC:VentilatedSlab:SlabGroup\"),\n",
       " EPSchemaObjectType(name=\"AirTerminal:SingleDuct:ConstantVolume:Reheat\"),\n",
       " EPSchemaObjectType(name=\"AirTerminal:SingleDuct:ConstantVolume:NoReheat\"),\n",
       " EPSchemaObjectType(name=\"AirTerminal:SingleDuct:VAV:NoReheat\"),\n",
       " EPSchemaObjectType(name=\"AirTerminal:SingleDuct:VAV:Reheat\"),\n",
       " EPSchemaObjectType(name=\"AirTerminal:SingleDuct:VAV:Reheat:VariableSpeedFan\"),\n",
       " EPSchemaObjectType(name=\"AirTerminal:SingleDuct:VAV:HeatAndCool:NoReheat\"),\n",
       " EPSchemaObjectType(name=\"AirTerminal:SingleDuct:VAV:HeatAndCool:Reheat\"),\n",
       " EPSchemaObjectType(name=\"AirTerminal:SingleDuct:SeriesPIU:Reheat\"),\n",
       " EPSchemaObjectType(name=\"AirTerminal:SingleDuct:ParallelPIU:Reheat\"),\n",
       " EPSchemaObjectType(name=\"AirTerminal:SingleDuct:ConstantVolume:FourPipeInduction\"),\n",
       " EPSchemaObjectType(name=\"AirTerminal:SingleDuct:ConstantVolume:FourPipeBeam\"),\n",
       " EPSchemaObjectType(name=\"AirTerminal:SingleDuct:ConstantVolume:CooledBeam\"),\n",
       " EPSchemaObjectType(name=\"AirTerminal:SingleDuct:Mixer\"),\n",
       " EPSchemaObjectType(name=\"AirTerminal:DualDuct:ConstantVolume\"),\n",
       " EPSchemaObjectType(name=\"AirTerminal:DualDuct:VAV\"),\n",
       " EPSchemaObjectType(name=\"AirTerminal:DualDuct:VAV:OutdoorAir\"),\n",
       " EPSchemaObjectType(name=\"ZoneHVAC:AirDistributionUnit\"),\n",
       " EPSchemaObjectType(name=\"ZoneHVAC:EquipmentList\"),\n",
       " EPSchemaObjectType(name=\"ZoneHVAC:EquipmentConnections\"),\n",
       " EPSchemaObjectType(name=\"Fan:SystemModel\"),\n",
       " EPSchemaObjectType(name=\"Fan:ConstantVolume\"),\n",
       " EPSchemaObjectType(name=\"Fan:VariableVolume\"),\n",
       " EPSchemaObjectType(name=\"Fan:OnOff\"),\n",
       " EPSchemaObjectType(name=\"Fan:ZoneExhaust\"),\n",
       " EPSchemaObjectType(name=\"FanPerformance:NightVentilation\"),\n",
       " EPSchemaObjectType(name=\"Fan:ComponentModel\"),\n",
       " EPSchemaObjectType(name=\"Coil:Cooling:Water\"),\n",
       " EPSchemaObjectType(name=\"Coil:Cooling:Water:DetailedGeometry\"),\n",
       " EPSchemaObjectType(name=\"Coil:Cooling:DX\"),\n",
       " EPSchemaObjectType(name=\"Coil:Cooling:DX:CurveFit:Performance\"),\n",
       " EPSchemaObjectType(name=\"Coil:Cooling:DX:CurveFit:OperatingMode\"),\n",
       " EPSchemaObjectType(name=\"Coil:Cooling:DX:CurveFit:Speed\"),\n",
       " EPSchemaObjectType(name=\"Coil:Cooling:DX:SingleSpeed\"),\n",
       " EPSchemaObjectType(name=\"Coil:Cooling:DX:TwoSpeed\"),\n",
       " EPSchemaObjectType(name=\"Coil:Cooling:DX:MultiSpeed\"),\n",
       " EPSchemaObjectType(name=\"Coil:Cooling:DX:VariableSpeed\"),\n",
       " EPSchemaObjectType(name=\"Coil:Cooling:DX:TwoStageWithHumidityControlMode\"),\n",
       " EPSchemaObjectType(name=\"CoilPerformance:DX:Cooling\"),\n",
       " EPSchemaObjectType(name=\"Coil:Cooling:DX:VariableRefrigerantFlow\"),\n",
       " EPSchemaObjectType(name=\"Coil:Heating:DX:VariableRefrigerantFlow\"),\n",
       " EPSchemaObjectType(name=\"Coil:Cooling:DX:VariableRefrigerantFlow:FluidTemperatureControl\"),\n",
       " EPSchemaObjectType(name=\"Coil:Heating:DX:VariableRefrigerantFlow:FluidTemperatureControl\"),\n",
       " EPSchemaObjectType(name=\"Coil:Heating:Water\"),\n",
       " EPSchemaObjectType(name=\"Coil:Heating:Steam\"),\n",
       " EPSchemaObjectType(name=\"Coil:Heating:Electric\"),\n",
       " EPSchemaObjectType(name=\"Coil:Heating:Electric:MultiStage\"),\n",
       " EPSchemaObjectType(name=\"Coil:Heating:Fuel\"),\n",
       " EPSchemaObjectType(name=\"Coil:Heating:Gas:MultiStage\"),\n",
       " EPSchemaObjectType(name=\"Coil:Heating:Desuperheater\"),\n",
       " EPSchemaObjectType(name=\"Coil:Heating:DX:SingleSpeed\"),\n",
       " EPSchemaObjectType(name=\"Coil:Heating:DX:MultiSpeed\"),\n",
       " EPSchemaObjectType(name=\"Coil:Heating:DX:VariableSpeed\"),\n",
       " EPSchemaObjectType(name=\"Coil:Cooling:WaterToAirHeatPump:ParameterEstimation\"),\n",
       " EPSchemaObjectType(name=\"Coil:Heating:WaterToAirHeatPump:ParameterEstimation\"),\n",
       " EPSchemaObjectType(name=\"Coil:Cooling:WaterToAirHeatPump:EquationFit\"),\n",
       " EPSchemaObjectType(name=\"Coil:Cooling:WaterToAirHeatPump:VariableSpeedEquationFit\"),\n",
       " EPSchemaObjectType(name=\"Coil:Heating:WaterToAirHeatPump:EquationFit\"),\n",
       " EPSchemaObjectType(name=\"Coil:Heating:WaterToAirHeatPump:VariableSpeedEquationFit\"),\n",
       " EPSchemaObjectType(name=\"Coil:WaterHeating:AirToWaterHeatPump:Pumped\"),\n",
       " EPSchemaObjectType(name=\"Coil:WaterHeating:AirToWaterHeatPump:Wrapped\"),\n",
       " EPSchemaObjectType(name=\"Coil:WaterHeating:AirToWaterHeatPump:VariableSpeed\"),\n",
       " EPSchemaObjectType(name=\"Coil:WaterHeating:Desuperheater\"),\n",
       " EPSchemaObjectType(name=\"CoilSystem:Cooling:DX\"),\n",
       " EPSchemaObjectType(name=\"CoilSystem:Heating:DX\"),\n",
       " EPSchemaObjectType(name=\"CoilSystem:Cooling:Water:HeatExchangerAssisted\"),\n",
       " EPSchemaObjectType(name=\"CoilSystem:Cooling:DX:HeatExchangerAssisted\"),\n",
       " EPSchemaObjectType(name=\"CoilSystem:IntegratedHeatPump:AirSource\"),\n",
       " EPSchemaObjectType(name=\"Coil:Cooling:DX:SingleSpeed:ThermalStorage\"),\n",
       " EPSchemaObjectType(name=\"EvaporativeCooler:Direct:CelDekPad\"),\n",
       " EPSchemaObjectType(name=\"EvaporativeCooler:Indirect:CelDekPad\"),\n",
       " EPSchemaObjectType(name=\"EvaporativeCooler:Indirect:WetCoil\"),\n",
       " EPSchemaObjectType(name=\"EvaporativeCooler:Indirect:ResearchSpecial\"),\n",
       " EPSchemaObjectType(name=\"EvaporativeCooler:Direct:ResearchSpecial\"),\n",
       " EPSchemaObjectType(name=\"Humidifier:Steam:Electric\"),\n",
       " EPSchemaObjectType(name=\"Humidifier:Steam:Gas\"),\n",
       " EPSchemaObjectType(name=\"Dehumidifier:Desiccant:NoFans\"),\n",
       " EPSchemaObjectType(name=\"Dehumidifier:Desiccant:System\"),\n",
       " EPSchemaObjectType(name=\"HeatExchanger:AirToAir:FlatPlate\"),\n",
       " EPSchemaObjectType(name=\"HeatExchanger:AirToAir:SensibleAndLatent\"),\n",
       " EPSchemaObjectType(name=\"HeatExchanger:Desiccant:BalancedFlow\"),\n",
       " EPSchemaObjectType(name=\"HeatExchanger:Desiccant:BalancedFlow:PerformanceDataType1\"),\n",
       " EPSchemaObjectType(name=\"AirLoopHVAC:UnitarySystem\"),\n",
       " EPSchemaObjectType(name=\"UnitarySystemPerformance:Multispeed\"),\n",
       " EPSchemaObjectType(name=\"AirLoopHVAC:Unitary:Furnace:HeatOnly\"),\n",
       " EPSchemaObjectType(name=\"AirLoopHVAC:Unitary:Furnace:HeatCool\"),\n",
       " EPSchemaObjectType(name=\"AirLoopHVAC:UnitaryHeatOnly\"),\n",
       " EPSchemaObjectType(name=\"AirLoopHVAC:UnitaryHeatCool\"),\n",
       " EPSchemaObjectType(name=\"AirLoopHVAC:UnitaryHeatPump:AirToAir\"),\n",
       " EPSchemaObjectType(name=\"AirLoopHVAC:UnitaryHeatPump:WaterToAir\"),\n",
       " EPSchemaObjectType(name=\"AirLoopHVAC:UnitaryHeatCool:VAVChangeoverBypass\"),\n",
       " EPSchemaObjectType(name=\"AirLoopHVAC:UnitaryHeatPump:AirToAir:MultiSpeed\"),\n",
       " EPSchemaObjectType(name=\"AirConditioner:VariableRefrigerantFlow\"),\n",
       " EPSchemaObjectType(name=\"AirConditioner:VariableRefrigerantFlow:FluidTemperatureControl\"),\n",
       " EPSchemaObjectType(name=\"AirConditioner:VariableRefrigerantFlow:FluidTemperatureControl:HR\"),\n",
       " EPSchemaObjectType(name=\"ZoneTerminalUnitList\"),\n",
       " EPSchemaObjectType(name=\"Controller:WaterCoil\"),\n",
       " EPSchemaObjectType(name=\"Controller:OutdoorAir\"),\n",
       " EPSchemaObjectType(name=\"Controller:MechanicalVentilation\"),\n",
       " EPSchemaObjectType(name=\"AirLoopHVAC:ControllerList\"),\n",
       " EPSchemaObjectType(name=\"AirLoopHVAC\"),\n",
       " EPSchemaObjectType(name=\"AirLoopHVAC:OutdoorAirSystem:EquipmentList\"),\n",
       " EPSchemaObjectType(name=\"AirLoopHVAC:OutdoorAirSystem\"),\n",
       " EPSchemaObjectType(name=\"OutdoorAir:Mixer\"),\n",
       " EPSchemaObjectType(name=\"AirLoopHVAC:ZoneSplitter\"),\n",
       " EPSchemaObjectType(name=\"AirLoopHVAC:SupplyPlenum\"),\n",
       " EPSchemaObjectType(name=\"AirLoopHVAC:SupplyPath\"),\n",
       " EPSchemaObjectType(name=\"AirLoopHVAC:ZoneMixer\"),\n",
       " EPSchemaObjectType(name=\"AirLoopHVAC:ReturnPlenum\"),\n",
       " EPSchemaObjectType(name=\"AirLoopHVAC:ReturnPath\"),\n",
       " EPSchemaObjectType(name=\"AirLoopHVAC:DedicatedOutdoorAirSystem\"),\n",
       " EPSchemaObjectType(name=\"AirLoopHVAC:Mixer\"),\n",
       " EPSchemaObjectType(name=\"AirLoopHVAC:Splitter\"),\n",
       " EPSchemaObjectType(name=\"Branch\"),\n",
       " EPSchemaObjectType(name=\"BranchList\"),\n",
       " EPSchemaObjectType(name=\"Connector:Splitter\"),\n",
       " EPSchemaObjectType(name=\"Connector:Mixer\"),\n",
       " EPSchemaObjectType(name=\"ConnectorList\"),\n",
       " EPSchemaObjectType(name=\"NodeList\"),\n",
       " EPSchemaObjectType(name=\"OutdoorAir:Node\"),\n",
       " EPSchemaObjectType(name=\"OutdoorAir:NodeList\"),\n",
       " EPSchemaObjectType(name=\"Pipe:Adiabatic\"),\n",
       " EPSchemaObjectType(name=\"Pipe:Adiabatic:Steam\"),\n",
       " EPSchemaObjectType(name=\"Pipe:Indoor\"),\n",
       " EPSchemaObjectType(name=\"Pipe:Outdoor\"),\n",
       " EPSchemaObjectType(name=\"Pipe:Underground\"),\n",
       " EPSchemaObjectType(name=\"PipingSystem:Underground:Domain\"),\n",
       " EPSchemaObjectType(name=\"PipingSystem:Underground:PipeCircuit\"),\n",
       " EPSchemaObjectType(name=\"PipingSystem:Underground:PipeSegment\"),\n",
       " EPSchemaObjectType(name=\"Duct\"),\n",
       " EPSchemaObjectType(name=\"Pump:VariableSpeed\"),\n",
       " EPSchemaObjectType(name=\"Pump:ConstantSpeed\"),\n",
       " EPSchemaObjectType(name=\"Pump:VariableSpeed:Condensate\"),\n",
       " EPSchemaObjectType(name=\"HeaderedPumps:ConstantSpeed\"),\n",
       " EPSchemaObjectType(name=\"HeaderedPumps:VariableSpeed\"),\n",
       " EPSchemaObjectType(name=\"TemperingValve\"),\n",
       " EPSchemaObjectType(name=\"LoadProfile:Plant\"),\n",
       " EPSchemaObjectType(name=\"SolarCollectorPerformance:FlatPlate\"),\n",
       " EPSchemaObjectType(name=\"SolarCollector:FlatPlate:Water\"),\n",
       " EPSchemaObjectType(name=\"SolarCollector:FlatPlate:PhotovoltaicThermal\"),\n",
       " EPSchemaObjectType(name=\"SolarCollectorPerformance:PhotovoltaicThermal:Simple\"),\n",
       " EPSchemaObjectType(name=\"SolarCollector:IntegralCollectorStorage\"),\n",
       " EPSchemaObjectType(name=\"SolarCollectorPerformance:IntegralCollectorStorage\"),\n",
       " EPSchemaObjectType(name=\"SolarCollector:UnglazedTranspired\"),\n",
       " EPSchemaObjectType(name=\"SolarCollector:UnglazedTranspired:Multisystem\"),\n",
       " EPSchemaObjectType(name=\"Boiler:HotWater\"),\n",
       " EPSchemaObjectType(name=\"Boiler:Steam\"),\n",
       " EPSchemaObjectType(name=\"Chiller:Electric:EIR\"),\n",
       " EPSchemaObjectType(name=\"Chiller:Electric:ReformulatedEIR\"),\n",
       " EPSchemaObjectType(name=\"Chiller:Electric\"),\n",
       " EPSchemaObjectType(name=\"Chiller:Absorption:Indirect\"),\n",
       " EPSchemaObjectType(name=\"Chiller:Absorption\"),\n",
       " EPSchemaObjectType(name=\"Chiller:ConstantCOP\"),\n",
       " EPSchemaObjectType(name=\"Chiller:EngineDriven\"),\n",
       " EPSchemaObjectType(name=\"Chiller:CombustionTurbine\"),\n",
       " EPSchemaObjectType(name=\"ChillerHeater:Absorption:DirectFired\"),\n",
       " EPSchemaObjectType(name=\"ChillerHeater:Absorption:DoubleEffect\"),\n",
       " EPSchemaObjectType(name=\"HeatPump:PlantLoop:EIR:Cooling\"),\n",
       " EPSchemaObjectType(name=\"HeatPump:PlantLoop:EIR:Heating\"),\n",
       " EPSchemaObjectType(name=\"HeatPump:WaterToWater:EquationFit:Heating\"),\n",
       " EPSchemaObjectType(name=\"HeatPump:WaterToWater:EquationFit:Cooling\"),\n",
       " EPSchemaObjectType(name=\"HeatPump:WaterToWater:ParameterEstimation:Cooling\"),\n",
       " EPSchemaObjectType(name=\"HeatPump:WaterToWater:ParameterEstimation:Heating\"),\n",
       " EPSchemaObjectType(name=\"DistrictCooling\"),\n",
       " EPSchemaObjectType(name=\"DistrictHeating\"),\n",
       " EPSchemaObjectType(name=\"PlantComponent:TemperatureSource\"),\n",
       " EPSchemaObjectType(name=\"CentralHeatPumpSystem\"),\n",
       " EPSchemaObjectType(name=\"ChillerHeaterPerformance:Electric:EIR\"),\n",
       " EPSchemaObjectType(name=\"CoolingTower:SingleSpeed\"),\n",
       " EPSchemaObjectType(name=\"CoolingTower:TwoSpeed\"),\n",
       " EPSchemaObjectType(name=\"CoolingTower:VariableSpeed:Merkel\"),\n",
       " EPSchemaObjectType(name=\"CoolingTower:VariableSpeed\"),\n",
       " EPSchemaObjectType(name=\"CoolingTowerPerformance:CoolTools\"),\n",
       " EPSchemaObjectType(name=\"CoolingTowerPerformance:YorkCalc\"),\n",
       " EPSchemaObjectType(name=\"EvaporativeFluidCooler:SingleSpeed\"),\n",
       " EPSchemaObjectType(name=\"EvaporativeFluidCooler:TwoSpeed\"),\n",
       " EPSchemaObjectType(name=\"FluidCooler:SingleSpeed\"),\n",
       " EPSchemaObjectType(name=\"FluidCooler:TwoSpeed\"),\n",
       " EPSchemaObjectType(name=\"GroundHeatExchanger:System\"),\n",
       " EPSchemaObjectType(name=\"GroundHeatExchanger:Vertical:Properties\"),\n",
       " EPSchemaObjectType(name=\"GroundHeatExchanger:Vertical:Array\"),\n",
       " EPSchemaObjectType(name=\"GroundHeatExchanger:Vertical:Single\"),\n",
       " EPSchemaObjectType(name=\"GroundHeatExchanger:ResponseFactors\"),\n",
       " EPSchemaObjectType(name=\"GroundHeatExchanger:Pond\"),\n",
       " EPSchemaObjectType(name=\"GroundHeatExchanger:Surface\"),\n",
       " EPSchemaObjectType(name=\"GroundHeatExchanger:HorizontalTrench\"),\n",
       " EPSchemaObjectType(name=\"GroundHeatExchanger:Slinky\"),\n",
       " EPSchemaObjectType(name=\"HeatExchanger:FluidToFluid\"),\n",
       " EPSchemaObjectType(name=\"WaterHeater:Mixed\"),\n",
       " EPSchemaObjectType(name=\"WaterHeater:Stratified\"),\n",
       " EPSchemaObjectType(name=\"WaterHeater:Sizing\"),\n",
       " EPSchemaObjectType(name=\"WaterHeater:HeatPump:PumpedCondenser\"),\n",
       " EPSchemaObjectType(name=\"WaterHeater:HeatPump:WrappedCondenser\"),\n",
       " EPSchemaObjectType(name=\"ThermalStorage:Ice:Simple\"),\n",
       " EPSchemaObjectType(name=\"ThermalStorage:Ice:Detailed\"),\n",
       " EPSchemaObjectType(name=\"ThermalStorage:ChilledWater:Mixed\"),\n",
       " EPSchemaObjectType(name=\"ThermalStorage:ChilledWater:Stratified\"),\n",
       " EPSchemaObjectType(name=\"PlantLoop\"),\n",
       " EPSchemaObjectType(name=\"CondenserLoop\"),\n",
       " EPSchemaObjectType(name=\"PlantEquipmentList\"),\n",
       " EPSchemaObjectType(name=\"CondenserEquipmentList\"),\n",
       " EPSchemaObjectType(name=\"PlantEquipmentOperation:Uncontrolled\"),\n",
       " EPSchemaObjectType(name=\"PlantEquipmentOperation:CoolingLoad\"),\n",
       " EPSchemaObjectType(name=\"PlantEquipmentOperation:HeatingLoad\"),\n",
       " EPSchemaObjectType(name=\"PlantEquipmentOperation:OutdoorDryBulb\"),\n",
       " EPSchemaObjectType(name=\"PlantEquipmentOperation:OutdoorWetBulb\"),\n",
       " EPSchemaObjectType(name=\"PlantEquipmentOperation:OutdoorRelativeHumidity\"),\n",
       " EPSchemaObjectType(name=\"PlantEquipmentOperation:OutdoorDewpoint\"),\n",
       " EPSchemaObjectType(name=\"PlantEquipmentOperation:ComponentSetpoint\"),\n",
       " EPSchemaObjectType(name=\"PlantEquipmentOperation:ThermalEnergyStorage\"),\n",
       " EPSchemaObjectType(name=\"PlantEquipmentOperation:OutdoorDryBulbDifference\"),\n",
       " EPSchemaObjectType(name=\"PlantEquipmentOperation:OutdoorWetBulbDifference\"),\n",
       " EPSchemaObjectType(name=\"PlantEquipmentOperation:OutdoorDewpointDifference\"),\n",
       " EPSchemaObjectType(name=\"PlantEquipmentOperationSchemes\"),\n",
       " EPSchemaObjectType(name=\"CondenserEquipmentOperationSchemes\"),\n",
       " EPSchemaObjectType(name=\"EnergyManagementSystem:Sensor\"),\n",
       " EPSchemaObjectType(name=\"EnergyManagementSystem:Actuator\"),\n",
       " EPSchemaObjectType(name=\"EnergyManagementSystem:ProgramCallingManager\"),\n",
       " EPSchemaObjectType(name=\"EnergyManagementSystem:Program\"),\n",
       " EPSchemaObjectType(name=\"EnergyManagementSystem:Subroutine\"),\n",
       " EPSchemaObjectType(name=\"EnergyManagementSystem:GlobalVariable\"),\n",
       " EPSchemaObjectType(name=\"EnergyManagementSystem:OutputVariable\"),\n",
       " EPSchemaObjectType(name=\"EnergyManagementSystem:MeteredOutputVariable\"),\n",
       " EPSchemaObjectType(name=\"EnergyManagementSystem:TrendVariable\"),\n",
       " EPSchemaObjectType(name=\"EnergyManagementSystem:InternalVariable\"),\n",
       " EPSchemaObjectType(name=\"EnergyManagementSystem:CurveOrTableIndexVariable\"),\n",
       " EPSchemaObjectType(name=\"EnergyManagementSystem:ConstructionIndexVariable\"),\n",
       " EPSchemaObjectType(name=\"ExternalInterface\"),\n",
       " EPSchemaObjectType(name=\"ExternalInterface:Schedule\"),\n",
       " EPSchemaObjectType(name=\"ExternalInterface:Variable\"),\n",
       " EPSchemaObjectType(name=\"ExternalInterface:Actuator\"),\n",
       " EPSchemaObjectType(name=\"ExternalInterface:FunctionalMockupUnitImport\"),\n",
       " EPSchemaObjectType(name=\"ExternalInterface:FunctionalMockupUnitImport:From:Variable\"),\n",
       " EPSchemaObjectType(name=\"ExternalInterface:FunctionalMockupUnitImport:To:Schedule\"),\n",
       " EPSchemaObjectType(name=\"ExternalInterface:FunctionalMockupUnitImport:To:Actuator\"),\n",
       " EPSchemaObjectType(name=\"ExternalInterface:FunctionalMockupUnitImport:To:Variable\"),\n",
       " EPSchemaObjectType(name=\"ExternalInterface:FunctionalMockupUnitExport:From:Variable\"),\n",
       " EPSchemaObjectType(name=\"ExternalInterface:FunctionalMockupUnitExport:To:Schedule\"),\n",
       " EPSchemaObjectType(name=\"ExternalInterface:FunctionalMockupUnitExport:To:Actuator\"),\n",
       " EPSchemaObjectType(name=\"ExternalInterface:FunctionalMockupUnitExport:To:Variable\"),\n",
       " EPSchemaObjectType(name=\"ZoneHVAC:ForcedAir:UserDefined\"),\n",
       " EPSchemaObjectType(name=\"AirTerminal:SingleDuct:UserDefined\"),\n",
       " EPSchemaObjectType(name=\"Coil:UserDefined\"),\n",
       " EPSchemaObjectType(name=\"PlantComponent:UserDefined\"),\n",
       " EPSchemaObjectType(name=\"PlantEquipmentOperation:UserDefined\"),\n",
       " EPSchemaObjectType(name=\"AvailabilityManager:Scheduled\"),\n",
       " EPSchemaObjectType(name=\"AvailabilityManager:ScheduledOn\"),\n",
       " EPSchemaObjectType(name=\"AvailabilityManager:ScheduledOff\"),\n",
       " EPSchemaObjectType(name=\"AvailabilityManager:OptimumStart\"),\n",
       " EPSchemaObjectType(name=\"AvailabilityManager:NightCycle\"),\n",
       " EPSchemaObjectType(name=\"AvailabilityManager:DifferentialThermostat\"),\n",
       " EPSchemaObjectType(name=\"AvailabilityManager:HighTemperatureTurnOff\"),\n",
       " EPSchemaObjectType(name=\"AvailabilityManager:HighTemperatureTurnOn\"),\n",
       " EPSchemaObjectType(name=\"AvailabilityManager:LowTemperatureTurnOff\"),\n",
       " EPSchemaObjectType(name=\"AvailabilityManager:LowTemperatureTurnOn\"),\n",
       " EPSchemaObjectType(name=\"AvailabilityManager:NightVentilation\"),\n",
       " EPSchemaObjectType(name=\"AvailabilityManager:HybridVentilation\"),\n",
       " EPSchemaObjectType(name=\"AvailabilityManagerAssignmentList\"),\n",
       " EPSchemaObjectType(name=\"SetpointManager:Scheduled\"),\n",
       " EPSchemaObjectType(name=\"SetpointManager:Scheduled:DualSetpoint\"),\n",
       " EPSchemaObjectType(name=\"SetpointManager:OutdoorAirReset\"),\n",
       " EPSchemaObjectType(name=\"SetpointManager:SingleZone:Reheat\"),\n",
       " EPSchemaObjectType(name=\"SetpointManager:SingleZone:Heating\"),\n",
       " EPSchemaObjectType(name=\"SetpointManager:SingleZone:Cooling\"),\n",
       " EPSchemaObjectType(name=\"SetpointManager:SingleZone:Humidity:Minimum\"),\n",
       " EPSchemaObjectType(name=\"SetpointManager:SingleZone:Humidity:Maximum\"),\n",
       " EPSchemaObjectType(name=\"SetpointManager:MixedAir\"),\n",
       " EPSchemaObjectType(name=\"SetpointManager:OutdoorAirPretreat\"),\n",
       " EPSchemaObjectType(name=\"SetpointManager:Warmest\"),\n",
       " EPSchemaObjectType(name=\"SetpointManager:Coldest\"),\n",
       " EPSchemaObjectType(name=\"SetpointManager:ReturnAirBypassFlow\"),\n",
       " EPSchemaObjectType(name=\"SetpointManager:WarmestTemperatureFlow\"),\n",
       " EPSchemaObjectType(name=\"SetpointManager:MultiZone:Heating:Average\"),\n",
       " EPSchemaObjectType(name=\"SetpointManager:MultiZone:Cooling:Average\"),\n",
       " EPSchemaObjectType(name=\"SetpointManager:MultiZone:MinimumHumidity:Average\"),\n",
       " EPSchemaObjectType(name=\"SetpointManager:MultiZone:MaximumHumidity:Average\"),\n",
       " EPSchemaObjectType(name=\"SetpointManager:MultiZone:Humidity:Minimum\"),\n",
       " EPSchemaObjectType(name=\"SetpointManager:MultiZone:Humidity:Maximum\"),\n",
       " EPSchemaObjectType(name=\"SetpointManager:FollowOutdoorAirTemperature\"),\n",
       " EPSchemaObjectType(name=\"SetpointManager:FollowSystemNodeTemperature\"),\n",
       " EPSchemaObjectType(name=\"SetpointManager:FollowGroundTemperature\"),\n",
       " EPSchemaObjectType(name=\"SetpointManager:CondenserEnteringReset\"),\n",
       " EPSchemaObjectType(name=\"SetpointManager:CondenserEnteringReset:Ideal\"),\n",
       " EPSchemaObjectType(name=\"SetpointManager:SingleZone:OneStageCooling\"),\n",
       " EPSchemaObjectType(name=\"SetpointManager:SingleZone:OneStageHeating\"),\n",
       " EPSchemaObjectType(name=\"SetpointManager:ReturnTemperature:ChilledWater\"),\n",
       " EPSchemaObjectType(name=\"SetpointManager:ReturnTemperature:HotWater\"),\n",
       " EPSchemaObjectType(name=\"Refrigeration:Case\"),\n",
       " EPSchemaObjectType(name=\"Refrigeration:CompressorRack\"),\n",
       " EPSchemaObjectType(name=\"Refrigeration:CaseAndWalkInList\"),\n",
       " EPSchemaObjectType(name=\"Refrigeration:Condenser:AirCooled\"),\n",
       " EPSchemaObjectType(name=\"Refrigeration:Condenser:EvaporativeCooled\"),\n",
       " EPSchemaObjectType(name=\"Refrigeration:Condenser:WaterCooled\"),\n",
       " EPSchemaObjectType(name=\"Refrigeration:Condenser:Cascade\"),\n",
       " EPSchemaObjectType(name=\"Refrigeration:GasCooler:AirCooled\"),\n",
       " EPSchemaObjectType(name=\"Refrigeration:TransferLoadList\"),\n",
       " EPSchemaObjectType(name=\"Refrigeration:Subcooler\"),\n",
       " EPSchemaObjectType(name=\"Refrigeration:Compressor\"),\n",
       " EPSchemaObjectType(name=\"Refrigeration:CompressorList\"),\n",
       " EPSchemaObjectType(name=\"Refrigeration:System\"),\n",
       " EPSchemaObjectType(name=\"Refrigeration:TranscriticalSystem\"),\n",
       " EPSchemaObjectType(name=\"Refrigeration:SecondarySystem\"),\n",
       " EPSchemaObjectType(name=\"Refrigeration:WalkIn\"),\n",
       " EPSchemaObjectType(name=\"Refrigeration:AirChiller\"),\n",
       " EPSchemaObjectType(name=\"ZoneHVAC:RefrigerationChillerSet\"),\n",
       " EPSchemaObjectType(name=\"DemandManagerAssignmentList\"),\n",
       " EPSchemaObjectType(name=\"DemandManager:ExteriorLights\"),\n",
       " EPSchemaObjectType(name=\"DemandManager:Lights\"),\n",
       " EPSchemaObjectType(name=\"DemandManager:ElectricEquipment\"),\n",
       " EPSchemaObjectType(name=\"DemandManager:Thermostats\"),\n",
       " EPSchemaObjectType(name=\"DemandManager:Ventilation\"),\n",
       " EPSchemaObjectType(name=\"Generator:InternalCombustionEngine\"),\n",
       " EPSchemaObjectType(name=\"Generator:CombustionTurbine\"),\n",
       " EPSchemaObjectType(name=\"Generator:MicroTurbine\"),\n",
       " EPSchemaObjectType(name=\"Generator:Photovoltaic\"),\n",
       " EPSchemaObjectType(name=\"PhotovoltaicPerformance:Simple\"),\n",
       " EPSchemaObjectType(name=\"PhotovoltaicPerformance:EquivalentOne-Diode\"),\n",
       " EPSchemaObjectType(name=\"PhotovoltaicPerformance:Sandia\"),\n",
       " EPSchemaObjectType(name=\"Generator:PVWatts\"),\n",
       " EPSchemaObjectType(name=\"ElectricLoadCenter:Inverter:PVWatts\"),\n",
       " EPSchemaObjectType(name=\"Generator:FuelCell\"),\n",
       " EPSchemaObjectType(name=\"Generator:FuelCell:PowerModule\"),\n",
       " EPSchemaObjectType(name=\"Generator:FuelCell:AirSupply\"),\n",
       " EPSchemaObjectType(name=\"Generator:FuelCell:WaterSupply\"),\n",
       " EPSchemaObjectType(name=\"Generator:FuelCell:AuxiliaryHeater\"),\n",
       " EPSchemaObjectType(name=\"Generator:FuelCell:ExhaustGasToWaterHeatExchanger\"),\n",
       " EPSchemaObjectType(name=\"Generator:FuelCell:ElectricalStorage\"),\n",
       " EPSchemaObjectType(name=\"Generator:FuelCell:Inverter\"),\n",
       " EPSchemaObjectType(name=\"Generator:FuelCell:StackCooler\"),\n",
       " EPSchemaObjectType(name=\"Generator:MicroCHP\"),\n",
       " EPSchemaObjectType(name=\"Generator:MicroCHP:NonNormalizedParameters\"),\n",
       " EPSchemaObjectType(name=\"Generator:FuelSupply\"),\n",
       " EPSchemaObjectType(name=\"Generator:WindTurbine\"),\n",
       " EPSchemaObjectType(name=\"ElectricLoadCenter:Generators\"),\n",
       " EPSchemaObjectType(name=\"ElectricLoadCenter:Inverter:Simple\"),\n",
       " EPSchemaObjectType(name=\"ElectricLoadCenter:Inverter:FunctionOfPower\"),\n",
       " EPSchemaObjectType(name=\"ElectricLoadCenter:Inverter:LookUpTable\"),\n",
       " EPSchemaObjectType(name=\"ElectricLoadCenter:Storage:Simple\"),\n",
       " EPSchemaObjectType(name=\"ElectricLoadCenter:Storage:Battery\"),\n",
       " EPSchemaObjectType(name=\"ElectricLoadCenter:Transformer\"),\n",
       " EPSchemaObjectType(name=\"ElectricLoadCenter:Distribution\"),\n",
       " EPSchemaObjectType(name=\"ElectricLoadCenter:Storage:Converter\"),\n",
       " EPSchemaObjectType(name=\"WaterUse:Equipment\"),\n",
       " EPSchemaObjectType(name=\"WaterUse:Connections\"),\n",
       " EPSchemaObjectType(name=\"WaterUse:Storage\"),\n",
       " EPSchemaObjectType(name=\"WaterUse:Well\"),\n",
       " EPSchemaObjectType(name=\"WaterUse:RainCollector\"),\n",
       " EPSchemaObjectType(name=\"FaultModel:TemperatureSensorOffset:OutdoorAir\"),\n",
       " EPSchemaObjectType(name=\"FaultModel:HumiditySensorOffset:OutdoorAir\"),\n",
       " EPSchemaObjectType(name=\"FaultModel:EnthalpySensorOffset:OutdoorAir\"),\n",
       " EPSchemaObjectType(name=\"FaultModel:TemperatureSensorOffset:ReturnAir\"),\n",
       " EPSchemaObjectType(name=\"FaultModel:EnthalpySensorOffset:ReturnAir\"),\n",
       " EPSchemaObjectType(name=\"FaultModel:TemperatureSensorOffset:ChillerSupplyWater\"),\n",
       " EPSchemaObjectType(name=\"FaultModel:TemperatureSensorOffset:CoilSupplyAir\"),\n",
       " EPSchemaObjectType(name=\"FaultModel:TemperatureSensorOffset:CondenserSupplyWater\"),\n",
       " EPSchemaObjectType(name=\"FaultModel:ThermostatOffset\"),\n",
       " EPSchemaObjectType(name=\"FaultModel:HumidistatOffset\"),\n",
       " EPSchemaObjectType(name=\"FaultModel:Fouling:AirFilter\"),\n",
       " EPSchemaObjectType(name=\"FaultModel:Fouling:Boiler\"),\n",
       " EPSchemaObjectType(name=\"FaultModel:Fouling:EvaporativeCooler\"),\n",
       " EPSchemaObjectType(name=\"FaultModel:Fouling:Chiller\"),\n",
       " EPSchemaObjectType(name=\"FaultModel:Fouling:CoolingTower\"),\n",
       " EPSchemaObjectType(name=\"FaultModel:Fouling:Coil\"),\n",
       " EPSchemaObjectType(name=\"Matrix:TwoDimension\"),\n",
       " EPSchemaObjectType(name=\"HybridModel:Zone\"),\n",
       " EPSchemaObjectType(name=\"Curve:Linear\"),\n",
       " EPSchemaObjectType(name=\"Curve:QuadLinear\"),\n",
       " EPSchemaObjectType(name=\"Curve:Quadratic\"),\n",
       " EPSchemaObjectType(name=\"Curve:Cubic\"),\n",
       " EPSchemaObjectType(name=\"Curve:Quartic\"),\n",
       " EPSchemaObjectType(name=\"Curve:Exponent\"),\n",
       " EPSchemaObjectType(name=\"Curve:Bicubic\"),\n",
       " EPSchemaObjectType(name=\"Curve:Biquadratic\"),\n",
       " EPSchemaObjectType(name=\"Curve:QuadraticLinear\"),\n",
       " EPSchemaObjectType(name=\"Curve:CubicLinear\"),\n",
       " EPSchemaObjectType(name=\"Curve:Triquadratic\"),\n",
       " EPSchemaObjectType(name=\"Curve:Functional:PressureDrop\"),\n",
       " EPSchemaObjectType(name=\"Curve:FanPressureRise\"),\n",
       " EPSchemaObjectType(name=\"Curve:ExponentialSkewNormal\"),\n",
       " EPSchemaObjectType(name=\"Curve:Sigmoid\"),\n",
       " EPSchemaObjectType(name=\"Curve:RectangularHyperbola1\"),\n",
       " EPSchemaObjectType(name=\"Curve:RectangularHyperbola2\"),\n",
       " EPSchemaObjectType(name=\"Curve:ExponentialDecay\"),\n",
       " EPSchemaObjectType(name=\"Curve:DoubleExponentialDecay\"),\n",
       " EPSchemaObjectType(name=\"Curve:ChillerPartLoadWithLift\"),\n",
       " EPSchemaObjectType(name=\"Table:IndependentVariable\"),\n",
       " EPSchemaObjectType(name=\"Table:IndependentVariableList\"),\n",
       " EPSchemaObjectType(name=\"Table:Lookup\"),\n",
       " EPSchemaObjectType(name=\"FluidProperties:Name\"),\n",
       " EPSchemaObjectType(name=\"FluidProperties:GlycolConcentration\"),\n",
       " EPSchemaObjectType(name=\"FluidProperties:Temperatures\"),\n",
       " EPSchemaObjectType(name=\"FluidProperties:Saturated\"),\n",
       " EPSchemaObjectType(name=\"FluidProperties:Superheated\"),\n",
       " EPSchemaObjectType(name=\"FluidProperties:Concentration\"),\n",
       " EPSchemaObjectType(name=\"CurrencyType\"),\n",
       " EPSchemaObjectType(name=\"ComponentCost:Adjustments\"),\n",
       " EPSchemaObjectType(name=\"ComponentCost:Reference\"),\n",
       " EPSchemaObjectType(name=\"ComponentCost:LineItem\"),\n",
       " EPSchemaObjectType(name=\"UtilityCost:Tariff\"),\n",
       " EPSchemaObjectType(name=\"UtilityCost:Qualify\"),\n",
       " EPSchemaObjectType(name=\"UtilityCost:Charge:Simple\"),\n",
       " EPSchemaObjectType(name=\"UtilityCost:Charge:Block\"),\n",
       " EPSchemaObjectType(name=\"UtilityCost:Ratchet\"),\n",
       " EPSchemaObjectType(name=\"UtilityCost:Variable\"),\n",
       " EPSchemaObjectType(name=\"UtilityCost:Computation\"),\n",
       " EPSchemaObjectType(name=\"LifeCycleCost:Parameters\"),\n",
       " EPSchemaObjectType(name=\"LifeCycleCost:RecurringCosts\"),\n",
       " EPSchemaObjectType(name=\"LifeCycleCost:NonrecurringCost\"),\n",
       " EPSchemaObjectType(name=\"LifeCycleCost:UsePriceEscalation\"),\n",
       " EPSchemaObjectType(name=\"LifeCycleCost:UseAdjustment\"),\n",
       " EPSchemaObjectType(name=\"Parametric:SetValueForRun\"),\n",
       " EPSchemaObjectType(name=\"Parametric:Logic\"),\n",
       " EPSchemaObjectType(name=\"Parametric:RunControl\"),\n",
       " EPSchemaObjectType(name=\"Parametric:FileNameSuffix\"),\n",
       " EPSchemaObjectType(name=\"Output:VariableDictionary\"),\n",
       " EPSchemaObjectType(name=\"Output:Surfaces:List\"),\n",
       " EPSchemaObjectType(name=\"Output:Surfaces:Drawing\"),\n",
       " EPSchemaObjectType(name=\"Output:Schedules\"),\n",
       " EPSchemaObjectType(name=\"Output:Constructions\"),\n",
       " EPSchemaObjectType(name=\"Output:EnergyManagementSystem\"),\n",
       " EPSchemaObjectType(name=\"OutputControl:SurfaceColorScheme\"),\n",
       " EPSchemaObjectType(name=\"Output:Table:SummaryReports\"),\n",
       " EPSchemaObjectType(name=\"Output:Table:TimeBins\"),\n",
       " EPSchemaObjectType(name=\"Output:Table:Monthly\"),\n",
       " EPSchemaObjectType(name=\"Output:Table:Annual\"),\n",
       " EPSchemaObjectType(name=\"OutputControl:Table:Style\"),\n",
       " EPSchemaObjectType(name=\"OutputControl:ReportingTolerances\"),\n",
       " EPSchemaObjectType(name=\"Output:Variable\"),\n",
       " EPSchemaObjectType(name=\"Output:Meter\"),\n",
       " EPSchemaObjectType(name=\"Output:Meter:MeterFileOnly\"),\n",
       " EPSchemaObjectType(name=\"Output:Meter:Cumulative\"),\n",
       " EPSchemaObjectType(name=\"Output:Meter:Cumulative:MeterFileOnly\"),\n",
       " EPSchemaObjectType(name=\"Meter:Custom\"),\n",
       " EPSchemaObjectType(name=\"Meter:CustomDecrement\"),\n",
       " EPSchemaObjectType(name=\"OutputControl:Files\"),\n",
       " EPSchemaObjectType(name=\"Output:JSON\"),\n",
       " EPSchemaObjectType(name=\"Output:SQLite\"),\n",
       " EPSchemaObjectType(name=\"Output:EnvironmentalImpactFactors\"),\n",
       " EPSchemaObjectType(name=\"EnvironmentalImpactFactors\"),\n",
       " EPSchemaObjectType(name=\"FuelFactors\"),\n",
       " EPSchemaObjectType(name=\"Output:Diagnostics\"),\n",
       " EPSchemaObjectType(name=\"Output:DebuggingData\"),\n",
       " EPSchemaObjectType(name=\"Output:PreprocessorMessage\"),\n",
       " EPSchemaObjectType(name=\"PythonPlugin:SearchPaths\"),\n",
       " EPSchemaObjectType(name=\"PythonPlugin:Instance\"),\n",
       " EPSchemaObjectType(name=\"PythonPlugin:Variables\"),\n",
       " EPSchemaObjectType(name=\"PythonPlugin:TrendVariable\"),\n",
       " EPSchemaObjectType(name=\"PythonPlugin:OutputVariable\")]"
      ]
     },
     "execution_count": 13,
     "metadata": {},
     "output_type": "execute_result"
    }
   ],
   "source": [
    "schema.get_object_types()"
   ]
  },
  {
   "cell_type": "markdown",
   "metadata": {},
   "source": [
    "### 3.4. Accessing a single object type"
   ]
  },
  {
   "cell_type": "code",
   "execution_count": 14,
   "metadata": {},
   "outputs": [
    {
     "data": {
      "text/plain": [
       "EPSchemaObjectType(name=\"Building\")"
      ]
     },
     "execution_count": 14,
     "metadata": {},
     "output_type": "execute_result"
    }
   ],
   "source": [
    "schema.get_object_type('Building')"
   ]
  },
  {
   "cell_type": "markdown",
   "metadata": {},
   "source": [
    "## 4. Reading a EPSchemaObjectType object"
   ]
  },
  {
   "cell_type": "markdown",
   "metadata": {},
   "source": [
    "### 4.1. Creation"
   ]
  },
  {
   "cell_type": "code",
   "execution_count": 15,
   "metadata": {},
   "outputs": [
    {
     "data": {
      "text/plain": [
       "EPSchemaObjectType(name=\"Building\")"
      ]
     },
     "execution_count": 15,
     "metadata": {},
     "output_type": "execute_result"
    }
   ],
   "source": [
    "building=schema.get_object_type('Building')\n",
    "building"
   ]
  },
  {
   "cell_type": "code",
   "execution_count": 16,
   "metadata": {},
   "outputs": [
    {
     "data": {
      "text/plain": [
       "eprun.epschema_object_type.EPSchemaObjectType"
      ]
     },
     "execution_count": 16,
     "metadata": {},
     "output_type": "execute_result"
    }
   ],
   "source": [
    "type(building)"
   ]
  },
  {
   "cell_type": "markdown",
   "metadata": {},
   "source": [
    "### 4.2. Dictionary access"
   ]
  },
  {
   "cell_type": "code",
   "execution_count": 22,
   "metadata": {},
   "outputs": [
    {
     "data": {
      "text/plain": [
       "['patternProperties',\n",
       " 'name',\n",
       " 'legacy_idd',\n",
       " 'type',\n",
       " 'minProperties',\n",
       " 'maxProperties',\n",
       " 'memo',\n",
       " 'min_fields']"
      ]
     },
     "execution_count": 22,
     "metadata": {},
     "output_type": "execute_result"
    }
   ],
   "source": [
    "list(building.keys())"
   ]
  },
  {
   "cell_type": "code",
   "execution_count": 24,
   "metadata": {
    "scrolled": true
   },
   "outputs": [
    {
     "data": {
      "text/plain": [
       "{'patternProperties': {'.*': {'type': 'object',\n",
       "   'properties': {'north_axis': {'type': 'number',\n",
       "     'note': 'degrees from true North',\n",
       "     'units': 'deg',\n",
       "     'default': 0.0},\n",
       "    'terrain': {'type': 'string',\n",
       "     'note': 'Country=FlatOpenCountry | Suburbs=CountryTownsSuburbs | City=CityCenter | Ocean=body of water (5km) | Urban=Urban-Industrial-Forest',\n",
       "     'enum': ['', 'City', 'Country', 'Ocean', 'Suburbs', 'Urban'],\n",
       "     'default': 'Suburbs'},\n",
       "    'loads_convergence_tolerance_value': {'type': 'number',\n",
       "     'note': 'Loads Convergence Tolerance Value is a change in load from one warmup day to the next',\n",
       "     'minimum': 0.0,\n",
       "     'exclusiveMinimum': True,\n",
       "     'maximum': 0.5,\n",
       "     'default': 0.04,\n",
       "     'units': 'W'},\n",
       "    'temperature_convergence_tolerance_value': {'type': 'number',\n",
       "     'units': 'deltaC',\n",
       "     'minimum': 0.0,\n",
       "     'exclusiveMinimum': True,\n",
       "     'maximum': 0.5,\n",
       "     'default': 0.4},\n",
       "    'solar_distribution': {'type': 'string',\n",
       "     'note': 'MinimalShadowing | FullExterior | FullInteriorAndExterior | FullExteriorWithReflections | FullInteriorAndExteriorWithReflections',\n",
       "     'enum': ['',\n",
       "      'FullExterior',\n",
       "      'FullExteriorWithReflections',\n",
       "      'FullInteriorAndExterior',\n",
       "      'FullInteriorAndExteriorWithReflections',\n",
       "      'MinimalShadowing'],\n",
       "     'default': 'FullExterior'},\n",
       "    'maximum_number_of_warmup_days': {'type': 'number',\n",
       "     'note': \"EnergyPlus will only use as many warmup days as needed to reach convergence tolerance. This field's value should NOT be set less than 25.\",\n",
       "     'minimum': 0.0,\n",
       "     'exclusiveMinimum': True,\n",
       "     'default': 25.0},\n",
       "    'minimum_number_of_warmup_days': {'type': 'number',\n",
       "     'note': 'The minimum number of warmup days that produce enough temperature and flux history to start EnergyPlus simulation for all reference buildings was suggested to be 6. However this can lead to excessive run times as warmup days can be repeated needlessly. For faster execution rely on the convergence criteria to detect when warmup is complete. When this field is greater than the maximum warmup days defined previous field the maximum number of warmup days will be reset to the minimum value entered here. Warmup days will be set to be the value you entered. The default is 1.',\n",
       "     'minimum': 0.0,\n",
       "     'exclusiveMinimum': True,\n",
       "     'default': 1.0}}}},\n",
       " 'name': {'type': 'string', 'retaincase': True, 'default': 'NONE'},\n",
       " 'legacy_idd': {'field_info': {'name': {'field_name': 'Name',\n",
       "    'field_type': 'a'},\n",
       "   'north_axis': {'field_name': 'North Axis', 'field_type': 'n'},\n",
       "   'terrain': {'field_name': 'Terrain', 'field_type': 'a'},\n",
       "   'loads_convergence_tolerance_value': {'field_name': 'Loads Convergence Tolerance Value',\n",
       "    'field_type': 'n'},\n",
       "   'temperature_convergence_tolerance_value': {'field_name': 'Temperature Convergence Tolerance Value',\n",
       "    'field_type': 'n'},\n",
       "   'solar_distribution': {'field_name': 'Solar Distribution',\n",
       "    'field_type': 'a'},\n",
       "   'maximum_number_of_warmup_days': {'field_name': 'Maximum Number of Warmup Days',\n",
       "    'field_type': 'n'},\n",
       "   'minimum_number_of_warmup_days': {'field_name': 'Minimum Number of Warmup Days',\n",
       "    'field_type': 'n'}},\n",
       "  'fields': ['name',\n",
       "   'north_axis',\n",
       "   'terrain',\n",
       "   'loads_convergence_tolerance_value',\n",
       "   'temperature_convergence_tolerance_value',\n",
       "   'solar_distribution',\n",
       "   'maximum_number_of_warmup_days',\n",
       "   'minimum_number_of_warmup_days'],\n",
       "  'alphas': {'fields': ['name', 'terrain', 'solar_distribution']},\n",
       "  'numerics': {'fields': ['north_axis',\n",
       "    'loads_convergence_tolerance_value',\n",
       "    'temperature_convergence_tolerance_value',\n",
       "    'maximum_number_of_warmup_days',\n",
       "    'minimum_number_of_warmup_days']}},\n",
       " 'type': 'object',\n",
       " 'minProperties': 1,\n",
       " 'maxProperties': 1,\n",
       " 'memo': 'Describes parameters that are used during the simulation of the building. There are necessary correlations between the entries for this object and some entries in the Site:WeatherStation and Site:HeightVariation objects, specifically the Terrain field.',\n",
       " 'min_fields': 8.0}"
      ]
     },
     "execution_count": 24,
     "metadata": {},
     "output_type": "execute_result"
    }
   ],
   "source": [
    "dict(building)"
   ]
  },
  {
   "cell_type": "markdown",
   "metadata": {},
   "source": [
    "### 4.2 Properties"
   ]
  },
  {
   "cell_type": "code",
   "execution_count": 39,
   "metadata": {},
   "outputs": [
    {
     "name": "stdout",
     "output_type": "stream",
     "text": [
      "'extensibles'\n"
     ]
    }
   ],
   "source": [
    "try:\n",
    "    building.legacy_idd_extensibles\n",
    "except KeyError as err:\n",
    "    print(err)"
   ]
  },
  {
   "cell_type": "code",
   "execution_count": 40,
   "metadata": {},
   "outputs": [
    {
     "name": "stdout",
     "output_type": "stream",
     "text": [
      "'extension'\n"
     ]
    }
   ],
   "source": [
    "try:\n",
    "    building.legacy_idd_extension\n",
    "except KeyError as err:\n",
    "    print(err)"
   ]
  },
  {
   "cell_type": "code",
   "execution_count": 27,
   "metadata": {},
   "outputs": [
    {
     "data": {
      "text/plain": [
       "['name',\n",
       " 'north_axis',\n",
       " 'terrain',\n",
       " 'loads_convergence_tolerance_value',\n",
       " 'temperature_convergence_tolerance_value',\n",
       " 'solar_distribution',\n",
       " 'maximum_number_of_warmup_days',\n",
       " 'minimum_number_of_warmup_days']"
      ]
     },
     "execution_count": 27,
     "metadata": {},
     "output_type": "execute_result"
    }
   ],
   "source": [
    "building.legacy_idd_fields"
   ]
  },
  {
   "cell_type": "code",
   "execution_count": 29,
   "metadata": {},
   "outputs": [
    {
     "data": {
      "text/plain": [
       "'Building'"
      ]
     },
     "execution_count": 29,
     "metadata": {},
     "output_type": "execute_result"
    }
   ],
   "source": [
    "building.name"
   ]
  },
  {
   "cell_type": "code",
   "execution_count": 31,
   "metadata": {},
   "outputs": [
    {
     "data": {
      "text/plain": [
       "['.*']"
      ]
     },
     "execution_count": 31,
     "metadata": {},
     "output_type": "execute_result"
    }
   ],
   "source": [
    "building.pattern_properties_regexes"
   ]
  },
  {
   "cell_type": "code",
   "execution_count": 32,
   "metadata": {},
   "outputs": [
    {
     "data": {
      "text/plain": [
       "['north_axis',\n",
       " 'terrain',\n",
       " 'loads_convergence_tolerance_value',\n",
       " 'temperature_convergence_tolerance_value',\n",
       " 'solar_distribution',\n",
       " 'maximum_number_of_warmup_days',\n",
       " 'minimum_number_of_warmup_days']"
      ]
     },
     "execution_count": 32,
     "metadata": {},
     "output_type": "execute_result"
    }
   ],
   "source": [
    "building.property_names"
   ]
  },
  {
   "cell_type": "markdown",
   "metadata": {},
   "source": [
    "### 4.3. Methods"
   ]
  },
  {
   "cell_type": "code",
   "execution_count": 33,
   "metadata": {},
   "outputs": [
    {
     "data": {
      "text/plain": [
       "[EPSchemaProperty(name=\"north_axis\"),\n",
       " EPSchemaProperty(name=\"terrain\"),\n",
       " EPSchemaProperty(name=\"loads_convergence_tolerance_value\"),\n",
       " EPSchemaProperty(name=\"temperature_convergence_tolerance_value\"),\n",
       " EPSchemaProperty(name=\"solar_distribution\"),\n",
       " EPSchemaProperty(name=\"maximum_number_of_warmup_days\"),\n",
       " EPSchemaProperty(name=\"minimum_number_of_warmup_days\")]"
      ]
     },
     "execution_count": 33,
     "metadata": {},
     "output_type": "execute_result"
    }
   ],
   "source": [
    "building.get_properties()"
   ]
  },
  {
   "cell_type": "code",
   "execution_count": 34,
   "metadata": {},
   "outputs": [
    {
     "data": {
      "text/plain": [
       "EPSchemaProperty(name=\"north_axis\")"
      ]
     },
     "execution_count": 34,
     "metadata": {},
     "output_type": "execute_result"
    }
   ],
   "source": [
    "building.get_property('north_axis')"
   ]
  },
  {
   "cell_type": "code",
   "execution_count": 38,
   "metadata": {},
   "outputs": [
    {
     "name": "stdout",
     "output_type": "stream",
     "text": [
      "\"bad_property_name\" is not a property of a \"Building\" schema object\n"
     ]
    }
   ],
   "source": [
    "building.validate_property_name('north_axis')\n",
    "try:\n",
    "    building.validate_property_name('bad_property_name')\n",
    "except IndexError as err:\n",
    "    print(err)"
   ]
  },
  {
   "cell_type": "code",
   "execution_count": 45,
   "metadata": {},
   "outputs": [
    {
     "name": "stdout",
     "output_type": "stream",
     "text": [
      "{} does not have enough properties\n"
     ]
    }
   ],
   "source": [
    "try:\n",
    "    building.validate_object({})\n",
    "except Exception as err:\n",
    "    print(err)"
   ]
  },
  {
   "cell_type": "code",
   "execution_count": 47,
   "metadata": {},
   "outputs": [],
   "source": [
    "try:\n",
    "    building.validate_object({'my_building':{}})  # allowed by the object schema\n",
    "except Exception as err:\n",
    "    print(err)"
   ]
  },
  {
   "cell_type": "markdown",
   "metadata": {},
   "source": [
    "## 5. Exploring the object types in the schema"
   ]
  },
  {
   "cell_type": "markdown",
   "metadata": {},
   "source": [
    "### How many object types are there?"
   ]
  },
  {
   "cell_type": "code",
   "execution_count": 48,
   "metadata": {},
   "outputs": [
    {
     "data": {
      "text/plain": [
       "815"
      ]
     },
     "execution_count": 48,
     "metadata": {},
     "output_type": "execute_result"
    }
   ],
   "source": [
    "len(schema.get_object_types())"
   ]
  },
  {
   "cell_type": "markdown",
   "metadata": {},
   "source": [
    "### What are the unique keys in the object type dictionary?"
   ]
  },
  {
   "cell_type": "code",
   "execution_count": 56,
   "metadata": {},
   "outputs": [
    {
     "data": {
      "text/plain": [
       "Counter({'patternProperties': 815,\n",
       "         'legacy_idd': 815,\n",
       "         'type': 815,\n",
       "         'maxProperties': 56,\n",
       "         'memo': 812,\n",
       "         'format': 41,\n",
       "         'min_fields': 476,\n",
       "         'name': 656,\n",
       "         'minProperties': 2,\n",
       "         'extensible_size': 110,\n",
       "         'additionalProperties': 619})"
      ]
     },
     "execution_count": 56,
     "metadata": {},
     "output_type": "execute_result"
    }
   ],
   "source": [
    "from collections import Counter\n",
    "Counter([y for x in schema.get_object_types() for y in x.keys()])"
   ]
  },
  {
   "cell_type": "markdown",
   "metadata": {},
   "source": [
    "### How many unique pattern properties are there?"
   ]
  },
  {
   "cell_type": "code",
   "execution_count": 68,
   "metadata": {},
   "outputs": [
    {
     "data": {
      "text/plain": [
       "782"
      ]
     },
     "execution_count": 68,
     "metadata": {},
     "output_type": "execute_result"
    }
   ],
   "source": [
    "len({str(x['patternProperties']) for x in schema.get_object_types()})"
   ]
  },
  {
   "cell_type": "markdown",
   "metadata": {},
   "source": [
    "### How many unique legacy_idds are there?"
   ]
  },
  {
   "cell_type": "code",
   "execution_count": 69,
   "metadata": {},
   "outputs": [
    {
     "data": {
      "text/plain": [
       "753"
      ]
     },
     "execution_count": 69,
     "metadata": {},
     "output_type": "execute_result"
    }
   ],
   "source": [
    "len({str(x['legacy_idd']) for x in schema.get_object_types()})"
   ]
  },
  {
   "cell_type": "markdown",
   "metadata": {},
   "source": [
    "### What are the unique types?"
   ]
  },
  {
   "cell_type": "code",
   "execution_count": 59,
   "metadata": {},
   "outputs": [
    {
     "data": {
      "text/plain": [
       "Counter({'object': 815})"
      ]
     },
     "execution_count": 59,
     "metadata": {},
     "output_type": "execute_result"
    }
   ],
   "source": [
    "Counter([x['type'] for x in schema.get_object_types()])"
   ]
  },
  {
   "cell_type": "markdown",
   "metadata": {},
   "source": [
    "### What are the unique maxProperties?"
   ]
  },
  {
   "cell_type": "code",
   "execution_count": 60,
   "metadata": {},
   "outputs": [
    {
     "data": {
      "text/plain": [
       "Counter({1: 56, None: 759})"
      ]
     },
     "execution_count": 60,
     "metadata": {},
     "output_type": "execute_result"
    }
   ],
   "source": [
    "Counter([x.get('maxProperties') for x in schema.get_object_types()])"
   ]
  },
  {
   "cell_type": "markdown",
   "metadata": {},
   "source": [
    "### How many unique memos are there?"
   ]
  },
  {
   "cell_type": "code",
   "execution_count": 71,
   "metadata": {},
   "outputs": [
    {
     "data": {
      "text/plain": [
       "775"
      ]
     },
     "execution_count": 71,
     "metadata": {},
     "output_type": "execute_result"
    }
   ],
   "source": [
    "len({str(x['memo']) for x in schema.get_object_types() if 'memo' in x})"
   ]
  },
  {
   "cell_type": "markdown",
   "metadata": {},
   "source": [
    "### What are the unique formats?"
   ]
  },
  {
   "cell_type": "code",
   "execution_count": 63,
   "metadata": {},
   "outputs": [
    {
     "data": {
      "text/plain": [
       "Counter({'singleLine': 25,\n",
       "         None: 774,\n",
       "         'compactSchedule': 1,\n",
       "         'Spectral': 1,\n",
       "         'vertices': 9,\n",
       "         'ViewFactor': 1,\n",
       "         'FluidProperty': 4})"
      ]
     },
     "execution_count": 63,
     "metadata": {},
     "output_type": "execute_result"
    }
   ],
   "source": [
    "Counter([x.get('format') for x in schema.get_object_types()])"
   ]
  },
  {
   "cell_type": "markdown",
   "metadata": {},
   "source": [
    "### What are the unique min_fields?"
   ]
  },
  {
   "cell_type": "code",
   "execution_count": 74,
   "metadata": {
    "scrolled": true
   },
   "outputs": [
    {
     "data": {
      "text/plain": [
       "Counter({None: 339,\n",
       "         7.0: 33,\n",
       "         8.0: 22,\n",
       "         1.0: 16,\n",
       "         3.0: 41,\n",
       "         6.0: 30,\n",
       "         5.0: 42,\n",
       "         4.0: 41,\n",
       "         2.0: 30,\n",
       "         12.0: 15,\n",
       "         9.0: 17,\n",
       "         26.0: 5,\n",
       "         13.0: 10,\n",
       "         19.0: 8,\n",
       "         14.0: 16,\n",
       "         15.0: 13,\n",
       "         29.0: 2,\n",
       "         10.0: 15,\n",
       "         11.0: 17,\n",
       "         18.0: 13,\n",
       "         20.0: 7,\n",
       "         91.0: 2,\n",
       "         28.0: 3,\n",
       "         16.0: 6,\n",
       "         22.0: 3,\n",
       "         34.0: 3,\n",
       "         40.0: 2,\n",
       "         50.0: 1,\n",
       "         44.0: 3,\n",
       "         21.0: 6,\n",
       "         32.0: 3,\n",
       "         31.0: 5,\n",
       "         27.0: 5,\n",
       "         24.0: 4,\n",
       "         39.0: 1,\n",
       "         51.0: 1,\n",
       "         61.0: 2,\n",
       "         71.0: 1,\n",
       "         59.0: 1,\n",
       "         70.0: 1,\n",
       "         46.0: 1,\n",
       "         37.0: 3,\n",
       "         25.0: 4,\n",
       "         33.0: 3,\n",
       "         23.0: 8,\n",
       "         17.0: 4,\n",
       "         56.0: 2,\n",
       "         89.0: 1,\n",
       "         52.0: 1,\n",
       "         41.0: 1,\n",
       "         58.0: 1,\n",
       "         43.0: 1})"
      ]
     },
     "execution_count": 74,
     "metadata": {},
     "output_type": "execute_result"
    }
   ],
   "source": [
    "Counter([x.get('min_fields') for x in schema.get_object_types()])"
   ]
  },
  {
   "cell_type": "markdown",
   "metadata": {},
   "source": [
    "### How many unique names are there?"
   ]
  },
  {
   "cell_type": "code",
   "execution_count": 75,
   "metadata": {},
   "outputs": [
    {
     "data": {
      "text/plain": [
       "307"
      ]
     },
     "execution_count": 75,
     "metadata": {},
     "output_type": "execute_result"
    }
   ],
   "source": [
    "len({str(x['name']) for x in schema.get_object_types() if 'name' in x})"
   ]
  },
  {
   "cell_type": "markdown",
   "metadata": {},
   "source": [
    "### What are the unique minProperties?"
   ]
  },
  {
   "cell_type": "code",
   "execution_count": 61,
   "metadata": {},
   "outputs": [
    {
     "data": {
      "text/plain": [
       "Counter({None: 813, 1: 2})"
      ]
     },
     "execution_count": 61,
     "metadata": {},
     "output_type": "execute_result"
    }
   ],
   "source": [
    "Counter([x.get('minProperties') for x in schema.get_object_types()])"
   ]
  },
  {
   "cell_type": "markdown",
   "metadata": {},
   "source": [
    "### What are the unique extensible_size?"
   ]
  },
  {
   "cell_type": "code",
   "execution_count": 62,
   "metadata": {},
   "outputs": [
    {
     "data": {
      "text/plain": [
       "Counter({None: 705,\n",
       "         1.0: 57,\n",
       "         2.0: 27,\n",
       "         5.0: 2,\n",
       "         4.0: 5,\n",
       "         3.0: 15,\n",
       "         25.0: 1,\n",
       "         7.0: 1,\n",
       "         6.0: 1,\n",
       "         12.0: 1})"
      ]
     },
     "execution_count": 62,
     "metadata": {},
     "output_type": "execute_result"
    }
   ],
   "source": [
    "Counter([x.get('extensible_size') for x in schema.get_object_types()])"
   ]
  },
  {
   "cell_type": "markdown",
   "metadata": {},
   "source": [
    "### What are the unique additionalProperties?"
   ]
  },
  {
   "cell_type": "code",
   "execution_count": 64,
   "metadata": {},
   "outputs": [
    {
     "data": {
      "text/plain": [
       "Counter({None: 196, False: 619})"
      ]
     },
     "execution_count": 64,
     "metadata": {},
     "output_type": "execute_result"
    }
   ],
   "source": [
    "Counter([x.get('additionalProperties') for x in schema.get_object_types()])"
   ]
  },
  {
   "cell_type": "markdown",
   "metadata": {},
   "source": [
    "## 6. Exploring the pattern properties"
   ]
  },
  {
   "cell_type": "markdown",
   "metadata": {},
   "source": [
    "### What are the unique keys of the pattern properties?"
   ]
  },
  {
   "cell_type": "code",
   "execution_count": 76,
   "metadata": {},
   "outputs": [
    {
     "data": {
      "text/plain": [
       "Counter({'.*': 196, '^.*\\\\S.*$': 619})"
      ]
     },
     "execution_count": 76,
     "metadata": {},
     "output_type": "execute_result"
    }
   ],
   "source": [
    "Counter([y for x in schema.get_object_types() for y in x['patternProperties'].keys()])"
   ]
  },
  {
   "cell_type": "code",
   "execution_count": null,
   "metadata": {},
   "outputs": [],
   "source": []
  },
  {
   "cell_type": "markdown",
   "metadata": {},
   "source": [
    "## 7. Exploring the legacy_idds"
   ]
  },
  {
   "cell_type": "markdown",
   "metadata": {},
   "source": [
    "### What are the unique keys of the legacy_idds?"
   ]
  },
  {
   "cell_type": "code",
   "execution_count": 77,
   "metadata": {},
   "outputs": [
    {
     "data": {
      "text/plain": [
       "Counter({'field_info': 815,\n",
       "         'fields': 815,\n",
       "         'alphas': 815,\n",
       "         'numerics': 815,\n",
       "         'extensibles': 110,\n",
       "         'extension': 110})"
      ]
     },
     "execution_count": 77,
     "metadata": {},
     "output_type": "execute_result"
    }
   ],
   "source": [
    "Counter([y for x in schema.get_object_types() for y in x['legacy_idd'].keys()])"
   ]
  },
  {
   "cell_type": "markdown",
   "metadata": {},
   "source": [
    "### What are the types of the legacy_idd keys?"
   ]
  },
  {
   "cell_type": "code",
   "execution_count": 105,
   "metadata": {},
   "outputs": [
    {
     "name": "stdout",
     "output_type": "stream",
     "text": [
      "alphas - Counter({<class 'dict'>: 815})\n",
      "extension - Counter({<class 'str'>: 110})\n",
      "field_info - Counter({<class 'dict'>: 815})\n",
      "fields - Counter({<class 'list'>: 815})\n",
      "numerics - Counter({<class 'dict'>: 815})\n",
      "extensibles - Counter({<class 'list'>: 110})\n"
     ]
    }
   ],
   "source": [
    "legacy_idd_keys={y for x in schema.get_object_types() for y in x['legacy_idd'].keys()}\n",
    "for lik in legacy_idd_keys:\n",
    "    print(lik, end=' - ')\n",
    "    print(Counter([type(x['legacy_idd'][lik]) for x in schema.get_object_types() if lik in x['legacy_idd']]))"
   ]
  },
  {
   "cell_type": "markdown",
   "metadata": {},
   "source": [
    "### What are the unique keys of the alphas?"
   ]
  },
  {
   "cell_type": "code",
   "execution_count": 95,
   "metadata": {},
   "outputs": [
    {
     "data": {
      "text/plain": [
       "Counter({'fields': 815, 'extensions': 91})"
      ]
     },
     "execution_count": 95,
     "metadata": {},
     "output_type": "execute_result"
    }
   ],
   "source": [
    "Counter([y for x in schema.get_object_types() for y in x['legacy_idd'].get('alphas',{}).keys()])"
   ]
  },
  {
   "cell_type": "markdown",
   "metadata": {},
   "source": [
    "### What are the unique types of the alphas fields?"
   ]
  },
  {
   "cell_type": "code",
   "execution_count": 101,
   "metadata": {},
   "outputs": [
    {
     "data": {
      "text/plain": [
       "Counter({\"<class 'list'>\": 815})"
      ]
     },
     "execution_count": 101,
     "metadata": {},
     "output_type": "execute_result"
    }
   ],
   "source": [
    "Counter([str(type(x['legacy_idd'].get('alphas',{}).get('fields',None))) for x in schema.get_object_types()])"
   ]
  },
  {
   "cell_type": "markdown",
   "metadata": {},
   "source": [
    "### What are the unique types of the alphas extensions?"
   ]
  },
  {
   "cell_type": "code",
   "execution_count": 102,
   "metadata": {},
   "outputs": [
    {
     "data": {
      "text/plain": [
       "Counter({\"<class 'NoneType'>\": 724, \"<class 'list'>\": 91})"
      ]
     },
     "execution_count": 102,
     "metadata": {},
     "output_type": "execute_result"
    }
   ],
   "source": [
    "Counter([str(type(x['legacy_idd'].get('alphas',{}).get('extensions',None))) for x in schema.get_object_types()])"
   ]
  },
  {
   "cell_type": "markdown",
   "metadata": {},
   "source": [
    "## 8. Exploring the memos"
   ]
  },
  {
   "cell_type": "markdown",
   "metadata": {},
   "source": [
    "### What are the unique types of the memos?"
   ]
  },
  {
   "cell_type": "code",
   "execution_count": 79,
   "metadata": {},
   "outputs": [
    {
     "data": {
      "text/plain": [
       "Counter({str: 812})"
      ]
     },
     "execution_count": 79,
     "metadata": {},
     "output_type": "execute_result"
    }
   ],
   "source": [
    "Counter([type(x['memo']) for x in schema.get_object_types() if 'memo' in x])"
   ]
  },
  {
   "cell_type": "markdown",
   "metadata": {},
   "source": [
    "## 9. Exploring the names"
   ]
  },
  {
   "cell_type": "code",
   "execution_count": null,
   "metadata": {},
   "outputs": [],
   "source": []
  },
  {
   "cell_type": "code",
   "execution_count": null,
   "metadata": {},
   "outputs": [],
   "source": []
  },
  {
   "cell_type": "code",
   "execution_count": null,
   "metadata": {},
   "outputs": [],
   "source": []
  },
  {
   "cell_type": "code",
   "execution_count": null,
   "metadata": {},
   "outputs": [],
   "source": []
  },
  {
   "cell_type": "code",
   "execution_count": null,
   "metadata": {},
   "outputs": [],
   "source": []
  },
  {
   "cell_type": "code",
   "execution_count": 66,
   "metadata": {},
   "outputs": [
    {
     "data": {
      "text/plain": [
       "Counter({'None': 159,\n",
       "         \"{'type': 'string', 'retaincase': True, 'default': 'NONE'}\": 1,\n",
       "         \"{'type': 'string', 'is_required': True}\": 106,\n",
       "         \"{'type': 'string', 'is_required': True, 'reference': ['RunPeriodsAndDesignDays']}\": 1,\n",
       "         \"{'type': 'string', 'reference': ['RunPeriodsAndDesignDays'], 'is_required': True, 'note': 'user supplied name for reporting'}\": 1,\n",
       "         \"{'type': 'string', 'is_required': True, 'reference': ['RunPeriodsAndDesignDays'], 'note': 'user supplied name for reporting'}\": 1,\n",
       "         \"{'type': 'string', 'is_required': True, 'reference': ['RunPeriodsAndDesignDays'], 'note': 'descriptive name (used in reporting mainly) Cannot be not blank and must be unique'}\": 1,\n",
       "         \"{'type': 'string', 'note': 'blank in this field will apply to all run periods (that is, all objects= SizingPeriod:WeatherFileDays, SizingPeriod:WeatherFileConditionType or RunPeriod otherwise, this name must match one of the environment object names.', 'data_type': 'object_list', 'object_list': ['RunPeriodsAndDesignDays']}\": 1,\n",
       "         \"{'type': 'string', 'is_required': True, 'reference': ['UndisturbedGroundTempModels']}\": 3,\n",
       "         \"{'type': 'string', 'is_required': True, 'reference': ['SpectrumDataNames']}\": 1,\n",
       "         \"{'type': 'string', 'is_required': True, 'reference': ['ScheduleTypeLimitsNames'], 'note': 'used to validate schedule types in various schedule objects'}\": 1,\n",
       "         \"{'type': 'string', 'is_required': True, 'reference': ['DayScheduleNames']}\": 3,\n",
       "         \"{'type': 'string', 'is_required': True, 'reference': ['WeekScheduleNames']}\": 2,\n",
       "         \"{'type': 'string', 'is_required': True, 'reference': ['ScheduleNames']}\": 6,\n",
       "         \"{'type': 'string', 'is_required': True, 'reference': ['MaterialName']}\": 5,\n",
       "         \"{'type': 'string', 'is_required': True, 'reference': ['GlazingMaterialName', 'MaterialName']}\": 3,\n",
       "         \"{'type': 'string', 'is_required': True, 'reference': ['CFSGlazingName', 'GlazingMaterialName', 'MaterialName']}\": 1,\n",
       "         \"{'type': 'string', 'is_required': True, 'reference': ['MaterialName', 'WindowGasAndGasMixtures']}\": 2,\n",
       "         \"{'type': 'string', 'is_required': True, 'reference': ['WindowGapSupportPillars']}\": 1,\n",
       "         \"{'type': 'string', 'is_required': True, 'reference': ['WindowGapDeflectionStates']}\": 1,\n",
       "         \"{'type': 'string', 'is_required': True, 'reference': ['CFSGap']}\": 1,\n",
       "         \"{'type': 'string', 'is_required': True, 'reference': ['MaterialName', 'WindowShadesScreensAndBlinds']}\": 2,\n",
       "         \"{'type': 'string', 'is_required': True, 'reference': ['WindowComplexShades']}\": 1,\n",
       "         \"{'type': 'string', 'note': 'Enter a unique name for this window screen material.', 'is_required': True, 'reference': ['MaterialName', 'WindowShadesScreensAndBlinds']}\": 1,\n",
       "         \"{'type': 'string', 'is_required': True, 'reference': ['WindowEquivalentLayerMaterialNames']}\": 5,\n",
       "         \"{'type': 'string', 'note': 'Enter a unique name for this window screen material.', 'is_required': True, 'reference': ['WindowEquivalentLayerMaterialNames']}\": 1,\n",
       "         \"{'type': 'string', 'is_required': True, 'data_type': 'object_list', 'object_list': ['MaterialName'], 'note': 'Material Name that the moisture properties will be added to. Additional material properties required to perform the EMPD model. Effective Mean Penetration Depth (EMPD)'}\": 1,\n",
       "         \"{'type': 'string', 'is_required': True, 'data_type': 'object_list', 'object_list': ['MaterialName'], 'note': 'Regular Material Name to which the additional properties will be added. this the material name for the basic material properties.'}\": 3,\n",
       "         \"{'type': 'string', 'is_required': True, 'reference': ['SpectralDataSets']}\": 1,\n",
       "         \"{'type': 'string', 'is_required': True, 'reference': ['ConstructionNames']}\": 7,\n",
       "         \"{'type': 'string', 'is_required': True, 'reference': ['WindowThermalModelParameters']}\": 1,\n",
       "         \"{'type': 'string', 'is_required': True, 'reference': ['ComplexFenestrationStates']}\": 1,\n",
       "         \"{'type': 'string', 'is_required': True, 'reference': ['AirflowNetworkNodeAndZoneNames', 'OutFaceEnvNames', 'ZoneAndZoneListNames', 'ZoneNames']}\": 1,\n",
       "         \"{'type': 'string', 'note': 'Name of the Zone List', 'is_required': True, 'reference': ['ZoneAndZoneListNames', 'ZoneListNames']}\": 1,\n",
       "         \"{'type': 'string', 'note': 'Name of the Zone Group', 'is_required': True}\": 1,\n",
       "         \"{'type': 'string', 'is_required': True, 'reference': ['AllHeatTranAngFacNames', 'AllHeatTranSurfNames', 'AllShadingAndHTSurfNames', 'FloorSurfaceNames', 'OutFaceEnvNames', 'RadiantSurfaceNames', 'SurfAndSubSurfNames', 'SurfaceNames']}\": 3,\n",
       "         \"{'type': 'string', 'is_required': True, 'reference': ['AllHeatTranAngFacNames', 'AllHeatTranSurfNames', 'AllShadingAndHTSurfNames', 'OutFaceEnvNames', 'RadiantSurfaceNames', 'SurfAndSubSurfNames', 'SurfaceNames']}\": 4,\n",
       "         \"{'type': 'string', 'is_required': True, 'reference': ['AllHeatTranAngFacNames', 'AllHeatTranSurfNames', 'AllShadingAndHTSurfNames', 'RadiantSurfaceNames', 'SurfAndSubSurfNames', 'SurfaceNames']}\": 5,\n",
       "         \"{'type': 'string', 'is_required': True, 'reference': ['AllHeatTranAngFacNames', 'AllHeatTranSurfNames', 'AllShadingAndHTSurfNames', 'FloorSurfaceNames', 'RadiantSurfaceNames', 'SurfAndSubSurfNames', 'SurfaceNames']}\": 2,\n",
       "         \"{'type': 'string', 'is_required': True, 'reference': ['AllHeatTranAngFacNames', 'AllHeatTranSurfNames', 'AllShadingAndHTSurfNames', 'GlazedExtSubSurfNames', 'OutFaceEnvNames', 'RadiantSurfaceNames', 'SubSurfNames', 'SurfAndSubSurfNames']}\": 1,\n",
       "         \"{'type': 'string', 'is_required': True, 'reference': ['AllHeatTranAngFacNames', 'AllHeatTranSurfNames', 'AllShadingAndHTSurfNames', 'GlazedExtSubSurfNames', 'OutFaceEnvNames', 'SubSurfNames', 'SurfAndSubSurfNames']}\": 2,\n",
       "         \"{'type': 'string', 'is_required': True, 'reference': ['AllHeatTranAngFacNames', 'AllHeatTranSurfNames', 'AllShadingAndHTSurfNames', 'OutFaceEnvNames', 'RadiantSurfaceNames', 'SubSurfNames', 'SurfAndSubSurfNames']}\": 2,\n",
       "         \"{'type': 'string', 'is_required': True, 'reference': ['AllHeatTranAngFacNames', 'AllHeatTranSurfNames', 'AllShadingAndHTSurfNames', 'OutFaceEnvNames', 'SubSurfNames', 'SurfAndSubSurfNames']}\": 2,\n",
       "         \"{'type': 'string', 'is_required': True, 'reference': ['WindowShadeControlNames'], 'note': 'Referenced by surfaces that are exterior windows Not used by interzone windows'}\": 1,\n",
       "         \"{'type': 'string', 'is_required': True, 'reference': ['WindowFrameAndDividerNames'], 'note': 'Referenced by surfaces that are exterior windows Not used by interzone windows'}\": 1,\n",
       "         \"{'type': 'string', 'is_required': True, 'data_type': 'object_list', 'object_list': ['SubSurfNames'], 'note': 'Name must be that of an exterior window with two or three glass layers.'}\": 1,\n",
       "         \"{'type': 'string', 'is_required': True, 'reference': ['AllHeatTranAngFacNames', 'AllHeatTranSurfNames', 'RadiantSurfaceNames']}\": 1,\n",
       "         \"{'type': 'string', 'is_required': True, 'reference': ['AllShadingAndHTSurfNames', 'AllShadingSurfNames']}\": 4,\n",
       "         \"{'type': 'string', 'is_required': True, 'reference': ['AllShadingAndHTSurfNames', 'AllShadingSurfNames', 'AttachedShadingSurfNames']}\": 5,\n",
       "         \"{'type': 'string'}\": 6,\n",
       "         \"{'type': 'string', 'is_required': True, 'reference': ['OutFaceEnvNames']}\": 2,\n",
       "         \"{'type': 'string', 'is_required': True, 'reference': ['OSCMNames', 'OutFaceEnvNames']}\": 1,\n",
       "         \"{'type': 'string', 'is_required': True, 'reference': ['SurfacePropUnderWaterNames']}\": 1,\n",
       "         \"{'type': 'string', 'reference': ['UserConvectionInsideModels', 'UserConvectionModels']}\": 1,\n",
       "         \"{'type': 'string', 'reference': ['UserConvectionModels', 'UserConvectionOutsideModels']}\": 1,\n",
       "         \"{'type': 'string', 'is_required': True, 'reference': ['SurfaceLocalEnvironmentNames']}\": 1,\n",
       "         \"{'type': 'string', 'is_required': True, 'reference': ['ZoneLocalEnvironmentNames']}\": 1,\n",
       "         \"{'type': 'string', 'is_required': True, 'reference': ['SurroundingSurfacesNames']}\": 1,\n",
       "         \"{'type': 'string', 'note': 'This field is included for consistency.11'}\": 1,\n",
       "         \"{'type': 'string', 'reference': ['RoomAirNodes']}\": 1,\n",
       "         \"{'type': 'string', 'reference': ['RoomAirflowNetworkNodes']}\": 1,\n",
       "         \"{'type': 'string', 'reference': ['RoomAirNodeSurfaceLists']}\": 1,\n",
       "         \"{'type': 'string', 'reference': ['RoomAirNodeGains']}\": 1,\n",
       "         \"{'type': 'string', 'reference': ['RoomAirNodeHVACEquipment']}\": 1,\n",
       "         \"{'type': 'string', 'is_required': True, 'reference': ['PeopleNames']}\": 1,\n",
       "         \"{'type': 'string', 'reference': ['AllHeatTranAngFacNames']}\": 1,\n",
       "         \"{'type': 'string', 'is_required': True, 'reference': ['LightsNames']}\": 1,\n",
       "         \"{'type': 'string', 'is_required': True, 'reference': ['ElectricEquipmentNames']}\": 1,\n",
       "         \"{'type': 'string', 'is_required': True, 'reference-class-name': ['validBranchEquipmentTypes'], 'reference': ['validBranchEquipmentNames']}\": 22,\n",
       "         \"{'type': 'string', 'is_required': True, 'reference': ['DaylightingControlNames']}\": 1,\n",
       "         \"{'type': 'string', 'is_required': True, 'reference': ['DaylightReferencePointNames']}\": 1,\n",
       "         \"{'type': 'string', 'is_required': True, 'note': 'Only used for user reference'}\": 1,\n",
       "         \"{'type': 'string', 'is_required': True, 'reference': ['VentilationNames']}\": 2,\n",
       "         \"{'type': 'string', 'is_required': True, 'note': 'Enter a unique name for this object.'}\": 2,\n",
       "         \"{'type': 'string', 'is_required': True, 'reference': ['ReferenceCrackConditions'], 'note': 'Enter a unique name for this object.'}\": 1,\n",
       "         \"{'type': 'string', 'is_required': True, 'reference': ['SurfaceAirflowLeakageNames'], 'note': 'Enter a unique name for this object.'}\": 5,\n",
       "         \"{'type': 'string', 'is_required': True, 'data_type': 'object_list', 'object_list': ['FansZoneExhaust'], 'reference': ['SurfaceAirflowLeakageNames'], 'note': 'Enter the name of a Fan:ZoneExhaust object.'}\": 1,\n",
       "         \"{'type': 'string', 'is_required': True, 'reference': ['ExternalNodeNames'], 'note': 'Enter a unique name for this object. This node name will be referenced by a particular building facade.'}\": 1,\n",
       "         \"{'type': 'string', 'is_required': True, 'reference': ['WPCSetNames'], 'note': 'Enter a unique name for the object.'}\": 1,\n",
       "         \"{'type': 'string', 'is_required': True, 'reference': ['WPCValueNames'], 'note': 'Enter a unique name for this object.'}\": 1,\n",
       "         \"{'type': 'string', 'is_required': True, 'reference': ['AirflowNetworkZoneControlPressureControllerNames']}\": 1,\n",
       "         \"{'type': 'string', 'is_required': True, 'reference': ['AirflowNetworkNodeAndZoneNames'], 'note': 'Enter a unique name for this object.'}\": 1,\n",
       "         \"{'type': 'string', 'is_required': True, 'reference': ['AirflowNetworkComponentNames'], 'note': 'Enter a unique name for this object.'}\": 4,\n",
       "         \"{'type': 'string', 'is_required': True, 'reference': ['AFNOutdoorAirFlowNames', 'AirflowNetworkComponentNames']}\": 1,\n",
       "         \"{'type': 'string', 'is_required': True, 'reference': ['AFNReliefAirFlowNames', 'AirflowNetworkComponentNames']}\": 1,\n",
       "         \"{'type': 'string', 'is_required': True, 'reference': ['AirflowNetworkOccupantVentilationControlNames'], 'note': 'Enter the name where the advanced thermal comfort control is required.'}\": 1,\n",
       "         \"{'type': 'string', 'is_required': True, 'reference': ['AirflowNetworkNodeNames'], 'note': 'Enter a unique name for this object.'}\": 1,\n",
       "         \"{'type': 'string', 'is_required': True, 'note': 'Enter a unique name for this object.', 'reference': ['AirflowNetwork LinkageNames']}\": 1,\n",
       "         \"{'type': 'string', 'is_required': True, 'reference': ['ExteriorLightsNames']}\": 1,\n",
       "         \"{'type': 'string', 'is_required': True, 'note': 'This name is referenced by HVACTemplate:Zone:* objects', 'reference': ['CompactHVACThermostats']}\": 1,\n",
       "         \"{'type': 'string', 'is_required': True, 'reference': ['CompactHVACSystemVRF', 'HVACTemplateSystems']}\": 1,\n",
       "         \"{'type': 'string', 'is_required': True, 'reference': ['CompactHVACSystemUnitary', 'HVACTemplateSystems']}\": 3,\n",
       "         \"{'type': 'string', 'is_required': True, 'reference': ['CompactHVACSystemVAV', 'HVACTemplateSystems']}\": 2,\n",
       "         \"{'type': 'string', 'is_required': True, 'reference': ['CompactHVACSystemConstantVolume', 'HVACTemplateSystems']}\": 1,\n",
       "         \"{'type': 'string', 'is_required': True, 'reference': ['CompactHVACSystemDualDuct', 'HVACTemplateSystems']}\": 1,\n",
       "         \"{'type': 'string', 'reference': ['HVACTemplateDOASSystems', 'HVACTemplateSystems']}\": 1,\n",
       "         \"{'type': 'string', 'note': 'The name of this object.', 'is_required': True}\": 3,\n",
       "         \"{'type': 'string', 'is_required': True, 'reference': ['DesignSpecificationOutdoorAirNames']}\": 1,\n",
       "         \"{'type': 'string', 'is_required': True, 'reference': ['DesignSpecificationZoneAirDistributionNames']}\": 1,\n",
       "         \"{'type': 'string', 'is_required': True, 'reference': ['DesignSpecificationZoneHVACSizingName']}\": 1,\n",
       "         \"{'type': 'string', 'note': 'This name may be referenced by a ZoneHVAC:AirDistributionUnit object.', 'is_required': True, 'reference': ['DesignSpecificationAirTerminalSizingName']}\": 1,\n",
       "         \"{'type': 'string', 'is_required': True, 'reference': ['ZoneControlHumidistatNames']}\": 1,\n",
       "         \"{'type': 'string', 'is_required': True, 'reference': ['ZoneControlThermostaticNames']}\": 2,\n",
       "         \"{'type': 'string', 'is_required': True, 'reference': ['ControlTypeNames']}\": 4,\n",
       "         \"{'type': 'string', 'is_required': True, 'reference': ['ThermalComfortControlTypeNames']}\": 4,\n",
       "         \"{'type': 'string', 'is_required': True, 'reference': ['ZoneEquipmentNames']}\": 13,\n",
       "         \"{'type': 'string', 'is_required': True, 'reference': ['DOAToZonalUnit', 'ZoneEquipmentNames']}\": 3,\n",
       "         \"{'type': 'string', 'is_required': True, 'reference': ['DOAToZonalUnit', 'ZoneEquipmentNames'], 'note': 'Unique name for this packaged terminal air conditioner object.'}\": 1,\n",
       "         \"{'type': 'string', 'is_required': True, 'reference': ['DOAToZonalUnit', 'ZoneEquipmentNames'], 'note': 'Unique name for this packaged terminal heat pump object.'}\": 1,\n",
       "         \"{'type': 'string', 'is_required': True, 'reference': ['ZoneEquipmentNames'], 'note': 'Unique name for this direct expansion (DX) zone dehumidifier object.'}\": 1,\n",
       "         \"{'type': 'string', 'is_required': True, 'reference': ['ControllerStandAloneEnergyRecoveryVentilator']}\": 1,\n",
       "         \"{'type': 'string', 'is_required': True, 'retaincase': True, 'reference': ['ZoneEquipmentNames']}\": 1,\n",
       "         \"{'type': 'string', 'is_required': True, 'reference': ['OutdoorAirUnitEquipmentLists']}\": 1,\n",
       "         \"{'type': 'string', 'reference': ['DOAToZonalUnit', 'ZoneEquipmentNames', 'ZoneTerminalUnitNames', 'validBranchEquipmentNames', 'validOASysEquipmentNames'], 'reference-class-name': ['validBranchEquipmentTypes', 'validOASysEquipmentTypes']}\": 1,\n",
       "         \"{'type': 'string', 'is_required': True, 'reference-class-name': ['validBranchEquipmentTypes'], 'reference': ['ZoneEquipmentNames', 'validBranchEquipmentNames']}\": 6,\n",
       "         \"{'type': 'string', 'is_required': True, 'reference': ['RadiantGroupNames']}\": 1,\n",
       "         \"{'type': 'string', 'is_required': True, 'reference': ['VentSlabGroupNames']}\": 1,\n",
       "         \"{'type': 'string', 'is_required': True, 'reference': ['AFNTerminalUnitNames', 'AirTerminalUnitNames']}\": 3,\n",
       "         \"{'type': 'string', 'is_required': True, 'reference': ['AirTerminalUnitNames']}\": 11,\n",
       "         \"{'type': 'string', 'is_required': True, 'reference': ['AirTerminalUnitNames', 'validBranchEquipmentNames'], 'reference-class-name': ['validBranchEquipmentTypes']}\": 2,\n",
       "         \"{'type': 'string', 'is_required': True, 'reference': ['ZoneEquipmentLists']}\": 1,\n",
       "         \"{'type': 'string', 'is_required': True, 'reference': ['Fans', 'FansSystemModel', 'validBranchEquipmentNames', 'validOASysEquipmentNames'], 'reference-class-name': ['validBranchEquipmentTypes', 'validOASysEquipmentTypes']}\": 1,\n",
       "         \"{'type': 'string', 'is_required': True, 'reference': ['Fans', 'FansCV', 'FansCVandOnOff', 'FansCVandOnOffandVAV', 'FansCVandVAV', 'validBranchEquipmentNames', 'validOASysEquipmentNames'], 'reference-class-name': ['validBranchEquipmentTypes', 'validOASysEquipmentTypes']}\": 1,\n",
       "         \"{'type': 'string', 'is_required': True, 'reference': ['Fans', 'FansCVandOnOffandVAV', 'FansCVandVAV', 'FansOnOffandVAV', 'FansVAV', 'validBranchEquipmentNames', 'validOASysEquipmentNames'], 'reference-class-name': ['validBranchEquipmentTypes', 'validOASysEquipmentTypes']}\": 1,\n",
       "         \"{'type': 'string', 'is_required': True, 'reference': ['Fans', 'FansCVandOnOff', 'FansCVandOnOffandVAV', 'FansOnOff', 'FansOnOffandVAV']}\": 1,\n",
       "         \"{'type': 'string', 'is_required': True, 'reference': ['FansZoneExhaust', 'ZoneEquipmentNames']}\": 1,\n",
       "         \"{'type': 'string', 'is_required': True, 'reference': ['Fans', 'FansComponentModel', 'validBranchEquipmentNames', 'validOASysEquipmentNames'], 'reference-class-name': ['validBranchEquipmentTypes', 'validOASysEquipmentTypes']}\": 1,\n",
       "         \"{'type': 'string', 'is_required': True, 'reference': ['AFNCoilNames', 'CoolingCoilName', 'CoolingCoilsWater', 'CoolingCoilsWaterNoHX', 'SimpleCoils', 'validBranchEquipmentNames', 'validOASysEquipmentNames'], 'reference-class-name': ['validBranchEquipmentTypes', 'validOASysEquipmentTypes']}\": 1,\n",
       "         \"{'type': 'string', 'is_required': True, 'reference': ['AFNCoilNames', 'CoolingCoilName', 'CoolingCoilsWater', 'CoolingCoilsWaterNoHX', 'validBranchEquipmentNames', 'validOASysEquipmentNames'], 'reference-class-name': ['validBranchEquipmentTypes', 'validOASysEquipmentTypes']}\": 1,\n",
       "         \"{'type': 'string', 'is_required': True, 'reference': ['AFNCoilNames', 'CoilCoolingDX']}\": 1,\n",
       "         \"{'type': 'string', 'is_required': True, 'reference': ['DXCoolingPerformanceNames']}\": 1,\n",
       "         \"{'type': 'string', 'is_required': True, 'reference': ['DXCoolingOperatingModeNames']}\": 1,\n",
       "         \"{'type': 'string', 'is_required': True, 'reference': ['DXCoolingSpeedNames']}\": 1,\n",
       "         \"{'type': 'string', 'is_required': True, 'reference': ['AFNCoilNames', 'CoolingCoilsDX', 'CoolingCoilsDXMultiModeOrSingleSpeed', 'CoolingCoilsDXSingleSpeed', 'DesuperHeatingCoilSources']}\": 1,\n",
       "         \"{'type': 'string', 'is_required': True, 'reference': ['AFNCoilNames', 'CoolingCoilsDX', 'DesuperHeatingCoilSources']}\": 1,\n",
       "         \"{'type': 'string', 'is_required': True, 'reference': ['AFNCoilNames', 'CoolingCoilsDXMultiSpeed', 'DesuperHeatingWaterOnlySources']}\": 1,\n",
       "         \"{'type': 'string', 'is_required': True, 'reference': ['CoolingCoilsDXVariableSpeed', 'DesuperHeatingCoilSources']}\": 1,\n",
       "         \"{'type': 'string', 'is_required': True, 'reference': ['AFNCoilNames', 'CoolingCoilsDX', 'CoolingCoilsDXMultiModeOrSingleSpeed', 'DesuperHeatingCoilSources']}\": 1,\n",
       "         \"{'type': 'string', 'is_required': True, 'reference': ['CoilPerformanceDX']}\": 1,\n",
       "         \"{'type': 'string', 'is_required': True, 'reference': ['CoolingCoilsDXVarRefrigFlow']}\": 1,\n",
       "         \"{'type': 'string', 'is_required': True, 'reference': ['HeatingCoilsDX', 'HeatingCoilsDXSingleSpeed', 'HeatingCoilsDXVarRefrigFlow']}\": 1,\n",
       "         \"{'type': 'string', 'is_required': True, 'reference': ['CoolingCoilsDXVarRefrigFlowFluidTemperatureControl']}\": 1,\n",
       "         \"{'type': 'string', 'is_required': True, 'reference': ['HeatingCoilsDXVarRefrigFlowFluidTemperatureControl']}\": 1,\n",
       "         \"{'type': 'string', 'is_required': True, 'reference': ['AFNCoilNames', 'HeatingCoilName', 'HeatingCoilsWater', 'SimpleCoils', 'validBranchEquipmentNames', 'validOASysEquipmentNames'], 'reference-class-name': ['validBranchEquipmentTypes', 'validOASysEquipmentTypes']}\": 1,\n",
       "         \"{'type': 'string', 'is_required': True, 'reference': ['HeatingCoilName', 'validBranchEquipmentNames', 'validOASysEquipmentNames'], 'reference-class-name': ['validBranchEquipmentTypes', 'validOASysEquipmentTypes']}\": 1,\n",
       "         \"{'type': 'string', 'is_required': True, 'reference': ['AFNCoilNames', 'HeatingCoilName', 'HeatingCoilsElectric', 'validBranchEquipmentNames', 'validOASysEquipmentNames'], 'reference-class-name': ['validBranchEquipmentTypes', 'validOASysEquipmentTypes']}\": 1,\n",
       "         \"{'type': 'string', 'is_required': True, 'reference': ['HeatingCoilsElectricMultiStage']}\": 1,\n",
       "         \"{'type': 'string', 'is_required': True, 'reference': ['AFNCoilNames', 'HeatingCoilName', 'validBranchEquipmentNames', 'validOASysEquipmentNames'], 'reference-class-name': ['validBranchEquipmentTypes', 'validOASysEquipmentTypes']}\": 1,\n",
       "         \"{'type': 'string', 'is_required': True, 'reference': ['HeatingCoilsGasMultiStage']}\": 1,\n",
       "         \"{'type': 'string', 'is_required': True, 'reference': ['AFNCoilNames', 'HeatingCoilsDesuperheater', 'validBranchEquipmentNames'], 'reference-class-name': ['validBranchEquipmentTypes']}\": 1,\n",
       "         \"{'type': 'string', 'is_required': True, 'reference': ['AFNCoilNames', 'HeatingCoilsDX', 'HeatingCoilsDXSingleSpeed']}\": 1,\n",
       "         \"{'type': 'string', 'is_required': True, 'reference': ['AFNCoilNames', 'HeatingCoilsDXMultiSpeed']}\": 1,\n",
       "         \"{'type': 'string', 'is_required': True, 'reference': ['HeatingCoilsDXVariableSpeed']}\": 1,\n",
       "         \"{'type': 'string', 'is_required': True, 'reference': ['CoolingCoilsWaterToAirHP', 'validBranchEquipmentNames'], 'reference-class-name': ['validBranchEquipmentTypes']}\": 1,\n",
       "         \"{'type': 'string', 'is_required': True, 'reference': ['HeatingCoilsWaterToAirHP', 'validBranchEquipmentNames'], 'reference-class-name': ['validBranchEquipmentTypes']}\": 2,\n",
       "         \"{'type': 'string', 'is_required': True, 'reference': ['CoolingCoilsWaterToAirHP', 'DesuperHeatingWaterOnlySources', 'validBranchEquipmentNames'], 'reference-class-name': ['validBranchEquipmentTypes']}\": 1,\n",
       "         \"{'type': 'string', 'is_required': True, 'reference': ['CoolingCoilsWaterToAirVSHP', 'validBranchEquipmentNames'], 'reference-class-name': ['validBranchEquipmentTypes']}\": 1,\n",
       "         \"{'type': 'string', 'is_required': True, 'reference': ['HeatingCoilsWaterToAirVSHP', 'validBranchEquipmentNames'], 'reference-class-name': ['validBranchEquipmentTypes']}\": 1,\n",
       "         \"{'type': 'string', 'is_required': True, 'reference': ['HeatPumpWaterHeaterDXCoilsPumped'], 'note': 'Unique name for this instance of a heat pump water heater DX coil.'}\": 1,\n",
       "         \"{'type': 'string', 'is_required': True, 'reference': ['HeatPumpWaterHeaterDXCoilsWrapped'], 'note': 'Unique name for this instance of a heat pump water heater DX coil.'}\": 1,\n",
       "         \"{'type': 'string', 'is_required': True, 'reference': ['HeatPumpWaterHeaterDXCoilsVariableSpeed'], 'note': 'Unique name for this instance of a variable-speed heat pump water heater DX coil.'}\": 1,\n",
       "         \"{'type': 'string', 'is_required': True, 'note': 'Unique name for this instance of a desuperheater water heating coil.'}\": 1,\n",
       "         \"{'type': 'string', 'is_required': True, 'reference': ['CoolingCoilSystemName', 'validBranchEquipmentNames', 'validOASysEquipmentNames'], 'reference-class-name': ['validBranchEquipmentTypes', 'validOASysEquipmentTypes']}\": 1,\n",
       "         \"{'type': 'string', 'is_required': True, 'reference': ['HeatingCoilSystemName', 'validBranchEquipmentNames', 'validOASysEquipmentNames'], 'reference-class-name': ['validBranchEquipmentTypes', 'validOASysEquipmentTypes']}\": 1,\n",
       "         \"{'type': 'string', 'is_required': True, 'reference': ['CoolingCoilsWater', 'validBranchEquipmentNames', 'validOASysEquipmentNames'], 'reference-class-name': ['validBranchEquipmentTypes', 'validOASysEquipmentTypes']}\": 1,\n",
       "         \"{'type': 'string', 'is_required': True, 'reference': ['CoolingCoilsDX', 'CoolingCoilsDXMultiModeOrSingleSpeed', 'CoolingCoilsDXSingleSpeed']}\": 1,\n",
       "         \"{'type': 'string', 'is_required': True, 'reference': ['IntegratedHeatPumps'], 'note': 'Unique name for this instance of an air-source integrated heat pump.'}\": 1,\n",
       "         \"{'type': 'string', 'is_required': True, 'reference': ['AFNCoilNames', 'CoolingCoilsDX', 'CoolingCoilsDXMultiModeOrSingleSpeed', 'CoolingCoilsDXSingleSpeed', 'validBranchEquipmentNames'], 'reference-class-name': ['validBranchEquipmentTypes']}\": 1,\n",
       "         \"{'type': 'string', 'reference': ['EvapCoolerNames', 'validBranchEquipmentNames', 'validOASysEquipmentNames'], 'reference-class-name': ['validBranchEquipmentTypes', 'validOASysEquipmentTypes']}\": 3,\n",
       "         \"{'type': 'string', 'is_required': True, 'reference': ['EvapCoolerNames', 'validBranchEquipmentNames', 'validOASysEquipmentNames'], 'reference-class-name': ['validBranchEquipmentTypes', 'validOASysEquipmentTypes']}\": 2,\n",
       "         \"{'type': 'string', 'is_required': True, 'reference-class-name': ['validBranchEquipmentTypes', 'validOASysEquipmentTypes'], 'reference': ['validBranchEquipmentNames', 'validOASysEquipmentNames']}\": 4,\n",
       "         \"{'type': 'string', 'is_required': True, 'reference': ['AFNHeatExchangerNames', 'HXAirToAirNames', 'ZoneEquipmentNames', 'validBranchEquipmentNames', 'validOASysEquipmentNames'], 'reference-class-name': ['validBranchEquipmentTypes', 'validOASysEquipmentTypes']}\": 1,\n",
       "         \"{'type': 'string', 'is_required': True, 'reference': ['AFNHeatExchangerNames', 'HXAirToAirNames', 'HXAirToAirSensibleAndLatentNames', 'validBranchEquipmentNames', 'validOASysEquipmentNames'], 'reference-class-name': ['validBranchEquipmentTypes', 'validOASysEquipmentTypes']}\": 1,\n",
       "         \"{'type': 'string', 'is_required': True, 'reference': ['AFNHeatExchangerNames', 'HXAirToAirNames', 'HXDesiccantBalanced', 'validBranchEquipmentNames', 'validOASysEquipmentNames'], 'reference-class-name': ['validBranchEquipmentTypes', 'validOASysEquipmentTypes']}\": 1,\n",
       "         \"{'type': 'string', 'is_required': True, 'reference': ['DesiccantHXPerfData']}\": 1,\n",
       "         \"{'type': 'string', 'is_required': True, 'reference': ['DOAToZonalUnit', 'ZoneEquipmentNames', 'validBranchEquipmentNames', 'validOASysEquipmentNames'], 'note': 'Unique name for the Unitary System.', 'reference-class-name': ['validBranchEquipmentTypes', 'validOASysEquipmentTypes']}\": 1,\n",
       "         \"{'type': 'string', 'is_required': True, 'reference': ['UnitarySystemPerformaceNames']}\": 1,\n",
       "         \"{'type': 'string', 'is_required': True, 'note': 'Enter a unique name for this unitary system.', 'reference-class-name': ['validBranchEquipmentTypes'], 'reference': ['validBranchEquipmentNames']}\": 1,\n",
       "         \"{'type': 'string', 'reference-class-name': ['validBranchEquipmentTypes'], 'reference': ['validBranchEquipmentNames'], 'note': 'Enter a unique name for this variable refrigerant flow heat pump.'}\": 1,\n",
       "         \"{'type': 'string', 'is_required': True, 'note': 'Enter a unique name for this variable refrigerant flow heat pump'}\": 1,\n",
       "         \"{'type': 'string', 'is_required': True, 'reference': ['AirLoopControllers', 'WaterCoilControllers']}\": 1,\n",
       "         \"{'type': 'string', 'is_required': True, 'reference': ['AirLoopControllers', 'OAControllerNames']}\": 1,\n",
       "         \"{'type': 'string', 'is_required': True, 'reference': ['ControllerMechanicalVentNames']}\": 1,\n",
       "         \"{'type': 'string', 'is_required': True, 'reference': ['ControllerLists']}\": 1,\n",
       "         \"{'type': 'string', 'is_required': True, 'reference': ['AirPrimaryLoops']}\": 1,\n",
       "         \"{'type': 'string', 'is_required': True, 'reference': ['AirLoopOAEquipmentLists']}\": 1,\n",
       "         \"{'type': 'string', 'is_required': True, 'reference': ['OutdoorAirMixers', 'validOASysEquipmentNames'], 'reference-class-name': ['validOASysEquipmentTypes']}\": 1,\n",
       "         \"{'type': 'string', 'is_required': True, 'reference': ['SupplyPathComponentNames']}\": 2,\n",
       "         \"{'type': 'string', 'is_required': True, 'reference': ['ReturnPathComponentNames', 'ZoneMixers']}\": 1,\n",
       "         \"{'type': 'string', 'is_required': True, 'reference': ['ReturnPathComponentNames']}\": 1,\n",
       "         \"{'type': 'string', 'is_required': True, 'reference': ['DOASAirLoops']}\": 1,\n",
       "         \"{'type': 'string', 'is_required': True, 'reference': ['AirLoopHVACMixerNames']}\": 1,\n",
       "         \"{'type': 'string', 'is_required': True, 'reference': ['AirLoopHVACSplitterNames']}\": 1,\n",
       "         \"{'type': 'string', 'is_required': True, 'reference': ['Branches']}\": 1,\n",
       "         \"{'type': 'string', 'is_required': True, 'reference': ['BranchLists']}\": 1,\n",
       "         \"{'type': 'string', 'is_required': True, 'reference': ['PlantConnectors']}\": 2,\n",
       "         \"{'type': 'string', 'is_required': True, 'reference': ['ConnectorLists']}\": 1,\n",
       "         \"{'type': 'string', 'is_required': True, 'reference': ['OutdoorAirNodeNames']}\": 1,\n",
       "         \"{'type': 'string', 'is_required': True, 'reference': ['PipingSystemUndergroundCircuitNames', 'validBranchEquipmentNames', 'validCondenserEquipmentNames', 'validPlantEquipmentNames'], 'reference-class-name': ['validBranchEquipmentTypes', 'validCondenserEquipmentTypes', 'validPlantEquipmentTypes']}\": 1,\n",
       "         \"{'type': 'string', 'is_required': True, 'reference': ['PipingSystemUndergroundSegmentNames']}\": 1,\n",
       "         \"{'type': 'string', 'is_required': True, 'reference-class-name': ['validBranchEquipmentTypes', 'validCondenserEquipmentTypes', 'validPlantEquipmentTypes'], 'reference': ['validBranchEquipmentNames', 'validCondenserEquipmentNames', 'validPlantEquipmentNames']}\": 11,\n",
       "         \"{'type': 'string', 'is_required': True, 'reference': ['FlatPlateSolarCollectorParameters']}\": 1,\n",
       "         \"{'type': 'string', 'is_required': True, 'reference-class-name': ['validBranchEquipmentTypes', 'validPlantEquipmentTypes'], 'reference': ['validBranchEquipmentNames', 'validPlantEquipmentNames']}\": 8,\n",
       "         \"{'type': 'string', 'reference-class-name': ['validBranchEquipmentTypes', 'validOASysEquipmentTypes', 'validPlantEquipmentTypes'], 'reference': ['validBranchEquipmentNames', 'validOASysEquipmentNames', 'validPlantEquipmentNames']}\": 1,\n",
       "         \"{'type': 'string', 'reference': ['FlatPlatePVTParameters']}\": 1,\n",
       "         \"{'type': 'string', 'is_required': True, 'reference': ['CollectorStoragePerformance']}\": 1,\n",
       "         \"{'type': 'string', 'is_required': True, 'reference': ['UTSCNames', 'validOASysEquipmentNames'], 'reference-class-name': ['validOASysEquipmentTypes']}\": 1,\n",
       "         \"{'type': 'string', 'is_required': True, 'reference': ['Boilers', 'validBranchEquipmentNames', 'validPlantEquipmentNames'], 'reference-class-name': ['validBranchEquipmentTypes', 'validPlantEquipmentTypes']}\": 1,\n",
       "         \"{'type': 'string', 'reference': ['Chillers', 'validBranchEquipmentNames', 'validPlantEquipmentNames'], 'is_required': True, 'reference-class-name': ['validBranchEquipmentTypes', 'validPlantEquipmentTypes']}\": 7,\n",
       "         \"{'type': 'string', 'is_required': True, 'reference': ['Chillers', 'validBranchEquipmentNames', 'validPlantEquipmentNames'], 'reference-class-name': ['validBranchEquipmentTypes', 'validPlantEquipmentTypes']}\": 1,\n",
       "         \"{'type': 'string', 'reference': ['PLHPCoolingNames', 'validBranchEquipmentNames', 'validPlantEquipmentNames'], 'is_required': True, 'reference-class-name': ['validBranchEquipmentTypes', 'validPlantEquipmentTypes']}\": 1,\n",
       "         \"{'type': 'string', 'reference': ['PLHPHeatingNames', 'validBranchEquipmentNames', 'validPlantEquipmentNames'], 'is_required': True, 'reference-class-name': ['validBranchEquipmentTypes', 'validPlantEquipmentTypes']}\": 1,\n",
       "         \"{'type': 'string', 'reference': ['WWHPHeatingNames', 'validBranchEquipmentNames', 'validPlantEquipmentNames'], 'is_required': True, 'reference-class-name': ['validBranchEquipmentTypes', 'validPlantEquipmentTypes']}\": 1,\n",
       "         \"{'type': 'string', 'reference': ['WWHPCoolingNames', 'validBranchEquipmentNames', 'validPlantEquipmentNames'], 'is_required': True, 'reference-class-name': ['validBranchEquipmentTypes', 'validPlantEquipmentTypes']}\": 1,\n",
       "         \"{'type': 'string', 'is_required': True, 'note': 'Component Name', 'reference-class-name': ['validBranchEquipmentTypes', 'validCondenserEquipmentTypes', 'validPlantEquipmentTypes'], 'reference': ['validBranchEquipmentNames', 'validCondenserEquipmentNames', 'validPlantEquipmentNames']}\": 1,\n",
       "         \"{'type': 'string', 'is_required': True, 'reference': ['ChillerHeaterEIRNames']}\": 1,\n",
       "         \"{'type': 'string', 'is_required': True, 'reference': ['CoolingTowers', 'CoolingTowersWithUA', 'validBranchEquipmentNames', 'validCondenserEquipmentNames', 'validPlantEquipmentNames'], 'note': 'Tower Name', 'reference-class-name': ['validBranchEquipmentTypes', 'validCondenserEquipmentTypes', 'validPlantEquipmentTypes']}\": 3,\n",
       "         \"{'type': 'string', 'is_required': True, 'reference': ['CoolingTowers', 'validBranchEquipmentNames', 'validCondenserEquipmentNames', 'validPlantEquipmentNames'], 'note': 'Tower Name', 'reference-class-name': ['validBranchEquipmentTypes', 'validCondenserEquipmentTypes', 'validPlantEquipmentTypes']}\": 1,\n",
       "         \"{'type': 'string', 'is_required': True, 'reference': ['VariableSpeedTowerCoefficient']}\": 2,\n",
       "         \"{'type': 'string', 'is_required': True, 'note': 'Fluid Cooler Name', 'reference-class-name': ['validBranchEquipmentTypes', 'validCondenserEquipmentTypes', 'validPlantEquipmentTypes'], 'reference': ['validBranchEquipmentNames', 'validCondenserEquipmentNames', 'validPlantEquipmentNames']}\": 1,\n",
       "         \"{'type': 'string', 'is_required': True, 'note': 'fluid cooler name', 'reference-class-name': ['validBranchEquipmentTypes', 'validCondenserEquipmentTypes', 'validPlantEquipmentTypes'], 'reference': ['validBranchEquipmentNames', 'validCondenserEquipmentNames', 'validPlantEquipmentNames']}\": 3,\n",
       "         \"{'type': 'string', 'is_required': True, 'reference': ['GroundHeatExchangerVerticalPropertiesNames']}\": 1,\n",
       "         \"{'type': 'string', 'is_required': True, 'reference': ['GroundHeatExchangerVerticalArrayNames']}\": 1,\n",
       "         \"{'type': 'string', 'is_required': True, 'reference': ['GroundHeatExchangerVerticalSingleNames']}\": 1,\n",
       "         \"{'type': 'string', 'is_required': True, 'reference': ['GroundHeatExchangerVerticalResponseFactorNames']}\": 1,\n",
       "         \"{'type': 'string', 'is_required': True, 'reference': ['WaterHeaterMixedNames', 'WaterHeaterNames', 'validBranchEquipmentNames', 'validCondenserEquipmentNames', 'validPlantEquipmentNames'], 'reference-class-name': ['validBranchEquipmentTypes', 'validCondenserEquipmentTypes', 'validPlantEquipmentTypes']}\": 1,\n",
       "         \"{'type': 'string', 'is_required': True, 'reference': ['WaterHeaterNames', 'WaterHeaterStratifiedNames', 'validBranchEquipmentNames', 'validCondenserEquipmentNames', 'validPlantEquipmentNames'], 'reference-class-name': ['validBranchEquipmentTypes', 'validCondenserEquipmentTypes', 'validPlantEquipmentTypes']}\": 1,\n",
       "         \"{'type': 'string', 'is_required': True, 'reference-class-name': ['validBranchEquipmentTypes', 'validPlantEquipmentTypes'], 'reference': ['ZoneEquipmentNames', 'validBranchEquipmentNames', 'validPlantEquipmentNames'], 'note': 'Unique name for this instance of a heat pump water heater.'}\": 2,\n",
       "         \"{'type': 'string', 'is_required': True, 'reference': ['IceThermalStorageEquipment', 'validBranchEquipmentNames'], 'reference-class-name': ['validBranchEquipmentTypes']}\": 1,\n",
       "         \"{'type': 'string', 'is_required': True, 'reference': ['IceThermalStorageEquipment', 'validBranchEquipmentNames', 'validPlantEquipmentNames'], 'reference-class-name': ['validBranchEquipmentTypes', 'validPlantEquipmentTypes']}\": 1,\n",
       "         \"{'type': 'string', 'is_required': True, 'reference': ['PlantLoops']}\": 2,\n",
       "         \"{'type': 'string', 'is_required': True, 'reference': ['PlantAndCondenserEquipmentLists']}\": 1,\n",
       "         \"{'type': 'string', 'is_required': True, 'reference': ['CondenserEquipmentLists', 'PlantAndCondenserEquipmentLists']}\": 1,\n",
       "         \"{'type': 'string', 'is_required': True, 'reference': ['ControlSchemeList']}\": 12,\n",
       "         \"{'type': 'string', 'is_required': True, 'reference': ['PlantOperationSchemes']}\": 1,\n",
       "         \"{'type': 'string', 'is_required': True, 'reference': ['CondenserOperationSchemes']}\": 1,\n",
       "         \"{'type': 'string', 'is_required': True, 'note': 'This name becomes a variable for use in Erl programs no spaces allowed in name'}\": 8,\n",
       "         \"{'type': 'string', 'is_required': True, 'note': 'This name becomes a variable for use in Erl programs no spaces or other special characters (-,+,/,\\\\\\\\) allowed in name'}\": 1,\n",
       "         \"{'type': 'string', 'is_required': True, 'reference': ['ProgramNames'], 'note': 'no spaces allowed in name'}\": 1,\n",
       "         \"{'type': 'string', 'is_required': True, 'reference': ['ErlProgramNames'], 'note': 'no spaces allowed in name'}\": 2,\n",
       "         \"{'type': 'string', 'is_required': True, 'retaincase': True}\": 2,\n",
       "         \"{'type': 'string', 'is_required': True, 'note': 'no spaces allowed in name'}\": 1,\n",
       "         \"{'type': 'string', 'is_required': True, 'note': 'This name becomes a read-only variable for use in Erl programs no spaces allowed in name'}\": 2,\n",
       "         \"{'type': 'string', 'is_required': True, 'reference-class-name': ['validBranchEquipmentTypes'], 'reference': ['ZoneEquipmentNames', 'validBranchEquipmentNames'], 'note': 'This is the name of the zone unit'}\": 1,\n",
       "         \"{'type': 'string', 'is_required': True, 'reference': ['AirTerminalUnitNames', 'validBranchEquipmentNames'], 'reference-class-name': ['validBranchEquipmentTypes'], 'note': 'This is the name of the air terminal'}\": 1,\n",
       "         \"{'type': 'string', 'is_required': True, 'reference': ['UserDefinedCoil', 'validBranchEquipmentNames', 'validOASysEquipmentNames'], 'note': 'This is the name of the coil', 'reference-class-name': ['validBranchEquipmentTypes', 'validOASysEquipmentTypes']}\": 1,\n",
       "         \"{'type': 'string', 'is_required': True, 'note': 'This is the name of the plant component', 'reference-class-name': ['validBranchEquipmentTypes', 'validCondenserEquipmentTypes', 'validPlantEquipmentTypes'], 'reference': ['validBranchEquipmentNames', 'validCondenserEquipmentNames', 'validPlantEquipmentNames']}\": 1,\n",
       "         \"{'type': 'string', 'is_required': True, 'note': 'This is the name of the plant operation scheme'}\": 1,\n",
       "         \"{'type': 'string', 'is_required': True, 'reference': ['SystemAvailabilityManagers']}\": 12,\n",
       "         \"{'type': 'string', 'is_required': True, 'reference': ['SystemAvailabilityManagerLists']}\": 1,\n",
       "         \"{'type': 'string', 'is_required': True, 'reference': ['RefrigerationCaseAndWalkInAndListNames', 'RefrigerationCaseAndWalkInNames']}\": 2,\n",
       "         \"{'type': 'string', 'is_required': True, 'reference': ['DesuperHeatingCoilSources', 'validBranchEquipmentNames'], 'reference-class-name': ['validBranchEquipmentTypes']}\": 1,\n",
       "         \"{'type': 'string', 'is_required': True, 'reference': ['RefrigerationCaseAndWalkInAndListNames']}\": 1,\n",
       "         \"{'type': 'string', 'is_required': True, 'reference': ['DesuperHeatingCoilSources', 'RefrigerationAllTypesCondenserNames']}\": 2,\n",
       "         \"{'type': 'string', 'is_required': True, 'reference': ['DesuperHeatingCoilSources', 'RefrigerationAllTypesCondenserNames', 'validBranchEquipmentNames'], 'reference-class-name': ['validBranchEquipmentTypes']}\": 1,\n",
       "         \"{'type': 'string', 'is_required': True, 'reference': ['RefrigerationAllTypesCondenserNames', 'RefrigerationCascadeCondenserAndSecondarySystemNames', 'RefrigerationSecondarySystemAndCascadeCondenserAndTransferLoadListNames']}\": 1,\n",
       "         \"{'type': 'string', 'is_required': True, 'reference': ['RefrigerationAllTypesGasCoolerNames']}\": 1,\n",
       "         \"{'type': 'string', 'is_required': True, 'reference': ['RefrigerationSecondarySystemAndCascadeCondenserAndTransferLoadListNames']}\": 1,\n",
       "         \"{'type': 'string', 'is_required': True, 'reference': ['RefrigerationSubcoolerNames']}\": 1,\n",
       "         \"{'type': 'string', 'is_required': True, 'reference': ['RefrigerationCompressorAndListNames', 'RefrigerationCompressorNames']}\": 1,\n",
       "         \"{'type': 'string', 'is_required': True, 'reference': ['RefrigerationCompressorAndListNames']}\": 1,\n",
       "         \"{'type': 'string', 'is_required': True, 'reference': ['RefrigerationSystemNames']}\": 2,\n",
       "         \"{'type': 'string', 'is_required': True, 'reference': ['RefrigerationCascadeCondenserAndSecondarySystemNames', 'RefrigerationSecondarySystemAndCascadeCondenserAndTransferLoadListNames']}\": 1,\n",
       "         \"{'type': 'string', 'is_required': True, 'reference': ['RefrigerationAirChillerNames', 'RefrigerationCaseAndWalkInAndListNames', 'RefrigerationCaseAndWalkInNames']}\": 1,\n",
       "         \"{'type': 'string', 'is_required': True, 'reference': ['DemandManagerNames']}\": 5,\n",
       "         \"{'type': 'string', 'is_required': True, 'reference': ['GeneratorNames', 'validBranchEquipmentNames'], 'reference-class-name': ['validBranchEquipmentTypes']}\": 2,\n",
       "         \"{'type': 'string', 'is_required': True, 'reference': ['GeneratorNames', 'MicroTurbineGeneratorNames', 'validBranchEquipmentNames', 'validCondenserEquipmentNames', 'validPlantEquipmentNames'], 'reference-class-name': ['validBranchEquipmentTypes', 'validCondenserEquipmentTypes', 'validPlantEquipmentTypes']}\": 1,\n",
       "         \"{'type': 'string', 'is_required': True, 'reference': ['GeneratorNames', 'PVGeneratorNames']}\": 1,\n",
       "         \"{'type': 'string', 'reference': ['PVModules']}\": 3,\n",
       "         \"{'type': 'string', 'is_required': True, 'reference': ['GeneratorNames']}\": 3,\n",
       "         \"{'type': 'string', 'reference': ['InverterList']}\": 4,\n",
       "         \"{'type': 'string', 'is_required': True, 'reference': ['FCPMNames']}\": 1,\n",
       "         \"{'type': 'string', 'is_required': True, 'reference': ['FCAirSupNames']}\": 1,\n",
       "         \"{'type': 'string', 'is_required': True, 'reference': ['FCWaterSupNames']}\": 1,\n",
       "         \"{'type': 'string', 'is_required': True, 'reference': ['FCAuxHeatNames']}\": 1,\n",
       "         \"{'type': 'string', 'is_required': True, 'reference': ['FCExhaustHXNames', 'validBranchEquipmentNames', 'validPlantEquipmentNames'], 'reference-class-name': ['validBranchEquipmentTypes', 'validPlantEquipmentTypes']}\": 1,\n",
       "         \"{'type': 'string', 'is_required': True, 'reference': ['FCStorageNames']}\": 1,\n",
       "         \"{'type': 'string', 'is_required': True, 'reference': ['FCInverterNames']}\": 1,\n",
       "         \"{'type': 'string', 'is_required': True, 'reference': ['FCStackCoolerNames', 'validBranchEquipmentNames'], 'reference-class-name': ['validBranchEquipmentTypes']}\": 1,\n",
       "         \"{'type': 'string', 'reference': ['GeneratorNames', 'validBranchEquipmentNames', 'validPlantEquipmentNames'], 'reference-class-name': ['validBranchEquipmentTypes', 'validPlantEquipmentTypes']}\": 1,\n",
       "         \"{'type': 'string', 'reference': ['MicroCHPParametersNames']}\": 1,\n",
       "         \"{'type': 'string', 'is_required': True, 'reference': ['GenFuelSupNames']}\": 1,\n",
       "         \"{'type': 'string', 'is_required': True, 'reference': ['GeneratorLists']}\": 1,\n",
       "         \"{'type': 'string', 'reference': ['ElecStorageList']}\": 1,\n",
       "         \"{'type': 'string', 'is_required': True, 'reference': ['ElecStorageList']}\": 1,\n",
       "         \"{'type': 'string', 'is_required': True, 'reference': ['TransformerNames']}\": 1,\n",
       "         \"{'type': 'string', 'reference': ['ConverterList']}\": 1,\n",
       "         \"{'type': 'string', 'is_required': True, 'reference': ['WaterUseEquipmentNames']}\": 1,\n",
       "         \"{'type': 'string', 'is_required': True, 'reference': ['WaterStorageTankNames']}\": 1,\n",
       "         \"{'type': 'string', 'note': 'Enter the name of the fault', 'is_required': True}\": 14,\n",
       "         \"{'type': 'string', 'note': 'Enter the name of the fault', 'is_required': True, 'reference': ['ThermostatOffsetFaults']}\": 1,\n",
       "         \"{'type': 'string', 'is_required': True, 'reference': ['DataMatrices']}\": 1,\n",
       "         \"{'type': 'string', 'is_required': True, 'reference': ['UnivariateFunctions']}\": 10,\n",
       "         \"{'type': 'string', 'is_required': True, 'reference': ['QuadvariateFunctions']}\": 1,\n",
       "         \"{'type': 'string', 'is_required': True, 'reference': ['BivariateFunctions']}\": 5,\n",
       "         \"{'type': 'string', 'is_required': True, 'reference': ['TrivariateFunctions']}\": 2,\n",
       "         \"{'type': 'string', 'is_required': True, 'reference': ['UnivariateFunctions'], 'note': 'See InputOut Reference for curve description'}\": 2,\n",
       "         \"{'type': 'string', 'is_required': True, 'reference': ['IndependentVariableName']}\": 1,\n",
       "         \"{'type': 'string', 'is_required': True, 'reference': ['IndependentVariableListName']}\": 1,\n",
       "         \"{'type': 'string', 'is_required': True, 'reference': ['BivariateFunctions', 'MultivariateFunctions', 'QuadvariateFunctions', 'TrivariateFunctions', 'UnivariateFunctions']}\": 1,\n",
       "         \"{'type': 'string', 'is_required': True, 'reference': ['FluidAndGlycolNames']}\": 1,\n",
       "         \"{'type': 'string', 'reference': ['FluidPropertyTemperatures']}\": 1,\n",
       "         \"{'type': 'string', 'is_required': True, 'reference': ['UtilityCostTariffs'], 'note': 'The name of the tariff. Tariffs are sometimes called rates. The name is used in identifying the output results and in associating all of the charges and other objects that make up a tariff.'}\": 1,\n",
       "         \"{'type': 'string', 'is_required': True, 'note': 'Ratchet Variable Name The name of the ratchet and the name of the result of this single ratchet.'}\": 1,\n",
       "         \"{'type': 'string', 'note': 'Parameter Name Must begin with the dollar sign character. The second character must be a letter. Remaining characters may only be letters or numbers. No spaces allowed.', 'is_required': True}\": 1,\n",
       "         \"{'type': 'string', 'is_required': True, 'note': 'choose a name or use one of the DataSets', 'reference': ['ColorSchemes']}\": 1,\n",
       "         \"{'type': 'string', 'is_required': True, 'note': 'This is the name used to represent this plugin in traditional EMS fields'}\": 1,\n",
       "         \"{'type': 'string', 'is_required': True, 'note': 'This object name is purely for reporting and diagnostics'}\": 1})"
      ]
     },
     "execution_count": 66,
     "metadata": {},
     "output_type": "execute_result"
    }
   ],
   "source": [
    "Counter([str(x.get('name')) for x in schema.get_object_types()])"
   ]
  },
  {
   "cell_type": "code",
   "execution_count": null,
   "metadata": {},
   "outputs": [],
   "source": []
  },
  {
   "cell_type": "code",
   "execution_count": null,
   "metadata": {},
   "outputs": [],
   "source": []
  },
  {
   "cell_type": "code",
   "execution_count": 53,
   "metadata": {},
   "outputs": [
    {
     "data": {
      "text/plain": [
       "{\"{'type': 'string', 'is_required': True, 'data_type': 'object_list', 'object_list': ['FansZoneExhaust'], 'reference': ['SurfaceAirflowLeakageNames'], 'note': 'Enter the name of a Fan:ZoneExhaust object.'}\",\n",
       " \"{'type': 'string', 'is_required': True, 'data_type': 'object_list', 'object_list': ['MaterialName'], 'note': 'Material Name that the moisture properties will be added to. Additional material properties required to perform the EMPD model. Effective Mean Penetration Depth (EMPD)'}\",\n",
       " \"{'type': 'string', 'is_required': True, 'data_type': 'object_list', 'object_list': ['MaterialName'], 'note': 'Regular Material Name to which the additional properties will be added. this the material name for the basic material properties.'}\",\n",
       " \"{'type': 'string', 'is_required': True, 'data_type': 'object_list', 'object_list': ['SubSurfNames'], 'note': 'Name must be that of an exterior window with two or three glass layers.'}\",\n",
       " \"{'type': 'string', 'is_required': True, 'note': 'Component Name', 'reference-class-name': ['validBranchEquipmentTypes', 'validCondenserEquipmentTypes', 'validPlantEquipmentTypes'], 'reference': ['validBranchEquipmentNames', 'validCondenserEquipmentNames', 'validPlantEquipmentNames']}\",\n",
       " \"{'type': 'string', 'is_required': True, 'note': 'Enter a unique name for this object.', 'reference': ['AirflowNetwork LinkageNames']}\",\n",
       " \"{'type': 'string', 'is_required': True, 'note': 'Enter a unique name for this object.'}\",\n",
       " \"{'type': 'string', 'is_required': True, 'note': 'Enter a unique name for this unitary system.', 'reference-class-name': ['validBranchEquipmentTypes'], 'reference': ['validBranchEquipmentNames']}\",\n",
       " \"{'type': 'string', 'is_required': True, 'note': 'Enter a unique name for this variable refrigerant flow heat pump'}\",\n",
       " \"{'type': 'string', 'is_required': True, 'note': 'Fluid Cooler Name', 'reference-class-name': ['validBranchEquipmentTypes', 'validCondenserEquipmentTypes', 'validPlantEquipmentTypes'], 'reference': ['validBranchEquipmentNames', 'validCondenserEquipmentNames', 'validPlantEquipmentNames']}\",\n",
       " \"{'type': 'string', 'is_required': True, 'note': 'Only used for user reference'}\",\n",
       " \"{'type': 'string', 'is_required': True, 'note': 'Ratchet Variable Name The name of the ratchet and the name of the result of this single ratchet.'}\",\n",
       " \"{'type': 'string', 'is_required': True, 'note': 'This is the name of the plant component', 'reference-class-name': ['validBranchEquipmentTypes', 'validCondenserEquipmentTypes', 'validPlantEquipmentTypes'], 'reference': ['validBranchEquipmentNames', 'validCondenserEquipmentNames', 'validPlantEquipmentNames']}\",\n",
       " \"{'type': 'string', 'is_required': True, 'note': 'This is the name of the plant operation scheme'}\",\n",
       " \"{'type': 'string', 'is_required': True, 'note': 'This is the name used to represent this plugin in traditional EMS fields'}\",\n",
       " \"{'type': 'string', 'is_required': True, 'note': 'This name becomes a read-only variable for use in Erl programs no spaces allowed in name'}\",\n",
       " \"{'type': 'string', 'is_required': True, 'note': 'This name becomes a variable for use in Erl programs no spaces allowed in name'}\",\n",
       " \"{'type': 'string', 'is_required': True, 'note': 'This name becomes a variable for use in Erl programs no spaces or other special characters (-,+,/,\\\\\\\\) allowed in name'}\",\n",
       " \"{'type': 'string', 'is_required': True, 'note': 'This name is referenced by HVACTemplate:Zone:* objects', 'reference': ['CompactHVACThermostats']}\",\n",
       " \"{'type': 'string', 'is_required': True, 'note': 'This object name is purely for reporting and diagnostics'}\",\n",
       " \"{'type': 'string', 'is_required': True, 'note': 'Unique name for this instance of a desuperheater water heating coil.'}\",\n",
       " \"{'type': 'string', 'is_required': True, 'note': 'choose a name or use one of the DataSets', 'reference': ['ColorSchemes']}\",\n",
       " \"{'type': 'string', 'is_required': True, 'note': 'fluid cooler name', 'reference-class-name': ['validBranchEquipmentTypes', 'validCondenserEquipmentTypes', 'validPlantEquipmentTypes'], 'reference': ['validBranchEquipmentNames', 'validCondenserEquipmentNames', 'validPlantEquipmentNames']}\",\n",
       " \"{'type': 'string', 'is_required': True, 'note': 'no spaces allowed in name'}\",\n",
       " \"{'type': 'string', 'is_required': True, 'reference': ['AFNCoilNames', 'CoilCoolingDX']}\",\n",
       " \"{'type': 'string', 'is_required': True, 'reference': ['AFNCoilNames', 'CoolingCoilName', 'CoolingCoilsWater', 'CoolingCoilsWaterNoHX', 'SimpleCoils', 'validBranchEquipmentNames', 'validOASysEquipmentNames'], 'reference-class-name': ['validBranchEquipmentTypes', 'validOASysEquipmentTypes']}\",\n",
       " \"{'type': 'string', 'is_required': True, 'reference': ['AFNCoilNames', 'CoolingCoilName', 'CoolingCoilsWater', 'CoolingCoilsWaterNoHX', 'validBranchEquipmentNames', 'validOASysEquipmentNames'], 'reference-class-name': ['validBranchEquipmentTypes', 'validOASysEquipmentTypes']}\",\n",
       " \"{'type': 'string', 'is_required': True, 'reference': ['AFNCoilNames', 'CoolingCoilsDX', 'CoolingCoilsDXMultiModeOrSingleSpeed', 'CoolingCoilsDXSingleSpeed', 'DesuperHeatingCoilSources']}\",\n",
       " \"{'type': 'string', 'is_required': True, 'reference': ['AFNCoilNames', 'CoolingCoilsDX', 'CoolingCoilsDXMultiModeOrSingleSpeed', 'CoolingCoilsDXSingleSpeed', 'validBranchEquipmentNames'], 'reference-class-name': ['validBranchEquipmentTypes']}\",\n",
       " \"{'type': 'string', 'is_required': True, 'reference': ['AFNCoilNames', 'CoolingCoilsDX', 'CoolingCoilsDXMultiModeOrSingleSpeed', 'DesuperHeatingCoilSources']}\",\n",
       " \"{'type': 'string', 'is_required': True, 'reference': ['AFNCoilNames', 'CoolingCoilsDX', 'DesuperHeatingCoilSources']}\",\n",
       " \"{'type': 'string', 'is_required': True, 'reference': ['AFNCoilNames', 'CoolingCoilsDXMultiSpeed', 'DesuperHeatingWaterOnlySources']}\",\n",
       " \"{'type': 'string', 'is_required': True, 'reference': ['AFNCoilNames', 'HeatingCoilName', 'HeatingCoilsElectric', 'validBranchEquipmentNames', 'validOASysEquipmentNames'], 'reference-class-name': ['validBranchEquipmentTypes', 'validOASysEquipmentTypes']}\",\n",
       " \"{'type': 'string', 'is_required': True, 'reference': ['AFNCoilNames', 'HeatingCoilName', 'HeatingCoilsWater', 'SimpleCoils', 'validBranchEquipmentNames', 'validOASysEquipmentNames'], 'reference-class-name': ['validBranchEquipmentTypes', 'validOASysEquipmentTypes']}\",\n",
       " \"{'type': 'string', 'is_required': True, 'reference': ['AFNCoilNames', 'HeatingCoilName', 'validBranchEquipmentNames', 'validOASysEquipmentNames'], 'reference-class-name': ['validBranchEquipmentTypes', 'validOASysEquipmentTypes']}\",\n",
       " \"{'type': 'string', 'is_required': True, 'reference': ['AFNCoilNames', 'HeatingCoilsDX', 'HeatingCoilsDXSingleSpeed']}\",\n",
       " \"{'type': 'string', 'is_required': True, 'reference': ['AFNCoilNames', 'HeatingCoilsDXMultiSpeed']}\",\n",
       " \"{'type': 'string', 'is_required': True, 'reference': ['AFNCoilNames', 'HeatingCoilsDesuperheater', 'validBranchEquipmentNames'], 'reference-class-name': ['validBranchEquipmentTypes']}\",\n",
       " \"{'type': 'string', 'is_required': True, 'reference': ['AFNHeatExchangerNames', 'HXAirToAirNames', 'HXAirToAirSensibleAndLatentNames', 'validBranchEquipmentNames', 'validOASysEquipmentNames'], 'reference-class-name': ['validBranchEquipmentTypes', 'validOASysEquipmentTypes']}\",\n",
       " \"{'type': 'string', 'is_required': True, 'reference': ['AFNHeatExchangerNames', 'HXAirToAirNames', 'HXDesiccantBalanced', 'validBranchEquipmentNames', 'validOASysEquipmentNames'], 'reference-class-name': ['validBranchEquipmentTypes', 'validOASysEquipmentTypes']}\",\n",
       " \"{'type': 'string', 'is_required': True, 'reference': ['AFNHeatExchangerNames', 'HXAirToAirNames', 'ZoneEquipmentNames', 'validBranchEquipmentNames', 'validOASysEquipmentNames'], 'reference-class-name': ['validBranchEquipmentTypes', 'validOASysEquipmentTypes']}\",\n",
       " \"{'type': 'string', 'is_required': True, 'reference': ['AFNOutdoorAirFlowNames', 'AirflowNetworkComponentNames']}\",\n",
       " \"{'type': 'string', 'is_required': True, 'reference': ['AFNReliefAirFlowNames', 'AirflowNetworkComponentNames']}\",\n",
       " \"{'type': 'string', 'is_required': True, 'reference': ['AFNTerminalUnitNames', 'AirTerminalUnitNames']}\",\n",
       " \"{'type': 'string', 'is_required': True, 'reference': ['AirLoopControllers', 'OAControllerNames']}\",\n",
       " \"{'type': 'string', 'is_required': True, 'reference': ['AirLoopControllers', 'WaterCoilControllers']}\",\n",
       " \"{'type': 'string', 'is_required': True, 'reference': ['AirLoopHVACMixerNames']}\",\n",
       " \"{'type': 'string', 'is_required': True, 'reference': ['AirLoopHVACSplitterNames']}\",\n",
       " \"{'type': 'string', 'is_required': True, 'reference': ['AirLoopOAEquipmentLists']}\",\n",
       " \"{'type': 'string', 'is_required': True, 'reference': ['AirPrimaryLoops']}\",\n",
       " \"{'type': 'string', 'is_required': True, 'reference': ['AirTerminalUnitNames', 'validBranchEquipmentNames'], 'reference-class-name': ['validBranchEquipmentTypes'], 'note': 'This is the name of the air terminal'}\",\n",
       " \"{'type': 'string', 'is_required': True, 'reference': ['AirTerminalUnitNames', 'validBranchEquipmentNames'], 'reference-class-name': ['validBranchEquipmentTypes']}\",\n",
       " \"{'type': 'string', 'is_required': True, 'reference': ['AirTerminalUnitNames']}\",\n",
       " \"{'type': 'string', 'is_required': True, 'reference': ['AirflowNetworkComponentNames'], 'note': 'Enter a unique name for this object.'}\",\n",
       " \"{'type': 'string', 'is_required': True, 'reference': ['AirflowNetworkNodeAndZoneNames', 'OutFaceEnvNames', 'ZoneAndZoneListNames', 'ZoneNames']}\",\n",
       " \"{'type': 'string', 'is_required': True, 'reference': ['AirflowNetworkNodeAndZoneNames'], 'note': 'Enter a unique name for this object.'}\",\n",
       " \"{'type': 'string', 'is_required': True, 'reference': ['AirflowNetworkNodeNames'], 'note': 'Enter a unique name for this object.'}\",\n",
       " \"{'type': 'string', 'is_required': True, 'reference': ['AirflowNetworkOccupantVentilationControlNames'], 'note': 'Enter the name where the advanced thermal comfort control is required.'}\",\n",
       " \"{'type': 'string', 'is_required': True, 'reference': ['AirflowNetworkZoneControlPressureControllerNames']}\",\n",
       " \"{'type': 'string', 'is_required': True, 'reference': ['AllHeatTranAngFacNames', 'AllHeatTranSurfNames', 'AllShadingAndHTSurfNames', 'FloorSurfaceNames', 'OutFaceEnvNames', 'RadiantSurfaceNames', 'SurfAndSubSurfNames', 'SurfaceNames']}\",\n",
       " \"{'type': 'string', 'is_required': True, 'reference': ['AllHeatTranAngFacNames', 'AllHeatTranSurfNames', 'AllShadingAndHTSurfNames', 'FloorSurfaceNames', 'RadiantSurfaceNames', 'SurfAndSubSurfNames', 'SurfaceNames']}\",\n",
       " \"{'type': 'string', 'is_required': True, 'reference': ['AllHeatTranAngFacNames', 'AllHeatTranSurfNames', 'AllShadingAndHTSurfNames', 'GlazedExtSubSurfNames', 'OutFaceEnvNames', 'RadiantSurfaceNames', 'SubSurfNames', 'SurfAndSubSurfNames']}\",\n",
       " \"{'type': 'string', 'is_required': True, 'reference': ['AllHeatTranAngFacNames', 'AllHeatTranSurfNames', 'AllShadingAndHTSurfNames', 'GlazedExtSubSurfNames', 'OutFaceEnvNames', 'SubSurfNames', 'SurfAndSubSurfNames']}\",\n",
       " \"{'type': 'string', 'is_required': True, 'reference': ['AllHeatTranAngFacNames', 'AllHeatTranSurfNames', 'AllShadingAndHTSurfNames', 'OutFaceEnvNames', 'RadiantSurfaceNames', 'SubSurfNames', 'SurfAndSubSurfNames']}\",\n",
       " \"{'type': 'string', 'is_required': True, 'reference': ['AllHeatTranAngFacNames', 'AllHeatTranSurfNames', 'AllShadingAndHTSurfNames', 'OutFaceEnvNames', 'RadiantSurfaceNames', 'SurfAndSubSurfNames', 'SurfaceNames']}\",\n",
       " \"{'type': 'string', 'is_required': True, 'reference': ['AllHeatTranAngFacNames', 'AllHeatTranSurfNames', 'AllShadingAndHTSurfNames', 'OutFaceEnvNames', 'SubSurfNames', 'SurfAndSubSurfNames']}\",\n",
       " \"{'type': 'string', 'is_required': True, 'reference': ['AllHeatTranAngFacNames', 'AllHeatTranSurfNames', 'AllShadingAndHTSurfNames', 'RadiantSurfaceNames', 'SurfAndSubSurfNames', 'SurfaceNames']}\",\n",
       " \"{'type': 'string', 'is_required': True, 'reference': ['AllHeatTranAngFacNames', 'AllHeatTranSurfNames', 'RadiantSurfaceNames']}\",\n",
       " \"{'type': 'string', 'is_required': True, 'reference': ['AllShadingAndHTSurfNames', 'AllShadingSurfNames', 'AttachedShadingSurfNames']}\",\n",
       " \"{'type': 'string', 'is_required': True, 'reference': ['AllShadingAndHTSurfNames', 'AllShadingSurfNames']}\",\n",
       " \"{'type': 'string', 'is_required': True, 'reference': ['BivariateFunctions', 'MultivariateFunctions', 'QuadvariateFunctions', 'TrivariateFunctions', 'UnivariateFunctions']}\",\n",
       " \"{'type': 'string', 'is_required': True, 'reference': ['BivariateFunctions']}\",\n",
       " \"{'type': 'string', 'is_required': True, 'reference': ['Boilers', 'validBranchEquipmentNames', 'validPlantEquipmentNames'], 'reference-class-name': ['validBranchEquipmentTypes', 'validPlantEquipmentTypes']}\",\n",
       " \"{'type': 'string', 'is_required': True, 'reference': ['BranchLists']}\",\n",
       " \"{'type': 'string', 'is_required': True, 'reference': ['Branches']}\",\n",
       " \"{'type': 'string', 'is_required': True, 'reference': ['CFSGap']}\",\n",
       " \"{'type': 'string', 'is_required': True, 'reference': ['CFSGlazingName', 'GlazingMaterialName', 'MaterialName']}\",\n",
       " \"{'type': 'string', 'is_required': True, 'reference': ['ChillerHeaterEIRNames']}\",\n",
       " \"{'type': 'string', 'is_required': True, 'reference': ['Chillers', 'validBranchEquipmentNames', 'validPlantEquipmentNames'], 'reference-class-name': ['validBranchEquipmentTypes', 'validPlantEquipmentTypes']}\",\n",
       " \"{'type': 'string', 'is_required': True, 'reference': ['CoilPerformanceDX']}\",\n",
       " \"{'type': 'string', 'is_required': True, 'reference': ['CollectorStoragePerformance']}\",\n",
       " \"{'type': 'string', 'is_required': True, 'reference': ['CompactHVACSystemConstantVolume', 'HVACTemplateSystems']}\",\n",
       " \"{'type': 'string', 'is_required': True, 'reference': ['CompactHVACSystemDualDuct', 'HVACTemplateSystems']}\",\n",
       " \"{'type': 'string', 'is_required': True, 'reference': ['CompactHVACSystemUnitary', 'HVACTemplateSystems']}\",\n",
       " \"{'type': 'string', 'is_required': True, 'reference': ['CompactHVACSystemVAV', 'HVACTemplateSystems']}\",\n",
       " \"{'type': 'string', 'is_required': True, 'reference': ['CompactHVACSystemVRF', 'HVACTemplateSystems']}\",\n",
       " \"{'type': 'string', 'is_required': True, 'reference': ['ComplexFenestrationStates']}\",\n",
       " \"{'type': 'string', 'is_required': True, 'reference': ['CondenserEquipmentLists', 'PlantAndCondenserEquipmentLists']}\",\n",
       " \"{'type': 'string', 'is_required': True, 'reference': ['CondenserOperationSchemes']}\",\n",
       " \"{'type': 'string', 'is_required': True, 'reference': ['ConnectorLists']}\",\n",
       " \"{'type': 'string', 'is_required': True, 'reference': ['ConstructionNames']}\",\n",
       " \"{'type': 'string', 'is_required': True, 'reference': ['ControlSchemeList']}\",\n",
       " \"{'type': 'string', 'is_required': True, 'reference': ['ControlTypeNames']}\",\n",
       " \"{'type': 'string', 'is_required': True, 'reference': ['ControllerLists']}\",\n",
       " \"{'type': 'string', 'is_required': True, 'reference': ['ControllerMechanicalVentNames']}\",\n",
       " \"{'type': 'string', 'is_required': True, 'reference': ['ControllerStandAloneEnergyRecoveryVentilator']}\",\n",
       " \"{'type': 'string', 'is_required': True, 'reference': ['CoolingCoilSystemName', 'validBranchEquipmentNames', 'validOASysEquipmentNames'], 'reference-class-name': ['validBranchEquipmentTypes', 'validOASysEquipmentTypes']}\",\n",
       " \"{'type': 'string', 'is_required': True, 'reference': ['CoolingCoilsDX', 'CoolingCoilsDXMultiModeOrSingleSpeed', 'CoolingCoilsDXSingleSpeed']}\",\n",
       " \"{'type': 'string', 'is_required': True, 'reference': ['CoolingCoilsDXVarRefrigFlow']}\",\n",
       " \"{'type': 'string', 'is_required': True, 'reference': ['CoolingCoilsDXVarRefrigFlowFluidTemperatureControl']}\",\n",
       " \"{'type': 'string', 'is_required': True, 'reference': ['CoolingCoilsDXVariableSpeed', 'DesuperHeatingCoilSources']}\",\n",
       " \"{'type': 'string', 'is_required': True, 'reference': ['CoolingCoilsWater', 'validBranchEquipmentNames', 'validOASysEquipmentNames'], 'reference-class-name': ['validBranchEquipmentTypes', 'validOASysEquipmentTypes']}\",\n",
       " \"{'type': 'string', 'is_required': True, 'reference': ['CoolingCoilsWaterToAirHP', 'DesuperHeatingWaterOnlySources', 'validBranchEquipmentNames'], 'reference-class-name': ['validBranchEquipmentTypes']}\",\n",
       " \"{'type': 'string', 'is_required': True, 'reference': ['CoolingCoilsWaterToAirHP', 'validBranchEquipmentNames'], 'reference-class-name': ['validBranchEquipmentTypes']}\",\n",
       " \"{'type': 'string', 'is_required': True, 'reference': ['CoolingCoilsWaterToAirVSHP', 'validBranchEquipmentNames'], 'reference-class-name': ['validBranchEquipmentTypes']}\",\n",
       " \"{'type': 'string', 'is_required': True, 'reference': ['CoolingTowers', 'CoolingTowersWithUA', 'validBranchEquipmentNames', 'validCondenserEquipmentNames', 'validPlantEquipmentNames'], 'note': 'Tower Name', 'reference-class-name': ['validBranchEquipmentTypes', 'validCondenserEquipmentTypes', 'validPlantEquipmentTypes']}\",\n",
       " \"{'type': 'string', 'is_required': True, 'reference': ['CoolingTowers', 'validBranchEquipmentNames', 'validCondenserEquipmentNames', 'validPlantEquipmentNames'], 'note': 'Tower Name', 'reference-class-name': ['validBranchEquipmentTypes', 'validCondenserEquipmentTypes', 'validPlantEquipmentTypes']}\",\n",
       " \"{'type': 'string', 'is_required': True, 'reference': ['DOASAirLoops']}\",\n",
       " \"{'type': 'string', 'is_required': True, 'reference': ['DOAToZonalUnit', 'ZoneEquipmentNames', 'validBranchEquipmentNames', 'validOASysEquipmentNames'], 'note': 'Unique name for the Unitary System.', 'reference-class-name': ['validBranchEquipmentTypes', 'validOASysEquipmentTypes']}\",\n",
       " \"{'type': 'string', 'is_required': True, 'reference': ['DOAToZonalUnit', 'ZoneEquipmentNames'], 'note': 'Unique name for this packaged terminal air conditioner object.'}\",\n",
       " \"{'type': 'string', 'is_required': True, 'reference': ['DOAToZonalUnit', 'ZoneEquipmentNames'], 'note': 'Unique name for this packaged terminal heat pump object.'}\",\n",
       " \"{'type': 'string', 'is_required': True, 'reference': ['DOAToZonalUnit', 'ZoneEquipmentNames']}\",\n",
       " \"{'type': 'string', 'is_required': True, 'reference': ['DXCoolingOperatingModeNames']}\",\n",
       " \"{'type': 'string', 'is_required': True, 'reference': ['DXCoolingPerformanceNames']}\",\n",
       " \"{'type': 'string', 'is_required': True, 'reference': ['DXCoolingSpeedNames']}\",\n",
       " \"{'type': 'string', 'is_required': True, 'reference': ['DataMatrices']}\",\n",
       " \"{'type': 'string', 'is_required': True, 'reference': ['DayScheduleNames']}\",\n",
       " \"{'type': 'string', 'is_required': True, 'reference': ['DaylightReferencePointNames']}\",\n",
       " \"{'type': 'string', 'is_required': True, 'reference': ['DaylightingControlNames']}\",\n",
       " \"{'type': 'string', 'is_required': True, 'reference': ['DemandManagerNames']}\",\n",
       " \"{'type': 'string', 'is_required': True, 'reference': ['DesiccantHXPerfData']}\",\n",
       " \"{'type': 'string', 'is_required': True, 'reference': ['DesignSpecificationOutdoorAirNames']}\",\n",
       " \"{'type': 'string', 'is_required': True, 'reference': ['DesignSpecificationZoneAirDistributionNames']}\",\n",
       " \"{'type': 'string', 'is_required': True, 'reference': ['DesignSpecificationZoneHVACSizingName']}\",\n",
       " \"{'type': 'string', 'is_required': True, 'reference': ['DesuperHeatingCoilSources', 'RefrigerationAllTypesCondenserNames', 'validBranchEquipmentNames'], 'reference-class-name': ['validBranchEquipmentTypes']}\",\n",
       " \"{'type': 'string', 'is_required': True, 'reference': ['DesuperHeatingCoilSources', 'RefrigerationAllTypesCondenserNames']}\",\n",
       " \"{'type': 'string', 'is_required': True, 'reference': ['DesuperHeatingCoilSources', 'validBranchEquipmentNames'], 'reference-class-name': ['validBranchEquipmentTypes']}\",\n",
       " \"{'type': 'string', 'is_required': True, 'reference': ['ElecStorageList']}\",\n",
       " \"{'type': 'string', 'is_required': True, 'reference': ['ElectricEquipmentNames']}\",\n",
       " \"{'type': 'string', 'is_required': True, 'reference': ['ErlProgramNames'], 'note': 'no spaces allowed in name'}\",\n",
       " \"{'type': 'string', 'is_required': True, 'reference': ['EvapCoolerNames', 'validBranchEquipmentNames', 'validOASysEquipmentNames'], 'reference-class-name': ['validBranchEquipmentTypes', 'validOASysEquipmentTypes']}\",\n",
       " \"{'type': 'string', 'is_required': True, 'reference': ['ExteriorLightsNames']}\",\n",
       " \"{'type': 'string', 'is_required': True, 'reference': ['ExternalNodeNames'], 'note': 'Enter a unique name for this object. This node name will be referenced by a particular building facade.'}\",\n",
       " \"{'type': 'string', 'is_required': True, 'reference': ['FCAirSupNames']}\",\n",
       " \"{'type': 'string', 'is_required': True, 'reference': ['FCAuxHeatNames']}\",\n",
       " \"{'type': 'string', 'is_required': True, 'reference': ['FCExhaustHXNames', 'validBranchEquipmentNames', 'validPlantEquipmentNames'], 'reference-class-name': ['validBranchEquipmentTypes', 'validPlantEquipmentTypes']}\",\n",
       " \"{'type': 'string', 'is_required': True, 'reference': ['FCInverterNames']}\",\n",
       " \"{'type': 'string', 'is_required': True, 'reference': ['FCPMNames']}\",\n",
       " \"{'type': 'string', 'is_required': True, 'reference': ['FCStackCoolerNames', 'validBranchEquipmentNames'], 'reference-class-name': ['validBranchEquipmentTypes']}\",\n",
       " \"{'type': 'string', 'is_required': True, 'reference': ['FCStorageNames']}\",\n",
       " \"{'type': 'string', 'is_required': True, 'reference': ['FCWaterSupNames']}\",\n",
       " \"{'type': 'string', 'is_required': True, 'reference': ['Fans', 'FansCV', 'FansCVandOnOff', 'FansCVandOnOffandVAV', 'FansCVandVAV', 'validBranchEquipmentNames', 'validOASysEquipmentNames'], 'reference-class-name': ['validBranchEquipmentTypes', 'validOASysEquipmentTypes']}\",\n",
       " \"{'type': 'string', 'is_required': True, 'reference': ['Fans', 'FansCVandOnOff', 'FansCVandOnOffandVAV', 'FansOnOff', 'FansOnOffandVAV']}\",\n",
       " \"{'type': 'string', 'is_required': True, 'reference': ['Fans', 'FansCVandOnOffandVAV', 'FansCVandVAV', 'FansOnOffandVAV', 'FansVAV', 'validBranchEquipmentNames', 'validOASysEquipmentNames'], 'reference-class-name': ['validBranchEquipmentTypes', 'validOASysEquipmentTypes']}\",\n",
       " \"{'type': 'string', 'is_required': True, 'reference': ['Fans', 'FansComponentModel', 'validBranchEquipmentNames', 'validOASysEquipmentNames'], 'reference-class-name': ['validBranchEquipmentTypes', 'validOASysEquipmentTypes']}\",\n",
       " \"{'type': 'string', 'is_required': True, 'reference': ['Fans', 'FansSystemModel', 'validBranchEquipmentNames', 'validOASysEquipmentNames'], 'reference-class-name': ['validBranchEquipmentTypes', 'validOASysEquipmentTypes']}\",\n",
       " \"{'type': 'string', 'is_required': True, 'reference': ['FansZoneExhaust', 'ZoneEquipmentNames']}\",\n",
       " \"{'type': 'string', 'is_required': True, 'reference': ['FlatPlateSolarCollectorParameters']}\",\n",
       " \"{'type': 'string', 'is_required': True, 'reference': ['FluidAndGlycolNames']}\",\n",
       " \"{'type': 'string', 'is_required': True, 'reference': ['GenFuelSupNames']}\",\n",
       " \"{'type': 'string', 'is_required': True, 'reference': ['GeneratorLists']}\",\n",
       " \"{'type': 'string', 'is_required': True, 'reference': ['GeneratorNames', 'MicroTurbineGeneratorNames', 'validBranchEquipmentNames', 'validCondenserEquipmentNames', 'validPlantEquipmentNames'], 'reference-class-name': ['validBranchEquipmentTypes', 'validCondenserEquipmentTypes', 'validPlantEquipmentTypes']}\",\n",
       " \"{'type': 'string', 'is_required': True, 'reference': ['GeneratorNames', 'PVGeneratorNames']}\",\n",
       " \"{'type': 'string', 'is_required': True, 'reference': ['GeneratorNames', 'validBranchEquipmentNames'], 'reference-class-name': ['validBranchEquipmentTypes']}\",\n",
       " \"{'type': 'string', 'is_required': True, 'reference': ['GeneratorNames']}\",\n",
       " \"{'type': 'string', 'is_required': True, 'reference': ['GlazingMaterialName', 'MaterialName']}\",\n",
       " \"{'type': 'string', 'is_required': True, 'reference': ['GroundHeatExchangerVerticalArrayNames']}\",\n",
       " \"{'type': 'string', 'is_required': True, 'reference': ['GroundHeatExchangerVerticalPropertiesNames']}\",\n",
       " \"{'type': 'string', 'is_required': True, 'reference': ['GroundHeatExchangerVerticalResponseFactorNames']}\",\n",
       " \"{'type': 'string', 'is_required': True, 'reference': ['GroundHeatExchangerVerticalSingleNames']}\",\n",
       " \"{'type': 'string', 'is_required': True, 'reference': ['HeatPumpWaterHeaterDXCoilsPumped'], 'note': 'Unique name for this instance of a heat pump water heater DX coil.'}\",\n",
       " \"{'type': 'string', 'is_required': True, 'reference': ['HeatPumpWaterHeaterDXCoilsVariableSpeed'], 'note': 'Unique name for this instance of a variable-speed heat pump water heater DX coil.'}\",\n",
       " \"{'type': 'string', 'is_required': True, 'reference': ['HeatPumpWaterHeaterDXCoilsWrapped'], 'note': 'Unique name for this instance of a heat pump water heater DX coil.'}\",\n",
       " \"{'type': 'string', 'is_required': True, 'reference': ['HeatingCoilName', 'validBranchEquipmentNames', 'validOASysEquipmentNames'], 'reference-class-name': ['validBranchEquipmentTypes', 'validOASysEquipmentTypes']}\",\n",
       " \"{'type': 'string', 'is_required': True, 'reference': ['HeatingCoilSystemName', 'validBranchEquipmentNames', 'validOASysEquipmentNames'], 'reference-class-name': ['validBranchEquipmentTypes', 'validOASysEquipmentTypes']}\",\n",
       " \"{'type': 'string', 'is_required': True, 'reference': ['HeatingCoilsDX', 'HeatingCoilsDXSingleSpeed', 'HeatingCoilsDXVarRefrigFlow']}\",\n",
       " \"{'type': 'string', 'is_required': True, 'reference': ['HeatingCoilsDXVarRefrigFlowFluidTemperatureControl']}\",\n",
       " \"{'type': 'string', 'is_required': True, 'reference': ['HeatingCoilsDXVariableSpeed']}\",\n",
       " \"{'type': 'string', 'is_required': True, 'reference': ['HeatingCoilsElectricMultiStage']}\",\n",
       " \"{'type': 'string', 'is_required': True, 'reference': ['HeatingCoilsGasMultiStage']}\",\n",
       " \"{'type': 'string', 'is_required': True, 'reference': ['HeatingCoilsWaterToAirHP', 'validBranchEquipmentNames'], 'reference-class-name': ['validBranchEquipmentTypes']}\",\n",
       " \"{'type': 'string', 'is_required': True, 'reference': ['HeatingCoilsWaterToAirVSHP', 'validBranchEquipmentNames'], 'reference-class-name': ['validBranchEquipmentTypes']}\",\n",
       " \"{'type': 'string', 'is_required': True, 'reference': ['IceThermalStorageEquipment', 'validBranchEquipmentNames', 'validPlantEquipmentNames'], 'reference-class-name': ['validBranchEquipmentTypes', 'validPlantEquipmentTypes']}\",\n",
       " \"{'type': 'string', 'is_required': True, 'reference': ['IceThermalStorageEquipment', 'validBranchEquipmentNames'], 'reference-class-name': ['validBranchEquipmentTypes']}\",\n",
       " \"{'type': 'string', 'is_required': True, 'reference': ['IndependentVariableListName']}\",\n",
       " \"{'type': 'string', 'is_required': True, 'reference': ['IndependentVariableName']}\",\n",
       " \"{'type': 'string', 'is_required': True, 'reference': ['IntegratedHeatPumps'], 'note': 'Unique name for this instance of an air-source integrated heat pump.'}\",\n",
       " \"{'type': 'string', 'is_required': True, 'reference': ['LightsNames']}\",\n",
       " \"{'type': 'string', 'is_required': True, 'reference': ['MaterialName', 'WindowGasAndGasMixtures']}\",\n",
       " \"{'type': 'string', 'is_required': True, 'reference': ['MaterialName', 'WindowShadesScreensAndBlinds']}\",\n",
       " \"{'type': 'string', 'is_required': True, 'reference': ['MaterialName']}\",\n",
       " \"{'type': 'string', 'is_required': True, 'reference': ['OSCMNames', 'OutFaceEnvNames']}\",\n",
       " \"{'type': 'string', 'is_required': True, 'reference': ['OutFaceEnvNames']}\",\n",
       " \"{'type': 'string', 'is_required': True, 'reference': ['OutdoorAirMixers', 'validOASysEquipmentNames'], 'reference-class-name': ['validOASysEquipmentTypes']}\",\n",
       " \"{'type': 'string', 'is_required': True, 'reference': ['OutdoorAirNodeNames']}\",\n",
       " \"{'type': 'string', 'is_required': True, 'reference': ['OutdoorAirUnitEquipmentLists']}\",\n",
       " \"{'type': 'string', 'is_required': True, 'reference': ['PeopleNames']}\",\n",
       " \"{'type': 'string', 'is_required': True, 'reference': ['PipingSystemUndergroundCircuitNames', 'validBranchEquipmentNames', 'validCondenserEquipmentNames', 'validPlantEquipmentNames'], 'reference-class-name': ['validBranchEquipmentTypes', 'validCondenserEquipmentTypes', 'validPlantEquipmentTypes']}\",\n",
       " \"{'type': 'string', 'is_required': True, 'reference': ['PipingSystemUndergroundSegmentNames']}\",\n",
       " \"{'type': 'string', 'is_required': True, 'reference': ['PlantAndCondenserEquipmentLists']}\",\n",
       " \"{'type': 'string', 'is_required': True, 'reference': ['PlantConnectors']}\",\n",
       " \"{'type': 'string', 'is_required': True, 'reference': ['PlantLoops']}\",\n",
       " \"{'type': 'string', 'is_required': True, 'reference': ['PlantOperationSchemes']}\",\n",
       " \"{'type': 'string', 'is_required': True, 'reference': ['ProgramNames'], 'note': 'no spaces allowed in name'}\",\n",
       " \"{'type': 'string', 'is_required': True, 'reference': ['QuadvariateFunctions']}\",\n",
       " \"{'type': 'string', 'is_required': True, 'reference': ['RadiantGroupNames']}\",\n",
       " \"{'type': 'string', 'is_required': True, 'reference': ['ReferenceCrackConditions'], 'note': 'Enter a unique name for this object.'}\",\n",
       " \"{'type': 'string', 'is_required': True, 'reference': ['RefrigerationAirChillerNames', 'RefrigerationCaseAndWalkInAndListNames', 'RefrigerationCaseAndWalkInNames']}\",\n",
       " \"{'type': 'string', 'is_required': True, 'reference': ['RefrigerationAllTypesCondenserNames', 'RefrigerationCascadeCondenserAndSecondarySystemNames', 'RefrigerationSecondarySystemAndCascadeCondenserAndTransferLoadListNames']}\",\n",
       " \"{'type': 'string', 'is_required': True, 'reference': ['RefrigerationAllTypesGasCoolerNames']}\",\n",
       " \"{'type': 'string', 'is_required': True, 'reference': ['RefrigerationCascadeCondenserAndSecondarySystemNames', 'RefrigerationSecondarySystemAndCascadeCondenserAndTransferLoadListNames']}\",\n",
       " \"{'type': 'string', 'is_required': True, 'reference': ['RefrigerationCaseAndWalkInAndListNames', 'RefrigerationCaseAndWalkInNames']}\",\n",
       " \"{'type': 'string', 'is_required': True, 'reference': ['RefrigerationCaseAndWalkInAndListNames']}\",\n",
       " \"{'type': 'string', 'is_required': True, 'reference': ['RefrigerationCompressorAndListNames', 'RefrigerationCompressorNames']}\",\n",
       " \"{'type': 'string', 'is_required': True, 'reference': ['RefrigerationCompressorAndListNames']}\",\n",
       " \"{'type': 'string', 'is_required': True, 'reference': ['RefrigerationSecondarySystemAndCascadeCondenserAndTransferLoadListNames']}\",\n",
       " \"{'type': 'string', 'is_required': True, 'reference': ['RefrigerationSubcoolerNames']}\",\n",
       " \"{'type': 'string', 'is_required': True, 'reference': ['RefrigerationSystemNames']}\",\n",
       " \"{'type': 'string', 'is_required': True, 'reference': ['ReturnPathComponentNames', 'ZoneMixers']}\",\n",
       " \"{'type': 'string', 'is_required': True, 'reference': ['ReturnPathComponentNames']}\",\n",
       " \"{'type': 'string', 'is_required': True, 'reference': ['RunPeriodsAndDesignDays'], 'note': 'descriptive name (used in reporting mainly) Cannot be not blank and must be unique'}\",\n",
       " \"{'type': 'string', 'is_required': True, 'reference': ['RunPeriodsAndDesignDays'], 'note': 'user supplied name for reporting'}\",\n",
       " \"{'type': 'string', 'is_required': True, 'reference': ['RunPeriodsAndDesignDays']}\",\n",
       " \"{'type': 'string', 'is_required': True, 'reference': ['ScheduleNames']}\",\n",
       " \"{'type': 'string', 'is_required': True, 'reference': ['ScheduleTypeLimitsNames'], 'note': 'used to validate schedule types in various schedule objects'}\",\n",
       " \"{'type': 'string', 'is_required': True, 'reference': ['SpectralDataSets']}\",\n",
       " \"{'type': 'string', 'is_required': True, 'reference': ['SpectrumDataNames']}\",\n",
       " \"{'type': 'string', 'is_required': True, 'reference': ['SupplyPathComponentNames']}\",\n",
       " \"{'type': 'string', 'is_required': True, 'reference': ['SurfaceAirflowLeakageNames'], 'note': 'Enter a unique name for this object.'}\",\n",
       " \"{'type': 'string', 'is_required': True, 'reference': ['SurfaceLocalEnvironmentNames']}\",\n",
       " \"{'type': 'string', 'is_required': True, 'reference': ['SurfacePropUnderWaterNames']}\",\n",
       " \"{'type': 'string', 'is_required': True, 'reference': ['SurroundingSurfacesNames']}\",\n",
       " \"{'type': 'string', 'is_required': True, 'reference': ['SystemAvailabilityManagerLists']}\",\n",
       " \"{'type': 'string', 'is_required': True, 'reference': ['SystemAvailabilityManagers']}\",\n",
       " \"{'type': 'string', 'is_required': True, 'reference': ['ThermalComfortControlTypeNames']}\",\n",
       " \"{'type': 'string', 'is_required': True, 'reference': ['TransformerNames']}\",\n",
       " \"{'type': 'string', 'is_required': True, 'reference': ['TrivariateFunctions']}\",\n",
       " \"{'type': 'string', 'is_required': True, 'reference': ['UTSCNames', 'validOASysEquipmentNames'], 'reference-class-name': ['validOASysEquipmentTypes']}\",\n",
       " \"{'type': 'string', 'is_required': True, 'reference': ['UndisturbedGroundTempModels']}\",\n",
       " \"{'type': 'string', 'is_required': True, 'reference': ['UnitarySystemPerformaceNames']}\",\n",
       " \"{'type': 'string', 'is_required': True, 'reference': ['UnivariateFunctions'], 'note': 'See InputOut Reference for curve description'}\",\n",
       " \"{'type': 'string', 'is_required': True, 'reference': ['UnivariateFunctions']}\",\n",
       " \"{'type': 'string', 'is_required': True, 'reference': ['UserDefinedCoil', 'validBranchEquipmentNames', 'validOASysEquipmentNames'], 'note': 'This is the name of the coil', 'reference-class-name': ['validBranchEquipmentTypes', 'validOASysEquipmentTypes']}\",\n",
       " \"{'type': 'string', 'is_required': True, 'reference': ['UtilityCostTariffs'], 'note': 'The name of the tariff. Tariffs are sometimes called rates. The name is used in identifying the output results and in associating all of the charges and other objects that make up a tariff.'}\",\n",
       " \"{'type': 'string', 'is_required': True, 'reference': ['VariableSpeedTowerCoefficient']}\",\n",
       " \"{'type': 'string', 'is_required': True, 'reference': ['VentSlabGroupNames']}\",\n",
       " \"{'type': 'string', 'is_required': True, 'reference': ['VentilationNames']}\",\n",
       " \"{'type': 'string', 'is_required': True, 'reference': ['WPCSetNames'], 'note': 'Enter a unique name for the object.'}\",\n",
       " \"{'type': 'string', 'is_required': True, 'reference': ['WPCValueNames'], 'note': 'Enter a unique name for this object.'}\",\n",
       " \"{'type': 'string', 'is_required': True, 'reference': ['WaterHeaterMixedNames', 'WaterHeaterNames', 'validBranchEquipmentNames', 'validCondenserEquipmentNames', 'validPlantEquipmentNames'], 'reference-class-name': ['validBranchEquipmentTypes', 'validCondenserEquipmentTypes', 'validPlantEquipmentTypes']}\",\n",
       " \"{'type': 'string', 'is_required': True, 'reference': ['WaterHeaterNames', 'WaterHeaterStratifiedNames', 'validBranchEquipmentNames', 'validCondenserEquipmentNames', 'validPlantEquipmentNames'], 'reference-class-name': ['validBranchEquipmentTypes', 'validCondenserEquipmentTypes', 'validPlantEquipmentTypes']}\",\n",
       " \"{'type': 'string', 'is_required': True, 'reference': ['WaterStorageTankNames']}\",\n",
       " \"{'type': 'string', 'is_required': True, 'reference': ['WaterUseEquipmentNames']}\",\n",
       " \"{'type': 'string', 'is_required': True, 'reference': ['WeekScheduleNames']}\",\n",
       " \"{'type': 'string', 'is_required': True, 'reference': ['WindowComplexShades']}\",\n",
       " \"{'type': 'string', 'is_required': True, 'reference': ['WindowEquivalentLayerMaterialNames']}\",\n",
       " \"{'type': 'string', 'is_required': True, 'reference': ['WindowFrameAndDividerNames'], 'note': 'Referenced by surfaces that are exterior windows Not used by interzone windows'}\",\n",
       " \"{'type': 'string', 'is_required': True, 'reference': ['WindowGapDeflectionStates']}\",\n",
       " \"{'type': 'string', 'is_required': True, 'reference': ['WindowGapSupportPillars']}\",\n",
       " \"{'type': 'string', 'is_required': True, 'reference': ['WindowShadeControlNames'], 'note': 'Referenced by surfaces that are exterior windows Not used by interzone windows'}\",\n",
       " \"{'type': 'string', 'is_required': True, 'reference': ['WindowThermalModelParameters']}\",\n",
       " \"{'type': 'string', 'is_required': True, 'reference': ['ZoneControlHumidistatNames']}\",\n",
       " \"{'type': 'string', 'is_required': True, 'reference': ['ZoneControlThermostaticNames']}\",\n",
       " \"{'type': 'string', 'is_required': True, 'reference': ['ZoneEquipmentLists']}\",\n",
       " \"{'type': 'string', 'is_required': True, 'reference': ['ZoneEquipmentNames'], 'note': 'Unique name for this direct expansion (DX) zone dehumidifier object.'}\",\n",
       " \"{'type': 'string', 'is_required': True, 'reference': ['ZoneEquipmentNames']}\",\n",
       " \"{'type': 'string', 'is_required': True, 'reference': ['ZoneLocalEnvironmentNames']}\",\n",
       " \"{'type': 'string', 'is_required': True, 'reference-class-name': ['validBranchEquipmentTypes', 'validCondenserEquipmentTypes', 'validPlantEquipmentTypes'], 'reference': ['validBranchEquipmentNames', 'validCondenserEquipmentNames', 'validPlantEquipmentNames']}\",\n",
       " \"{'type': 'string', 'is_required': True, 'reference-class-name': ['validBranchEquipmentTypes', 'validOASysEquipmentTypes'], 'reference': ['validBranchEquipmentNames', 'validOASysEquipmentNames']}\",\n",
       " \"{'type': 'string', 'is_required': True, 'reference-class-name': ['validBranchEquipmentTypes', 'validPlantEquipmentTypes'], 'reference': ['ZoneEquipmentNames', 'validBranchEquipmentNames', 'validPlantEquipmentNames'], 'note': 'Unique name for this instance of a heat pump water heater.'}\",\n",
       " \"{'type': 'string', 'is_required': True, 'reference-class-name': ['validBranchEquipmentTypes', 'validPlantEquipmentTypes'], 'reference': ['validBranchEquipmentNames', 'validPlantEquipmentNames']}\",\n",
       " \"{'type': 'string', 'is_required': True, 'reference-class-name': ['validBranchEquipmentTypes'], 'reference': ['ZoneEquipmentNames', 'validBranchEquipmentNames'], 'note': 'This is the name of the zone unit'}\",\n",
       " \"{'type': 'string', 'is_required': True, 'reference-class-name': ['validBranchEquipmentTypes'], 'reference': ['ZoneEquipmentNames', 'validBranchEquipmentNames']}\",\n",
       " \"{'type': 'string', 'is_required': True, 'reference-class-name': ['validBranchEquipmentTypes'], 'reference': ['validBranchEquipmentNames']}\",\n",
       " \"{'type': 'string', 'is_required': True, 'retaincase': True, 'reference': ['ZoneEquipmentNames']}\",\n",
       " \"{'type': 'string', 'is_required': True, 'retaincase': True}\",\n",
       " \"{'type': 'string', 'is_required': True}\",\n",
       " \"{'type': 'string', 'note': 'Enter a unique name for this window screen material.', 'is_required': True, 'reference': ['MaterialName', 'WindowShadesScreensAndBlinds']}\",\n",
       " \"{'type': 'string', 'note': 'Enter a unique name for this window screen material.', 'is_required': True, 'reference': ['WindowEquivalentLayerMaterialNames']}\",\n",
       " \"{'type': 'string', 'note': 'Enter the name of the fault', 'is_required': True, 'reference': ['ThermostatOffsetFaults']}\",\n",
       " \"{'type': 'string', 'note': 'Enter the name of the fault', 'is_required': True}\",\n",
       " \"{'type': 'string', 'note': 'Name of the Zone Group', 'is_required': True}\",\n",
       " \"{'type': 'string', 'note': 'Name of the Zone List', 'is_required': True, 'reference': ['ZoneAndZoneListNames', 'ZoneListNames']}\",\n",
       " \"{'type': 'string', 'note': 'Parameter Name Must begin with the dollar sign character. The second character must be a letter. Remaining characters may only be letters or numbers. No spaces allowed.', 'is_required': True}\",\n",
       " \"{'type': 'string', 'note': 'The name of this object.', 'is_required': True}\",\n",
       " \"{'type': 'string', 'note': 'This field is included for consistency.11'}\",\n",
       " \"{'type': 'string', 'note': 'This name may be referenced by a ZoneHVAC:AirDistributionUnit object.', 'is_required': True, 'reference': ['DesignSpecificationAirTerminalSizingName']}\",\n",
       " \"{'type': 'string', 'note': 'blank in this field will apply to all run periods (that is, all objects= SizingPeriod:WeatherFileDays, SizingPeriod:WeatherFileConditionType or RunPeriod otherwise, this name must match one of the environment object names.', 'data_type': 'object_list', 'object_list': ['RunPeriodsAndDesignDays']}\",\n",
       " \"{'type': 'string', 'reference': ['AllHeatTranAngFacNames']}\",\n",
       " \"{'type': 'string', 'reference': ['Chillers', 'validBranchEquipmentNames', 'validPlantEquipmentNames'], 'is_required': True, 'reference-class-name': ['validBranchEquipmentTypes', 'validPlantEquipmentTypes']}\",\n",
       " \"{'type': 'string', 'reference': ['ConverterList']}\",\n",
       " \"{'type': 'string', 'reference': ['DOAToZonalUnit', 'ZoneEquipmentNames', 'ZoneTerminalUnitNames', 'validBranchEquipmentNames', 'validOASysEquipmentNames'], 'reference-class-name': ['validBranchEquipmentTypes', 'validOASysEquipmentTypes']}\",\n",
       " \"{'type': 'string', 'reference': ['ElecStorageList']}\",\n",
       " \"{'type': 'string', 'reference': ['EvapCoolerNames', 'validBranchEquipmentNames', 'validOASysEquipmentNames'], 'reference-class-name': ['validBranchEquipmentTypes', 'validOASysEquipmentTypes']}\",\n",
       " \"{'type': 'string', 'reference': ['FlatPlatePVTParameters']}\",\n",
       " \"{'type': 'string', 'reference': ['FluidPropertyTemperatures']}\",\n",
       " \"{'type': 'string', 'reference': ['GeneratorNames', 'validBranchEquipmentNames', 'validPlantEquipmentNames'], 'reference-class-name': ['validBranchEquipmentTypes', 'validPlantEquipmentTypes']}\",\n",
       " \"{'type': 'string', 'reference': ['HVACTemplateDOASSystems', 'HVACTemplateSystems']}\",\n",
       " \"{'type': 'string', 'reference': ['InverterList']}\",\n",
       " \"{'type': 'string', 'reference': ['MicroCHPParametersNames']}\",\n",
       " \"{'type': 'string', 'reference': ['PLHPCoolingNames', 'validBranchEquipmentNames', 'validPlantEquipmentNames'], 'is_required': True, 'reference-class-name': ['validBranchEquipmentTypes', 'validPlantEquipmentTypes']}\",\n",
       " \"{'type': 'string', 'reference': ['PLHPHeatingNames', 'validBranchEquipmentNames', 'validPlantEquipmentNames'], 'is_required': True, 'reference-class-name': ['validBranchEquipmentTypes', 'validPlantEquipmentTypes']}\",\n",
       " \"{'type': 'string', 'reference': ['PVModules']}\",\n",
       " \"{'type': 'string', 'reference': ['RoomAirNodeGains']}\",\n",
       " \"{'type': 'string', 'reference': ['RoomAirNodeHVACEquipment']}\",\n",
       " \"{'type': 'string', 'reference': ['RoomAirNodeSurfaceLists']}\",\n",
       " \"{'type': 'string', 'reference': ['RoomAirNodes']}\",\n",
       " \"{'type': 'string', 'reference': ['RoomAirflowNetworkNodes']}\",\n",
       " \"{'type': 'string', 'reference': ['RunPeriodsAndDesignDays'], 'is_required': True, 'note': 'user supplied name for reporting'}\",\n",
       " \"{'type': 'string', 'reference': ['UserConvectionInsideModels', 'UserConvectionModels']}\",\n",
       " \"{'type': 'string', 'reference': ['UserConvectionModels', 'UserConvectionOutsideModels']}\",\n",
       " \"{'type': 'string', 'reference': ['WWHPCoolingNames', 'validBranchEquipmentNames', 'validPlantEquipmentNames'], 'is_required': True, 'reference-class-name': ['validBranchEquipmentTypes', 'validPlantEquipmentTypes']}\",\n",
       " \"{'type': 'string', 'reference': ['WWHPHeatingNames', 'validBranchEquipmentNames', 'validPlantEquipmentNames'], 'is_required': True, 'reference-class-name': ['validBranchEquipmentTypes', 'validPlantEquipmentTypes']}\",\n",
       " \"{'type': 'string', 'reference-class-name': ['validBranchEquipmentTypes', 'validOASysEquipmentTypes', 'validPlantEquipmentTypes'], 'reference': ['validBranchEquipmentNames', 'validOASysEquipmentNames', 'validPlantEquipmentNames']}\",\n",
       " \"{'type': 'string', 'reference-class-name': ['validBranchEquipmentTypes'], 'reference': ['validBranchEquipmentNames'], 'note': 'Enter a unique name for this variable refrigerant flow heat pump.'}\",\n",
       " \"{'type': 'string', 'retaincase': True, 'default': 'NONE'}\",\n",
       " \"{'type': 'string'}\"}"
      ]
     },
     "execution_count": 53,
     "metadata": {},
     "output_type": "execute_result"
    }
   ],
   "source": [
    "{str(x['name']) for x in schema.get_object_types() if 'name' in x}"
   ]
  },
  {
   "cell_type": "code",
   "execution_count": null,
   "metadata": {},
   "outputs": [],
   "source": []
  },
  {
   "cell_type": "code",
   "execution_count": null,
   "metadata": {},
   "outputs": [],
   "source": []
  },
  {
   "cell_type": "code",
   "execution_count": null,
   "metadata": {},
   "outputs": [],
   "source": []
  },
  {
   "cell_type": "code",
   "execution_count": null,
   "metadata": {},
   "outputs": [],
   "source": []
  },
  {
   "cell_type": "code",
   "execution_count": 6,
   "metadata": {},
   "outputs": [
    {
     "name": "stdout",
     "output_type": "stream",
     "text": [
      "EPSchemaObjectType(name=\"Building\")\n"
     ]
    }
   ],
   "source": [
    "print(ot)"
   ]
  },
  {
   "cell_type": "code",
   "execution_count": 7,
   "metadata": {},
   "outputs": [
    {
     "name": "stdout",
     "output_type": "stream",
     "text": [
      "Building\n"
     ]
    }
   ],
   "source": [
    "print(ot.name)"
   ]
  },
  {
   "cell_type": "code",
   "execution_count": 8,
   "metadata": {},
   "outputs": [
    {
     "name": "stdout",
     "output_type": "stream",
     "text": [
      "[EPSchemaProperty(name=\"north_axis\"), EPSchemaProperty(name=\"terrain\"), EPSchemaProperty(name=\"loads_convergence_tolerance_value\"), EPSchemaProperty(name=\"temperature_convergence_tolerance_value\"), EPSchemaProperty(name=\"solar_distribution\"), EPSchemaProperty(name=\"maximum_number_of_warmup_days\"), EPSchemaProperty(name=\"minimum_number_of_warmup_days\")]\n"
     ]
    }
   ],
   "source": [
    "print(ot.get_properties())"
   ]
  },
  {
   "cell_type": "code",
   "execution_count": 9,
   "metadata": {},
   "outputs": [
    {
     "name": "stdout",
     "output_type": "stream",
     "text": [
      "['patternProperties', 'name', 'legacy_idd', 'type', 'minProperties', 'maxProperties', 'memo', 'min_fields']\n"
     ]
    }
   ],
   "source": [
    "print(list(ot.keys()))"
   ]
  },
  {
   "cell_type": "code",
   "execution_count": 14,
   "metadata": {},
   "outputs": [
    {
     "name": "stdout",
     "output_type": "stream",
     "text": [
      "Describes parameters that are used during the simulation of the building. There are necessary correlations between the entries for this object and some entries in the Site:WeatherStation and Site:HeightVariation objects, specifically the Terrain field.\n"
     ]
    }
   ],
   "source": [
    "print(ot['memo'])"
   ]
  },
  {
   "cell_type": "markdown",
   "metadata": {},
   "source": [
    "## EPSchemaProperty"
   ]
  },
  {
   "cell_type": "code",
   "execution_count": 10,
   "metadata": {},
   "outputs": [
    {
     "name": "stdout",
     "output_type": "stream",
     "text": [
      "<class 'eprun.epschema_property.EPSchemaProperty'>\n"
     ]
    }
   ],
   "source": [
    "from eprun import EPSchema\n",
    "s=EPSchema(fp='Energy+.schema.epJSON')\n",
    "ot=s.get_object_type('Building')\n",
    "p=ot.get_property('north_axis')\n",
    "print(type(p))"
   ]
  },
  {
   "cell_type": "code",
   "execution_count": 11,
   "metadata": {},
   "outputs": [
    {
     "name": "stdout",
     "output_type": "stream",
     "text": [
      "north_axis\n"
     ]
    }
   ],
   "source": [
    "print(p.name)"
   ]
  },
  {
   "cell_type": "code",
   "execution_count": 12,
   "metadata": {},
   "outputs": [
    {
     "name": "stdout",
     "output_type": "stream",
     "text": [
      "['type', 'note', 'units', 'default']\n"
     ]
    }
   ],
   "source": [
    "print(list(p.keys()))"
   ]
  },
  {
   "cell_type": "code",
   "execution_count": 13,
   "metadata": {},
   "outputs": [
    {
     "name": "stdout",
     "output_type": "stream",
     "text": [
      "deg\n"
     ]
    }
   ],
   "source": [
    "print(p['units'])"
   ]
  }
 ],
 "metadata": {
  "kernelspec": {
   "display_name": "Python 3",
   "language": "python",
   "name": "python3"
  },
  "language_info": {
   "codemirror_mode": {
    "name": "ipython",
    "version": 3
   },
   "file_extension": ".py",
   "mimetype": "text/x-python",
   "name": "python",
   "nbconvert_exporter": "python",
   "pygments_lexer": "ipython3",
   "version": "3.7.7"
  }
 },
 "nbformat": 4,
 "nbformat_minor": 4
}
