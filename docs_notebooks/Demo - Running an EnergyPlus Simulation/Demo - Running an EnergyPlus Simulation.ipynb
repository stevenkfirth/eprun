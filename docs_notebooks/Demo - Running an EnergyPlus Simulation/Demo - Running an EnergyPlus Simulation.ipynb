{
 "cells": [
  {
   "cell_type": "markdown",
   "metadata": {},
   "source": [
    "# Demo - Running an EnergyPlus Simulation\n",
    "\n"
   ]
  },
  {
   "cell_type": "code",
   "execution_count": 1,
   "metadata": {},
   "outputs": [
    {
     "name": "stdout",
     "output_type": "stream",
     "text": [
      "<class 'eprun.epresult.EPResult'>\n"
     ]
    }
   ],
   "source": [
    "from eprun import eprun\n",
    "epresult=eprun(ep_dir=r'C:\\EnergyPlusV9-4-0',\n",
    "               input_filepath='1ZoneUncontrolled.idf',\n",
    "               epw_filepath='USA_CO_Golden-NREL.724666_TMY3.epw',\n",
    "               sim_dir='simulation_files')\n",
    "print(type(epresult))"
   ]
  },
  {
   "cell_type": "code",
   "execution_count": null,
   "metadata": {},
   "outputs": [],
   "source": []
  }
 ],
 "metadata": {
  "kernelspec": {
   "display_name": "Python 3",
   "language": "python",
   "name": "python3"
  },
  "language_info": {
   "codemirror_mode": {
    "name": "ipython",
    "version": 3
   },
   "file_extension": ".py",
   "mimetype": "text/x-python",
   "name": "python",
   "nbconvert_exporter": "python",
   "pygments_lexer": "ipython3",
   "version": "3.7.7"
  }
 },
 "nbformat": 4,
 "nbformat_minor": 4
}
