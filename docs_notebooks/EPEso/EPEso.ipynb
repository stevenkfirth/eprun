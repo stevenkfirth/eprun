{
 "cells": [
  {
   "cell_type": "markdown",
   "metadata": {},
   "source": [
    "# EPEso"
   ]
  },
  {
   "cell_type": "code",
   "execution_count": 2,
   "metadata": {},
   "outputs": [
    {
     "name": "stdout",
     "output_type": "stream",
     "text": [
      "<class 'eprun.epeso.EPEso'>\n"
     ]
    }
   ],
   "source": [
    "from eprun import EPEso\n",
    "eso=EPEso(r'simulation_files\\eplusout.eso')\n",
    "print(type(eso))"
   ]
  },
  {
   "cell_type": "code",
   "execution_count": 3,
   "metadata": {},
   "outputs": [
    {
     "name": "stdout",
     "output_type": "stream",
     "text": [
      "{'programme': 'EnergyPlus', 'version': 'Version 9.4.0-998c4b761e', 'timestamp': 'YMD=2020.12.31 08:53'}\n"
     ]
    }
   ],
   "source": [
    "print(eso.programme_version_statement)"
   ]
  },
  {
   "cell_type": "code",
   "execution_count": 4,
   "metadata": {},
   "outputs": [
    {
     "name": "stdout",
     "output_type": "stream",
     "text": [
      "{'number_of_values': 5, 'items': [{'name': 'Environment Title', 'unit': None}, {'name': 'Latitude', 'unit': 'deg'}, {'name': 'Longitude', 'unit': 'deg'}, {'name': 'Time Zone', 'unit': None}, {'name': 'Elevation', 'unit': 'm'}], 'comment': None}\n"
     ]
    }
   ],
   "source": [
    "print(eso.standard_items_dictionary[1])"
   ]
  },
  {
   "cell_type": "code",
   "execution_count": 5,
   "metadata": {},
   "outputs": [
    {
     "name": "stdout",
     "output_type": "stream",
     "text": [
      "{'number_of_values': 1, 'object_name': 'Environment', 'quantity': 'Site Outdoor Air Drybulb Temperature', 'unit': 'C', 'comment': 'Hourly'}\n"
     ]
    }
   ],
   "source": [
    " print(eso.variable_dictionary[7])"
   ]
  },
  {
   "cell_type": "code",
   "execution_count": 6,
   "metadata": {},
   "outputs": [
    {
     "name": "stdout",
     "output_type": "stream",
     "text": [
      "[EPEsoSimuationEnvironment(environment_title=\"DENVER CENTENNIAL  GOLDEN   N ANN HTG 99% CONDNS DB\"), EPEsoSimuationEnvironment(environment_title=\"DENVER CENTENNIAL  GOLDEN   N ANN CLG 1% CONDNS DB=>MWB\"), EPEsoSimuationEnvironment(environment_title=\"RUN PERIOD 1\")]\n"
     ]
    }
   ],
   "source": [
    "print(eso.get_environments())"
   ]
  },
  {
   "cell_type": "markdown",
   "metadata": {},
   "source": [
    "## EPEsoSimulationEnvironment"
   ]
  },
  {
   "cell_type": "code",
   "execution_count": 9,
   "metadata": {},
   "outputs": [
    {
     "data": {
      "text/plain": [
       "[EPEsoSimuationEnvironment(environment_title=\"DENVER CENTENNIAL  GOLDEN   N ANN HTG 99% CONDNS DB\"),\n",
       " EPEsoSimuationEnvironment(environment_title=\"DENVER CENTENNIAL  GOLDEN   N ANN CLG 1% CONDNS DB=>MWB\"),\n",
       " EPEsoSimuationEnvironment(environment_title=\"RUN PERIOD 1\")]"
      ]
     },
     "execution_count": 9,
     "metadata": {},
     "output_type": "execute_result"
    }
   ],
   "source": [
    "from eprun import EPEso\n",
    "eso=EPEso(r'simulation_files\\eplusout.eso')\n",
    "envs=eso.get_environments()\n",
    "envs"
   ]
  },
  {
   "cell_type": "markdown",
   "metadata": {},
   "source": [
    "## EPEsoIntervalPeriod"
   ]
  },
  {
   "cell_type": "code",
   "execution_count": 11,
   "metadata": {},
   "outputs": [
    {
     "name": "stdout",
     "output_type": "stream",
     "text": [
      "<class 'eprun.epeso_interval_periods.EPEsoIntervalPeriods'>\n"
     ]
    }
   ],
   "source": [
    "from eprun import EPEso\n",
    "eso=EPEso(r'simulation_files\\eplusout.eso')\n",
    "env=eso.get_environment('RUN PERIOD 1')\n",
    "ip=env.get_interval_periods()\n",
    "print(type(ip))"
   ]
  },
  {
   "cell_type": "code",
   "execution_count": 14,
   "metadata": {},
   "outputs": [
    {
     "name": "stdout",
     "output_type": "stream",
     "text": [
      "(datetime.datetime(2001, 1, 1, 0, 0, tzinfo=datetime.timezone.utc), datetime.datetime(2001, 1, 1, 1, 0, tzinfo=datetime.timezone.utc), datetime.datetime(2001, 1, 1, 2, 0, tzinfo=datetime.timezone.utc), datetime.datetime(2001, 1, 1, 3, 0, tzinfo=datetime.timezone.utc), datetime.datetime(2001, 1, 1, 4, 0, tzinfo=datetime.timezone.utc))\n"
     ]
    }
   ],
   "source": [
    "print(ip.get_start_times()[:5])"
   ]
  },
  {
   "cell_type": "markdown",
   "metadata": {},
   "source": [
    "## EPEsoIntervalVariable"
   ]
  },
  {
   "cell_type": "code",
   "execution_count": 17,
   "metadata": {},
   "outputs": [
    {
     "name": "stdout",
     "output_type": "stream",
     "text": [
      "<class 'eprun.epeso_interval_variable.EPEsoIntervalVariable'>\n"
     ]
    }
   ],
   "source": [
    "from eprun import EPEso\n",
    "eso=EPEso(r'simulation_files\\eplusout.eso')\n",
    "env=eso.get_environment('RUN PERIOD 1')\n",
    "iv=env.get_interval_variables()[0]\n",
    "print(type(iv))"
   ]
  },
  {
   "cell_type": "code",
   "execution_count": 19,
   "metadata": {},
   "outputs": [
    {
     "name": "stdout",
     "output_type": "stream",
     "text": [
      "7 - Environment - Site Outdoor Air Drybulb Temperature (C)\n"
     ]
    }
   ],
   "source": [
    "print(iv.summary())"
   ]
  },
  {
   "cell_type": "code",
   "execution_count": 20,
   "metadata": {},
   "outputs": [
    {
     "name": "stdout",
     "output_type": "stream",
     "text": [
      "(-4.5, -3.0, -3.625, -2.75, -2.0)\n"
     ]
    }
   ],
   "source": [
    "print(iv.values[:5])"
   ]
  },
  {
   "cell_type": "markdown",
   "metadata": {},
   "source": [
    "## EPEsoDailyPeriod"
   ]
  },
  {
   "cell_type": "code",
   "execution_count": 23,
   "metadata": {},
   "outputs": [
    {
     "name": "stdout",
     "output_type": "stream",
     "text": [
      "<class 'eprun.epeso_daily_periods.EPEsoDailyPeriods'>\n"
     ]
    }
   ],
   "source": [
    "from eprun import EPEso\n",
    "eso=EPEso(r'simulation_files\\eplusout.eso')\n",
    "env=eso.get_environment('RUN PERIOD 1')\n",
    "dp=env.get_daily_periods()\n",
    "print(type(dp))"
   ]
  },
  {
   "cell_type": "code",
   "execution_count": 24,
   "metadata": {},
   "outputs": [
    {
     "name": "stdout",
     "output_type": "stream",
     "text": [
      "(datetime.datetime(2001, 1, 1, 0, 0, tzinfo=datetime.timezone.utc), datetime.datetime(2001, 1, 2, 0, 0, tzinfo=datetime.timezone.utc), datetime.datetime(2001, 1, 3, 0, 0, tzinfo=datetime.timezone.utc), datetime.datetime(2001, 1, 4, 0, 0, tzinfo=datetime.timezone.utc), datetime.datetime(2001, 1, 5, 0, 0, tzinfo=datetime.timezone.utc))\n"
     ]
    }
   ],
   "source": [
    "print(dp.get_start_times()[:5])"
   ]
  },
  {
   "cell_type": "markdown",
   "metadata": {},
   "source": [
    "## EPEsoDailyVariable"
   ]
  },
  {
   "cell_type": "code",
   "execution_count": 29,
   "metadata": {},
   "outputs": [
    {
     "name": "stdout",
     "output_type": "stream",
     "text": [
      "<class 'eprun.epeso_daily_variable.EPEsoDailyVariable'>\n"
     ]
    }
   ],
   "source": [
    "from eprun import EPEso\n",
    "eso=EPEso(r'simulation_files\\eplusout.eso')\n",
    "env=eso.get_environment('RUN PERIOD 1')\n",
    "dv=env.get_daily_variables()[0]\n",
    "print(type(dv))"
   ]
  },
  {
   "cell_type": "code",
   "execution_count": 30,
   "metadata": {},
   "outputs": [
    {
     "name": "stdout",
     "output_type": "stream",
     "text": [
      "51 - ZN001:WALL001 - Surface Inside Face Temperature (C)\n"
     ]
    }
   ],
   "source": [
    "print(dv.summary())"
   ]
  },
  {
   "cell_type": "code",
   "execution_count": 31,
   "metadata": {},
   "outputs": [
    {
     "name": "stdout",
     "output_type": "stream",
     "text": [
      "(0.2586823729828891, -2.1861342037263127, -3.1313024424355285, -2.9489865949136895, 0.3701320282261298)\n"
     ]
    }
   ],
   "source": [
    "print(dv.values[:5])"
   ]
  },
  {
   "cell_type": "markdown",
   "metadata": {},
   "source": [
    "## EPEsoMonthlyPeriod"
   ]
  },
  {
   "cell_type": "code",
   "execution_count": 25,
   "metadata": {},
   "outputs": [
    {
     "name": "stdout",
     "output_type": "stream",
     "text": [
      "<class 'eprun.epeso_monthly_periods.EPEsoMonthlyPeriods'>\n"
     ]
    }
   ],
   "source": [
    "from eprun import EPEso\n",
    "eso=EPEso(r'simulation_files\\eplusout.eso')\n",
    "env=eso.get_environment('RUN PERIOD 1')\n",
    "mp=env.get_monthly_periods()\n",
    "print(type(mp))"
   ]
  },
  {
   "cell_type": "code",
   "execution_count": 26,
   "metadata": {},
   "outputs": [
    {
     "name": "stdout",
     "output_type": "stream",
     "text": [
      "(datetime.datetime(2001, 1, 1, 0, 0, tzinfo=datetime.timezone.utc), datetime.datetime(2001, 2, 1, 0, 0, tzinfo=datetime.timezone.utc), datetime.datetime(2001, 3, 1, 0, 0, tzinfo=datetime.timezone.utc), datetime.datetime(2001, 4, 1, 0, 0, tzinfo=datetime.timezone.utc), datetime.datetime(2001, 5, 1, 0, 0, tzinfo=datetime.timezone.utc))\n"
     ]
    }
   ],
   "source": [
    "print(mp.get_start_times()[:5])"
   ]
  },
  {
   "cell_type": "markdown",
   "metadata": {},
   "source": [
    "## EPEsoMonthlyVariable"
   ]
  },
  {
   "cell_type": "code",
   "execution_count": 32,
   "metadata": {},
   "outputs": [
    {
     "name": "stdout",
     "output_type": "stream",
     "text": [
      "<class 'eprun.epeso_monthly_variable.EPEsoMonthlyVariable'>\n"
     ]
    }
   ],
   "source": [
    "from eprun import EPEso\n",
    "eso=EPEso(r'simulation_files\\eplusout.eso')\n",
    "env=eso.get_environment('RUN PERIOD 1')\n",
    "mv=env.get_monthly_variables()[0]\n",
    "print(type(mv))"
   ]
  },
  {
   "cell_type": "code",
   "execution_count": 33,
   "metadata": {},
   "outputs": [
    {
     "name": "stdout",
     "output_type": "stream",
     "text": [
      "48 - TEST 352A - Other Equipment Total Heating Energy (J)\n"
     ]
    }
   ],
   "source": [
    "print(mv.summary())"
   ]
  },
  {
   "cell_type": "code",
   "execution_count": 34,
   "metadata": {},
   "outputs": [
    {
     "name": "stdout",
     "output_type": "stream",
     "text": [
      "(942796800.0, 851558400.0, 942796800.0, 912384000.0, 942796800.0)\n"
     ]
    }
   ],
   "source": [
    "print(mv.values[:5])"
   ]
  },
  {
   "cell_type": "code",
   "execution_count": null,
   "metadata": {},
   "outputs": [],
   "source": []
  }
 ],
 "metadata": {
  "kernelspec": {
   "display_name": "Python 3",
   "language": "python",
   "name": "python3"
  },
  "language_info": {
   "codemirror_mode": {
    "name": "ipython",
    "version": 3
   },
   "file_extension": ".py",
   "mimetype": "text/x-python",
   "name": "python",
   "nbconvert_exporter": "python",
   "pygments_lexer": "ipython3",
   "version": "3.7.7"
  }
 },
 "nbformat": 4,
 "nbformat_minor": 4
}
