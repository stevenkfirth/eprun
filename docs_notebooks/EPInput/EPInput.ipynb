{
 "cells": [
  {
   "cell_type": "markdown",
   "metadata": {},
   "source": [
    "# EPInput"
   ]
  },
  {
   "cell_type": "code",
   "execution_count": 1,
   "metadata": {},
   "outputs": [
    {
     "name": "stdout",
     "output_type": "stream",
     "text": [
      "<class 'eprun.epinput.EPInput'>\n"
     ]
    }
   ],
   "source": [
    "from eprun import EPInput\n",
    "epinput=EPInput(fp='1ZoneUncontrolled.epJSON')\n",
    "print(type(epinput))"
   ]
  },
  {
   "cell_type": "code",
   "execution_count": 2,
   "metadata": {},
   "outputs": [
    {
     "name": "stdout",
     "output_type": "stream",
     "text": [
      "{'Building': 1, 'BuildingSurface:Detailed': 6, 'Construction': 3, 'Exterior:Lights': 1, 'GlobalGeometryRules': 1, 'HeatBalanceAlgorithm': 1, 'Material': 1, 'Material:NoMass': 2, 'OtherEquipment': 2, 'Output:Constructions': 1, 'Output:Meter:MeterFileOnly': 3, 'Output:Surfaces:Drawing': 1, 'Output:Table:SummaryReports': 1, 'Output:Variable': 14, 'Output:VariableDictionary': 1, 'OutputControl:Table:Style': 1, 'RunPeriod': 1, 'Schedule:Constant': 1, 'ScheduleTypeLimits': 2, 'SimulationControl': 1, 'Site:Location': 1, 'SizingPeriod:DesignDay': 2, 'SurfaceConvectionAlgorithm:Inside': 1, 'SurfaceConvectionAlgorithm:Outside': 1, 'Timestep': 1, 'Version': 1, 'Zone': 1}\n"
     ]
    }
   ],
   "source": [
    "print(epinput.summary)"
   ]
  },
  {
   "cell_type": "code",
   "execution_count": 3,
   "metadata": {},
   "outputs": [
    {
     "name": "stdout",
     "output_type": "stream",
     "text": [
      "{'Simple One Zone (Wireframe DXF)': EPInputObject(name=\"Simple One Zone (Wireframe DXF)\")}\n"
     ]
    }
   ],
   "source": [
    "print(epinput.get_objects('Building'))"
   ]
  },
  {
   "cell_type": "code",
   "execution_count": 4,
   "metadata": {},
   "outputs": [
    {
     "name": "stdout",
     "output_type": "stream",
     "text": [
      "EPInputObject(name=\"Simple One Zone (Wireframe DXF)\")\n"
     ]
    }
   ],
   "source": [
    "print(epinput.get_object('Simple One Zone (Wireframe DXF)'))"
   ]
  },
  {
   "cell_type": "code",
   "execution_count": 5,
   "metadata": {},
   "outputs": [
    {
     "name": "stdout",
     "output_type": "stream",
     "text": [
      "{'Simple One Zone (Wireframe DXF)': EPInputObject(name=\"Simple One Zone (Wireframe DXF)\")}\n"
     ]
    }
   ],
   "source": [
    "print(epinput['Building'])"
   ]
  },
  {
   "cell_type": "code",
   "execution_count": 6,
   "metadata": {},
   "outputs": [
    {
     "name": "stdout",
     "output_type": "stream",
     "text": [
      "EPInputObject(name=\"Simple One Zone (Wireframe DXF)\")\n"
     ]
    }
   ],
   "source": [
    "print(epinput['Building']['Simple One Zone (Wireframe DXF)'])"
   ]
  },
  {
   "cell_type": "code",
   "execution_count": null,
   "metadata": {},
   "outputs": [],
   "source": []
  },
  {
   "cell_type": "code",
   "execution_count": null,
   "metadata": {},
   "outputs": [],
   "source": []
  }
 ],
 "metadata": {
  "kernelspec": {
   "display_name": "Python 3",
   "language": "python",
   "name": "python3"
  },
  "language_info": {
   "codemirror_mode": {
    "name": "ipython",
    "version": 3
   },
   "file_extension": ".py",
   "mimetype": "text/x-python",
   "name": "python",
   "nbconvert_exporter": "python",
   "pygments_lexer": "ipython3",
   "version": "3.7.7"
  }
 },
 "nbformat": 4,
 "nbformat_minor": 4
}
