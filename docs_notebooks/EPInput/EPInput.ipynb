{
 "cells": [
  {
   "cell_type": "markdown",
   "metadata": {},
   "source": [
    "# EPInput"
   ]
  },
  {
   "cell_type": "code",
   "execution_count": 12,
   "metadata": {},
   "outputs": [
    {
     "name": "stdout",
     "output_type": "stream",
     "text": [
      "created temporary directory C:\\Users\\cvskf\\AppData\\Local\\Temp\\tmpt15_z_nj\n"
     ]
    }
   ],
   "source": [
    "import tempfile\n",
    "with tempfile.TemporaryDirectory() as tmpdirname:\n",
    "    print('created temporary directory', tmpdirname)"
   ]
  },
  {
   "cell_type": "code",
   "execution_count": null,
   "metadata": {},
   "outputs": [],
   "source": []
  },
  {
   "cell_type": "code",
   "execution_count": null,
   "metadata": {},
   "outputs": [],
   "source": []
  },
  {
   "cell_type": "code",
   "execution_count": 8,
   "metadata": {},
   "outputs": [
    {
     "name": "stdout",
     "output_type": "stream",
     "text": [
      "\"C:\\EnergyPlusV9-4-0\\EnergyPlus\" --convert --output-prefix eplus --output-suffix L --output-directory \"C:\\Users\\cvskf\\OneDrive - Loughborough University\\_Git\\stevenkfirth\\eprun\\docs_notebooks\\EPInput\\simulation_files\" --weather \"C:\\Users\\cvskf\\OneDrive - Loughborough University\\_Git\\stevenkfirth\\eprun\\docs_notebooks\\EPInput\\USA_CO_Golden-NREL.724666_TMY3.epw\" \"C:\\Users\\cvskf\\OneDrive - Loughborough University\\_Git\\stevenkfirth\\eprun\\docs_notebooks\\EPInput\\1ZoneUncontrolled.idf\"\n",
      "<class 'eprun.epresult.EPResult'>\n",
      "{'epJSON': 'C:\\\\Users\\\\cvskf\\\\OneDrive - Loughborough University\\\\_Git\\\\stevenkfirth\\\\eprun\\\\docs_notebooks\\\\EPInput\\\\simulation_files\\\\1ZoneUncontrolled.epJSON', 'audit': 'C:\\\\Users\\\\cvskf\\\\OneDrive - Loughborough University\\\\_Git\\\\stevenkfirth\\\\eprun\\\\docs_notebooks\\\\EPInput\\\\simulation_files\\\\eplusout.audit', 'bnd': 'C:\\\\Users\\\\cvskf\\\\OneDrive - Loughborough University\\\\_Git\\\\stevenkfirth\\\\eprun\\\\docs_notebooks\\\\EPInput\\\\simulation_files\\\\eplusout.bnd', 'dxf': 'C:\\\\Users\\\\cvskf\\\\OneDrive - Loughborough University\\\\_Git\\\\stevenkfirth\\\\eprun\\\\docs_notebooks\\\\EPInput\\\\simulation_files\\\\eplusout.dxf', 'eio': 'C:\\\\Users\\\\cvskf\\\\OneDrive - Loughborough University\\\\_Git\\\\stevenkfirth\\\\eprun\\\\docs_notebooks\\\\EPInput\\\\simulation_files\\\\eplusout.eio', 'end': 'C:\\\\Users\\\\cvskf\\\\OneDrive - Loughborough University\\\\_Git\\\\stevenkfirth\\\\eprun\\\\docs_notebooks\\\\EPInput\\\\simulation_files\\\\eplusout.end', 'err': 'C:\\\\Users\\\\cvskf\\\\OneDrive - Loughborough University\\\\_Git\\\\stevenkfirth\\\\eprun\\\\docs_notebooks\\\\EPInput\\\\simulation_files\\\\eplusout.err', 'eso': 'C:\\\\Users\\\\cvskf\\\\OneDrive - Loughborough University\\\\_Git\\\\stevenkfirth\\\\eprun\\\\docs_notebooks\\\\EPInput\\\\simulation_files\\\\eplusout.eso', 'mdd': 'C:\\\\Users\\\\cvskf\\\\OneDrive - Loughborough University\\\\_Git\\\\stevenkfirth\\\\eprun\\\\docs_notebooks\\\\EPInput\\\\simulation_files\\\\eplusout.mdd', 'mtd': 'C:\\\\Users\\\\cvskf\\\\OneDrive - Loughborough University\\\\_Git\\\\stevenkfirth\\\\eprun\\\\docs_notebooks\\\\EPInput\\\\simulation_files\\\\eplusout.mtd', 'mtr': 'C:\\\\Users\\\\cvskf\\\\OneDrive - Loughborough University\\\\_Git\\\\stevenkfirth\\\\eprun\\\\docs_notebooks\\\\EPInput\\\\simulation_files\\\\eplusout.mtr', 'rdd': 'C:\\\\Users\\\\cvskf\\\\OneDrive - Loughborough University\\\\_Git\\\\stevenkfirth\\\\eprun\\\\docs_notebooks\\\\EPInput\\\\simulation_files\\\\eplusout.rdd', 'shd': 'C:\\\\Users\\\\cvskf\\\\OneDrive - Loughborough University\\\\_Git\\\\stevenkfirth\\\\eprun\\\\docs_notebooks\\\\EPInput\\\\simulation_files\\\\eplusout.shd', 'csv': 'C:\\\\Users\\\\cvskf\\\\OneDrive - Loughborough University\\\\_Git\\\\stevenkfirth\\\\eprun\\\\docs_notebooks\\\\EPInput\\\\simulation_files\\\\eplustbl.csv', 'htm': 'C:\\\\Users\\\\cvskf\\\\OneDrive - Loughborough University\\\\_Git\\\\stevenkfirth\\\\eprun\\\\docs_notebooks\\\\EPInput\\\\simulation_files\\\\eplustbl.htm', 'tab': 'C:\\\\Users\\\\cvskf\\\\OneDrive - Loughborough University\\\\_Git\\\\stevenkfirth\\\\eprun\\\\docs_notebooks\\\\EPInput\\\\simulation_files\\\\eplustbl.tab', 'txt': 'C:\\\\Users\\\\cvskf\\\\OneDrive - Loughborough University\\\\_Git\\\\stevenkfirth\\\\eprun\\\\docs_notebooks\\\\EPInput\\\\simulation_files\\\\eplustbl.txt', 'xml': 'C:\\\\Users\\\\cvskf\\\\OneDrive - Loughborough University\\\\_Git\\\\stevenkfirth\\\\eprun\\\\docs_notebooks\\\\EPInput\\\\simulation_files\\\\eplustbl.xml'}\n",
      "EnergyPlus Starting\n",
      "EnergyPlus, Version 9.4.0-998c4b761e, YMD=2021.01.05 07:37\n",
      "Adjusting Air System Sizing\n",
      "Adjusting Standard 62.1 Ventilation Sizing\n",
      "Initializing Simulation\n",
      "Reporting Surfaces\n",
      "Beginning Primary Simulation\n",
      "Initializing New Environment Parameters\n",
      "Warming up {1}\n",
      "Warming up {2}\n",
      "Warming up {3}\n",
      "Warming up {4}\n",
      "Warming up {5}\n",
      "Warming up {6}\n",
      "Warming up {7}\n",
      "Warming up {8}\n",
      "Warming up {9}\n",
      "Warming up {10}\n",
      "Warming up {11}\n",
      "Warming up {12}\n",
      "Warming up {13}\n",
      "Warming up {14}\n",
      "Warming up {15}\n",
      "Warming up {16}\n",
      "Warming up {17}\n",
      "Warming up {18}\n",
      "Warming up {19}\n",
      "Warming up {20}\n",
      "Warming up {21}\n",
      "Warming up {22}\n",
      "Starting Simulation at 12/21 for DENVER CENTENNIAL  GOLDEN   N ANN HTG 99% CONDNS DB\n",
      "Initializing New Environment Parameters\n",
      "Warming up {1}\n",
      "Warming up {2}\n",
      "Warming up {3}\n",
      "Warming up {4}\n",
      "Warming up {5}\n",
      "Warming up {6}\n",
      "Warming up {7}\n",
      "Warming up {8}\n",
      "Warming up {9}\n",
      "Warming up {10}\n",
      "Warming up {11}\n",
      "Warming up {12}\n",
      "Warming up {13}\n",
      "Warming up {14}\n",
      "Warming up {15}\n",
      "Warming up {16}\n",
      "Starting Simulation at 07/21 for DENVER CENTENNIAL  GOLDEN   N ANN CLG 1% CONDNS DB=>MWB\n",
      "Initializing New Environment Parameters\n",
      "Warming up {1}\n",
      "Warming up {2}\n",
      "Warming up {3}\n",
      "Warming up {4}\n",
      "Warming up {5}\n",
      "Warming up {6}\n",
      "Warming up {7}\n",
      "Warming up {8}\n",
      "Warming up {9}\n",
      "Warming up {10}\n",
      "Warming up {11}\n",
      "Warming up {12}\n",
      "Warming up {13}\n",
      "Warming up {14}\n",
      "Warming up {15}\n",
      "Warming up {16}\n",
      "Warming up {17}\n",
      "Warming up {18}\n",
      "Warming up {19}\n",
      "Warming up {20}\n",
      "Starting Simulation at 01/01/2013 for RUN PERIOD 1\n",
      "Updating Shadowing Calculations, Start Date=01/21/2013\n",
      "Continuing Simulation at 01/21/2013 for RUN PERIOD 1\n",
      "Updating Shadowing Calculations, Start Date=02/10/2013\n",
      "Continuing Simulation at 02/10/2013 for RUN PERIOD 1\n",
      "Updating Shadowing Calculations, Start Date=03/02/2013\n",
      "Continuing Simulation at 03/02/2013 for RUN PERIOD 1\n",
      "Updating Shadowing Calculations, Start Date=03/22/2013\n",
      "Continuing Simulation at 03/22/2013 for RUN PERIOD 1\n",
      "Updating Shadowing Calculations, Start Date=04/11/2013\n",
      "Continuing Simulation at 04/11/2013 for RUN PERIOD 1\n",
      "Updating Shadowing Calculations, Start Date=05/01/2013\n",
      "Continuing Simulation at 05/01/2013 for RUN PERIOD 1\n",
      "Updating Shadowing Calculations, Start Date=05/21/2013\n",
      "Continuing Simulation at 05/21/2013 for RUN PERIOD 1\n",
      "Updating Shadowing Calculations, Start Date=06/10/2013\n",
      "Continuing Simulation at 06/10/2013 for RUN PERIOD 1\n",
      "Updating Shadowing Calculations, Start Date=06/30/2013\n",
      "Continuing Simulation at 06/30/2013 for RUN PERIOD 1\n",
      "Updating Shadowing Calculations, Start Date=07/20/2013\n",
      "Continuing Simulation at 07/20/2013 for RUN PERIOD 1\n",
      "Updating Shadowing Calculations, Start Date=08/09/2013\n",
      "Continuing Simulation at 08/09/2013 for RUN PERIOD 1\n",
      "Updating Shadowing Calculations, Start Date=08/29/2013\n",
      "Continuing Simulation at 08/29/2013 for RUN PERIOD 1\n",
      "Updating Shadowing Calculations, Start Date=09/18/2013\n",
      "Continuing Simulation at 09/18/2013 for RUN PERIOD 1\n",
      "Updating Shadowing Calculations, Start Date=10/08/2013\n",
      "Continuing Simulation at 10/08/2013 for RUN PERIOD 1\n",
      "Updating Shadowing Calculations, Start Date=10/28/2013\n",
      "Continuing Simulation at 10/28/2013 for RUN PERIOD 1\n",
      "Updating Shadowing Calculations, Start Date=11/17/2013\n",
      "Continuing Simulation at 11/17/2013 for RUN PERIOD 1\n",
      "Updating Shadowing Calculations, Start Date=12/07/2013\n",
      "Continuing Simulation at 12/07/2013 for RUN PERIOD 1\n",
      "Updating Shadowing Calculations, Start Date=12/27/2013\n",
      "Continuing Simulation at 12/27/2013 for RUN PERIOD 1\n",
      "Writing tabular output file results using comma format.\n",
      "Writing tabular output file results using tab format.\n",
      "Writing tabular output file results using text format.\n",
      "Writing tabular output file results using HTML format.\n",
      "Writing tabular output file results using XML format.\n",
      "EnergyPlus Run Time=00hr 00min  2.49sec\n",
      "\n"
     ]
    }
   ],
   "source": [
    "from eprun import eprun\n",
    "epresult=eprun(ep_dir=r'C:\\EnergyPlusV9-4-0',\n",
    "               input_filepath='1ZoneUncontrolled.idf',\n",
    "               epw_filepath='USA_CO_Golden-NREL.724666_TMY3.epw',\n",
    "               sim_dir='simulation_files',\n",
    "               convert=True,\n",
    "               print_call=True)\n",
    "print(type(epresult))\n",
    "print(epresult.files)\n",
    "print(epresult.stdout)"
   ]
  },
  {
   "cell_type": "code",
   "execution_count": 11,
   "metadata": {},
   "outputs": [
    {
     "name": "stdout",
     "output_type": "stream",
     "text": [
      "EnergyPlus Starting"
     ]
    },
    {
     "name": "stderr",
     "output_type": "stream",
     "text": [
      "Program terminated: EnergyPlus Terminated--Error(s) Detected.\n"
     ]
    },
    {
     "name": "stdout",
     "output_type": "stream",
     "text": [
      "\n",
      "EnergyPlus, Version 9.4.0-998c4b761e, YMD=2021.01.05 07:40\n",
      "Adjusting Air System Sizing\n",
      "Adjusting Standard 62.1 Ventilation Sizing\n",
      "Initializing Simulation\n",
      "Reporting Surfaces\n",
      "Beginning Primary Simulation\n",
      "Initializing New Environment Parameters\n",
      "Warming up {1}\n",
      "Warming up {2}\n",
      "Warming up {3}\n",
      "Warming up {4}\n",
      "Warming up {5}\n",
      "Warming up {6}\n",
      "Warming up {7}\n",
      "Warming up {8}\n",
      "Warming up {9}\n",
      "Warming up {10}\n",
      "Warming up {11}\n",
      "Warming up {12}\n",
      "Warming up {13}\n",
      "Warming up {14}\n",
      "Warming up {15}\n",
      "Warming up {16}\n",
      "Warming up {17}\n",
      "Warming up {18}\n",
      "Warming up {19}\n",
      "Warming up {20}\n",
      "Warming up {21}\n",
      "Warming up {22}\n",
      "Starting Simulation at 12/21 for DENVER CENTENNIAL  GOLDEN   N ANN HTG 99% CONDNS DB\n",
      "Initializing New Environment Parameters\n",
      "Warming up {1}\n",
      "Warming up {2}\n",
      "Warming up {3}\n",
      "Warming up {4}\n",
      "Warming up {5}\n",
      "Warming up {6}\n",
      "Warming up {7}\n",
      "Warming up {8}\n",
      "Warming up {9}\n",
      "Warming up {10}\n",
      "Warming up {11}\n",
      "Warming up {12}\n",
      "Warming up {13}\n",
      "Warming up {14}\n",
      "Warming up {15}\n",
      "Warming up {16}\n",
      "Starting Simulation at 07/21 for DENVER CENTENNIAL  GOLDEN   N ANN CLG 1% CONDNS DB=>MWB\n",
      "Writing tabular output file results using comma format.\n",
      "Writing tabular output file results using tab format.\n",
      "Writing tabular output file results using text format.\n",
      "Writing tabular output file results using HTML format.\n",
      "Writing tabular output file results using XML format.\n",
      "**FATAL:Error condition occurred.  Previous Severe Errors cause termination.\n",
      "EnergyPlus Run Time=00hr 00min  0.65sec\n"
     ]
    }
   ],
   "source": [
    "!\"C:\\EnergyPlusV9-4-0\\EnergyPlus\" --convert --output-prefix eplus --output-suffix L --output-directory \"C:\\Users\\cvskf\\OneDrive - Loughborough University\\_Git\\stevenkfirth\\eprun\\docs_notebooks\\EPInput\\simulation_files\" \"C:\\Users\\cvskf\\OneDrive - Loughborough University\\_Git\\stevenkfirth\\eprun\\docs_notebooks\\EPInput\\1ZoneUncontrolled.idf\""
   ]
  },
  {
   "cell_type": "code",
   "execution_count": 1,
   "metadata": {},
   "outputs": [
    {
     "ename": "JSONDecodeError",
     "evalue": "Expecting value: line 1 column 1 (char 0)",
     "output_type": "error",
     "traceback": [
      "\u001b[1;31m---------------------------------------------------------------------------\u001b[0m",
      "\u001b[1;31mJSONDecodeError\u001b[0m                           Traceback (most recent call last)",
      "\u001b[1;32m<ipython-input-1-371bc58fe11e>\u001b[0m in \u001b[0;36m<module>\u001b[1;34m\u001b[0m\n\u001b[0;32m      1\u001b[0m \u001b[1;32mfrom\u001b[0m \u001b[0meprun\u001b[0m \u001b[1;32mimport\u001b[0m \u001b[0mEPInput\u001b[0m\u001b[1;33m\u001b[0m\u001b[1;33m\u001b[0m\u001b[0m\n\u001b[1;32m----> 2\u001b[1;33m \u001b[0mepinput\u001b[0m\u001b[1;33m=\u001b[0m\u001b[0mEPInput\u001b[0m\u001b[1;33m(\u001b[0m\u001b[0mfp\u001b[0m\u001b[1;33m=\u001b[0m\u001b[1;34m'1ZoneUncontrolled.idf'\u001b[0m\u001b[1;33m)\u001b[0m\u001b[1;33m\u001b[0m\u001b[1;33m\u001b[0m\u001b[0m\n\u001b[0m",
      "\u001b[1;32mc:\\users\\cvskf\\onedrive - loughborough university\\_git\\stevenkfirth\\eprun\\eprun\\epinput.py\u001b[0m in \u001b[0;36m__init__\u001b[1;34m(self, fp, schema)\u001b[0m\n\u001b[0;32m     73\u001b[0m         \u001b[1;32melse\u001b[0m\u001b[1;33m:\u001b[0m\u001b[1;33m\u001b[0m\u001b[1;33m\u001b[0m\u001b[0m\n\u001b[0;32m     74\u001b[0m             \u001b[1;32mwith\u001b[0m \u001b[0mopen\u001b[0m\u001b[1;33m(\u001b[0m\u001b[0mfp\u001b[0m\u001b[1;33m,\u001b[0m\u001b[1;34m'r'\u001b[0m\u001b[1;33m)\u001b[0m \u001b[1;32mas\u001b[0m \u001b[0mf\u001b[0m\u001b[1;33m:\u001b[0m\u001b[1;33m\u001b[0m\u001b[1;33m\u001b[0m\u001b[0m\n\u001b[1;32m---> 75\u001b[1;33m                 \u001b[0mself\u001b[0m\u001b[1;33m.\u001b[0m\u001b[0m_dict\u001b[0m\u001b[1;33m=\u001b[0m\u001b[0mjson\u001b[0m\u001b[1;33m.\u001b[0m\u001b[0mload\u001b[0m\u001b[1;33m(\u001b[0m\u001b[0mf\u001b[0m\u001b[1;33m)\u001b[0m\u001b[1;33m\u001b[0m\u001b[1;33m\u001b[0m\u001b[0m\n\u001b[0m\u001b[0;32m     76\u001b[0m \u001b[1;33m\u001b[0m\u001b[0m\n\u001b[0;32m     77\u001b[0m         \u001b[0mself\u001b[0m\u001b[1;33m.\u001b[0m\u001b[0m_fp\u001b[0m\u001b[1;33m=\u001b[0m\u001b[0mfp\u001b[0m\u001b[1;33m\u001b[0m\u001b[1;33m\u001b[0m\u001b[0m\n",
      "\u001b[1;32mC:\\ProgramData\\Miniconda3\\lib\\json\\__init__.py\u001b[0m in \u001b[0;36mload\u001b[1;34m(fp, cls, object_hook, parse_float, parse_int, parse_constant, object_pairs_hook, **kw)\u001b[0m\n\u001b[0;32m    294\u001b[0m         \u001b[0mcls\u001b[0m\u001b[1;33m=\u001b[0m\u001b[0mcls\u001b[0m\u001b[1;33m,\u001b[0m \u001b[0mobject_hook\u001b[0m\u001b[1;33m=\u001b[0m\u001b[0mobject_hook\u001b[0m\u001b[1;33m,\u001b[0m\u001b[1;33m\u001b[0m\u001b[1;33m\u001b[0m\u001b[0m\n\u001b[0;32m    295\u001b[0m         \u001b[0mparse_float\u001b[0m\u001b[1;33m=\u001b[0m\u001b[0mparse_float\u001b[0m\u001b[1;33m,\u001b[0m \u001b[0mparse_int\u001b[0m\u001b[1;33m=\u001b[0m\u001b[0mparse_int\u001b[0m\u001b[1;33m,\u001b[0m\u001b[1;33m\u001b[0m\u001b[1;33m\u001b[0m\u001b[0m\n\u001b[1;32m--> 296\u001b[1;33m         parse_constant=parse_constant, object_pairs_hook=object_pairs_hook, **kw)\n\u001b[0m\u001b[0;32m    297\u001b[0m \u001b[1;33m\u001b[0m\u001b[0m\n\u001b[0;32m    298\u001b[0m \u001b[1;33m\u001b[0m\u001b[0m\n",
      "\u001b[1;32mC:\\ProgramData\\Miniconda3\\lib\\json\\__init__.py\u001b[0m in \u001b[0;36mloads\u001b[1;34m(s, encoding, cls, object_hook, parse_float, parse_int, parse_constant, object_pairs_hook, **kw)\u001b[0m\n\u001b[0;32m    346\u001b[0m             \u001b[0mparse_int\u001b[0m \u001b[1;32mis\u001b[0m \u001b[1;32mNone\u001b[0m \u001b[1;32mand\u001b[0m \u001b[0mparse_float\u001b[0m \u001b[1;32mis\u001b[0m \u001b[1;32mNone\u001b[0m \u001b[1;32mand\u001b[0m\u001b[1;33m\u001b[0m\u001b[1;33m\u001b[0m\u001b[0m\n\u001b[0;32m    347\u001b[0m             parse_constant is None and object_pairs_hook is None and not kw):\n\u001b[1;32m--> 348\u001b[1;33m         \u001b[1;32mreturn\u001b[0m \u001b[0m_default_decoder\u001b[0m\u001b[1;33m.\u001b[0m\u001b[0mdecode\u001b[0m\u001b[1;33m(\u001b[0m\u001b[0ms\u001b[0m\u001b[1;33m)\u001b[0m\u001b[1;33m\u001b[0m\u001b[1;33m\u001b[0m\u001b[0m\n\u001b[0m\u001b[0;32m    349\u001b[0m     \u001b[1;32mif\u001b[0m \u001b[0mcls\u001b[0m \u001b[1;32mis\u001b[0m \u001b[1;32mNone\u001b[0m\u001b[1;33m:\u001b[0m\u001b[1;33m\u001b[0m\u001b[1;33m\u001b[0m\u001b[0m\n\u001b[0;32m    350\u001b[0m         \u001b[0mcls\u001b[0m \u001b[1;33m=\u001b[0m \u001b[0mJSONDecoder\u001b[0m\u001b[1;33m\u001b[0m\u001b[1;33m\u001b[0m\u001b[0m\n",
      "\u001b[1;32mC:\\ProgramData\\Miniconda3\\lib\\json\\decoder.py\u001b[0m in \u001b[0;36mdecode\u001b[1;34m(self, s, _w)\u001b[0m\n\u001b[0;32m    335\u001b[0m \u001b[1;33m\u001b[0m\u001b[0m\n\u001b[0;32m    336\u001b[0m         \"\"\"\n\u001b[1;32m--> 337\u001b[1;33m         \u001b[0mobj\u001b[0m\u001b[1;33m,\u001b[0m \u001b[0mend\u001b[0m \u001b[1;33m=\u001b[0m \u001b[0mself\u001b[0m\u001b[1;33m.\u001b[0m\u001b[0mraw_decode\u001b[0m\u001b[1;33m(\u001b[0m\u001b[0ms\u001b[0m\u001b[1;33m,\u001b[0m \u001b[0midx\u001b[0m\u001b[1;33m=\u001b[0m\u001b[0m_w\u001b[0m\u001b[1;33m(\u001b[0m\u001b[0ms\u001b[0m\u001b[1;33m,\u001b[0m \u001b[1;36m0\u001b[0m\u001b[1;33m)\u001b[0m\u001b[1;33m.\u001b[0m\u001b[0mend\u001b[0m\u001b[1;33m(\u001b[0m\u001b[1;33m)\u001b[0m\u001b[1;33m)\u001b[0m\u001b[1;33m\u001b[0m\u001b[1;33m\u001b[0m\u001b[0m\n\u001b[0m\u001b[0;32m    338\u001b[0m         \u001b[0mend\u001b[0m \u001b[1;33m=\u001b[0m \u001b[0m_w\u001b[0m\u001b[1;33m(\u001b[0m\u001b[0ms\u001b[0m\u001b[1;33m,\u001b[0m \u001b[0mend\u001b[0m\u001b[1;33m)\u001b[0m\u001b[1;33m.\u001b[0m\u001b[0mend\u001b[0m\u001b[1;33m(\u001b[0m\u001b[1;33m)\u001b[0m\u001b[1;33m\u001b[0m\u001b[1;33m\u001b[0m\u001b[0m\n\u001b[0;32m    339\u001b[0m         \u001b[1;32mif\u001b[0m \u001b[0mend\u001b[0m \u001b[1;33m!=\u001b[0m \u001b[0mlen\u001b[0m\u001b[1;33m(\u001b[0m\u001b[0ms\u001b[0m\u001b[1;33m)\u001b[0m\u001b[1;33m:\u001b[0m\u001b[1;33m\u001b[0m\u001b[1;33m\u001b[0m\u001b[0m\n",
      "\u001b[1;32mC:\\ProgramData\\Miniconda3\\lib\\json\\decoder.py\u001b[0m in \u001b[0;36mraw_decode\u001b[1;34m(self, s, idx)\u001b[0m\n\u001b[0;32m    353\u001b[0m             \u001b[0mobj\u001b[0m\u001b[1;33m,\u001b[0m \u001b[0mend\u001b[0m \u001b[1;33m=\u001b[0m \u001b[0mself\u001b[0m\u001b[1;33m.\u001b[0m\u001b[0mscan_once\u001b[0m\u001b[1;33m(\u001b[0m\u001b[0ms\u001b[0m\u001b[1;33m,\u001b[0m \u001b[0midx\u001b[0m\u001b[1;33m)\u001b[0m\u001b[1;33m\u001b[0m\u001b[1;33m\u001b[0m\u001b[0m\n\u001b[0;32m    354\u001b[0m         \u001b[1;32mexcept\u001b[0m \u001b[0mStopIteration\u001b[0m \u001b[1;32mas\u001b[0m \u001b[0merr\u001b[0m\u001b[1;33m:\u001b[0m\u001b[1;33m\u001b[0m\u001b[1;33m\u001b[0m\u001b[0m\n\u001b[1;32m--> 355\u001b[1;33m             \u001b[1;32mraise\u001b[0m \u001b[0mJSONDecodeError\u001b[0m\u001b[1;33m(\u001b[0m\u001b[1;34m\"Expecting value\"\u001b[0m\u001b[1;33m,\u001b[0m \u001b[0ms\u001b[0m\u001b[1;33m,\u001b[0m \u001b[0merr\u001b[0m\u001b[1;33m.\u001b[0m\u001b[0mvalue\u001b[0m\u001b[1;33m)\u001b[0m \u001b[1;32mfrom\u001b[0m \u001b[1;32mNone\u001b[0m\u001b[1;33m\u001b[0m\u001b[1;33m\u001b[0m\u001b[0m\n\u001b[0m\u001b[0;32m    356\u001b[0m         \u001b[1;32mreturn\u001b[0m \u001b[0mobj\u001b[0m\u001b[1;33m,\u001b[0m \u001b[0mend\u001b[0m\u001b[1;33m\u001b[0m\u001b[1;33m\u001b[0m\u001b[0m\n",
      "\u001b[1;31mJSONDecodeError\u001b[0m: Expecting value: line 1 column 1 (char 0)"
     ]
    }
   ],
   "source": [
    "from eprun import EPInput\n",
    "epinput=EPInput(fp='1ZoneUncontrolled.idf')"
   ]
  }
 ],
 "metadata": {
  "kernelspec": {
   "display_name": "Python 3",
   "language": "python",
   "name": "python3"
  },
  "language_info": {
   "codemirror_mode": {
    "name": "ipython",
    "version": 3
   },
   "file_extension": ".py",
   "mimetype": "text/x-python",
   "name": "python",
   "nbconvert_exporter": "python",
   "pygments_lexer": "ipython3",
   "version": "3.7.7"
  }
 },
 "nbformat": 4,
 "nbformat_minor": 4
}
