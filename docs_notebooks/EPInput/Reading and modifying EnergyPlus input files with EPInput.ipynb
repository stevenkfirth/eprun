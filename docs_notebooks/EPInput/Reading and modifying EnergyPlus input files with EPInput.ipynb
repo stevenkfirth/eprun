{
 "cells": [
  {
   "cell_type": "markdown",
   "metadata": {},
   "source": [
    "# Reading and modifying EnergyPlus input files with EPInput."
   ]
  },
  {
   "cell_type": "markdown",
   "metadata": {},
   "source": [
    "## 1. Introduction\n",
    "\n",
    "This notebook shows how to use the [`EPInput`](https://eprun.readthedocs.io/en/latest/EPInput_class.html) class in the [eprun package](https://eprun.readthedocs.io/en/latest/index.html) to read and modify EnergyPlus .idf and .epJSON files. It uses the **'1ZoneUncontrolled'** file in the EnergyPlus example files."
   ]
  },
  {
   "cell_type": "markdown",
   "metadata": {},
   "source": [
    "## 2. Setup"
   ]
  },
  {
   "cell_type": "markdown",
   "metadata": {},
   "source": [
    "### 2.1. Module import"
   ]
  },
  {
   "cell_type": "code",
   "execution_count": 1,
   "metadata": {},
   "outputs": [],
   "source": [
    "from eprun import EPInput, EPSchema"
   ]
  },
  {
   "cell_type": "markdown",
   "metadata": {},
   "source": [
    "### 2.2. Filepath to '1ZoneUncontrolled.idf' and  '1ZoneUncontrolled.epJSON' files"
   ]
  },
  {
   "cell_type": "code",
   "execution_count": 2,
   "metadata": {},
   "outputs": [],
   "source": [
    "fp_idf='1ZoneUncontrolled.idf'\n",
    "fp_epJSON='1ZoneUncontrolled.epJSON'"
   ]
  },
  {
   "cell_type": "markdown",
   "metadata": {},
   "source": [
    "### 2.3. Set up EPSchema object"
   ]
  },
  {
   "cell_type": "code",
   "execution_count": 3,
   "metadata": {},
   "outputs": [],
   "source": [
    "schema=EPSchema('Energy+.schema.epJSON')"
   ]
  },
  {
   "cell_type": "markdown",
   "metadata": {},
   "source": [
    "## 3. Reading in the files"
   ]
  },
  {
   "cell_type": "markdown",
   "metadata": {},
   "source": [
    "### 3.1. An .idf file\n",
    "\n",
    "Imports an EnergyPlus .idf file."
   ]
  },
  {
   "cell_type": "code",
   "execution_count": 4,
   "metadata": {},
   "outputs": [
    {
     "data": {
      "text/plain": [
       "eprun.epinput.EPInput"
      ]
     },
     "execution_count": 4,
     "metadata": {},
     "output_type": "execute_result"
    }
   ],
   "source": [
    "epi_idf=EPInput(fp_idf,schema)\n",
    "type(epi_idf)"
   ]
  },
  {
   "cell_type": "markdown",
   "metadata": {},
   "source": [
    "Prints out the number of objects in the file."
   ]
  },
  {
   "cell_type": "code",
   "execution_count": 5,
   "metadata": {},
   "outputs": [
    {
     "data": {
      "text/plain": [
       "53"
      ]
     },
     "execution_count": 5,
     "metadata": {},
     "output_type": "execute_result"
    }
   ],
   "source": [
    "len(epi_idf)"
   ]
  },
  {
   "cell_type": "markdown",
   "metadata": {},
   "source": [
    "### 3.2. An .epJSON file\n",
    "\n",
    "Import an EnergyPlus .epJSON file. \n",
    "\n",
    "*This is the equivalent file of the .idf file above.*"
   ]
  },
  {
   "cell_type": "code",
   "execution_count": 6,
   "metadata": {},
   "outputs": [
    {
     "data": {
      "text/plain": [
       "eprun.epinput.EPInput"
      ]
     },
     "execution_count": 6,
     "metadata": {},
     "output_type": "execute_result"
    }
   ],
   "source": [
    "epi_epjson=EPInput(fp_epJSON,\n",
    "                   schema  # optional, if imported then can be used for validation\n",
    "                   )\n",
    "type(epi_epjson)"
   ]
  },
  {
   "cell_type": "markdown",
   "metadata": {},
   "source": [
    "Prints out the number of objects in the file."
   ]
  },
  {
   "cell_type": "code",
   "execution_count": 7,
   "metadata": {},
   "outputs": [
    {
     "data": {
      "text/plain": [
       "53"
      ]
     },
     "execution_count": 7,
     "metadata": {},
     "output_type": "execute_result"
    }
   ],
   "source": [
    "len(epi_epjson)"
   ]
  },
  {
   "cell_type": "markdown",
   "metadata": {},
   "source": [
    "*Note: At the point the .idf and the .epJSON file are now read into the same type of object, the EPInput object. So the remainder of this notebook needs only use one of these to demonstrate the EPInput class. Here the .idf file is used*"
   ]
  },
  {
   "cell_type": "markdown",
   "metadata": {},
   "source": [
    "## 4. Viewing the contents of an EnergyPlus input file."
   ]
  },
  {
   "cell_type": "markdown",
   "metadata": {},
   "source": [
    "### 4.1. Number of objects"
   ]
  },
  {
   "cell_type": "code",
   "execution_count": 8,
   "metadata": {},
   "outputs": [
    {
     "data": {
      "text/plain": [
       "53"
      ]
     },
     "execution_count": 8,
     "metadata": {},
     "output_type": "execute_result"
    }
   ],
   "source": [
    "len(epi_idf)"
   ]
  },
  {
   "cell_type": "markdown",
   "metadata": {},
   "source": [
    "### 4.2. List of objects"
   ]
  },
  {
   "cell_type": "code",
   "execution_count": 9,
   "metadata": {
    "scrolled": true
   },
   "outputs": [
    {
     "data": {
      "text/plain": [
       "[<EPInputObject (Version, 68384921-d79f-4135-bee2-d5d0d8208871)>,\n",
       " <EPInputObject (Timestep, e14df3d4-f1c2-4d8f-a8ad-12c0ad61b156)>,\n",
       " <EPInputObject (Building, Simple One Zone (Wireframe DXF))>,\n",
       " <EPInputObject (HeatBalanceAlgorithm, 10ec165e-87d7-46c5-9763-ade6f72354f0)>,\n",
       " <EPInputObject (SurfaceConvectionAlgorithm:Inside, 474c9fd2-febb-453a-875f-466fecb0123f)>,\n",
       " <EPInputObject (SurfaceConvectionAlgorithm:Outside, f12736a0-eea2-4770-acf0-9e9f972f1dff)>,\n",
       " <EPInputObject (SimulationControl, 73a4a7ef-bcb5-4b36-b209-4e5397e1cbb2)>,\n",
       " <EPInputObject (RunPeriod, Run Period 1)>,\n",
       " <EPInputObject (Site:Location, Denver Centennial  Golden   N_CO_USA Design_Conditions)>,\n",
       " <EPInputObject (SizingPeriod:DesignDay, Denver Centennial  Golden   N Ann Htg 99% Condns DB)>,\n",
       " <EPInputObject (SizingPeriod:DesignDay, Denver Centennial  Golden   N Ann Clg 1% Condns DB=>MWB)>,\n",
       " <EPInputObject (Material:NoMass, R13LAYER)>,\n",
       " <EPInputObject (Material:NoMass, R31LAYER)>,\n",
       " <EPInputObject (Material, C5 - 4 IN HW CONCRETE)>,\n",
       " <EPInputObject (Construction, R13WALL)>,\n",
       " <EPInputObject (Construction, FLOOR)>,\n",
       " <EPInputObject (Construction, ROOF31)>,\n",
       " <EPInputObject (Zone, ZONE ONE)>,\n",
       " <EPInputObject (ScheduleTypeLimits, Fraction)>,\n",
       " <EPInputObject (ScheduleTypeLimits, On/Off)>,\n",
       " <EPInputObject (GlobalGeometryRules, 72ad08d7-24d0-4c14-8f29-8f3b3fedcde5)>,\n",
       " <EPInputObject (BuildingSurface:Detailed, Zn001:Wall001)>,\n",
       " <EPInputObject (BuildingSurface:Detailed, Zn001:Wall002)>,\n",
       " <EPInputObject (BuildingSurface:Detailed, Zn001:Wall003)>,\n",
       " <EPInputObject (BuildingSurface:Detailed, Zn001:Wall004)>,\n",
       " <EPInputObject (BuildingSurface:Detailed, Zn001:Flr001)>,\n",
       " <EPInputObject (BuildingSurface:Detailed, Zn001:Roof001)>,\n",
       " <EPInputObject (Output:Variable, 9bad498e-1429-4796-bc4e-58efdb8095a6)>,\n",
       " <EPInputObject (Output:Variable, 3b46ca75-2c2a-4923-bf20-5ba21c317431)>,\n",
       " <EPInputObject (Output:Variable, 13ce411b-933d-4cf9-bd4d-97fac344f573)>,\n",
       " <EPInputObject (Output:Variable, dc328f1a-23ce-42a2-8bc6-80a6cf02d344)>,\n",
       " <EPInputObject (Output:Variable, 375d8aac-61fb-4023-89be-effba8946365)>,\n",
       " <EPInputObject (Output:Variable, 523bcdb6-f559-4824-b5cc-52cd097ded5f)>,\n",
       " <EPInputObject (Output:Variable, ea5cf293-bd14-4977-b919-c22269a0584f)>,\n",
       " <EPInputObject (Output:Variable, 80d924d2-d8aa-4561-9a0e-eb0907b28b33)>,\n",
       " <EPInputObject (Output:Variable, ba897dc4-4d9d-4352-ac12-a10c1dbd218b)>,\n",
       " <EPInputObject (Output:Variable, 7b935ae5-9112-4735-9bc5-e482ddf22add)>,\n",
       " <EPInputObject (Output:Variable, 6a64a189-48c3-426d-b0ec-a3337ddecd68)>,\n",
       " <EPInputObject (Output:Variable, 8f90709f-0feb-4ca8-ad0c-9513086abcb2)>,\n",
       " <EPInputObject (Output:Variable, 34350218-0ce4-494b-9dae-c1450f53c27e)>,\n",
       " <EPInputObject (Output:Variable, e38bc8fb-537d-44c1-a3f6-b60ff7bee49d)>,\n",
       " <EPInputObject (Output:VariableDictionary, 662ca80f-4489-43e5-9895-1f722078e31b)>,\n",
       " <EPInputObject (Output:Surfaces:Drawing, 405a249c-c49a-4497-81bc-9eb05cbf723a)>,\n",
       " <EPInputObject (Output:Constructions, be865f09-29df-4478-801b-eb8cb19724f3)>,\n",
       " <EPInputObject (Output:Meter:MeterFileOnly, 266d73fc-0bd0-4378-bb75-38cf33154d58)>,\n",
       " <EPInputObject (Output:Meter:MeterFileOnly, 8deca387-1cdc-494a-81e7-697e4b71c010)>,\n",
       " <EPInputObject (Output:Meter:MeterFileOnly, 794854ed-d7a1-44a6-89da-495e649b4269)>,\n",
       " <EPInputObject (OutputControl:Table:Style, 012918d8-7b0e-4648-a30d-37c552e0241a)>,\n",
       " <EPInputObject (Output:Table:SummaryReports, 5288e07e-894b-4c9e-a0b0-9a93928a07d9)>,\n",
       " <EPInputObject (Exterior:Lights, ExtLights)>,\n",
       " <EPInputObject (OtherEquipment, Test 352a)>,\n",
       " <EPInputObject (OtherEquipment, Test 352 minus)>,\n",
       " <EPInputObject (Schedule:Constant, AlwaysOn)>]"
      ]
     },
     "execution_count": 9,
     "metadata": {},
     "output_type": "execute_result"
    }
   ],
   "source": [
    "list(epi_idf)"
   ]
  },
  {
   "cell_type": "markdown",
   "metadata": {},
   "source": [
    "### 4.3. Get object by index"
   ]
  },
  {
   "cell_type": "code",
   "execution_count": 10,
   "metadata": {},
   "outputs": [
    {
     "data": {
      "text/plain": [
       "<EPInputObject (Version, 68384921-d79f-4135-bee2-d5d0d8208871)>"
      ]
     },
     "execution_count": 10,
     "metadata": {},
     "output_type": "execute_result"
    }
   ],
   "source": [
    "epi_idf[0]"
   ]
  },
  {
   "cell_type": "markdown",
   "metadata": {},
   "source": [
    "### 4.4. Iterate through objects"
   ]
  },
  {
   "cell_type": "code",
   "execution_count": 11,
   "metadata": {},
   "outputs": [
    {
     "name": "stdout",
     "output_type": "stream",
     "text": [
      "Version - Timestep - Building - HeatBalanceAlgorithm - SurfaceConvectionAlgorithm:Inside - SurfaceConvectionAlgorithm:Outside - SimulationControl - RunPeriod - Site:Location - SizingPeriod:DesignDay - SizingPeriod:DesignDay - Material:NoMass - Material:NoMass - Material - Construction - Construction - Construction - Zone - ScheduleTypeLimits - ScheduleTypeLimits - GlobalGeometryRules - BuildingSurface:Detailed - BuildingSurface:Detailed - BuildingSurface:Detailed - BuildingSurface:Detailed - BuildingSurface:Detailed - BuildingSurface:Detailed - Output:Variable - Output:Variable - Output:Variable - Output:Variable - Output:Variable - Output:Variable - Output:Variable - Output:Variable - Output:Variable - Output:Variable - Output:Variable - Output:Variable - Output:Variable - Output:Variable - Output:VariableDictionary - Output:Surfaces:Drawing - Output:Constructions - Output:Meter:MeterFileOnly - Output:Meter:MeterFileOnly - Output:Meter:MeterFileOnly - OutputControl:Table:Style - Output:Table:SummaryReports - Exterior:Lights - OtherEquipment - OtherEquipment - Schedule:Constant - "
     ]
    }
   ],
   "source": [
    "for o in epi_idf:\n",
    "    print(o.object_type, end=' - ')"
   ]
  },
  {
   "cell_type": "markdown",
   "metadata": {},
   "source": [
    "### 4.4. List of objects by object type"
   ]
  },
  {
   "cell_type": "code",
   "execution_count": 12,
   "metadata": {},
   "outputs": [
    {
     "data": {
      "text/plain": [
       "[<EPInputObject (Construction, R13WALL)>,\n",
       " <EPInputObject (Construction, FLOOR)>,\n",
       " <EPInputObject (Construction, ROOF31)>]"
      ]
     },
     "execution_count": 12,
     "metadata": {},
     "output_type": "execute_result"
    }
   ],
   "source": [
    "epi_idf['Construction']"
   ]
  },
  {
   "cell_type": "markdown",
   "metadata": {},
   "source": [
    "### 4.5. Get object by name"
   ]
  },
  {
   "cell_type": "code",
   "execution_count": 13,
   "metadata": {},
   "outputs": [
    {
     "data": {
      "text/plain": [
       "<EPInputObject (Building, Simple One Zone (Wireframe DXF))>"
      ]
     },
     "execution_count": 13,
     "metadata": {},
     "output_type": "execute_result"
    }
   ],
   "source": [
    "epi_idf.get_object('Simple One Zone (Wireframe DXF)')"
   ]
  },
  {
   "cell_type": "markdown",
   "metadata": {},
   "source": [
    "### 4.6. Get object by filter on properties"
   ]
  },
  {
   "cell_type": "code",
   "execution_count": 14,
   "metadata": {},
   "outputs": [
    {
     "data": {
      "text/plain": [
       "[<EPInputObject (BuildingSurface:Detailed, Zn001:Flr001)>]"
      ]
     },
     "execution_count": 14,
     "metadata": {},
     "output_type": "execute_result"
    }
   ],
   "source": [
    "epi_idf.get_objects(surface_type='Floor')"
   ]
  },
  {
   "cell_type": "markdown",
   "metadata": {},
   "source": [
    "### 4.7. Viewing the name of an object"
   ]
  },
  {
   "cell_type": "code",
   "execution_count": 15,
   "metadata": {},
   "outputs": [
    {
     "data": {
      "text/plain": [
       "'Simple One Zone (Wireframe DXF)'"
      ]
     },
     "execution_count": 15,
     "metadata": {},
     "output_type": "execute_result"
    }
   ],
   "source": [
    "epi_idf['Building'][0].name"
   ]
  },
  {
   "cell_type": "markdown",
   "metadata": {},
   "source": [
    "### 4.8. Viewing the object type of an object"
   ]
  },
  {
   "cell_type": "code",
   "execution_count": 16,
   "metadata": {},
   "outputs": [
    {
     "data": {
      "text/plain": [
       "'Building'"
      ]
     },
     "execution_count": 16,
     "metadata": {},
     "output_type": "execute_result"
    }
   ],
   "source": [
    "epi_idf['Building'][0].object_type"
   ]
  },
  {
   "cell_type": "markdown",
   "metadata": {},
   "source": [
    "### 4.9. Viewing the properties of an object"
   ]
  },
  {
   "cell_type": "code",
   "execution_count": 17,
   "metadata": {},
   "outputs": [
    {
     "data": {
      "text/plain": [
       "{'north_axis': 0.0,\n",
       " 'terrain': 'Suburbs',\n",
       " 'loads_convergence_tolerance_value': 0.04,\n",
       " 'temperature_convergence_tolerance_value': 0.004,\n",
       " 'solar_distribution': 'MinimalShadowing',\n",
       " 'maximum_number_of_warmup_days': 30.0,\n",
       " 'minimum_number_of_warmup_days': 6.0}"
      ]
     },
     "execution_count": 17,
     "metadata": {},
     "output_type": "execute_result"
    }
   ],
   "source": [
    "dict(epi_idf['Building'][0])"
   ]
  },
  {
   "cell_type": "markdown",
   "metadata": {},
   "source": [
    "### 4.10. Viewing a single property of an object"
   ]
  },
  {
   "cell_type": "code",
   "execution_count": 18,
   "metadata": {},
   "outputs": [
    {
     "data": {
      "text/plain": [
       "'Suburbs'"
      ]
     },
     "execution_count": 18,
     "metadata": {},
     "output_type": "execute_result"
    }
   ],
   "source": [
    "epi_idf['Building'][0]['terrain']  # index by key"
   ]
  },
  {
   "cell_type": "code",
   "execution_count": 19,
   "metadata": {},
   "outputs": [
    {
     "data": {
      "text/plain": [
       "'Suburbs'"
      ]
     },
     "execution_count": 19,
     "metadata": {},
     "output_type": "execute_result"
    }
   ],
   "source": [
    "epi_idf['Building'][0].terrain  # attribute fetch"
   ]
  },
  {
   "cell_type": "markdown",
   "metadata": {},
   "source": [
    "### 4.11. Iterating through all properties of an object"
   ]
  },
  {
   "cell_type": "code",
   "execution_count": 22,
   "metadata": {},
   "outputs": [
    {
     "name": "stdout",
     "output_type": "stream",
     "text": [
      "north_axis -> 0.0\n",
      "terrain -> Suburbs\n",
      "loads_convergence_tolerance_value -> 0.04\n",
      "temperature_convergence_tolerance_value -> 0.004\n",
      "solar_distribution -> MinimalShadowing\n",
      "maximum_number_of_warmup_days -> 30.0\n",
      "minimum_number_of_warmup_days -> 6.0\n"
     ]
    }
   ],
   "source": [
    "for k,v in epi_idf['Building'][0].items():\n",
    "    print(k, '->', v)"
   ]
  },
  {
   "cell_type": "markdown",
   "metadata": {},
   "source": [
    "### 4.12. Viewing a summary count of all objects"
   ]
  },
  {
   "cell_type": "code",
   "execution_count": 23,
   "metadata": {
    "scrolled": true
   },
   "outputs": [
    {
     "data": {
      "text/plain": [
       "{'Version': 1,\n",
       " 'Timestep': 1,\n",
       " 'Building': 1,\n",
       " 'HeatBalanceAlgorithm': 1,\n",
       " 'SurfaceConvectionAlgorithm:Inside': 1,\n",
       " 'SurfaceConvectionAlgorithm:Outside': 1,\n",
       " 'SimulationControl': 1,\n",
       " 'RunPeriod': 1,\n",
       " 'Site:Location': 1,\n",
       " 'SizingPeriod:DesignDay': 2,\n",
       " 'Material:NoMass': 2,\n",
       " 'Material': 1,\n",
       " 'Construction': 3,\n",
       " 'Zone': 1,\n",
       " 'ScheduleTypeLimits': 2,\n",
       " 'GlobalGeometryRules': 1,\n",
       " 'BuildingSurface:Detailed': 6,\n",
       " 'Output:Variable': 14,\n",
       " 'Output:VariableDictionary': 1,\n",
       " 'Output:Surfaces:Drawing': 1,\n",
       " 'Output:Constructions': 1,\n",
       " 'Output:Meter:MeterFileOnly': 3,\n",
       " 'OutputControl:Table:Style': 1,\n",
       " 'Output:Table:SummaryReports': 1,\n",
       " 'Exterior:Lights': 1,\n",
       " 'OtherEquipment': 2,\n",
       " 'Schedule:Constant': 1}"
      ]
     },
     "execution_count": 23,
     "metadata": {},
     "output_type": "execute_result"
    }
   ],
   "source": [
    "epi_idf.summary()"
   ]
  },
  {
   "cell_type": "code",
   "execution_count": null,
   "metadata": {},
   "outputs": [],
   "source": []
  },
  {
   "cell_type": "code",
   "execution_count": null,
   "metadata": {},
   "outputs": [],
   "source": []
  },
  {
   "cell_type": "code",
   "execution_count": null,
   "metadata": {},
   "outputs": [],
   "source": []
  },
  {
   "cell_type": "code",
   "execution_count": null,
   "metadata": {},
   "outputs": [],
   "source": []
  },
  {
   "cell_type": "code",
   "execution_count": null,
   "metadata": {},
   "outputs": [],
   "source": []
  },
  {
   "cell_type": "code",
   "execution_count": null,
   "metadata": {},
   "outputs": [],
   "source": []
  },
  {
   "cell_type": "code",
   "execution_count": null,
   "metadata": {},
   "outputs": [],
   "source": []
  },
  {
   "cell_type": "code",
   "execution_count": null,
   "metadata": {},
   "outputs": [],
   "source": []
  },
  {
   "cell_type": "code",
   "execution_count": null,
   "metadata": {},
   "outputs": [],
   "source": []
  }
 ],
 "metadata": {
  "kernelspec": {
   "display_name": "Python 3",
   "language": "python",
   "name": "python3"
  },
  "language_info": {
   "codemirror_mode": {
    "name": "ipython",
    "version": 3
   },
   "file_extension": ".py",
   "mimetype": "text/x-python",
   "name": "python",
   "nbconvert_exporter": "python",
   "pygments_lexer": "ipython3",
   "version": "3.7.7"
  }
 },
 "nbformat": 4,
 "nbformat_minor": 4
}
